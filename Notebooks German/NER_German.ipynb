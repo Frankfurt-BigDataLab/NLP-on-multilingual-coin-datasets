{
 "cells": [
  {
   "cell_type": "markdown",
   "metadata": {},
   "source": [
    "developed by Patricia Klinger, modified by Sebastian Gampe, Kerim Gencer, Chrisowalandis Deligio"
   ]
  },
  {
   "cell_type": "code",
   "execution_count": 1,
   "metadata": {},
   "outputs": [],
   "source": [
    "import sys\n",
    "sys.path.append('../')\n",
    "import pandas as pd\n",
    "import random\n",
    "import os\n",
    "import numpy as np\n",
    "from cnt.model import DesignEstimator, save_ner_model, load_ner_model,save_ner_model_v2, load_ner_model_v2\n",
    "from cnt.annotate import (annotate, annotate_single_design, \n",
    "                          annotate_designs, \n",
    "                          extract_string_from_annotation, split_alternativenames)\n",
    "from cnt.evaluate import Metrics\n",
    "import spacy\n",
    "from cnt.io import  Database_Connection\n",
    "import warnings\n",
    "warnings.filterwarnings('ignore')"
   ]
  },
  {
   "cell_type": "markdown",
   "metadata": {
    "tags": []
   },
   "source": [
    "### Define the column names for the id and design column "
   ]
  },
  {
   "cell_type": "code",
   "execution_count": 2,
   "metadata": {},
   "outputs": [],
   "source": [
    "id_col = \"id\"\n",
    "design_col = \"design_de\""
   ]
  },
  {
   "cell_type": "code",
   "execution_count": 3,
   "metadata": {},
   "outputs": [],
   "source": [
    "dc =  Database_Connection(\"mysql+mysqlconnector://root:YourConnection\") # Format user:password@IP/Database"
   ]
  },
  {
   "cell_type": "code",
   "execution_count": 5,
   "metadata": {},
   "outputs": [],
   "source": [
    "designs = dc.load_designs_from_db(\"data_designs\", [id_col, design_col])"
   ]
  },
  {
   "cell_type": "markdown",
   "metadata": {},
   "source": [
    "## This step is optional - load additional data to save with the model"
   ]
  },
  {
   "cell_type": "code",
   "execution_count": 7,
   "metadata": {},
   "outputs": [],
   "source": [
    "entity_information = [dc.load_designs_from_db(\"nlp_list_person\", [\"name\", \"alternativenames\",\"link\"]),\n",
    "                      dc.load_designs_from_db(\"nlp_list_obj_ger\", [\"name\", \"alternativenames\",\"link\"]),\n",
    "                      dc.load_designs_from_db(\"nlp_list_animal_ger\", [\"name\", \"alternativenames\",\"link\"]),\n",
    "                      dc.load_designs_from_db(\"nlp_list_plant_ger\", [\"name\", \"alternativenames\",\"link\"])]"
   ]
  },
  {
   "cell_type": "code",
   "execution_count": 8,
   "metadata": {},
   "outputs": [
    {
     "data": {
      "text/html": [
       "<div>\n",
       "<style scoped>\n",
       "    .dataframe tbody tr th:only-of-type {\n",
       "        vertical-align: middle;\n",
       "    }\n",
       "\n",
       "    .dataframe tbody tr th {\n",
       "        vertical-align: top;\n",
       "    }\n",
       "\n",
       "    .dataframe thead th {\n",
       "        text-align: right;\n",
       "    }\n",
       "</style>\n",
       "<table border=\"1\" class=\"dataframe\">\n",
       "  <thead>\n",
       "    <tr style=\"text-align: right;\">\n",
       "      <th></th>\n",
       "      <th>name</th>\n",
       "      <th>link</th>\n",
       "    </tr>\n",
       "  </thead>\n",
       "  <tbody>\n",
       "    <tr>\n",
       "      <th>0</th>\n",
       "      <td>Agrippina minor</td>\n",
       "      <td>http://nomisma.org/id/agrippina_ii</td>\n",
       "    </tr>\n",
       "    <tr>\n",
       "      <th>1</th>\n",
       "      <td>Agrippina maior</td>\n",
       "      <td>http://nomisma.org/id/agrippina_i</td>\n",
       "    </tr>\n",
       "    <tr>\n",
       "      <th>2</th>\n",
       "      <td>Alexander III</td>\n",
       "      <td>http://nomisma.org/id/alexander_iii</td>\n",
       "    </tr>\n",
       "    <tr>\n",
       "      <th>3</th>\n",
       "      <td>Anchialos</td>\n",
       "      <td>http://www.dbis.cs.uni-frankfurt.de/cnt/id/anc...</td>\n",
       "    </tr>\n",
       "    <tr>\n",
       "      <th>4</th>\n",
       "      <td>Andromeda</td>\n",
       "      <td>http://www.dbis.cs.uni-frankfurt.de/cnt/id/and...</td>\n",
       "    </tr>\n",
       "    <tr>\n",
       "      <th>...</th>\n",
       "      <td>...</td>\n",
       "      <td>...</td>\n",
       "    </tr>\n",
       "    <tr>\n",
       "      <th>85</th>\n",
       "      <td>Baumstümpfe</td>\n",
       "      <td></td>\n",
       "    </tr>\n",
       "    <tr>\n",
       "      <th>86</th>\n",
       "      <td>Baumstumpfes</td>\n",
       "      <td></td>\n",
       "    </tr>\n",
       "    <tr>\n",
       "      <th>87</th>\n",
       "      <td>Früchte</td>\n",
       "      <td></td>\n",
       "    </tr>\n",
       "    <tr>\n",
       "      <th>88</th>\n",
       "      <td>Apfelbäume</td>\n",
       "      <td></td>\n",
       "    </tr>\n",
       "    <tr>\n",
       "      <th>89</th>\n",
       "      <td>Apfelbaumes</td>\n",
       "      <td></td>\n",
       "    </tr>\n",
       "  </tbody>\n",
       "</table>\n",
       "<p>1450 rows × 2 columns</p>\n",
       "</div>"
      ],
      "text/plain": [
       "               name                                               link\n",
       "0   Agrippina minor                 http://nomisma.org/id/agrippina_ii\n",
       "1   Agrippina maior                  http://nomisma.org/id/agrippina_i\n",
       "2     Alexander III                http://nomisma.org/id/alexander_iii\n",
       "3         Anchialos  http://www.dbis.cs.uni-frankfurt.de/cnt/id/anc...\n",
       "4         Andromeda  http://www.dbis.cs.uni-frankfurt.de/cnt/id/and...\n",
       "..              ...                                                ...\n",
       "85      Baumstümpfe                                                   \n",
       "86     Baumstumpfes                                                   \n",
       "87          Früchte                                                   \n",
       "88       Apfelbäume                                                   \n",
       "89      Apfelbaumes                                                   \n",
       "\n",
       "[1450 rows x 2 columns]"
      ]
     },
     "execution_count": 8,
     "metadata": {},
     "output_type": "execute_result"
    }
   ],
   "source": [
    "optional_info = pd.DataFrame(columns=[\"name\",\"link\"])\n",
    "for df in entity_information:\n",
    "    tmp = split_alternativenames(df.fillna(\" \"))\n",
    "    optional_info = optional_info.append(tmp)\n",
    "optional_info"
   ]
  },
  {
   "cell_type": "code",
   "execution_count": 9,
   "metadata": {},
   "outputs": [
    {
     "data": {
      "text/plain": [
       "'http://www.dbis.cs.uni-frankfurt.de/cnt/id/andromeda_person'"
      ]
     },
     "execution_count": 9,
     "metadata": {},
     "output_type": "execute_result"
    }
   ],
   "source": [
    "optional_info.loc[optional_info[\"name\"]==\"Andromeda\"][\"link\"].item()"
   ]
  },
  {
   "cell_type": "markdown",
   "metadata": {},
   "source": [
    "### Load and annotate designs"
   ]
  },
  {
   "cell_type": "code",
   "execution_count": 10,
   "metadata": {},
   "outputs": [],
   "source": [
    "entities = {\n",
    "    \"PERSON\": dc.load_entities_from_db(\"nlp_list_person\", [\"name\", \"alternativenames\"], [\"alternativenames\"], \",\", True),\n",
    "    \"OBJECT\": dc.load_entities_from_db(\"nlp_list_obj_ger\", [\"name\", \"alternativenames\"], [\"alternativenames\"], \",\", True),\n",
    "    \"ANIMAL\": dc.load_entities_from_db(\"nlp_list_animal_ger\", [\"name\", \"alternativenames\"], [\"alternativenames\"], \",\", True),\n",
    "    \"PLANT\": dc.load_entities_from_db(\"nlp_list_plant_ger\", [\"name\", \"alternativenames\"], [\"alternativenames\"], \",\", True)}"
   ]
  },
  {
   "cell_type": "code",
   "execution_count": 11,
   "metadata": {},
   "outputs": [],
   "source": [
    "annotated_designs = annotate_designs(entities, designs, id_col, design_col)\n",
    "annotated_designs = annotated_designs[\n",
    "    annotated_designs.annotations.map(len) > 0]"
   ]
  },
  {
   "cell_type": "code",
   "execution_count": 12,
   "metadata": {},
   "outputs": [
    {
     "data": {
      "text/plain": [
       "(6895, 3)"
      ]
     },
     "execution_count": 12,
     "metadata": {},
     "output_type": "execute_result"
    }
   ],
   "source": [
    "annotated_designs.shape"
   ]
  },
  {
   "cell_type": "code",
   "execution_count": 13,
   "metadata": {},
   "outputs": [
    {
     "data": {
      "text/html": [
       "<div>\n",
       "<style scoped>\n",
       "    .dataframe tbody tr th:only-of-type {\n",
       "        vertical-align: middle;\n",
       "    }\n",
       "\n",
       "    .dataframe tbody tr th {\n",
       "        vertical-align: top;\n",
       "    }\n",
       "\n",
       "    .dataframe thead th {\n",
       "        text-align: right;\n",
       "    }\n",
       "</style>\n",
       "<table border=\"1\" class=\"dataframe\">\n",
       "  <thead>\n",
       "    <tr style=\"text-align: right;\">\n",
       "      <th></th>\n",
       "      <th>design_de</th>\n",
       "      <th>id</th>\n",
       "      <th>annotations</th>\n",
       "    </tr>\n",
       "  </thead>\n",
       "  <tbody>\n",
       "    <tr>\n",
       "      <th>0</th>\n",
       "      <td>Kopf des vergöttlichten Alexander des Großen n...</td>\n",
       "      <td>1</td>\n",
       "      <td>[(0, 4, OBJECT), (24, 44, PERSON), (61, 67, OB...</td>\n",
       "    </tr>\n",
       "    <tr>\n",
       "      <th>1</th>\n",
       "      <td>Flammender und bekränzter Altar.</td>\n",
       "      <td>6</td>\n",
       "      <td>[(26, 31, OBJECT)]</td>\n",
       "    </tr>\n",
       "    <tr>\n",
       "      <th>3</th>\n",
       "      <td>Amphora mit gerippter Bauchoberfläche und gebo...</td>\n",
       "      <td>9</td>\n",
       "      <td>[(0, 7, OBJECT), (72, 77, PLANT), (82, 90, PLA...</td>\n",
       "    </tr>\n",
       "    <tr>\n",
       "      <th>4</th>\n",
       "      <td>Brustbild des jugendlichen Anchialos nach rech...</td>\n",
       "      <td>10</td>\n",
       "      <td>[(0, 9, OBJECT), (27, 36, PERSON), (53, 59, OB...</td>\n",
       "    </tr>\n",
       "    <tr>\n",
       "      <th>5</th>\n",
       "      <td>Umgekehrter Anker; unter der linken Ankerschau...</td>\n",
       "      <td>11</td>\n",
       "      <td>[(12, 17, OBJECT), (51, 56, ANIMAL)]</td>\n",
       "    </tr>\n",
       "  </tbody>\n",
       "</table>\n",
       "</div>"
      ],
      "text/plain": [
       "                                           design_de  id  \\\n",
       "0  Kopf des vergöttlichten Alexander des Großen n...   1   \n",
       "1                   Flammender und bekränzter Altar.   6   \n",
       "3  Amphora mit gerippter Bauchoberfläche und gebo...   9   \n",
       "4  Brustbild des jugendlichen Anchialos nach rech...  10   \n",
       "5  Umgekehrter Anker; unter der linken Ankerschau...  11   \n",
       "\n",
       "                                         annotations  \n",
       "0  [(0, 4, OBJECT), (24, 44, PERSON), (61, 67, OB...  \n",
       "1                                 [(26, 31, OBJECT)]  \n",
       "3  [(0, 7, OBJECT), (72, 77, PLANT), (82, 90, PLA...  \n",
       "4  [(0, 9, OBJECT), (27, 36, PERSON), (53, 59, OB...  \n",
       "5               [(12, 17, OBJECT), (51, 56, ANIMAL)]  "
      ]
     },
     "execution_count": 13,
     "metadata": {},
     "output_type": "execute_result"
    }
   ],
   "source": [
    "annotated_designs.head(5)"
   ]
  },
  {
   "cell_type": "markdown",
   "metadata": {},
   "source": [
    "## Train NER"
   ]
  },
  {
   "cell_type": "code",
   "execution_count": 14,
   "metadata": {},
   "outputs": [],
   "source": [
    "from sklearn.model_selection import train_test_split\n",
    "X_train, X_test, y_train, y_test = train_test_split(annotated_designs[[id_col, design_col]],\n",
    "                                                    annotated_designs[[id_col, \"annotations\"]],\n",
    "                                                    test_size=0.25, random_state = 12)\n",
    "y_test = y_test.rename(columns={\"annotations\": \"y\"})"
   ]
  },
  {
   "cell_type": "code",
   "execution_count": 15,
   "metadata": {},
   "outputs": [],
   "source": [
    "X_test.index = [i for i in range(X_test.shape[0])]\n",
    "y_test.index = [i for i in range(y_test.shape[0])]"
   ]
  },
  {
   "cell_type": "markdown",
   "metadata": {},
   "source": [
    "#### output directory for the trained model"
   ]
  },
  {
   "cell_type": "code",
   "execution_count": 16,
   "metadata": {},
   "outputs": [],
   "source": [
    "output_dir =  \"../cnt/trained_model/ner/german/\"\n",
    "model_name = \"german_cno\""
   ]
  },
  {
   "cell_type": "code",
   "execution_count": 17,
   "metadata": {},
   "outputs": [
    {
     "name": "stdout",
     "output_type": "stream",
     "text": [
      "../cnt/trained_model/ner/german\n",
      "Saved model to ../cnt/trained_model/ner/german\n"
     ]
    }
   ],
   "source": [
    "my_estimator = DesignEstimator(4, output_dir, model_name, id_col, design_col, spacy_model=\"de_core_news_sm\", save_optional=True, optional_info=optional_info)\n",
    "my_estimator.set_labels(\"PERSON\", \"OBJECT\", \"ANIMAL\", \"PLANT\")\n",
    "my_estimator.fit(X_train, y_train.annotations, \"cnt\")"
   ]
  },
  {
   "cell_type": "markdown",
   "metadata": {},
   "source": [
    "## Load and evaluate model"
   ]
  },
  {
   "cell_type": "code",
   "execution_count": 18,
   "metadata": {},
   "outputs": [],
   "source": [
    "model = load_ner_model_v2(output_dir, model_name, id_col, design_col)"
   ]
  },
  {
   "cell_type": "code",
   "execution_count": 19,
   "metadata": {},
   "outputs": [],
   "source": [
    "x_predict = model.predict(X_test,as_doc=False)"
   ]
  },
  {
   "cell_type": "code",
   "execution_count": 20,
   "metadata": {},
   "outputs": [
    {
     "data": {
      "text/html": [
       "<div>\n",
       "<style scoped>\n",
       "    .dataframe tbody tr th:only-of-type {\n",
       "        vertical-align: middle;\n",
       "    }\n",
       "\n",
       "    .dataframe tbody tr th {\n",
       "        vertical-align: top;\n",
       "    }\n",
       "\n",
       "    .dataframe thead th {\n",
       "        text-align: right;\n",
       "    }\n",
       "</style>\n",
       "<table border=\"1\" class=\"dataframe\">\n",
       "  <thead>\n",
       "    <tr style=\"text-align: right;\">\n",
       "      <th></th>\n",
       "      <th>id</th>\n",
       "      <th>y</th>\n",
       "    </tr>\n",
       "  </thead>\n",
       "  <tbody>\n",
       "    <tr>\n",
       "      <th>0</th>\n",
       "      <td>6352</td>\n",
       "      <td>[(0, 6, OBJECT)]</td>\n",
       "    </tr>\n",
       "    <tr>\n",
       "      <th>1</th>\n",
       "      <td>2026</td>\n",
       "      <td>[(0, 9, OBJECT), (14, 20, PERSON), (37, 43, OB...</td>\n",
       "    </tr>\n",
       "    <tr>\n",
       "      <th>2</th>\n",
       "      <td>4514</td>\n",
       "      <td>[(0, 10, ANIMAL)]</td>\n",
       "    </tr>\n",
       "    <tr>\n",
       "      <th>3</th>\n",
       "      <td>5710</td>\n",
       "      <td>[(0, 7, PERSON), (12, 20, OBJECT), (34, 40, OB...</td>\n",
       "    </tr>\n",
       "    <tr>\n",
       "      <th>4</th>\n",
       "      <td>4981</td>\n",
       "      <td>[(0, 7, PERSON), (23, 29, OBJECT), (53, 59, OB...</td>\n",
       "    </tr>\n",
       "    <tr>\n",
       "      <th>...</th>\n",
       "      <td>...</td>\n",
       "      <td>...</td>\n",
       "    </tr>\n",
       "    <tr>\n",
       "      <th>1719</th>\n",
       "      <td>4512</td>\n",
       "      <td>[(0, 6, PERSON), (23, 28, OBJECT), (33, 39, OB...</td>\n",
       "    </tr>\n",
       "    <tr>\n",
       "      <th>1720</th>\n",
       "      <td>8257</td>\n",
       "      <td>[(0, 5, OBJECT)]</td>\n",
       "    </tr>\n",
       "    <tr>\n",
       "      <th>1721</th>\n",
       "      <td>1217</td>\n",
       "      <td>[(0, 4, PERSON), (28, 34, OBJECT), (92, 97, AN...</td>\n",
       "    </tr>\n",
       "    <tr>\n",
       "      <th>1722</th>\n",
       "      <td>5736</td>\n",
       "      <td>[(0, 4, OBJECT), (18, 27, PERSON)]</td>\n",
       "    </tr>\n",
       "    <tr>\n",
       "      <th>1723</th>\n",
       "      <td>1605</td>\n",
       "      <td>[(8, 16, PERSON), (37, 45, OBJECT), (47, 51, O...</td>\n",
       "    </tr>\n",
       "  </tbody>\n",
       "</table>\n",
       "<p>1724 rows × 2 columns</p>\n",
       "</div>"
      ],
      "text/plain": [
       "        id                                                  y\n",
       "0     6352                                   [(0, 6, OBJECT)]\n",
       "1     2026  [(0, 9, OBJECT), (14, 20, PERSON), (37, 43, OB...\n",
       "2     4514                                  [(0, 10, ANIMAL)]\n",
       "3     5710  [(0, 7, PERSON), (12, 20, OBJECT), (34, 40, OB...\n",
       "4     4981  [(0, 7, PERSON), (23, 29, OBJECT), (53, 59, OB...\n",
       "...    ...                                                ...\n",
       "1719  4512  [(0, 6, PERSON), (23, 28, OBJECT), (33, 39, OB...\n",
       "1720  8257                                   [(0, 5, OBJECT)]\n",
       "1721  1217  [(0, 4, PERSON), (28, 34, OBJECT), (92, 97, AN...\n",
       "1722  5736                 [(0, 4, OBJECT), (18, 27, PERSON)]\n",
       "1723  1605  [(8, 16, PERSON), (37, 45, OBJECT), (47, 51, O...\n",
       "\n",
       "[1724 rows x 2 columns]"
      ]
     },
     "execution_count": 20,
     "metadata": {},
     "output_type": "execute_result"
    }
   ],
   "source": [
    "x_predict"
   ]
  },
  {
   "cell_type": "code",
   "execution_count": 21,
   "metadata": {},
   "outputs": [],
   "source": [
    "metrics = Metrics()"
   ]
  },
  {
   "cell_type": "code",
   "execution_count": 22,
   "metadata": {},
   "outputs": [
    {
     "data": {
      "text/html": [
       "<div>\n",
       "<style scoped>\n",
       "    .dataframe tbody tr th:only-of-type {\n",
       "        vertical-align: middle;\n",
       "    }\n",
       "\n",
       "    .dataframe tbody tr th {\n",
       "        vertical-align: top;\n",
       "    }\n",
       "\n",
       "    .dataframe thead th {\n",
       "        text-align: right;\n",
       "    }\n",
       "</style>\n",
       "<table border=\"1\" class=\"dataframe\">\n",
       "  <thead>\n",
       "    <tr style=\"text-align: right;\">\n",
       "      <th></th>\n",
       "      <th></th>\n",
       "      <th>Total(TP+FN)</th>\n",
       "      <th>Hits(TP)</th>\n",
       "      <th>Wrongs(FP)</th>\n",
       "      <th>%</th>\n",
       "    </tr>\n",
       "  </thead>\n",
       "  <tbody>\n",
       "    <tr>\n",
       "      <th>0</th>\n",
       "      <td>PERSON</td>\n",
       "      <td>1493</td>\n",
       "      <td>1466</td>\n",
       "      <td>27</td>\n",
       "      <td>98.2</td>\n",
       "    </tr>\n",
       "    <tr>\n",
       "      <th>1</th>\n",
       "      <td>OBJECT</td>\n",
       "      <td>3997</td>\n",
       "      <td>3979</td>\n",
       "      <td>29</td>\n",
       "      <td>99.5</td>\n",
       "    </tr>\n",
       "    <tr>\n",
       "      <th>2</th>\n",
       "      <td>ANIMAL</td>\n",
       "      <td>583</td>\n",
       "      <td>575</td>\n",
       "      <td>5</td>\n",
       "      <td>98.6</td>\n",
       "    </tr>\n",
       "    <tr>\n",
       "      <th>3</th>\n",
       "      <td>PLANT</td>\n",
       "      <td>253</td>\n",
       "      <td>248</td>\n",
       "      <td>9</td>\n",
       "      <td>98.0</td>\n",
       "    </tr>\n",
       "  </tbody>\n",
       "</table>\n",
       "</div>"
      ],
      "text/plain": [
       "           Total(TP+FN)  Hits(TP)  Wrongs(FP)     %\n",
       "0  PERSON          1493      1466          27  98.2\n",
       "1  OBJECT          3997      3979          29  99.5\n",
       "2  ANIMAL           583       575           5  98.6\n",
       "3   PLANT           253       248           9  98.0"
      ]
     },
     "execution_count": 22,
     "metadata": {},
     "output_type": "execute_result"
    }
   ],
   "source": [
    "scores_frame = metrics.create_score_frame(y_test, x_predict, my_estimator.get_labels())\n",
    "scores_frame"
   ]
  },
  {
   "cell_type": "code",
   "execution_count": 23,
   "metadata": {},
   "outputs": [],
   "source": [
    "precision, recall = metrics.score_precision_recall(y_test, x_predict)"
   ]
  },
  {
   "cell_type": "code",
   "execution_count": 24,
   "metadata": {},
   "outputs": [],
   "source": [
    "F1 = (2*precision*recall) / (precision + recall)"
   ]
  },
  {
   "cell_type": "code",
   "execution_count": 25,
   "metadata": {},
   "outputs": [
    {
     "name": "stdout",
     "output_type": "stream",
     "text": [
      "Precision 98.9\n",
      "Recall 99.08\n",
      "F1 98.99\n"
     ]
    }
   ],
   "source": [
    "print(\"Precision\", round(precision*100,2))\n",
    "print(\"Recall\", round(recall*100,2))\n",
    "print(\"F1\", round(F1*100,2))"
   ]
  },
  {
   "cell_type": "markdown",
   "metadata": {},
   "source": [
    "# Visualize prediction"
   ]
  },
  {
   "cell_type": "code",
   "execution_count": null,
   "metadata": {},
   "outputs": [],
   "source": [
    "x_predict_as_doc = model.predict(designs, as_doc=True)"
   ]
  },
  {
   "cell_type": "code",
   "execution_count": null,
   "metadata": {},
   "outputs": [],
   "source": [
    "from spacy import displacy\n",
    "colors = {'PERSON': 'mediumpurple','OBJECT': 'greenyellow', 'ANIMAL' : 'orange', 'PLANT': 'salmom', 'VERBS': 'skyblue'}\n",
    "options = {'ent': ['PERSON', 'OBJECT', 'ANIMAL', 'PLANT'], 'colors': colors}\n",
    "displacy.render(x_predict_as_doc.y, \n",
    "                style='ent', jupyter=True, options=options)"
   ]
  }
 ],
 "metadata": {
  "kernelspec": {
   "display_name": "Python 3 (ipykernel)",
   "language": "python",
   "name": "python3"
  },
  "language_info": {
   "codemirror_mode": {
    "name": "ipython",
    "version": 3
   },
   "file_extension": ".py",
   "mimetype": "text/x-python",
   "name": "python",
   "nbconvert_exporter": "python",
   "pygments_lexer": "ipython3",
   "version": "3.8.12"
  }
 },
 "nbformat": 4,
 "nbformat_minor": 4
}
