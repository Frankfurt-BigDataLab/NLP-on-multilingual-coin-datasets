{
 "cells": [
  {
   "cell_type": "markdown",
   "metadata": {},
   "source": [
    "developed by Patricia Klinger, modified by Sebastian Gampe, Kerim Gencer, Chrisowalandis Deligio"
   ]
  },
  {
   "cell_type": "code",
   "execution_count": 1,
   "metadata": {},
   "outputs": [],
   "source": [
    "import sys\n",
    "sys.path.append('../')\n",
    "import pandas as pd\n",
    "import random\n",
    "import os\n",
    "import numpy as np\n",
    "from cnt.model import DesignEstimator, RelationExtractor, save_pipeline, load_pipeline\n",
    "from cnt.annotate import (annotate, annotate_single_design, \n",
    "                          annotate_designs, \n",
    "                          extract_string_from_annotation, labeling_ger)\n",
    "from cnt.extract_relation import (path, NERTransformer, FeatureExtractor)\n",
    "from cnt.evaluate import Metrics\n",
    "from cnt.vectorize import (Doc2Str, Path2Str, Verbs2Str, AveragedPath2Vec, \n",
    "                           AveragedRest2Vec)\n",
    "from cnt.io import (replace_left_right)\n",
    "from cnt.io import  Database_Connection\n",
    "from sklearn.model_selection import train_test_split\n",
    "from sklearn.pipeline import Pipeline, make_pipeline, make_union\n",
    "from sklearn.feature_extraction.text import TfidfVectorizer, CountVectorizer\n",
    "from sklearn.svm import SVC\n",
    "from sklearn.linear_model import LogisticRegression\n",
    "from sklearn.ensemble import RandomForestClassifier\n",
    "from sklearn.preprocessing import Normalizer\n",
    "from sklearn.naive_bayes import MultinomialNB\n",
    "from itertools import product\n",
    "import warnings\n",
    "warnings.filterwarnings('ignore')"
   ]
  },
  {
   "cell_type": "markdown",
   "metadata": {},
   "source": [
    "### Load yaml file with annotated data"
   ]
  },
  {
   "cell_type": "code",
   "execution_count": 2,
   "metadata": {},
   "outputs": [],
   "source": [
    "import yaml\n",
    "import_path = \"../data/German_RE_data.yaml\"\n",
    "with open(import_path, encoding='utf8') as f:\n",
    "    dictionary = yaml.safe_load(f)\n",
    "    d = {replace_left_right(key): value for key, value in dictionary.items()}"
   ]
  },
  {
   "cell_type": "code",
   "execution_count": 3,
   "metadata": {},
   "outputs": [
    {
     "data": {
      "text/plain": [
       "[('halten', 1099),\n",
       " ('tragen', 786),\n",
       " ('stützen', 216),\n",
       " ('sitzen', 68),\n",
       " ('bekränzen', 29),\n",
       " ('stehen', 26),\n",
       " ('winden', 17),\n",
       " ('füttern', 11),\n",
       " ('ausgießen', 9),\n",
       " ('drücken', 5),\n",
       " ('hängen', 5),\n",
       " ('brechen', 4),\n",
       " ('schöpfen', 2),\n",
       " ('säugen', 2)]"
      ]
     },
     "execution_count": 3,
     "metadata": {},
     "output_type": "execute_result"
    }
   ],
   "source": [
    "relation_counts = {}\n",
    "labels = []\n",
    "for sentence, relations in d.items():\n",
    "    for rel in relations:\n",
    "        rel_name = rel[1]\n",
    "        if rel_name not in relation_counts:\n",
    "            relation_counts[rel_name] = 1\n",
    "        else:\n",
    "            relation_counts[rel_name] += 1\n",
    "\n",
    "sorted(relation_counts.items(), key= lambda x: (-x[1], x[0]))"
   ]
  },
  {
   "cell_type": "code",
   "execution_count": 4,
   "metadata": {},
   "outputs": [],
   "source": [
    "dc =  Database_Connection(\"mysql+mysqlconnector://root:YourConnection\") # Format user:password@IP/Database"
   ]
  },
  {
   "cell_type": "code",
   "execution_count": 5,
   "metadata": {},
   "outputs": [],
   "source": [
    "entities = {\n",
    "    \"PERSON\": dc.load_entities_from_db(\"nlp_list_person\", [\"name\", \"alternativenames\"], [\"alternativenames\"], \",\", True),\n",
    "    \"OBJECT\": dc.load_entities_from_db(\"nlp_list_obj_ger\", [\"name\", \"alternativenames\"], [\"alternativenames\"], \",\", True),\n",
    "    \"ANIMAL\": dc.load_entities_from_db(\"nlp_list_animal_ger\", [\"name\", \"alternativenames\"], [\"alternativenames\"], \",\", True),\n",
    "    \"PLANT\": dc.load_entities_from_db(\"nlp_list_plant_ger\", [\"name\", \"alternativenames\"], [\"alternativenames\"], \",\", True)}"
   ]
  },
  {
   "cell_type": "code",
   "execution_count": 6,
   "metadata": {},
   "outputs": [],
   "source": [
    "X_list, y_list = labeling_ger(d, entities)"
   ]
  },
  {
   "cell_type": "code",
   "execution_count": 7,
   "metadata": {},
   "outputs": [],
   "source": [
    "X = pd.DataFrame({\"Design\": X_list, \"y\" : y_list})"
   ]
  },
  {
   "cell_type": "code",
   "execution_count": 8,
   "metadata": {},
   "outputs": [
    {
     "data": {
      "text/plain": [
       "(1048, 2)"
      ]
     },
     "execution_count": 8,
     "metadata": {},
     "output_type": "execute_result"
    }
   ],
   "source": [
    "X.shape"
   ]
  },
  {
   "cell_type": "code",
   "execution_count": 9,
   "metadata": {},
   "outputs": [],
   "source": [
    "X['DesignID'] = X.index"
   ]
  },
  {
   "cell_type": "code",
   "execution_count": 10,
   "metadata": {},
   "outputs": [
    {
     "data": {
      "text/html": [
       "<div>\n",
       "<style scoped>\n",
       "    .dataframe tbody tr th:only-of-type {\n",
       "        vertical-align: middle;\n",
       "    }\n",
       "\n",
       "    .dataframe tbody tr th {\n",
       "        vertical-align: top;\n",
       "    }\n",
       "\n",
       "    .dataframe thead th {\n",
       "        text-align: right;\n",
       "    }\n",
       "</style>\n",
       "<table border=\"1\" class=\"dataframe\">\n",
       "  <thead>\n",
       "    <tr style=\"text-align: right;\">\n",
       "      <th></th>\n",
       "      <th>Design</th>\n",
       "      <th>y</th>\n",
       "      <th>DesignID</th>\n",
       "    </tr>\n",
       "  </thead>\n",
       "  <tbody>\n",
       "    <tr>\n",
       "      <th>0</th>\n",
       "      <td>Halbnackte Aphrodite stehend von vorn, Kopf na...</td>\n",
       "      <td>[(Aphrodite, PERSON, halten, Apfel, PLANT)]</td>\n",
       "      <td>0</td>\n",
       "    </tr>\n",
       "    <tr>\n",
       "      <th>1</th>\n",
       "      <td>Brustbild des Apollon nach rechts mit Lorbeerk...</td>\n",
       "      <td>[(Apollon, PERSON, tragen, Lorbeerkranz, OBJEC...</td>\n",
       "      <td>1</td>\n",
       "    </tr>\n",
       "    <tr>\n",
       "      <th>2</th>\n",
       "      <td>Kopf des Apollon mit Lorbeerkranz nach rechts;...</td>\n",
       "      <td>[(Apollon, PERSON, tragen, Lorbeerkranz, OBJECT)]</td>\n",
       "      <td>2</td>\n",
       "    </tr>\n",
       "    <tr>\n",
       "      <th>3</th>\n",
       "      <td>Nackter Apollon stehend von vorn, Kopf nach li...</td>\n",
       "      <td>[(Apollon, PERSON, halten, Patera, OBJECT)]</td>\n",
       "      <td>3</td>\n",
       "    </tr>\n",
       "    <tr>\n",
       "      <th>4</th>\n",
       "      <td>Artemis im kurzen, wehenden Chiton und in Stie...</td>\n",
       "      <td>[(Artemis, PERSON, tragen, Chiton, OBJECT), (A...</td>\n",
       "      <td>4</td>\n",
       "    </tr>\n",
       "  </tbody>\n",
       "</table>\n",
       "</div>"
      ],
      "text/plain": [
       "                                              Design  \\\n",
       "0  Halbnackte Aphrodite stehend von vorn, Kopf na...   \n",
       "1  Brustbild des Apollon nach rechts mit Lorbeerk...   \n",
       "2  Kopf des Apollon mit Lorbeerkranz nach rechts;...   \n",
       "3  Nackter Apollon stehend von vorn, Kopf nach li...   \n",
       "4  Artemis im kurzen, wehenden Chiton und in Stie...   \n",
       "\n",
       "                                                   y  DesignID  \n",
       "0        [(Aphrodite, PERSON, halten, Apfel, PLANT)]         0  \n",
       "1  [(Apollon, PERSON, tragen, Lorbeerkranz, OBJEC...         1  \n",
       "2  [(Apollon, PERSON, tragen, Lorbeerkranz, OBJECT)]         2  \n",
       "3        [(Apollon, PERSON, halten, Patera, OBJECT)]         3  \n",
       "4  [(Artemis, PERSON, tragen, Chiton, OBJECT), (A...         4  "
      ]
     },
     "execution_count": 10,
     "metadata": {},
     "output_type": "execute_result"
    }
   ],
   "source": [
    "X.head(5)"
   ]
  },
  {
   "cell_type": "markdown",
   "metadata": {},
   "source": [
    "### Train the RE model"
   ]
  },
  {
   "cell_type": "code",
   "execution_count": 11,
   "metadata": {},
   "outputs": [],
   "source": [
    "classifier = SVC(kernel='linear')\n",
    "string_converter = Path2Str(pos=True)\n",
    "vectorizer = CountVectorizer(ngram_range=(2,3))\n",
    "feature = make_pipeline(string_converter, vectorizer)"
   ]
  },
  {
   "cell_type": "code",
   "execution_count": 12,
   "metadata": {},
   "outputs": [],
   "source": [
    "X_train, X_test, y_train, y_test = train_test_split(X[[\"DesignID\", \"Design\"]], X[[\"DesignID\", \"y\"]], test_size=0.25, random_state=2)"
   ]
  },
  {
   "cell_type": "markdown",
   "metadata": {},
   "source": [
    "#### load pretrained NER-Model"
   ]
  },
  {
   "cell_type": "code",
   "execution_count": 13,
   "metadata": {},
   "outputs": [],
   "source": [
    "ner_model_directory = \"../cnt/trained_model/ner/german/\"\n",
    "ner_model_name = \"german_cno\""
   ]
  },
  {
   "cell_type": "markdown",
   "metadata": {},
   "source": [
    "#### define RE-Model path"
   ]
  },
  {
   "cell_type": "code",
   "execution_count": 14,
   "metadata": {},
   "outputs": [],
   "source": [
    "re_model_directory = \"../cnt/trained_model/re/\"\n",
    "re_model_name = \"german_cno\""
   ]
  },
  {
   "cell_type": "code",
   "execution_count": 15,
   "metadata": {},
   "outputs": [
    {
     "data": {
      "text/plain": [
       "Pipeline(steps=[('nertransformer',\n",
       "                 NERTransformer(model_dir='../cnt/trained_model/ner/',\n",
       "                                model_name='german_cno')),\n",
       "                ('featureextractor', FeatureExtractor()),\n",
       "                ('relationextractor',\n",
       "                 RelationExtractor(model_name='german_cno',\n",
       "                                   output_dir='../cnt/trained_model/re/',\n",
       "                                   pipeline=Pipeline(steps=[('pipeline',\n",
       "                                                             Pipeline(steps=[('path2str',\n",
       "                                                                              Path2Str(pos=True)),\n",
       "                                                                             ('countvectorizer',\n",
       "                                                                              CountVectorizer(ngram_range=(2,\n",
       "                                                                                                           3)))])),\n",
       "                                                            ('svc',\n",
       "                                                             SVC(kernel='linear'))])))])"
      ]
     },
     "execution_count": 15,
     "metadata": {},
     "output_type": "execute_result"
    }
   ],
   "source": [
    "inner_pipeline = make_pipeline(feature, classifier)\n",
    "pipeline = make_pipeline(NERTransformer(ner_model_directory, ner_model_name),\n",
    "                         FeatureExtractor(),\n",
    "                         RelationExtractor(inner_pipeline, re_model_directory, re_model_name))\n",
    "pipeline.fit(X_train, y_train)"
   ]
  },
  {
   "cell_type": "markdown",
   "metadata": {},
   "source": [
    "## Save and Load model"
   ]
  },
  {
   "cell_type": "code",
   "execution_count": 16,
   "metadata": {},
   "outputs": [],
   "source": [
    "save_pipeline(pipeline, re_model_directory, re_model_name)"
   ]
  },
  {
   "cell_type": "code",
   "execution_count": 17,
   "metadata": {},
   "outputs": [],
   "source": [
    "model = load_pipeline(re_model_directory, re_model_name)"
   ]
  },
  {
   "cell_type": "markdown",
   "metadata": {},
   "source": [
    "## Predict"
   ]
  },
  {
   "cell_type": "code",
   "execution_count": 18,
   "metadata": {},
   "outputs": [],
   "source": [
    "y_pred = pipeline.predict(X_test)"
   ]
  },
  {
   "cell_type": "code",
   "execution_count": 19,
   "metadata": {},
   "outputs": [],
   "source": [
    "metrics = Metrics()"
   ]
  },
  {
   "cell_type": "code",
   "execution_count": 20,
   "metadata": {},
   "outputs": [],
   "source": [
    "precision, recall = metrics.score_precision_recall(y_test, y_pred)\n",
    "F1 = (2*precision*recall) / (precision + recall)"
   ]
  },
  {
   "cell_type": "code",
   "execution_count": 21,
   "metadata": {},
   "outputs": [
    {
     "name": "stdout",
     "output_type": "stream",
     "text": [
      "Precision 86.79\n",
      "Recall 82.63\n",
      "F1 84.66\n"
     ]
    }
   ],
   "source": [
    "print(\"Precision\", round(precision*100,2))\n",
    "print(\"Recall\", round(recall*100,2))\n",
    "print(\"F1\", round(F1*100,2))"
   ]
  },
  {
   "cell_type": "markdown",
   "metadata": {},
   "source": [
    "## Prediction dataframe"
   ]
  },
  {
   "cell_type": "code",
   "execution_count": 22,
   "metadata": {},
   "outputs": [],
   "source": [
    "pre_df = X_test.merge(y_pred, left_on=\"DesignID\", right_on =\"DesignID\")"
   ]
  },
  {
   "cell_type": "code",
   "execution_count": 23,
   "metadata": {},
   "outputs": [
    {
     "data": {
      "text/html": [
       "<div>\n",
       "<style scoped>\n",
       "    .dataframe tbody tr th:only-of-type {\n",
       "        vertical-align: middle;\n",
       "    }\n",
       "\n",
       "    .dataframe tbody tr th {\n",
       "        vertical-align: top;\n",
       "    }\n",
       "\n",
       "    .dataframe thead th {\n",
       "        text-align: right;\n",
       "    }\n",
       "</style>\n",
       "<table border=\"1\" class=\"dataframe\">\n",
       "  <thead>\n",
       "    <tr style=\"text-align: right;\">\n",
       "      <th></th>\n",
       "      <th>DesignID</th>\n",
       "      <th>Design</th>\n",
       "      <th>y</th>\n",
       "    </tr>\n",
       "  </thead>\n",
       "  <tbody>\n",
       "    <tr>\n",
       "      <th>0</th>\n",
       "      <td>347</td>\n",
       "      <td>Nackter Jüngling (Dioskur) stehend von vorn, K...</td>\n",
       "      <td>[]</td>\n",
       "    </tr>\n",
       "    <tr>\n",
       "      <th>1</th>\n",
       "      <td>614</td>\n",
       "      <td>Athena mit korinthischem Helm nach rechts schr...</td>\n",
       "      <td>[(Athena, PERSON, tragen, Helm, OBJECT), (Athe...</td>\n",
       "    </tr>\n",
       "    <tr>\n",
       "      <th>2</th>\n",
       "      <td>1042</td>\n",
       "      <td>Nackter Herakles, stehend von vorn, Kopf nach ...</td>\n",
       "      <td>[(Herakles, PERSON, stützen, Keule, OBJECT), (...</td>\n",
       "    </tr>\n",
       "    <tr>\n",
       "      <th>3</th>\n",
       "      <td>946</td>\n",
       "      <td>Tyche mit Mauerkrone nach links thronend, auf ...</td>\n",
       "      <td>[(Tyche, PERSON, tragen, Mauerkrone, OBJECT)]</td>\n",
       "    </tr>\n",
       "    <tr>\n",
       "      <th>4</th>\n",
       "      <td>704</td>\n",
       "      <td>Kaiser (Caracalla) in Kriegsbekleidung mit Pan...</td>\n",
       "      <td>[(Caracalla, PERSON, tragen, Kriegsbekleidung,...</td>\n",
       "    </tr>\n",
       "    <tr>\n",
       "      <th>...</th>\n",
       "      <td>...</td>\n",
       "      <td>...</td>\n",
       "      <td>...</td>\n",
       "    </tr>\n",
       "    <tr>\n",
       "      <th>257</th>\n",
       "      <td>986</td>\n",
       "      <td>Kaiser (Geta) in Kriegsbekleidung mit Panzer u...</td>\n",
       "      <td>[(Geta, PERSON, sitzen, Pferd, ANIMAL), (Geta,...</td>\n",
       "    </tr>\n",
       "    <tr>\n",
       "      <th>258</th>\n",
       "      <td>175</td>\n",
       "      <td>Löwe nach links hockend, einen Speer mit dem K...</td>\n",
       "      <td>[]</td>\n",
       "    </tr>\n",
       "    <tr>\n",
       "      <th>259</th>\n",
       "      <td>1015</td>\n",
       "      <td>Athena nach links mit Schild in der Linken; vo...</td>\n",
       "      <td>[(Athena, PERSON, halten, Schild, OBJECT)]</td>\n",
       "    </tr>\n",
       "    <tr>\n",
       "      <th>260</th>\n",
       "      <td>374</td>\n",
       "      <td>Athena (Nikephoros) nach links thronend, im Ch...</td>\n",
       "      <td>[(Athena, PERSON, tragen, Chiton, OBJECT), (At...</td>\n",
       "    </tr>\n",
       "    <tr>\n",
       "      <th>261</th>\n",
       "      <td>427</td>\n",
       "      <td>Quadratum incusum, vierfach geteilt; zwei gege...</td>\n",
       "      <td>[]</td>\n",
       "    </tr>\n",
       "  </tbody>\n",
       "</table>\n",
       "<p>262 rows × 3 columns</p>\n",
       "</div>"
      ],
      "text/plain": [
       "     DesignID                                             Design  \\\n",
       "0         347  Nackter Jüngling (Dioskur) stehend von vorn, K...   \n",
       "1         614  Athena mit korinthischem Helm nach rechts schr...   \n",
       "2        1042  Nackter Herakles, stehend von vorn, Kopf nach ...   \n",
       "3         946  Tyche mit Mauerkrone nach links thronend, auf ...   \n",
       "4         704  Kaiser (Caracalla) in Kriegsbekleidung mit Pan...   \n",
       "..        ...                                                ...   \n",
       "257       986  Kaiser (Geta) in Kriegsbekleidung mit Panzer u...   \n",
       "258       175  Löwe nach links hockend, einen Speer mit dem K...   \n",
       "259      1015  Athena nach links mit Schild in der Linken; vo...   \n",
       "260       374  Athena (Nikephoros) nach links thronend, im Ch...   \n",
       "261       427  Quadratum incusum, vierfach geteilt; zwei gege...   \n",
       "\n",
       "                                                     y  \n",
       "0                                                   []  \n",
       "1    [(Athena, PERSON, tragen, Helm, OBJECT), (Athe...  \n",
       "2    [(Herakles, PERSON, stützen, Keule, OBJECT), (...  \n",
       "3        [(Tyche, PERSON, tragen, Mauerkrone, OBJECT)]  \n",
       "4    [(Caracalla, PERSON, tragen, Kriegsbekleidung,...  \n",
       "..                                                 ...  \n",
       "257  [(Geta, PERSON, sitzen, Pferd, ANIMAL), (Geta,...  \n",
       "258                                                 []  \n",
       "259         [(Athena, PERSON, halten, Schild, OBJECT)]  \n",
       "260  [(Athena, PERSON, tragen, Chiton, OBJECT), (At...  \n",
       "261                                                 []  \n",
       "\n",
       "[262 rows x 3 columns]"
      ]
     },
     "execution_count": 23,
     "metadata": {},
     "output_type": "execute_result"
    }
   ],
   "source": [
    "pre_df"
   ]
  }
 ],
 "metadata": {
  "kernelspec": {
   "display_name": "Python 3 (ipykernel)",
   "language": "python",
   "name": "python3"
  },
  "language_info": {
   "codemirror_mode": {
    "name": "ipython",
    "version": 3
   },
   "file_extension": ".py",
   "mimetype": "text/x-python",
   "name": "python",
   "nbconvert_exporter": "python",
   "pygments_lexer": "ipython3",
   "version": "3.8.12"
  }
 },
 "nbformat": 4,
 "nbformat_minor": 4
}
