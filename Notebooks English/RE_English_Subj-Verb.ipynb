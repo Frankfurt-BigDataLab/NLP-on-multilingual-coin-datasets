{
 "cells": [
  {
   "cell_type": "markdown",
   "metadata": {},
   "source": [
    "developed by Patricia Klinger, modified by Sebastian Gampe, Kerim Gencer, Chrisowalandis Deligio"
   ]
  },
  {
   "cell_type": "code",
   "execution_count": 1,
   "metadata": {},
   "outputs": [],
   "source": [
    "import sys\n",
    "sys.path.append('../')\n",
    "import pandas as pd\n",
    "import random\n",
    "import os\n",
    "import numpy as np\n",
    "from cnt.model import DesignEstimator, RelationExtractor, save_pipeline, load_pipeline, predict_re_single_sentence\n",
    "from cnt.annotate import (annotate, annotate_single_design, \n",
    "                          annotate_designs, \n",
    "                          extract_string_from_annotation, labeling_eng, labeling_single_entity)\n",
    "from cnt.extract_relation_single_verb import (path, NERTransformer, FeatureExtractor, RelationExtractor)\n",
    "from cnt.evaluate import Metrics\n",
    "from cnt.vectorize import (Doc2Str, Path2Str, Verbs2Str, AveragedPath2Vec, \n",
    "                           AveragedRest2Vec)\n",
    "from cnt.io import (replace_left_right)\n",
    "from cnt.io import  Database_Connection\n",
    "from sklearn.model_selection import train_test_split\n",
    "from sklearn.pipeline import Pipeline, make_pipeline, make_union\n",
    "from sklearn.feature_extraction.text import TfidfVectorizer, CountVectorizer\n",
    "from sklearn.svm import SVC\n",
    "from sklearn.linear_model import LogisticRegression\n",
    "from sklearn.ensemble import RandomForestClassifier\n",
    "from sklearn.preprocessing import Normalizer\n",
    "from sklearn.naive_bayes import MultinomialNB\n",
    "from itertools import product\n",
    "import warnings\n",
    "warnings.filterwarnings('ignore')"
   ]
  },
  {
   "cell_type": "markdown",
   "metadata": {
    "tags": []
   },
   "source": [
    "### Define the column names for the id and design column "
   ]
  },
  {
   "cell_type": "code",
   "execution_count": 2,
   "metadata": {},
   "outputs": [],
   "source": [
    "id_col = \"id\"\n",
    "design_col = \"design_en\""
   ]
  },
  {
   "cell_type": "markdown",
   "metadata": {},
   "source": [
    "### Load yaml file with annotated data"
   ]
  },
  {
   "cell_type": "code",
   "execution_count": 3,
   "metadata": {},
   "outputs": [],
   "source": [
    "import yaml\n",
    "import_path = \"../data/English_RE_data_Subj-Verb.yaml\"\n",
    "with open(import_path, encoding='utf8') as f:\n",
    "    dictionary = yaml.safe_load(f)\n",
    "    d = {replace_left_right(key): value for key, value in dictionary.items()}"
   ]
  },
  {
   "cell_type": "code",
   "execution_count": 4,
   "metadata": {},
   "outputs": [
    {
     "data": {
      "text/plain": [
       "[('holding', 679),\n",
       " ('standing', 564),\n",
       " ('wearing', 369),\n",
       " ('resting', 189),\n",
       " ('seated', 93),\n",
       " ('advancing', 71),\n",
       " ('enthroned', 68),\n",
       " ('curling', 65),\n",
       " ('riding', 45),\n",
       " ('reclining', 34),\n",
       " ('lying', 33),\n",
       " ('leaping', 31),\n",
       " ('coiling', 26),\n",
       " ('prancing', 25),\n",
       " ('sailing', 16),\n",
       " ('swimming', 15),\n",
       " ('drawing', 13),\n",
       " ('leaning', 13),\n",
       " ('crowning', 12),\n",
       " ('raising', 12),\n",
       " ('feeding', 11),\n",
       " ('flying', 9),\n",
       " ('grasping', 8),\n",
       " ('strangling', 8),\n",
       " ('kneeling', 5),\n",
       " ('extending', 4),\n",
       " ('pushing', 4),\n",
       " ('sitting', 4),\n",
       " ('clasping', 3),\n",
       " ('crossing', 3),\n",
       " ('galloping', 3),\n",
       " ('receiving', 3),\n",
       " ('running', 3),\n",
       " ('setting', 3),\n",
       " ('carrying', 2),\n",
       " ('creeps', 2),\n",
       " ('jumping', 2),\n",
       " ('containing', 1),\n",
       " ('covering', 1),\n",
       " ('ears', 1),\n",
       " ('forming', 1),\n",
       " ('galopping', 1),\n",
       " ('leaned', 1),\n",
       " ('playing', 1),\n",
       " ('ploughing', 1),\n",
       " ('walking', 1)]"
      ]
     },
     "execution_count": 4,
     "metadata": {},
     "output_type": "execute_result"
    }
   ],
   "source": [
    "relation_counts = {}\n",
    "labels = []\n",
    "for sentence, relations in d.items():\n",
    "    for rel in relations:\n",
    "        rel_name = rel[1]\n",
    "        if rel_name not in relation_counts:\n",
    "            relation_counts[rel_name] = 1\n",
    "        else:\n",
    "            relation_counts[rel_name] += 1\n",
    "\n",
    "sorted(relation_counts.items(), key= lambda x: (-x[1], x[0]))"
   ]
  },
  {
   "cell_type": "code",
   "execution_count": 5,
   "metadata": {},
   "outputs": [],
   "source": [
    "# Database access in text file: \"mysql+mysqlconnector://root:YourConnection\" -> Format user:password@IP/Database\n",
    "f = open(\"/home/bigdatalab/Projects/D4N4/NLP_release_1.0/db_access.txt\", \"r\")\n",
    "access = f.read()\n",
    "dc =  Database_Connection(access)"
   ]
  },
  {
   "cell_type": "code",
   "execution_count": 6,
   "metadata": {},
   "outputs": [],
   "source": [
    "language = \"_en\"\n",
    "add_columns = [\"name\"+language, \"alternativenames\"+language]"
   ]
  },
  {
   "cell_type": "code",
   "execution_count": 7,
   "metadata": {},
   "outputs": [],
   "source": [
    "entities = {\n",
    "    \"PERSON\": dc.load_entities_from_db(\"nlp_list_person\", [\"name\", \"alternativenames\"], [\"alternativenames\"], \",\", True),\n",
    "    \"OBJECT\": dc.load_entities_from_db(\"nlp_list_obj\", add_columns, [add_columns[1]], \",\", True),\n",
    "    \"ANIMAL\": dc.load_entities_from_db(\"nlp_list_animal\", add_columns, [add_columns[1]], \",\", True),\n",
    "    \"PLANT\": dc.load_entities_from_db(\"nlp_list_plant\", add_columns, [add_columns[1]], \",\", True)}"
   ]
  },
  {
   "cell_type": "code",
   "execution_count": 8,
   "metadata": {},
   "outputs": [],
   "source": [
    "X_list, y_list = labeling_single_entity(d, entities)"
   ]
  },
  {
   "cell_type": "code",
   "execution_count": 9,
   "metadata": {},
   "outputs": [],
   "source": [
    "X = pd.DataFrame({design_col: X_list, \"y\" : y_list}).rename(columns={\"design_en\": \"Design\"})"
   ]
  },
  {
   "cell_type": "code",
   "execution_count": 10,
   "metadata": {},
   "outputs": [
    {
     "data": {
      "text/plain": [
       "(987, 2)"
      ]
     },
     "execution_count": 10,
     "metadata": {},
     "output_type": "execute_result"
    }
   ],
   "source": [
    "X.shape"
   ]
  },
  {
   "cell_type": "code",
   "execution_count": 11,
   "metadata": {},
   "outputs": [],
   "source": [
    "X[\"DesignID\"] = X.index"
   ]
  },
  {
   "cell_type": "code",
   "execution_count": 12,
   "metadata": {},
   "outputs": [
    {
     "data": {
      "text/html": [
       "<div>\n",
       "<style scoped>\n",
       "    .dataframe tbody tr th:only-of-type {\n",
       "        vertical-align: middle;\n",
       "    }\n",
       "\n",
       "    .dataframe tbody tr th {\n",
       "        vertical-align: top;\n",
       "    }\n",
       "\n",
       "    .dataframe thead th {\n",
       "        text-align: right;\n",
       "    }\n",
       "</style>\n",
       "<table border=\"1\" class=\"dataframe\">\n",
       "  <thead>\n",
       "    <tr style=\"text-align: right;\">\n",
       "      <th></th>\n",
       "      <th>Design</th>\n",
       "      <th>y</th>\n",
       "      <th>DesignID</th>\n",
       "    </tr>\n",
       "  </thead>\n",
       "  <tbody>\n",
       "    <tr>\n",
       "      <th>0</th>\n",
       "      <td>Amphora with ribbed surface and crooked handle...</td>\n",
       "      <td>[(Amphora, OBJECT, containing, holding)]</td>\n",
       "      <td>0</td>\n",
       "    </tr>\n",
       "    <tr>\n",
       "      <th>1</th>\n",
       "      <td>Bust of youthful Anchialos, right, wearing tae...</td>\n",
       "      <td>[(Anchialos, PERSON, wearing, wearing)]</td>\n",
       "      <td>1</td>\n",
       "    </tr>\n",
       "    <tr>\n",
       "      <th>2</th>\n",
       "      <td>Bare-headed bust of Antoninus Pius, right, wea...</td>\n",
       "      <td>[(Antoninus Pius, PERSON, wearing, wearing)]</td>\n",
       "      <td>2</td>\n",
       "    </tr>\n",
       "    <tr>\n",
       "      <th>3</th>\n",
       "      <td>Laureate bust of Antoninus Pius, right, wearin...</td>\n",
       "      <td>[(Antoninus Pius, PERSON, wearing, wearing)]</td>\n",
       "      <td>3</td>\n",
       "    </tr>\n",
       "    <tr>\n",
       "      <th>4</th>\n",
       "      <td>Laureate bust of Antoninus Pius, right, wearin...</td>\n",
       "      <td>[(Antoninus Pius, PERSON, wearing, wearing)]</td>\n",
       "      <td>4</td>\n",
       "    </tr>\n",
       "  </tbody>\n",
       "</table>\n",
       "</div>"
      ],
      "text/plain": [
       "                                              Design  \\\n",
       "0  Amphora with ribbed surface and crooked handle...   \n",
       "1  Bust of youthful Anchialos, right, wearing tae...   \n",
       "2  Bare-headed bust of Antoninus Pius, right, wea...   \n",
       "3  Laureate bust of Antoninus Pius, right, wearin...   \n",
       "4  Laureate bust of Antoninus Pius, right, wearin...   \n",
       "\n",
       "                                              y  DesignID  \n",
       "0      [(Amphora, OBJECT, containing, holding)]         0  \n",
       "1       [(Anchialos, PERSON, wearing, wearing)]         1  \n",
       "2  [(Antoninus Pius, PERSON, wearing, wearing)]         2  \n",
       "3  [(Antoninus Pius, PERSON, wearing, wearing)]         3  \n",
       "4  [(Antoninus Pius, PERSON, wearing, wearing)]         4  "
      ]
     },
     "execution_count": 12,
     "metadata": {},
     "output_type": "execute_result"
    }
   ],
   "source": [
    "X.head(5)"
   ]
  },
  {
   "cell_type": "markdown",
   "metadata": {},
   "source": [
    "### Train the RE model"
   ]
  },
  {
   "cell_type": "code",
   "execution_count": 13,
   "metadata": {},
   "outputs": [],
   "source": [
    "classifier = SVC()\n",
    "string_converter = Path2Str(ent=True)\n",
    "vectorizer = CountVectorizer(ngram_range=(1,3))\n",
    "feature = make_pipeline(string_converter, vectorizer)"
   ]
  },
  {
   "cell_type": "code",
   "execution_count": 14,
   "metadata": {},
   "outputs": [],
   "source": [
    "design_col = \"Design\"\n",
    "id_col = \"DesignID\""
   ]
  },
  {
   "cell_type": "code",
   "execution_count": 15,
   "metadata": {},
   "outputs": [],
   "source": [
    "X_train, X_test, y_train, y_test = train_test_split(X[[id_col, \"Design\"]], X[[id_col, \"y\"]], test_size=0.25, random_state=33)"
   ]
  },
  {
   "cell_type": "markdown",
   "metadata": {},
   "source": [
    "#### load pretrained NER-Model"
   ]
  },
  {
   "cell_type": "code",
   "execution_count": 16,
   "metadata": {},
   "outputs": [],
   "source": [
    "ner_model_directory = \"../cnt/trained_model/ner/english/\"\n",
    "ner_model_name = \"english_cno\""
   ]
  },
  {
   "cell_type": "markdown",
   "metadata": {},
   "source": [
    "#### define RE-Model path"
   ]
  },
  {
   "cell_type": "code",
   "execution_count": 20,
   "metadata": {},
   "outputs": [],
   "source": [
    "re_model_directory = \"../cnt/trained_model/re/\"\n",
    "re_model_name = \"english_cno\""
   ]
  },
  {
   "cell_type": "code",
   "execution_count": 18,
   "metadata": {},
   "outputs": [],
   "source": [
    "design_col = \"Design\"\n",
    "id_col = \"DesignID\""
   ]
  },
  {
   "cell_type": "code",
   "execution_count": null,
   "metadata": {},
   "outputs": [],
   "source": [
    "inner_pipeline = make_pipeline(feature, classifier)\n",
    "pipeline = make_pipeline(NERTransformer(ner_model_directory, ner_model_name, id_col, design_col),\n",
    "                         FeatureExtractor(ner_model_directory, ner_model_name, id_col, design_col),\n",
    "                         RelationExtractor(inner_pipeline, re_model_directory, re_model_name, id_col))\n",
    "pipeline.fit(X_train, y_train)"
   ]
  },
  {
   "cell_type": "markdown",
   "metadata": {},
   "source": [
    "## Save and Load model"
   ]
  },
  {
   "cell_type": "code",
   "execution_count": 21,
   "metadata": {
    "collapsed": true
   },
   "outputs": [],
   "source": [
    "save_pipeline(pipeline, re_model_directory, re_model_name)"
   ]
  },
  {
   "cell_type": "code",
   "execution_count": 21,
   "metadata": {},
   "outputs": [],
   "source": [
    "model = load_pipeline(re_model_directory, re_model_name)"
   ]
  },
  {
   "cell_type": "markdown",
   "metadata": {},
   "source": [
    "## Predict"
   ]
  },
  {
   "cell_type": "code",
   "execution_count": 23,
   "metadata": {
    "collapsed": true
   },
   "outputs": [],
   "source": [
    "y_pred = model.predict(X_test)"
   ]
  },
  {
   "cell_type": "code",
   "execution_count": 24,
   "metadata": {
    "collapsed": true
   },
   "outputs": [],
   "source": [
    "metrics = Metrics()"
   ]
  },
  {
   "cell_type": "code",
   "execution_count": 25,
   "metadata": {
    "collapsed": true
   },
   "outputs": [],
   "source": [
    "precision, recall = metrics.score_precision_recall(y_test, y_pred)\n",
    "F1 = (2*precision*recall) / (precision + recall)"
   ]
  },
  {
   "cell_type": "code",
   "execution_count": 26,
   "metadata": {
    "collapsed": true
   },
   "outputs": [
    {
     "name": "stdout",
     "output_type": "stream",
     "text": [
      "Precision 89.58\n",
      "Recall 79.82\n",
      "F1 84.42\n"
     ]
    }
   ],
   "source": [
    "print(\"Precision\", round(precision*100,2))\n",
    "print(\"Recall\", round(recall*100,2))\n",
    "print(\"F1\", round(F1*100,2))"
   ]
  },
  {
   "cell_type": "markdown",
   "metadata": {
    "tags": []
   },
   "source": [
    "## Upload to mysql"
   ]
  },
  {
   "cell_type": "code",
   "execution_count": 27,
   "metadata": {
    "collapsed": true
   },
   "outputs": [],
   "source": [
    "upload = False"
   ]
  },
  {
   "cell_type": "code",
   "execution_count": 28,
   "metadata": {
    "collapsed": true
   },
   "outputs": [],
   "source": [
    "cnt_designs = dc.load_designs_from_db(\"data_designs\", [\"id\", \"design_en\"])\n",
    "cnt_designs.rename(columns={\"design_en\":\"Design\", \"id\": \"DesignID\"}, inplace=True) # if english\n",
    "cnt_pred = pipeline.predict(cnt_designs, rdf=True)\n",
    "cnt_pipeline_output = pd.DataFrame([(str(designid), *relation) for  _, (designid, relation_list) in cnt_pred.iterrows()\n",
    "                for relation in relation_list],\n",
    "        columns=[\"DesignID\", \"Person\", \"Relation\", \"Object\"])\n",
    "if upload==True:\n",
    "    cnt_pipeline_output.to_sql(\"CNO.cnt_pipeline_output\",dc.mysql_connection,if_exists=\"replace\", index=False)"
   ]
  },
  {
   "cell_type": "code",
   "execution_count": null,
   "metadata": {
    "collapsed": true
   },
   "outputs": [
    {
     "data": {
      "text/html": [
       "<div>\n",
       "<style scoped>\n",
       "    .dataframe tbody tr th:only-of-type {\n",
       "        vertical-align: middle;\n",
       "    }\n",
       "\n",
       "    .dataframe tbody tr th {\n",
       "        vertical-align: top;\n",
       "    }\n",
       "\n",
       "    .dataframe thead th {\n",
       "        text-align: right;\n",
       "    }\n",
       "</style>\n",
       "<table border=\"1\" class=\"dataframe\">\n",
       "  <thead>\n",
       "    <tr style=\"text-align: right;\">\n",
       "      <th></th>\n",
       "      <th>DesignID</th>\n",
       "      <th>Person</th>\n",
       "      <th>Relation</th>\n",
       "      <th>Object</th>\n",
       "    </tr>\n",
       "  </thead>\n",
       "  <tbody>\n",
       "    <tr>\n",
       "      <th>0</th>\n",
       "      <td>10</td>\n",
       "      <td>Anchialos</td>\n",
       "      <td>wearing</td>\n",
       "      <td>rdf:nil</td>\n",
       "    </tr>\n",
       "    <tr>\n",
       "      <th>1</th>\n",
       "      <td>24</td>\n",
       "      <td>Antoninus Pius</td>\n",
       "      <td>wearing</td>\n",
       "      <td>rdf:nil</td>\n",
       "    </tr>\n",
       "    <tr>\n",
       "      <th>2</th>\n",
       "      <td>27</td>\n",
       "      <td>Antoninus Pius</td>\n",
       "      <td>wearing</td>\n",
       "      <td>rdf:nil</td>\n",
       "    </tr>\n",
       "    <tr>\n",
       "      <th>3</th>\n",
       "      <td>28</td>\n",
       "      <td>Antoninus Pius</td>\n",
       "      <td>wearing</td>\n",
       "      <td>rdf:nil</td>\n",
       "    </tr>\n",
       "    <tr>\n",
       "      <th>4</th>\n",
       "      <td>33</td>\n",
       "      <td>Aphrodite</td>\n",
       "      <td>standing</td>\n",
       "      <td>rdf:nil</td>\n",
       "    </tr>\n",
       "    <tr>\n",
       "      <th>5</th>\n",
       "      <td>33</td>\n",
       "      <td>Aphrodite</td>\n",
       "      <td>holding</td>\n",
       "      <td>rdf:nil</td>\n",
       "    </tr>\n",
       "    <tr>\n",
       "      <th>6</th>\n",
       "      <td>36</td>\n",
       "      <td>Aphrodite</td>\n",
       "      <td>standing</td>\n",
       "      <td>rdf:nil</td>\n",
       "    </tr>\n",
       "    <tr>\n",
       "      <th>7</th>\n",
       "      <td>38</td>\n",
       "      <td>Apollo</td>\n",
       "      <td>advancing</td>\n",
       "      <td>rdf:nil</td>\n",
       "    </tr>\n",
       "    <tr>\n",
       "      <th>8</th>\n",
       "      <td>38</td>\n",
       "      <td>Apollo</td>\n",
       "      <td>holding</td>\n",
       "      <td>rdf:nil</td>\n",
       "    </tr>\n",
       "    <tr>\n",
       "      <th>9</th>\n",
       "      <td>38</td>\n",
       "      <td>Apollo</td>\n",
       "      <td>holding</td>\n",
       "      <td>rdf:nil</td>\n",
       "    </tr>\n",
       "    <tr>\n",
       "      <th>10</th>\n",
       "      <td>39</td>\n",
       "      <td>Apollo</td>\n",
       "      <td>advancing</td>\n",
       "      <td>rdf:nil</td>\n",
       "    </tr>\n",
       "    <tr>\n",
       "      <th>11</th>\n",
       "      <td>39</td>\n",
       "      <td>Apollo</td>\n",
       "      <td>wearing</td>\n",
       "      <td>rdf:nil</td>\n",
       "    </tr>\n",
       "    <tr>\n",
       "      <th>12</th>\n",
       "      <td>58</td>\n",
       "      <td>Apollo</td>\n",
       "      <td>seated_on</td>\n",
       "      <td>rdf:nil</td>\n",
       "    </tr>\n",
       "    <tr>\n",
       "      <th>13</th>\n",
       "      <td>58</td>\n",
       "      <td>Apollo</td>\n",
       "      <td>holding</td>\n",
       "      <td>rdf:nil</td>\n",
       "    </tr>\n",
       "    <tr>\n",
       "      <th>14</th>\n",
       "      <td>59</td>\n",
       "      <td>Apollo</td>\n",
       "      <td>seated_on</td>\n",
       "      <td>rdf:nil</td>\n",
       "    </tr>\n",
       "    <tr>\n",
       "      <th>15</th>\n",
       "      <td>59</td>\n",
       "      <td>Apollo</td>\n",
       "      <td>holding</td>\n",
       "      <td>rdf:nil</td>\n",
       "    </tr>\n",
       "    <tr>\n",
       "      <th>16</th>\n",
       "      <td>60</td>\n",
       "      <td>Apollo</td>\n",
       "      <td>holding</td>\n",
       "      <td>rdf:nil</td>\n",
       "    </tr>\n",
       "    <tr>\n",
       "      <th>17</th>\n",
       "      <td>61</td>\n",
       "      <td>Apollo</td>\n",
       "      <td>seated_on</td>\n",
       "      <td>rdf:nil</td>\n",
       "    </tr>\n",
       "    <tr>\n",
       "      <th>18</th>\n",
       "      <td>65</td>\n",
       "      <td>Apollo</td>\n",
       "      <td>standing</td>\n",
       "      <td>rdf:nil</td>\n",
       "    </tr>\n",
       "    <tr>\n",
       "      <th>19</th>\n",
       "      <td>65</td>\n",
       "      <td>Apollo</td>\n",
       "      <td>holding</td>\n",
       "      <td>rdf:nil</td>\n",
       "    </tr>\n",
       "    <tr>\n",
       "      <th>20</th>\n",
       "      <td>66</td>\n",
       "      <td>Apollo</td>\n",
       "      <td>standing</td>\n",
       "      <td>rdf:nil</td>\n",
       "    </tr>\n",
       "    <tr>\n",
       "      <th>21</th>\n",
       "      <td>66</td>\n",
       "      <td>Apollo</td>\n",
       "      <td>resting_on</td>\n",
       "      <td>rdf:nil</td>\n",
       "    </tr>\n",
       "    <tr>\n",
       "      <th>22</th>\n",
       "      <td>66</td>\n",
       "      <td>Apollo</td>\n",
       "      <td>resting_on</td>\n",
       "      <td>rdf:nil</td>\n",
       "    </tr>\n",
       "    <tr>\n",
       "      <th>23</th>\n",
       "      <td>67</td>\n",
       "      <td>Apollo</td>\n",
       "      <td>standing</td>\n",
       "      <td>rdf:nil</td>\n",
       "    </tr>\n",
       "    <tr>\n",
       "      <th>24</th>\n",
       "      <td>67</td>\n",
       "      <td>Apollo</td>\n",
       "      <td>holding</td>\n",
       "      <td>rdf:nil</td>\n",
       "    </tr>\n",
       "    <tr>\n",
       "      <th>25</th>\n",
       "      <td>67</td>\n",
       "      <td>Apollo</td>\n",
       "      <td>holding</td>\n",
       "      <td>rdf:nil</td>\n",
       "    </tr>\n",
       "    <tr>\n",
       "      <th>26</th>\n",
       "      <td>67</td>\n",
       "      <td>Artemis</td>\n",
       "      <td>standing</td>\n",
       "      <td>rdf:nil</td>\n",
       "    </tr>\n",
       "    <tr>\n",
       "      <th>27</th>\n",
       "      <td>67</td>\n",
       "      <td>Artemis</td>\n",
       "      <td>holding</td>\n",
       "      <td>rdf:nil</td>\n",
       "    </tr>\n",
       "    <tr>\n",
       "      <th>28</th>\n",
       "      <td>67</td>\n",
       "      <td>Artemis</td>\n",
       "      <td>holding</td>\n",
       "      <td>rdf:nil</td>\n",
       "    </tr>\n",
       "    <tr>\n",
       "      <th>29</th>\n",
       "      <td>67</td>\n",
       "      <td>Artemis</td>\n",
       "      <td>holding</td>\n",
       "      <td>rdf:nil</td>\n",
       "    </tr>\n",
       "    <tr>\n",
       "      <th>30</th>\n",
       "      <td>67</td>\n",
       "      <td>Artemis</td>\n",
       "      <td>holding</td>\n",
       "      <td>rdf:nil</td>\n",
       "    </tr>\n",
       "    <tr>\n",
       "      <th>31</th>\n",
       "      <td>67</td>\n",
       "      <td>Apollo</td>\n",
       "      <td>standing</td>\n",
       "      <td>rdf:nil</td>\n",
       "    </tr>\n",
       "    <tr>\n",
       "      <th>32</th>\n",
       "      <td>67</td>\n",
       "      <td>Apollo</td>\n",
       "      <td>holding</td>\n",
       "      <td>rdf:nil</td>\n",
       "    </tr>\n",
       "    <tr>\n",
       "      <th>33</th>\n",
       "      <td>67</td>\n",
       "      <td>Apollo</td>\n",
       "      <td>holding</td>\n",
       "      <td>rdf:nil</td>\n",
       "    </tr>\n",
       "    <tr>\n",
       "      <th>34</th>\n",
       "      <td>69</td>\n",
       "      <td>Apollo</td>\n",
       "      <td>standing</td>\n",
       "      <td>rdf:nil</td>\n",
       "    </tr>\n",
       "    <tr>\n",
       "      <th>35</th>\n",
       "      <td>69</td>\n",
       "      <td>Apollo</td>\n",
       "      <td>wearing</td>\n",
       "      <td>rdf:nil</td>\n",
       "    </tr>\n",
       "    <tr>\n",
       "      <th>36</th>\n",
       "      <td>69</td>\n",
       "      <td>Apollo</td>\n",
       "      <td>holding</td>\n",
       "      <td>rdf:nil</td>\n",
       "    </tr>\n",
       "    <tr>\n",
       "      <th>37</th>\n",
       "      <td>76</td>\n",
       "      <td>Apollo</td>\n",
       "      <td>standing</td>\n",
       "      <td>rdf:nil</td>\n",
       "    </tr>\n",
       "    <tr>\n",
       "      <th>38</th>\n",
       "      <td>76</td>\n",
       "      <td>Apollo</td>\n",
       "      <td>holding</td>\n",
       "      <td>rdf:nil</td>\n",
       "    </tr>\n",
       "    <tr>\n",
       "      <th>39</th>\n",
       "      <td>77</td>\n",
       "      <td>Apollo</td>\n",
       "      <td>standing</td>\n",
       "      <td>rdf:nil</td>\n",
       "    </tr>\n",
       "    <tr>\n",
       "      <th>40</th>\n",
       "      <td>77</td>\n",
       "      <td>Apollo</td>\n",
       "      <td>wearing</td>\n",
       "      <td>rdf:nil</td>\n",
       "    </tr>\n",
       "    <tr>\n",
       "      <th>41</th>\n",
       "      <td>77</td>\n",
       "      <td>Apollo</td>\n",
       "      <td>holding</td>\n",
       "      <td>rdf:nil</td>\n",
       "    </tr>\n",
       "    <tr>\n",
       "      <th>42</th>\n",
       "      <td>79</td>\n",
       "      <td>Apollo</td>\n",
       "      <td>standing</td>\n",
       "      <td>rdf:nil</td>\n",
       "    </tr>\n",
       "    <tr>\n",
       "      <th>43</th>\n",
       "      <td>79</td>\n",
       "      <td>Apollo</td>\n",
       "      <td>holding</td>\n",
       "      <td>rdf:nil</td>\n",
       "    </tr>\n",
       "    <tr>\n",
       "      <th>44</th>\n",
       "      <td>80</td>\n",
       "      <td>Apollo</td>\n",
       "      <td>standing</td>\n",
       "      <td>rdf:nil</td>\n",
       "    </tr>\n",
       "    <tr>\n",
       "      <th>45</th>\n",
       "      <td>80</td>\n",
       "      <td>Apollo</td>\n",
       "      <td>holding</td>\n",
       "      <td>rdf:nil</td>\n",
       "    </tr>\n",
       "    <tr>\n",
       "      <th>46</th>\n",
       "      <td>80</td>\n",
       "      <td>Bonus Eventus</td>\n",
       "      <td>standing</td>\n",
       "      <td>rdf:nil</td>\n",
       "    </tr>\n",
       "    <tr>\n",
       "      <th>47</th>\n",
       "      <td>80</td>\n",
       "      <td>Bonus Eventus</td>\n",
       "      <td>holding</td>\n",
       "      <td>rdf:nil</td>\n",
       "    </tr>\n",
       "    <tr>\n",
       "      <th>48</th>\n",
       "      <td>82</td>\n",
       "      <td>Apollo</td>\n",
       "      <td>standing</td>\n",
       "      <td>rdf:nil</td>\n",
       "    </tr>\n",
       "    <tr>\n",
       "      <th>49</th>\n",
       "      <td>82</td>\n",
       "      <td>Apollo</td>\n",
       "      <td>holding</td>\n",
       "      <td>rdf:nil</td>\n",
       "    </tr>\n",
       "  </tbody>\n",
       "</table>\n",
       "</div>"
      ],
      "text/plain": [
       "   DesignID          Person    Relation   Object\n",
       "0        10       Anchialos     wearing  rdf:nil\n",
       "1        24  Antoninus Pius     wearing  rdf:nil\n",
       "2        27  Antoninus Pius     wearing  rdf:nil\n",
       "3        28  Antoninus Pius     wearing  rdf:nil\n",
       "4        33       Aphrodite    standing  rdf:nil\n",
       "5        33       Aphrodite     holding  rdf:nil\n",
       "6        36       Aphrodite    standing  rdf:nil\n",
       "7        38          Apollo   advancing  rdf:nil\n",
       "8        38          Apollo     holding  rdf:nil\n",
       "9        38          Apollo     holding  rdf:nil\n",
       "10       39          Apollo   advancing  rdf:nil\n",
       "11       39          Apollo     wearing  rdf:nil\n",
       "12       58          Apollo   seated_on  rdf:nil\n",
       "13       58          Apollo     holding  rdf:nil\n",
       "14       59          Apollo   seated_on  rdf:nil\n",
       "15       59          Apollo     holding  rdf:nil\n",
       "16       60          Apollo     holding  rdf:nil\n",
       "17       61          Apollo   seated_on  rdf:nil\n",
       "18       65          Apollo    standing  rdf:nil\n",
       "19       65          Apollo     holding  rdf:nil\n",
       "20       66          Apollo    standing  rdf:nil\n",
       "21       66          Apollo  resting_on  rdf:nil\n",
       "22       66          Apollo  resting_on  rdf:nil\n",
       "23       67          Apollo    standing  rdf:nil\n",
       "24       67          Apollo     holding  rdf:nil\n",
       "25       67          Apollo     holding  rdf:nil\n",
       "26       67         Artemis    standing  rdf:nil\n",
       "27       67         Artemis     holding  rdf:nil\n",
       "28       67         Artemis     holding  rdf:nil\n",
       "29       67         Artemis     holding  rdf:nil\n",
       "30       67         Artemis     holding  rdf:nil\n",
       "31       67          Apollo    standing  rdf:nil\n",
       "32       67          Apollo     holding  rdf:nil\n",
       "33       67          Apollo     holding  rdf:nil\n",
       "34       69          Apollo    standing  rdf:nil\n",
       "35       69          Apollo     wearing  rdf:nil\n",
       "36       69          Apollo     holding  rdf:nil\n",
       "37       76          Apollo    standing  rdf:nil\n",
       "38       76          Apollo     holding  rdf:nil\n",
       "39       77          Apollo    standing  rdf:nil\n",
       "40       77          Apollo     wearing  rdf:nil\n",
       "41       77          Apollo     holding  rdf:nil\n",
       "42       79          Apollo    standing  rdf:nil\n",
       "43       79          Apollo     holding  rdf:nil\n",
       "44       80          Apollo    standing  rdf:nil\n",
       "45       80          Apollo     holding  rdf:nil\n",
       "46       80   Bonus Eventus    standing  rdf:nil\n",
       "47       80   Bonus Eventus     holding  rdf:nil\n",
       "48       82          Apollo    standing  rdf:nil\n",
       "49       82          Apollo     holding  rdf:nil"
      ]
     },
     "execution_count": 30,
     "metadata": {},
     "output_type": "execute_result"
    }
   ],
   "source": [
    "cnt_pipeline_output.head(50)"
   ]
  }
 ],
 "metadata": {
  "kernelspec": {
   "display_name": "Python 3 (ipykernel)",
   "language": "python",
   "name": "python3"
  },
  "language_info": {
   "codemirror_mode": {
    "name": "ipython",
    "version": 3
   },
   "file_extension": ".py",
   "mimetype": "text/x-python",
   "name": "python",
   "nbconvert_exporter": "python",
   "pygments_lexer": "ipython3",
   "version": "3.8.13"
  }
 },
 "nbformat": 4,
 "nbformat_minor": 4
}
