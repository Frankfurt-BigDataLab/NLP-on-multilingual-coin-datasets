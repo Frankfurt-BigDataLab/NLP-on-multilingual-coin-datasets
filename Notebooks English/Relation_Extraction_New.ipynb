{
 "cells": [
  {
   "cell_type": "code",
   "execution_count": 1,
   "id": "79902a4a",
   "metadata": {},
   "outputs": [
    {
     "name": "stderr",
     "output_type": "stream",
     "text": [
      "/home/bigdatalab/anaconda3/envs/nlp/lib/python3.8/site-packages/tqdm/auto.py:22: TqdmWarning: IProgress not found. Please update jupyter and ipywidgets. See https://ipywidgets.readthedocs.io/en/stable/user_install.html\n",
      "  from .autonotebook import tqdm as notebook_tqdm\n"
     ]
    }
   ],
   "source": [
    "import sys\n",
    "sys.path.append('../')\n",
    "import pandas as pd\n",
    "import random\n",
    "import os\n",
    "import numpy as np\n",
    "import swifter\n",
    "\n",
    "from cnt.model import (DesignEstimator, RelationExtractor, save_pipeline, load_pipeline, predict_re_single_sentence, \n",
    "relations_from_adjectives_df, relations_from_adjectives_single, concat_relations)\n",
    "from cnt.annotate import (annotate, annotate_single_design, \n",
    "                          annotate_designs, \n",
    "                          extract_string_from_annotation, labeling_eng)\n",
    "from cnt.extract_relation import (path, NERTransformer, FeatureExtractor)\n",
    "from cnt.evaluate import Metrics\n",
    "from cnt.vectorize import (Doc2Str, Path2Str, Verbs2Str, AveragedPath2Vec, \n",
    "                           AveragedRest2Vec)\n",
    "from cnt.io import (replace_left_right)\n",
    "from cnt.io import  Database_Connection\n",
    "from cnt.preprocess import Preprocess\n",
    "\n",
    "\n",
    "from sklearn.model_selection import train_test_split\n",
    "from sklearn.pipeline import Pipeline, make_pipeline, make_union\n",
    "from sklearn.feature_extraction.text import TfidfVectorizer, CountVectorizer\n",
    "from sklearn.svm import SVC\n",
    "from sklearn.linear_model import LogisticRegression\n",
    "from sklearn.ensemble import RandomForestClassifier\n",
    "from sklearn.preprocessing import Normalizer\n",
    "from sklearn.naive_bayes import MultinomialNB\n",
    "from itertools import product\n",
    "import warnings\n",
    "warnings.filterwarnings('ignore')"
   ]
  },
  {
   "cell_type": "code",
   "execution_count": 2,
   "id": "66efbfe1",
   "metadata": {},
   "outputs": [],
   "source": [
    "# Database access in text file: \"mysql+mysqlconnector://root:YourConnection\" -> Format user:password@IP/Database\n",
    "f = open(\"/home/bigdatalab/Projects/D4N4/NLP_release_1.0/db_access.txt\", \"r\")\n",
    "access = f.read()\n",
    "dc =  Database_Connection(access)"
   ]
  },
  {
   "cell_type": "code",
   "execution_count": 3,
   "id": "57a2dec1",
   "metadata": {},
   "outputs": [],
   "source": [
    "# Define all variables\n",
    "id_col = \"id\" \n",
    "design_col = \"design_en\"\n",
    "language = \"_en\"\n",
    "add_columns = [\"id\", \"name\"+language, \"alternativenames\"+language, \"class\"]\n",
    "id_col_RE = \"design_id\"\n",
    "design_col_RE = \"design_en\"\n",
    "ner_model_directory = \"../cnt/trained_model/ner/english_new/\" # for loading NER\n",
    "ner_model_name = \"english_cno\"\n",
    "re_model_directory = \"../cnt/trained_model/re/\"  # to save/load RE\n",
    "re_model_name = \"english_cno_new\"\n"
   ]
  },
  {
   "cell_type": "code",
   "execution_count": 4,
   "id": "e6e3713e",
   "metadata": {},
   "outputs": [],
   "source": [
    "# optional - if already defined above\n",
    "id_col = \"id\"\n",
    "design_col = \"design_en\"\n",
    "language = \"_en\"\n",
    "add_columns = [\"id\", \"name\"+language, \"alternativenames\"+language, \"class\"]"
   ]
  },
  {
   "cell_type": "code",
   "execution_count": 5,
   "id": "0486234e",
   "metadata": {},
   "outputs": [],
   "source": [
    "# Get the annotated designs (ground truth) from the database\n",
    "# ... under investigation\n",
    "train = dc.create_own_query(\"\"\"select design_id, \n",
    "(select design_en from nlp_training_designs as nlp where re.design_id=nlp.id) as design_en,\n",
    "(select name_en from nlp_list_entities as ner where ner.id=re.subject) as s, \n",
    "(select class from nlp_list_entities as ner where ner.id=re.subject) as subject_class, \n",
    "(select name_en from nlp_list_entities as ner where ner.id=re.predicate) as p, \n",
    "(select name_en from nlp_list_entities as ner where ner.id=re.object) as o, \n",
    "(select class from nlp_list_entities as ner where ner.id=re.object) as object_class\n",
    "from nlp_relation_extraction_en_v2 as re;\"\"\")"
   ]
  },
  {
   "cell_type": "code",
   "execution_count": 6,
   "id": "02356cf2",
   "metadata": {},
   "outputs": [
    {
     "data": {
      "text/html": [
       "<div>\n",
       "<style scoped>\n",
       "    .dataframe tbody tr th:only-of-type {\n",
       "        vertical-align: middle;\n",
       "    }\n",
       "\n",
       "    .dataframe tbody tr th {\n",
       "        vertical-align: top;\n",
       "    }\n",
       "\n",
       "    .dataframe thead th {\n",
       "        text-align: right;\n",
       "    }\n",
       "</style>\n",
       "<table border=\"1\" class=\"dataframe\">\n",
       "  <thead>\n",
       "    <tr style=\"text-align: right;\">\n",
       "      <th></th>\n",
       "      <th>design_id</th>\n",
       "      <th>design_en</th>\n",
       "      <th>s</th>\n",
       "      <th>subject_class</th>\n",
       "      <th>p</th>\n",
       "      <th>o</th>\n",
       "      <th>object_class</th>\n",
       "    </tr>\n",
       "  </thead>\n",
       "  <tbody>\n",
       "    <tr>\n",
       "      <th>0</th>\n",
       "      <td>6652</td>\n",
       "      <td>Aequitas standing left, wearing chiton and him...</td>\n",
       "      <td>Aequitas</td>\n",
       "      <td>PERSON</td>\n",
       "      <td>wearing</td>\n",
       "      <td>chiton</td>\n",
       "      <td>OBJECT</td>\n",
       "    </tr>\n",
       "    <tr>\n",
       "      <th>1</th>\n",
       "      <td>6652</td>\n",
       "      <td>Aequitas standing left, wearing chiton and him...</td>\n",
       "      <td>Aequitas</td>\n",
       "      <td>PERSON</td>\n",
       "      <td>wearing</td>\n",
       "      <td>himation</td>\n",
       "      <td>OBJECT</td>\n",
       "    </tr>\n",
       "    <tr>\n",
       "      <th>2</th>\n",
       "      <td>6652</td>\n",
       "      <td>Aequitas standing left, wearing chiton and him...</td>\n",
       "      <td>Aequitas</td>\n",
       "      <td>PERSON</td>\n",
       "      <td>holding</td>\n",
       "      <td>scales</td>\n",
       "      <td>OBJECT</td>\n",
       "    </tr>\n",
       "    <tr>\n",
       "      <th>3</th>\n",
       "      <td>6652</td>\n",
       "      <td>Aequitas standing left, wearing chiton and him...</td>\n",
       "      <td>Aequitas</td>\n",
       "      <td>PERSON</td>\n",
       "      <td>holding</td>\n",
       "      <td>cornucopia</td>\n",
       "      <td>OBJECT</td>\n",
       "    </tr>\n",
       "    <tr>\n",
       "      <th>4</th>\n",
       "      <td>9</td>\n",
       "      <td>Amphora with ribbed surface and crooked handle...</td>\n",
       "      <td>amphora</td>\n",
       "      <td>OBJECT</td>\n",
       "      <td>holding</td>\n",
       "      <td>poppy</td>\n",
       "      <td>PLANT</td>\n",
       "    </tr>\n",
       "  </tbody>\n",
       "</table>\n",
       "</div>"
      ],
      "text/plain": [
       "   design_id                                          design_en         s  \\\n",
       "0       6652  Aequitas standing left, wearing chiton and him...  Aequitas   \n",
       "1       6652  Aequitas standing left, wearing chiton and him...  Aequitas   \n",
       "2       6652  Aequitas standing left, wearing chiton and him...  Aequitas   \n",
       "3       6652  Aequitas standing left, wearing chiton and him...  Aequitas   \n",
       "4          9  Amphora with ribbed surface and crooked handle...   amphora   \n",
       "\n",
       "  subject_class        p           o object_class  \n",
       "0        PERSON  wearing      chiton       OBJECT  \n",
       "1        PERSON  wearing    himation       OBJECT  \n",
       "2        PERSON  holding      scales       OBJECT  \n",
       "3        PERSON  holding  cornucopia       OBJECT  \n",
       "4        OBJECT  holding       poppy        PLANT  "
      ]
     },
     "execution_count": 6,
     "metadata": {},
     "output_type": "execute_result"
    }
   ],
   "source": [
    "train.head(5)"
   ]
  },
  {
   "cell_type": "code",
   "execution_count": 7,
   "id": "9ddfe178",
   "metadata": {},
   "outputs": [
    {
     "data": {
      "text/plain": [
       "(2390, 7)"
      ]
     },
     "execution_count": 7,
     "metadata": {},
     "output_type": "execute_result"
    }
   ],
   "source": [
    "train.shape"
   ]
  },
  {
   "cell_type": "code",
   "execution_count": 8,
   "id": "62c0b43f",
   "metadata": {},
   "outputs": [],
   "source": [
    "# merging s, p, o to one triple into an array of length 1 for each entry - number of rows stay the same\n",
    "train[\"y\"] = train.apply(lambda row: [(row.s, row.subject_class, row.p, row.o, row.object_class)], axis=1)"
   ]
  },
  {
   "cell_type": "code",
   "execution_count": 9,
   "id": "9b22523a",
   "metadata": {},
   "outputs": [
    {
     "data": {
      "text/html": [
       "<style type=\"text/css\">\n",
       "</style>\n",
       "<table id=\"T_4dd2a\">\n",
       "  <thead>\n",
       "    <tr>\n",
       "      <th class=\"blank level0\" >&nbsp;</th>\n",
       "      <th id=\"T_4dd2a_level0_col0\" class=\"col_heading level0 col0\" >design_id</th>\n",
       "      <th id=\"T_4dd2a_level0_col1\" class=\"col_heading level0 col1\" >design_en</th>\n",
       "      <th id=\"T_4dd2a_level0_col2\" class=\"col_heading level0 col2\" >s</th>\n",
       "      <th id=\"T_4dd2a_level0_col3\" class=\"col_heading level0 col3\" >subject_class</th>\n",
       "      <th id=\"T_4dd2a_level0_col4\" class=\"col_heading level0 col4\" >p</th>\n",
       "      <th id=\"T_4dd2a_level0_col5\" class=\"col_heading level0 col5\" >o</th>\n",
       "      <th id=\"T_4dd2a_level0_col6\" class=\"col_heading level0 col6\" >object_class</th>\n",
       "      <th id=\"T_4dd2a_level0_col7\" class=\"col_heading level0 col7\" >y</th>\n",
       "    </tr>\n",
       "  </thead>\n",
       "  <tbody>\n",
       "    <tr>\n",
       "      <th id=\"T_4dd2a_level0_row0\" class=\"row_heading level0 row0\" >0</th>\n",
       "      <td id=\"T_4dd2a_row0_col0\" class=\"data row0 col0\" >6652</td>\n",
       "      <td id=\"T_4dd2a_row0_col1\" class=\"data row0 col1\" >Aequitas standing left, wearing chiton and himation, holding scales and cornucopia.</td>\n",
       "      <td id=\"T_4dd2a_row0_col2\" class=\"data row0 col2\" >Aequitas</td>\n",
       "      <td id=\"T_4dd2a_row0_col3\" class=\"data row0 col3\" >PERSON</td>\n",
       "      <td id=\"T_4dd2a_row0_col4\" class=\"data row0 col4\" >wearing</td>\n",
       "      <td id=\"T_4dd2a_row0_col5\" class=\"data row0 col5\" >chiton</td>\n",
       "      <td id=\"T_4dd2a_row0_col6\" class=\"data row0 col6\" >OBJECT</td>\n",
       "      <td id=\"T_4dd2a_row0_col7\" class=\"data row0 col7\" >[('Aequitas', 'PERSON', 'wearing', 'chiton', 'OBJECT')]</td>\n",
       "    </tr>\n",
       "    <tr>\n",
       "      <th id=\"T_4dd2a_level0_row1\" class=\"row_heading level0 row1\" >1</th>\n",
       "      <td id=\"T_4dd2a_row1_col0\" class=\"data row1 col0\" >6652</td>\n",
       "      <td id=\"T_4dd2a_row1_col1\" class=\"data row1 col1\" >Aequitas standing left, wearing chiton and himation, holding scales and cornucopia.</td>\n",
       "      <td id=\"T_4dd2a_row1_col2\" class=\"data row1 col2\" >Aequitas</td>\n",
       "      <td id=\"T_4dd2a_row1_col3\" class=\"data row1 col3\" >PERSON</td>\n",
       "      <td id=\"T_4dd2a_row1_col4\" class=\"data row1 col4\" >wearing</td>\n",
       "      <td id=\"T_4dd2a_row1_col5\" class=\"data row1 col5\" >himation</td>\n",
       "      <td id=\"T_4dd2a_row1_col6\" class=\"data row1 col6\" >OBJECT</td>\n",
       "      <td id=\"T_4dd2a_row1_col7\" class=\"data row1 col7\" >[('Aequitas', 'PERSON', 'wearing', 'himation', 'OBJECT')]</td>\n",
       "    </tr>\n",
       "  </tbody>\n",
       "</table>\n"
      ],
      "text/plain": [
       "<pandas.io.formats.style.Styler at 0x7ff3dc05ca00>"
      ]
     },
     "execution_count": 9,
     "metadata": {},
     "output_type": "execute_result"
    }
   ],
   "source": [
    "train.head(2).style"
   ]
  },
  {
   "cell_type": "code",
   "execution_count": 10,
   "id": "cb70e5a7",
   "metadata": {},
   "outputs": [],
   "source": [
    "# needed for the later merge\n",
    "tmp = train.groupby(\"design_id\").agg({\"y\": \"sum\"})"
   ]
  },
  {
   "cell_type": "code",
   "execution_count": 11,
   "id": "3b36a6c4",
   "metadata": {},
   "outputs": [
    {
     "data": {
      "text/html": [
       "<style type=\"text/css\">\n",
       "</style>\n",
       "<table id=\"T_271c6\">\n",
       "  <thead>\n",
       "    <tr>\n",
       "      <th class=\"blank level0\" >&nbsp;</th>\n",
       "      <th id=\"T_271c6_level0_col0\" class=\"col_heading level0 col0\" >y</th>\n",
       "    </tr>\n",
       "    <tr>\n",
       "      <th class=\"index_name level0\" >design_id</th>\n",
       "      <th class=\"blank col0\" >&nbsp;</th>\n",
       "    </tr>\n",
       "  </thead>\n",
       "  <tbody>\n",
       "  </tbody>\n",
       "</table>\n"
      ],
      "text/plain": [
       "<pandas.io.formats.style.Styler at 0x7ff3daf1dbe0>"
      ]
     },
     "execution_count": 11,
     "metadata": {},
     "output_type": "execute_result"
    }
   ],
   "source": [
    "tmp.loc[tmp.index==1].style"
   ]
  },
  {
   "cell_type": "code",
   "execution_count": 12,
   "id": "3e690438",
   "metadata": {},
   "outputs": [],
   "source": [
    "X = train"
   ]
  },
  {
   "cell_type": "code",
   "execution_count": 13,
   "id": "b0737c9f",
   "metadata": {},
   "outputs": [],
   "source": [
    "# entries for one design are merged --> arrays contain all triples for each design\n",
    "X = X.merge(tmp, left_on=\"design_id\", right_on=\"design_id\", suffixes=('', 'y'))"
   ]
  },
  {
   "cell_type": "code",
   "execution_count": 14,
   "id": "af20e38e",
   "metadata": {},
   "outputs": [],
   "source": [
    "X = X[[\"design_id\", \"design_en\", \"yy\"]].rename(columns={\"yy\":\"y\"})"
   ]
  },
  {
   "cell_type": "code",
   "execution_count": 16,
   "id": "cf351015",
   "metadata": {},
   "outputs": [
    {
     "data": {
      "text/html": [
       "<style type=\"text/css\">\n",
       "</style>\n",
       "<table id=\"T_b7566\">\n",
       "  <thead>\n",
       "    <tr>\n",
       "      <th class=\"blank level0\" >&nbsp;</th>\n",
       "      <th id=\"T_b7566_level0_col0\" class=\"col_heading level0 col0\" >design_id</th>\n",
       "      <th id=\"T_b7566_level0_col1\" class=\"col_heading level0 col1\" >design_en</th>\n",
       "      <th id=\"T_b7566_level0_col2\" class=\"col_heading level0 col2\" >y</th>\n",
       "    </tr>\n",
       "  </thead>\n",
       "  <tbody>\n",
       "    <tr>\n",
       "      <th id=\"T_b7566_level0_row0\" class=\"row_heading level0 row0\" >0</th>\n",
       "      <td id=\"T_b7566_row0_col0\" class=\"data row0 col0\" >6652</td>\n",
       "      <td id=\"T_b7566_row0_col1\" class=\"data row0 col1\" >Aequitas standing left, wearing chiton and himation, holding scales and cornucopia.</td>\n",
       "      <td id=\"T_b7566_row0_col2\" class=\"data row0 col2\" >[('Aequitas', 'PERSON', 'wearing', 'chiton', 'OBJECT'), ('Aequitas', 'PERSON', 'wearing', 'himation', 'OBJECT'), ('Aequitas', 'PERSON', 'holding', 'scales', 'OBJECT'), ('Aequitas', 'PERSON', 'holding', 'cornucopia', 'OBJECT')]</td>\n",
       "    </tr>\n",
       "    <tr>\n",
       "      <th id=\"T_b7566_level0_row1\" class=\"row_heading level0 row1\" >1</th>\n",
       "      <td id=\"T_b7566_row1_col0\" class=\"data row1 col0\" >6652</td>\n",
       "      <td id=\"T_b7566_row1_col1\" class=\"data row1 col1\" >Aequitas standing left, wearing chiton and himation, holding scales and cornucopia.</td>\n",
       "      <td id=\"T_b7566_row1_col2\" class=\"data row1 col2\" >[('Aequitas', 'PERSON', 'wearing', 'chiton', 'OBJECT'), ('Aequitas', 'PERSON', 'wearing', 'himation', 'OBJECT'), ('Aequitas', 'PERSON', 'holding', 'scales', 'OBJECT'), ('Aequitas', 'PERSON', 'holding', 'cornucopia', 'OBJECT')]</td>\n",
       "    </tr>\n",
       "    <tr>\n",
       "      <th id=\"T_b7566_level0_row2\" class=\"row_heading level0 row2\" >2</th>\n",
       "      <td id=\"T_b7566_row2_col0\" class=\"data row2 col0\" >6652</td>\n",
       "      <td id=\"T_b7566_row2_col1\" class=\"data row2 col1\" >Aequitas standing left, wearing chiton and himation, holding scales and cornucopia.</td>\n",
       "      <td id=\"T_b7566_row2_col2\" class=\"data row2 col2\" >[('Aequitas', 'PERSON', 'wearing', 'chiton', 'OBJECT'), ('Aequitas', 'PERSON', 'wearing', 'himation', 'OBJECT'), ('Aequitas', 'PERSON', 'holding', 'scales', 'OBJECT'), ('Aequitas', 'PERSON', 'holding', 'cornucopia', 'OBJECT')]</td>\n",
       "    </tr>\n",
       "    <tr>\n",
       "      <th id=\"T_b7566_level0_row3\" class=\"row_heading level0 row3\" >3</th>\n",
       "      <td id=\"T_b7566_row3_col0\" class=\"data row3 col0\" >6652</td>\n",
       "      <td id=\"T_b7566_row3_col1\" class=\"data row3 col1\" >Aequitas standing left, wearing chiton and himation, holding scales and cornucopia.</td>\n",
       "      <td id=\"T_b7566_row3_col2\" class=\"data row3 col2\" >[('Aequitas', 'PERSON', 'wearing', 'chiton', 'OBJECT'), ('Aequitas', 'PERSON', 'wearing', 'himation', 'OBJECT'), ('Aequitas', 'PERSON', 'holding', 'scales', 'OBJECT'), ('Aequitas', 'PERSON', 'holding', 'cornucopia', 'OBJECT')]</td>\n",
       "    </tr>\n",
       "    <tr>\n",
       "      <th id=\"T_b7566_level0_row4\" class=\"row_heading level0 row4\" >4</th>\n",
       "      <td id=\"T_b7566_row4_col0\" class=\"data row4 col0\" >9</td>\n",
       "      <td id=\"T_b7566_row4_col1\" class=\"data row4 col1\" >Amphora with ribbed surface and crooked handles containing two ears of corn and poppy.</td>\n",
       "      <td id=\"T_b7566_row4_col2\" class=\"data row4 col2\" >[('amphora', 'OBJECT', 'holding', 'poppy', 'PLANT'), ('amphora', 'OBJECT', 'holding', 'corn', 'PLANT')]</td>\n",
       "    </tr>\n",
       "  </tbody>\n",
       "</table>\n"
      ],
      "text/plain": [
       "<pandas.io.formats.style.Styler at 0x7ff3da9a0760>"
      ]
     },
     "execution_count": 16,
     "metadata": {},
     "output_type": "execute_result"
    }
   ],
   "source": [
    "X.head(5).style"
   ]
  },
  {
   "cell_type": "code",
   "execution_count": 17,
   "id": "16b3b8a9",
   "metadata": {},
   "outputs": [],
   "source": [
    "# duplicate entries for designs are removed (after merge the information is kept in a single row for each design)\n",
    "X = X.drop_duplicates(['design_id'],keep=\"first\")"
   ]
  },
  {
   "cell_type": "code",
   "execution_count": 18,
   "id": "4a620053",
   "metadata": {},
   "outputs": [],
   "source": [
    "# for preprocessing (preprocessing changes the original design text)\n",
    "X[\"design_en_changed\"] = \"\""
   ]
  },
  {
   "cell_type": "code",
   "execution_count": 19,
   "id": "9c8a3e23",
   "metadata": {},
   "outputs": [
    {
     "data": {
      "text/plain": [
       "(1250, 4)"
      ]
     },
     "execution_count": 19,
     "metadata": {},
     "output_type": "execute_result"
    }
   ],
   "source": [
    "X.shape"
   ]
  },
  {
   "cell_type": "code",
   "execution_count": 20,
   "id": "4cff84bc",
   "metadata": {},
   "outputs": [],
   "source": [
    "df_entities = dc.load_from_db(\"nlp_list_entities\", add_columns)"
   ]
  },
  {
   "cell_type": "code",
   "execution_count": 21,
   "id": "25b13efe",
   "metadata": {},
   "outputs": [
    {
     "data": {
      "text/html": [
       "<div>\n",
       "<style scoped>\n",
       "    .dataframe tbody tr th:only-of-type {\n",
       "        vertical-align: middle;\n",
       "    }\n",
       "\n",
       "    .dataframe tbody tr th {\n",
       "        vertical-align: top;\n",
       "    }\n",
       "\n",
       "    .dataframe thead th {\n",
       "        text-align: right;\n",
       "    }\n",
       "</style>\n",
       "<table border=\"1\" class=\"dataframe\">\n",
       "  <thead>\n",
       "    <tr style=\"text-align: right;\">\n",
       "      <th></th>\n",
       "      <th>id</th>\n",
       "      <th>name_en</th>\n",
       "      <th>alternativenames_en</th>\n",
       "      <th>class</th>\n",
       "    </tr>\n",
       "  </thead>\n",
       "  <tbody>\n",
       "    <tr>\n",
       "      <th>0</th>\n",
       "      <td>1</td>\n",
       "      <td>Abundantia</td>\n",
       "      <td>None</td>\n",
       "      <td>PERSON</td>\n",
       "    </tr>\n",
       "    <tr>\n",
       "      <th>1</th>\n",
       "      <td>2</td>\n",
       "      <td>Actaeon</td>\n",
       "      <td>None</td>\n",
       "      <td>PERSON</td>\n",
       "    </tr>\n",
       "    <tr>\n",
       "      <th>2</th>\n",
       "      <td>3</td>\n",
       "      <td>Aemilian</td>\n",
       "      <td>None</td>\n",
       "      <td>PERSON</td>\n",
       "    </tr>\n",
       "    <tr>\n",
       "      <th>3</th>\n",
       "      <td>4</td>\n",
       "      <td>Aeneas</td>\n",
       "      <td>None</td>\n",
       "      <td>PERSON</td>\n",
       "    </tr>\n",
       "    <tr>\n",
       "      <th>4</th>\n",
       "      <td>5</td>\n",
       "      <td>Aequitas</td>\n",
       "      <td>Equitas</td>\n",
       "      <td>PERSON</td>\n",
       "    </tr>\n",
       "  </tbody>\n",
       "</table>\n",
       "</div>"
      ],
      "text/plain": [
       "   id     name_en alternativenames_en   class\n",
       "0   1  Abundantia                None  PERSON\n",
       "1   2     Actaeon                None  PERSON\n",
       "2   3    Aemilian                None  PERSON\n",
       "3   4      Aeneas                None  PERSON\n",
       "4   5    Aequitas             Equitas  PERSON"
      ]
     },
     "execution_count": 21,
     "metadata": {},
     "output_type": "execute_result"
    }
   ],
   "source": [
    "df_entities.head()"
   ]
  },
  {
   "cell_type": "code",
   "execution_count": 22,
   "id": "193b27a3",
   "metadata": {},
   "outputs": [],
   "source": [
    "# Add rules for preprocessing\n",
    "preprocess = Preprocess()\n",
    "preprocess.add_rule(\"horseman\", \"horse man\")\n",
    "preprocess.add_rule(\"horsemen\", \"horse men\")\n",
    "\n",
    "for index, row in df_entities.iterrows():\n",
    "    if row[\"alternativenames_en\"] is not None:\n",
    "        if row[\"class\"] != \"VERB\":\n",
    "            standard_name = row[\"name_en\"]\n",
    "            alt_names = row[\"alternativenames_en\"].split(\", \")\n",
    "            for alt_name in alt_names:\n",
    "                preprocess.add_rule(alt_name, standard_name)"
   ]
  },
  {
   "cell_type": "markdown",
   "id": "0f371497",
   "metadata": {},
   "source": [
    "#### Bei römischen Zahlen scheint es noch kleine Probleme zu geben, daher nochmal extra manuell"
   ]
  },
  {
   "cell_type": "code",
   "execution_count": 23,
   "id": "906b7c5b",
   "metadata": {},
   "outputs": [],
   "source": [
    "for rule in list(preprocess.rules):\n",
    "    if \" I.\" in rule or \" II.\" in rule or \" III.\" in rule or \" IV.\" in rule or \" V.\" in rule:\n",
    "        del preprocess.rules[rule]"
   ]
  },
  {
   "cell_type": "code",
   "execution_count": 24,
   "id": "706cb40c",
   "metadata": {},
   "outputs": [],
   "source": [
    "for index, row in X.iterrows():\n",
    "    if \" I.\" in row[\"design_en\"]:\n",
    "        X.at[index, \"design_en\"] = row[\"design_en\"].replace(\" I.\", \" I\")\n",
    "    if \" II.\" in row[\"design_en\"]:\n",
    "        X.at[index, \"design_en\"] = row[\"design_en\"].replace(\" II.\", \" II\")\n",
    "    if \" III.\" in row[\"design_en\"]:\n",
    "        X.at[index, \"design_en\"] = row[\"design_en\"].replace(\" III.\", \" III\")\n",
    "    if \" IV.\" in row[\"design_en\"]:\n",
    "        X.at[index, \"design_en\"] = row[\"design_en\"].replace(\" IV.\", \" IV\")\n",
    "    if \" V.\" in row[\"design_en\"]:\n",
    "        X.at[index, \"design_en\"] = row[\"design_en\"].replace(\" V.\", \" V\")"
   ]
  },
  {
   "cell_type": "code",
   "execution_count": 25,
   "id": "15d59353",
   "metadata": {},
   "outputs": [],
   "source": [
    "# Deleting brackets and questionmarks\n",
    "\n",
    "for index, row in X.iterrows():\n",
    "    if \"?\" in row[\"design_en\"]:\n",
    "        X.at[index, \"design_en\"] = row[\"design_en\"].replace(\"?\", \"\")\n",
    "    if \"(\" in row[\"design_en\"]:\n",
    "        X.at[index, \"design_en\"] = row[\"design_en\"].replace(\"(\", \"\")\n",
    "    if \")\" in row[\"design_en\"]:\n",
    "        X.at[index, \"design_en\"] = row[\"design_en\"].replace(\")\", \"\")"
   ]
  },
  {
   "cell_type": "code",
   "execution_count": 26,
   "id": "c7a97f27",
   "metadata": {},
   "outputs": [
    {
     "data": {
      "text/plain": [
       "'Alexander the Great. holding bow.'"
      ]
     },
     "execution_count": 26,
     "metadata": {},
     "output_type": "execute_result"
    }
   ],
   "source": [
    "test = preprocess.preprocess_design(\"Alexander III. holding bow.\", 1)[0]\n",
    "test"
   ]
  },
  {
   "cell_type": "markdown",
   "id": "7c91054f",
   "metadata": {},
   "source": [
    "## Apply Preprocessing"
   ]
  },
  {
   "cell_type": "code",
   "execution_count": 34,
   "id": "d50cebb9",
   "metadata": {},
   "outputs": [
    {
     "name": "stderr",
     "output_type": "stream",
     "text": [
      "Pandas Apply: 100%|█████████████████████████| 1250/1250 [00:24<00:00, 51.94it/s]\n"
     ]
    }
   ],
   "source": [
    "# Apply defined rules\n",
    "X[\"design_en_changed\"] = X.swifter.apply(lambda row: preprocess.preprocess_design(row.design_en, row.design_id)[0], axis=1)"
   ]
  },
  {
   "cell_type": "code",
   "execution_count": 35,
   "id": "9a0bd975",
   "metadata": {},
   "outputs": [
    {
     "name": "stderr",
     "output_type": "stream",
     "text": [
      "Pandas Apply: 100%|█████████████████████| 1250/1250 [00:00<00:00, 194692.71it/s]\n"
     ]
    }
   ],
   "source": [
    "# Deleting brackets and questionmarks\n",
    "X[\"design_en_changed\"] = X.swifter.apply(lambda row: row[\"design_en_changed\"].replace(\"?\", \"\").replace(\"(\", \"\").replace(\")\", \"\"), axis=1)"
   ]
  },
  {
   "cell_type": "code",
   "execution_count": 36,
   "id": "ca435a82",
   "metadata": {},
   "outputs": [],
   "source": [
    "X.rename(columns={\"design_en\":\"design_en_orig\", \"design_en_changed\":\"design_en\", \"y\":\"annotations_orig\"}, inplace=True)"
   ]
  },
  {
   "cell_type": "code",
   "execution_count": 37,
   "id": "50c724de",
   "metadata": {},
   "outputs": [
    {
     "name": "stderr",
     "output_type": "stream",
     "text": [
      "Pandas Apply: 100%|█████████████████████| 1250/1250 [00:00<00:00, 109955.12it/s]\n"
     ]
    }
   ],
   "source": [
    "# Mapping GT - prepocessing rules are also applied to GT\n",
    "X[\"y\"] = X.swifter.apply(lambda row: preprocess.preprocess_re(row[\"annotations_orig\"], row.design_id), axis=1)"
   ]
  },
  {
   "cell_type": "markdown",
   "id": "9cc314ae",
   "metadata": {},
   "source": [
    "### Train the RE model"
   ]
  },
  {
   "cell_type": "code",
   "execution_count": 38,
   "id": "d9c5dd30",
   "metadata": {},
   "outputs": [],
   "source": [
    "# optional - if already defined above\n",
    "id_col_RE = \"design_id\"\n",
    "design_col_RE = \"design_en\""
   ]
  },
  {
   "cell_type": "code",
   "execution_count": 39,
   "id": "c220e6d2",
   "metadata": {
    "tags": []
   },
   "outputs": [],
   "source": [
    "classifier = LogisticRegression(max_iter=1000)\n",
    "#classifier = RandomForestClassifier()\n",
    "string_converter = Path2Str(pos=True) \n",
    "vectorizer = CountVectorizer(ngram_range=(1,3))\n",
    "feature = make_pipeline(string_converter, vectorizer)"
   ]
  },
  {
   "cell_type": "code",
   "execution_count": 41,
   "id": "f5f0ae22",
   "metadata": {
    "tags": []
   },
   "outputs": [],
   "source": [
    "X_train, X_test, y_train, y_test = train_test_split(X[[id_col_RE, design_col_RE]], X[[id_col_RE, \"y\"]], test_size=0.25, random_state=33)"
   ]
  },
  {
   "cell_type": "code",
   "execution_count": 75,
   "id": "7168e7d8",
   "metadata": {},
   "outputs": [
    {
     "data": {
      "text/html": [
       "<style type=\"text/css\">\n",
       "</style>\n",
       "<table id=\"T_4c66e\">\n",
       "  <thead>\n",
       "    <tr>\n",
       "      <th class=\"blank level0\" >&nbsp;</th>\n",
       "      <th id=\"T_4c66e_level0_col0\" class=\"col_heading level0 col0\" >design_id</th>\n",
       "      <th id=\"T_4c66e_level0_col1\" class=\"col_heading level0 col1\" >design_en_orig</th>\n",
       "      <th id=\"T_4c66e_level0_col2\" class=\"col_heading level0 col2\" >annotations_orig</th>\n",
       "      <th id=\"T_4c66e_level0_col3\" class=\"col_heading level0 col3\" >design_en</th>\n",
       "      <th id=\"T_4c66e_level0_col4\" class=\"col_heading level0 col4\" >y</th>\n",
       "      <th id=\"T_4c66e_level0_col5\" class=\"col_heading level0 col5\" >design_en_changed</th>\n",
       "    </tr>\n",
       "  </thead>\n",
       "  <tbody>\n",
       "    <tr>\n",
       "      <th id=\"T_4c66e_level0_row0\" class=\"row_heading level0 row0\" >0</th>\n",
       "      <td id=\"T_4c66e_row0_col0\" class=\"data row0 col0\" >6652</td>\n",
       "      <td id=\"T_4c66e_row0_col1\" class=\"data row0 col1\" >Aequitas standing left, wearing chiton and himation, holding scales and cornucopia.</td>\n",
       "      <td id=\"T_4c66e_row0_col2\" class=\"data row0 col2\" >[('Aequitas', 'PERSON', 'wearing', 'chiton', 'OBJECT'), ('Aequitas', 'PERSON', 'wearing', 'himation', 'OBJECT'), ('Aequitas', 'PERSON', 'holding', 'scales', 'OBJECT'), ('Aequitas', 'PERSON', 'holding', 'cornucopia', 'OBJECT')]</td>\n",
       "      <td id=\"T_4c66e_row0_col3\" class=\"data row0 col3\" >Aequitas standing left, wearing chiton and himation, holding scales and cornucopia.</td>\n",
       "      <td id=\"T_4c66e_row0_col4\" class=\"data row0 col4\" >[('Aequitas', 'PERSON', 'wearing', 'chiton', 'OBJECT'), ('Aequitas', 'PERSON', 'wearing', 'himation', 'OBJECT'), ('Aequitas', 'PERSON', 'holding', 'scales', 'OBJECT'), ('Aequitas', 'PERSON', 'holding', 'cornucopia', 'OBJECT')]</td>\n",
       "      <td id=\"T_4c66e_row0_col5\" class=\"data row0 col5\" ></td>\n",
       "    </tr>\n",
       "    <tr>\n",
       "      <th id=\"T_4c66e_level0_row1\" class=\"row_heading level0 row1\" >4</th>\n",
       "      <td id=\"T_4c66e_row1_col0\" class=\"data row1 col0\" >9</td>\n",
       "      <td id=\"T_4c66e_row1_col1\" class=\"data row1 col1\" >Amphora with ribbed surface and crooked handles containing two ears of corn and poppy.</td>\n",
       "      <td id=\"T_4c66e_row1_col2\" class=\"data row1 col2\" >[('amphora', 'OBJECT', 'holding', 'poppy', 'PLANT'), ('amphora', 'OBJECT', 'holding', 'corn', 'PLANT')]</td>\n",
       "      <td id=\"T_4c66e_row1_col3\" class=\"data row1 col3\" >Amphora with ribbed surface and crooked handle containing two corn and poppy.</td>\n",
       "      <td id=\"T_4c66e_row1_col4\" class=\"data row1 col4\" >[('amphora', 'OBJECT', 'holding', 'poppy', 'PLANT'), ('amphora', 'OBJECT', 'holding', 'corn', 'PLANT')]</td>\n",
       "      <td id=\"T_4c66e_row1_col5\" class=\"data row1 col5\" ></td>\n",
       "    </tr>\n",
       "    <tr>\n",
       "      <th id=\"T_4c66e_level0_row2\" class=\"row_heading level0 row2\" >6</th>\n",
       "      <td id=\"T_4c66e_row2_col0\" class=\"data row2 col0\" >1856</td>\n",
       "      <td id=\"T_4c66e_row2_col1\" class=\"data row2 col1\" >Anubis advancing right, holding palm branch with right hand over shoulder; in field to left monogram; to right emblem of two conjoined foreparts of prancing horses to right and left. Short ground line.</td>\n",
       "      <td id=\"T_4c66e_row2_col2\" class=\"data row2 col2\" >[('Anubis', 'PERSON', 'holding', 'palm branch', 'OBJECT')]</td>\n",
       "      <td id=\"T_4c66e_row2_col3\" class=\"data row2 col3\" >Anubis advancing right, holding branch with right hand over shoulder; in field to left monogram; to right emblem of two conjoined forepart of prancing horse to right and left. Short ground line.</td>\n",
       "      <td id=\"T_4c66e_row2_col4\" class=\"data row2 col4\" >[('Anubis', 'PERSON', 'holding', 'palm branch', 'OBJECT')]</td>\n",
       "      <td id=\"T_4c66e_row2_col5\" class=\"data row2 col5\" ></td>\n",
       "    </tr>\n",
       "    <tr>\n",
       "      <th id=\"T_4c66e_level0_row3\" class=\"row_heading level0 row3\" >7</th>\n",
       "      <td id=\"T_4c66e_row3_col0\" class=\"data row3 col0\" >1582</td>\n",
       "      <td id=\"T_4c66e_row3_col1\" class=\"data row3 col1\" >Aphrodite standing facing, head right, wearing double chiton and epiblema, holding a long sceptre in right and an apple in outstretched left hand. Border of dots.</td>\n",
       "      <td id=\"T_4c66e_row3_col2\" class=\"data row3 col2\" >[('Aphrodite', 'PERSON', 'wearing', 'chiton', 'OBJECT'), ('Aphrodite', 'PERSON', 'holding', 'scepter', 'OBJECT')]</td>\n",
       "      <td id=\"T_4c66e_row3_col3\" class=\"data row3 col3\" >Aphrodite standing facing, head right, wearing double chiton and epiblema, holding a long scepter in right and an apple in outstretched left hand. Border of dots.</td>\n",
       "      <td id=\"T_4c66e_row3_col4\" class=\"data row3 col4\" >[('Aphrodite', 'PERSON', 'wearing', 'chiton', 'OBJECT'), ('Aphrodite', 'PERSON', 'holding', 'scepter', 'OBJECT')]</td>\n",
       "      <td id=\"T_4c66e_row3_col5\" class=\"data row3 col5\" ></td>\n",
       "    </tr>\n",
       "    <tr>\n",
       "      <th id=\"T_4c66e_level0_row4\" class=\"row_heading level0 row4\" >9</th>\n",
       "      <td id=\"T_4c66e_row4_col0\" class=\"data row4 col0\" >24725</td>\n",
       "      <td id=\"T_4c66e_row4_col1\" class=\"data row4 col1\" >Apollo (Bonus Eventus standing facing, head left, holding patera in outstretched right hand over lighted altar and laurel branch in left hand.</td>\n",
       "      <td id=\"T_4c66e_row4_col2\" class=\"data row4 col2\" >[('Apollo', 'PERSON', 'holding', 'patera', 'OBJECT'), ('Apollo', 'PERSON', 'holding', 'laurel branch', 'OBJECT'), ('Bonus Eventus', 'PERSON', 'holding', 'patera', 'OBJECT'), ('Bonus Eventus', 'PERSON', 'holding', 'laurel branch', 'OBJECT')]</td>\n",
       "      <td id=\"T_4c66e_row4_col3\" class=\"data row4 col3\" >Apollo Bonus Eventus standing facing, head left, holding patera in outstretched right hand over lighted altar and laurel branch in left hand.</td>\n",
       "      <td id=\"T_4c66e_row4_col4\" class=\"data row4 col4\" >[('Apollo', 'PERSON', 'holding', 'patera', 'OBJECT'), ('Apollo', 'PERSON', 'holding', 'laurel branch', 'OBJECT'), ('Bonus Eventus', 'PERSON', 'holding', 'patera', 'OBJECT'), ('Bonus Eventus', 'PERSON', 'holding', 'laurel branch', 'OBJECT')]</td>\n",
       "      <td id=\"T_4c66e_row4_col5\" class=\"data row4 col5\" ></td>\n",
       "    </tr>\n",
       "    <tr>\n",
       "      <th id=\"T_4c66e_level0_row5\" class=\"row_heading level0 row5\" >13</th>\n",
       "      <td id=\"T_4c66e_row5_col0\" class=\"data row5 col0\" >6761</td>\n",
       "      <td id=\"T_4c66e_row5_col1\" class=\"data row5 col1\" >Apollo (Sauroktonos standing right, legs crossed, holding arrow in right hand; resting left arm tree stump with a lizard climbing up.</td>\n",
       "      <td id=\"T_4c66e_row5_col2\" class=\"data row5 col2\" >[('Apollo', 'PERSON', 'holding', 'arrow', 'OBJECT')]</td>\n",
       "      <td id=\"T_4c66e_row5_col3\" class=\"data row5 col3\" >Apollo Sauroktonos standing right, legs crossed, holding arrow in right hand; resting left arm tree stump with a lizard climbing up.</td>\n",
       "      <td id=\"T_4c66e_row5_col4\" class=\"data row5 col4\" >[('Apollo', 'PERSON', 'holding', 'arrow', 'OBJECT')]</td>\n",
       "      <td id=\"T_4c66e_row5_col5\" class=\"data row5 col5\" ></td>\n",
       "    </tr>\n",
       "    <tr>\n",
       "      <th id=\"T_4c66e_level0_row6\" class=\"row_heading level0 row6\" >14</th>\n",
       "      <td id=\"T_4c66e_row6_col0\" class=\"data row6 col0\" >24788</td>\n",
       "      <td id=\"T_4c66e_row6_col1\" class=\"data row6 col1\" >Apollo and Artemis facing each other and clasping hands; to left, Apollo standing right, seen from behind, holding laurel branch in lowered left hand; to right Artemis, standing left, wearing a short chiton and boots, holding a bow in left arm; lighted altar between them.</td>\n",
       "      <td id=\"T_4c66e_row6_col2\" class=\"data row6 col2\" >[('Apollo', 'PERSON', 'holding', 'laurel branch', 'OBJECT'), ('Artemis', 'PERSON', 'wearing', 'chiton', 'OBJECT'), ('Artemis', 'PERSON', 'wearing', 'boot', 'OBJECT'), ('Artemis', 'PERSON', 'holding', 'bow', 'OBJECT')]</td>\n",
       "      <td id=\"T_4c66e_row6_col3\" class=\"data row6 col3\" >Apollo and Artemis facing each other and clasping hand; to left, Apollo standing right, seen from behind, holding laurel branch in lowered left hand; to right Artemis, standing left, wearing a short chiton and boot, holding a bow in left arm; lighted altar between them.</td>\n",
       "      <td id=\"T_4c66e_row6_col4\" class=\"data row6 col4\" >[('Apollo', 'PERSON', 'holding', 'laurel branch', 'OBJECT'), ('Artemis', 'PERSON', 'wearing', 'chiton', 'OBJECT'), ('Artemis', 'PERSON', 'wearing', 'boot', 'OBJECT'), ('Artemis', 'PERSON', 'holding', 'bow', 'OBJECT')]</td>\n",
       "      <td id=\"T_4c66e_row6_col5\" class=\"data row6 col5\" ></td>\n",
       "    </tr>\n",
       "    <tr>\n",
       "      <th id=\"T_4c66e_level0_row7\" class=\"row_heading level0 row7\" >18</th>\n",
       "      <td id=\"T_4c66e_row7_col0\" class=\"data row7 col0\" >67</td>\n",
       "      <td id=\"T_4c66e_row7_col1\" class=\"data row7 col1\" >Apollo and Artemis in front of large conical torch; to left, Apollo standing right, seen from behind, holding spear in left arm and chlamys over left shoulder clasping right hands with Artemis, to right, standing left, wearing a short chiton and boots, holding a bow in left hand.</td>\n",
       "      <td id=\"T_4c66e_row7_col2\" class=\"data row7 col2\" >[('Apollo', 'PERSON', 'holding', 'spear', 'OBJECT'), ('Apollo', 'PERSON', 'holding', 'chlamys', 'OBJECT'), ('Apollo', 'PERSON', 'grasping', 'Artemis', 'PERSON'), ('Artemis', 'PERSON', 'wearing', 'chiton', 'OBJECT'), ('Artemis', 'PERSON', 'wearing', 'boot', 'OBJECT'), ('Artemis', 'PERSON', 'holding', 'bow', 'OBJECT')]</td>\n",
       "      <td id=\"T_4c66e_row7_col3\" class=\"data row7 col3\" >Apollo and Artemis in front of large conical torch; to left, Apollo standing right, seen from behind, holding spear in left arm and chlamys over left shoulder clasping right hand with Artemis, to right, standing left, wearing a short chiton and boot, holding a bow in left hand.</td>\n",
       "      <td id=\"T_4c66e_row7_col4\" class=\"data row7 col4\" >[('Apollo', 'PERSON', 'holding', 'spear', 'OBJECT'), ('Apollo', 'PERSON', 'holding', 'chlamys', 'OBJECT'), ('Apollo', 'PERSON', 'grasping', 'Artemis', 'PERSON'), ('Artemis', 'PERSON', 'wearing', 'chiton', 'OBJECT'), ('Artemis', 'PERSON', 'wearing', 'boot', 'OBJECT'), ('Artemis', 'PERSON', 'holding', 'bow', 'OBJECT')]</td>\n",
       "      <td id=\"T_4c66e_row7_col5\" class=\"data row7 col5\" ></td>\n",
       "    </tr>\n",
       "    <tr>\n",
       "      <th id=\"T_4c66e_level0_row8\" class=\"row_heading level0 row8\" >24</th>\n",
       "      <td id=\"T_4c66e_row8_col0\" class=\"data row8 col0\" >24787</td>\n",
       "      <td id=\"T_4c66e_row8_col1\" class=\"data row8 col1\" >Apollo and Artemis, seen from front each other, clasping right hands; to left, Apollo, right, holding laurel branch; to right, Artemis, left, holding bow; altar between them.</td>\n",
       "      <td id=\"T_4c66e_row8_col2\" class=\"data row8 col2\" >[('Apollo', 'PERSON', 'holding', 'laurel branch', 'OBJECT'), ('Artemis', 'PERSON', 'holding', 'bow', 'OBJECT')]</td>\n",
       "      <td id=\"T_4c66e_row8_col3\" class=\"data row8 col3\" >Apollo and Artemis, seen from front each other, clasping right hand; to left, Apollo, right, holding laurel branch; to right, Artemis, left, holding bow; altar between them.</td>\n",
       "      <td id=\"T_4c66e_row8_col4\" class=\"data row8 col4\" >[('Apollo', 'PERSON', 'holding', 'laurel branch', 'OBJECT'), ('Artemis', 'PERSON', 'holding', 'bow', 'OBJECT')]</td>\n",
       "      <td id=\"T_4c66e_row8_col5\" class=\"data row8 col5\" ></td>\n",
       "    </tr>\n",
       "    <tr>\n",
       "      <th id=\"T_4c66e_level0_row9\" class=\"row_heading level0 row9\" >26</th>\n",
       "      <td id=\"T_4c66e_row9_col0\" class=\"data row9 col0\" >24723</td>\n",
       "      <td id=\"T_4c66e_row9_col1\" class=\"data row9 col1\" >Apollo enthroned left, holding laurel branch in outstreched and lowered right hand and lyra set down behind him in left hand.</td>\n",
       "      <td id=\"T_4c66e_row9_col2\" class=\"data row9 col2\" >[('Apollo', 'PERSON', 'holding', 'laurel branch', 'OBJECT')]</td>\n",
       "      <td id=\"T_4c66e_row9_col3\" class=\"data row9 col3\" >Apollo throne left, holding laurel branch in outstreched and lowered right hand and lyra set down behind him in left hand.</td>\n",
       "      <td id=\"T_4c66e_row9_col4\" class=\"data row9 col4\" >[('Apollo', 'PERSON', 'holding', 'laurel branch', 'OBJECT')]</td>\n",
       "      <td id=\"T_4c66e_row9_col5\" class=\"data row9 col5\" ></td>\n",
       "    </tr>\n",
       "    <tr>\n",
       "      <th id=\"T_4c66e_level0_row10\" class=\"row_heading level0 row10\" >27</th>\n",
       "      <td id=\"T_4c66e_row10_col0\" class=\"data row10 col0\" >58</td>\n",
       "      <td id=\"T_4c66e_row10_col1\" class=\"data row10 col1\" >Apollo seated left on omphalos, holding bow in right hand.</td>\n",
       "      <td id=\"T_4c66e_row10_col2\" class=\"data row10 col2\" >[('Apollo', 'PERSON', 'seated_on', 'omphalos', 'OBJECT'), ('Apollo', 'PERSON', 'holding', 'bow', 'OBJECT')]</td>\n",
       "      <td id=\"T_4c66e_row10_col3\" class=\"data row10 col3\" >Apollo seated left on omphalos, holding bow in right hand.</td>\n",
       "      <td id=\"T_4c66e_row10_col4\" class=\"data row10 col4\" >[('Apollo', 'PERSON', 'seated_on', 'omphalos', 'OBJECT'), ('Apollo', 'PERSON', 'holding', 'bow', 'OBJECT')]</td>\n",
       "      <td id=\"T_4c66e_row10_col5\" class=\"data row10 col5\" ></td>\n",
       "    </tr>\n",
       "    <tr>\n",
       "      <th id=\"T_4c66e_level0_row11\" class=\"row_heading level0 row11\" >29</th>\n",
       "      <td id=\"T_4c66e_row11_col0\" class=\"data row11 col0\" >59</td>\n",
       "      <td id=\"T_4c66e_row11_col1\" class=\"data row11 col1\" >Apollo seated left on omphalos, holding bow in right hand; above lion's head right; monogram to outer right.</td>\n",
       "      <td id=\"T_4c66e_row11_col2\" class=\"data row11 col2\" >[('Apollo', 'PERSON', 'seated_on', 'omphalos', 'OBJECT'), ('Apollo', 'PERSON', 'holding', 'bow', 'OBJECT')]</td>\n",
       "      <td id=\"T_4c66e_row11_col3\" class=\"data row11 col3\" >Apollo seated left on omphalos, holding bow in right hand; above lion's head right; monogram to outer right.</td>\n",
       "      <td id=\"T_4c66e_row11_col4\" class=\"data row11 col4\" >[('Apollo', 'PERSON', 'seated_on', 'omphalos', 'OBJECT'), ('Apollo', 'PERSON', 'holding', 'bow', 'OBJECT')]</td>\n",
       "      <td id=\"T_4c66e_row11_col5\" class=\"data row11 col5\" ></td>\n",
       "    </tr>\n",
       "    <tr>\n",
       "      <th id=\"T_4c66e_level0_row12\" class=\"row_heading level0 row12\" >31</th>\n",
       "      <td id=\"T_4c66e_row12_col0\" class=\"data row12 col0\" >24763</td>\n",
       "      <td id=\"T_4c66e_row12_col1\" class=\"data row12 col1\" >Apollo seated left on rock, holding branch and resting on tripod on which stands amphora.</td>\n",
       "      <td id=\"T_4c66e_row12_col2\" class=\"data row12 col2\" >[('Apollo', 'PERSON', 'seated_on', 'rock', 'OBJECT'), ('Apollo', 'PERSON', 'holding', 'branch', 'OBJECT'), ('Apollo', 'PERSON', 'resting_on', 'tripod', 'OBJECT')]</td>\n",
       "      <td id=\"T_4c66e_row12_col3\" class=\"data row12 col3\" >Apollo seated left on rock, holding branch and resting on tripod on which stands amphora.</td>\n",
       "      <td id=\"T_4c66e_row12_col4\" class=\"data row12 col4\" >[('Apollo', 'PERSON', 'seated_on', 'rock', 'OBJECT'), ('Apollo', 'PERSON', 'holding', 'branch', 'OBJECT'), ('Apollo', 'PERSON', 'resting_on', 'tripod', 'OBJECT')]</td>\n",
       "      <td id=\"T_4c66e_row12_col5\" class=\"data row12 col5\" ></td>\n",
       "    </tr>\n",
       "    <tr>\n",
       "      <th id=\"T_4c66e_level0_row13\" class=\"row_heading level0 row13\" >34</th>\n",
       "      <td id=\"T_4c66e_row13_col0\" class=\"data row13 col0\" >5281</td>\n",
       "      <td id=\"T_4c66e_row13_col1\" class=\"data row13 col1\" >Apollo seated left, holding laurel branch and lyre.</td>\n",
       "      <td id=\"T_4c66e_row13_col2\" class=\"data row13 col2\" >[('Apollo', 'PERSON', 'holding', 'laurel branch', 'OBJECT'), ('Apollo', 'PERSON', 'holding', 'lyre', 'OBJECT')]</td>\n",
       "      <td id=\"T_4c66e_row13_col3\" class=\"data row13 col3\" >Apollo seated left, holding laurel branch and lyre.</td>\n",
       "      <td id=\"T_4c66e_row13_col4\" class=\"data row13 col4\" >[('Apollo', 'PERSON', 'holding', 'laurel branch', 'OBJECT'), ('Apollo', 'PERSON', 'holding', 'lyre', 'OBJECT')]</td>\n",
       "      <td id=\"T_4c66e_row13_col5\" class=\"data row13 col5\" ></td>\n",
       "    </tr>\n",
       "    <tr>\n",
       "      <th id=\"T_4c66e_level0_row14\" class=\"row_heading level0 row14\" >36</th>\n",
       "      <td id=\"T_4c66e_row14_col0\" class=\"data row14 col0\" >24760</td>\n",
       "      <td id=\"T_4c66e_row14_col1\" class=\"data row14 col1\" >Apollo seated left, holding laurel branch in left hand.</td>\n",
       "      <td id=\"T_4c66e_row14_col2\" class=\"data row14 col2\" >[('Apollo', 'PERSON', 'holding', 'laurel branch', 'OBJECT')]</td>\n",
       "      <td id=\"T_4c66e_row14_col3\" class=\"data row14 col3\" >Apollo seated left, holding laurel branch in left hand.</td>\n",
       "      <td id=\"T_4c66e_row14_col4\" class=\"data row14 col4\" >[('Apollo', 'PERSON', 'holding', 'laurel branch', 'OBJECT')]</td>\n",
       "      <td id=\"T_4c66e_row14_col5\" class=\"data row14 col5\" ></td>\n",
       "    </tr>\n",
       "    <tr>\n",
       "      <th id=\"T_4c66e_level0_row15\" class=\"row_heading level0 row15\" >37</th>\n",
       "      <td id=\"T_4c66e_row15_col0\" class=\"data row15 col0\" >4957</td>\n",
       "      <td id=\"T_4c66e_row15_col1\" class=\"data row15 col1\" >Apollo seated left, holding patera right and lyre left.</td>\n",
       "      <td id=\"T_4c66e_row15_col2\" class=\"data row15 col2\" >[('Apollo', 'PERSON', 'holding', 'patera', 'OBJECT'), ('Apollo', 'PERSON', 'holding', 'lyre', 'OBJECT')]</td>\n",
       "      <td id=\"T_4c66e_row15_col3\" class=\"data row15 col3\" >Apollo seated left, holding patera right and lyre left.</td>\n",
       "      <td id=\"T_4c66e_row15_col4\" class=\"data row15 col4\" >[('Apollo', 'PERSON', 'holding', 'patera', 'OBJECT'), ('Apollo', 'PERSON', 'holding', 'lyre', 'OBJECT')]</td>\n",
       "      <td id=\"T_4c66e_row15_col5\" class=\"data row15 col5\" ></td>\n",
       "    </tr>\n",
       "    <tr>\n",
       "      <th id=\"T_4c66e_level0_row16\" class=\"row_heading level0 row16\" >39</th>\n",
       "      <td id=\"T_4c66e_row16_col0\" class=\"data row16 col0\" >24724</td>\n",
       "      <td id=\"T_4c66e_row16_col1\" class=\"data row16 col1\" >Apollo standing facing, head left, wearing long garment, holding laurel branch in outstretched right hand and lyre with left hand on a short column to his left.</td>\n",
       "      <td id=\"T_4c66e_row16_col2\" class=\"data row16 col2\" >[('Apollo', 'PERSON', 'wearing', 'garment', 'OBJECT'), ('Apollo', 'PERSON', 'holding', 'laurel branch', 'OBJECT'), ('Apollo', 'PERSON', 'holding', 'lyre', 'OBJECT')]</td>\n",
       "      <td id=\"T_4c66e_row16_col3\" class=\"data row16 col3\" >Apollo standing facing, head left, wearing long garment, holding laurel branch in outstretched right hand and lyre with left hand on a short column to his left.</td>\n",
       "      <td id=\"T_4c66e_row16_col4\" class=\"data row16 col4\" >[('Apollo', 'PERSON', 'wearing', 'garment', 'OBJECT'), ('Apollo', 'PERSON', 'holding', 'laurel branch', 'OBJECT'), ('Apollo', 'PERSON', 'holding', 'lyre', 'OBJECT')]</td>\n",
       "      <td id=\"T_4c66e_row16_col5\" class=\"data row16 col5\" ></td>\n",
       "    </tr>\n",
       "    <tr>\n",
       "      <th id=\"T_4c66e_level0_row17\" class=\"row_heading level0 row17\" >42</th>\n",
       "      <td id=\"T_4c66e_row17_col0\" class=\"data row17 col0\" >1526</td>\n",
       "      <td id=\"T_4c66e_row17_col1\" class=\"data row17 col1\" >Apollo standing facing, head left,wearing long garment, holding lyre with left hand on a short column to his left.</td>\n",
       "      <td id=\"T_4c66e_row17_col2\" class=\"data row17 col2\" >[('Apollo', 'PERSON', 'wearing', 'garment', 'OBJECT'), ('Apollo', 'PERSON', 'holding', 'lyre', 'OBJECT')]</td>\n",
       "      <td id=\"T_4c66e_row17_col3\" class=\"data row17 col3\" >Apollo standing facing, head left,wearing long garment, holding lyre with left hand on a short column to his left.</td>\n",
       "      <td id=\"T_4c66e_row17_col4\" class=\"data row17 col4\" >[('Apollo', 'PERSON', 'wearing', 'garment', 'OBJECT'), ('Apollo', 'PERSON', 'holding', 'lyre', 'OBJECT')]</td>\n",
       "      <td id=\"T_4c66e_row17_col5\" class=\"data row17 col5\" ></td>\n",
       "    </tr>\n",
       "    <tr>\n",
       "      <th id=\"T_4c66e_level0_row18\" class=\"row_heading level0 row18\" >44</th>\n",
       "      <td id=\"T_4c66e_row18_col0\" class=\"data row18 col0\" >76</td>\n",
       "      <td id=\"T_4c66e_row18_col1\" class=\"data row18 col1\" >Apollo standing facing, head right, raising right arm above head, holding lyre set on tripod with left hand.</td>\n",
       "      <td id=\"T_4c66e_row18_col2\" class=\"data row18 col2\" >[('Apollo', 'PERSON', 'holding', 'lyre', 'OBJECT'), ('Apollo', 'PERSON', 'resting_on', 'tripod', 'OBJECT')]</td>\n",
       "      <td id=\"T_4c66e_row18_col3\" class=\"data row18 col3\" >Apollo standing facing, head right, raising right arm above head, holding lyre set on tripod with left hand.</td>\n",
       "      <td id=\"T_4c66e_row18_col4\" class=\"data row18 col4\" >[('Apollo', 'PERSON', 'holding', 'lyre', 'OBJECT'), ('Apollo', 'PERSON', 'resting_on', 'tripod', 'OBJECT')]</td>\n",
       "      <td id=\"T_4c66e_row18_col5\" class=\"data row18 col5\" ></td>\n",
       "    </tr>\n",
       "    <tr>\n",
       "      <th id=\"T_4c66e_level0_row19\" class=\"row_heading level0 row19\" >46</th>\n",
       "      <td id=\"T_4c66e_row19_col0\" class=\"data row19 col0\" >24765</td>\n",
       "      <td id=\"T_4c66e_row19_col1\" class=\"data row19 col1\" >Apollo standing left, holding laurel branch and lyre.</td>\n",
       "      <td id=\"T_4c66e_row19_col2\" class=\"data row19 col2\" >[('Apollo', 'PERSON', 'holding', 'laurel branch', 'OBJECT'), ('Apollo', 'PERSON', 'holding', 'lyre', 'OBJECT')]</td>\n",
       "      <td id=\"T_4c66e_row19_col3\" class=\"data row19 col3\" >Apollo standing left, holding laurel branch and lyre.</td>\n",
       "      <td id=\"T_4c66e_row19_col4\" class=\"data row19 col4\" >[('Apollo', 'PERSON', 'holding', 'laurel branch', 'OBJECT'), ('Apollo', 'PERSON', 'holding', 'lyre', 'OBJECT')]</td>\n",
       "      <td id=\"T_4c66e_row19_col5\" class=\"data row19 col5\" ></td>\n",
       "    </tr>\n",
       "    <tr>\n",
       "      <th id=\"T_4c66e_level0_row20\" class=\"row_heading level0 row20\" >48</th>\n",
       "      <td id=\"T_4c66e_row20_col0\" class=\"data row20 col0\" >6781</td>\n",
       "      <td id=\"T_4c66e_row20_col1\" class=\"data row20 col1\" >Apollo standing left, holding patera and lyre set on palm; at his feet, left, eagle.</td>\n",
       "      <td id=\"T_4c66e_row20_col2\" class=\"data row20 col2\" >[('Apollo', 'PERSON', 'holding', 'patera', 'OBJECT'), ('Apollo', 'PERSON', 'holding', 'lyre', 'OBJECT')]</td>\n",
       "      <td id=\"T_4c66e_row20_col3\" class=\"data row20 col3\" >Apollo standing left, holding patera and lyre set on palm; at his foot, left, eagle.</td>\n",
       "      <td id=\"T_4c66e_row20_col4\" class=\"data row20 col4\" >[('Apollo', 'PERSON', 'holding', 'patera', 'OBJECT'), ('Apollo', 'PERSON', 'holding', 'lyre', 'OBJECT')]</td>\n",
       "      <td id=\"T_4c66e_row20_col5\" class=\"data row20 col5\" ></td>\n",
       "    </tr>\n",
       "    <tr>\n",
       "      <th id=\"T_4c66e_level0_row21\" class=\"row_heading level0 row21\" >50</th>\n",
       "      <td id=\"T_4c66e_row21_col0\" class=\"data row21 col0\" >6701</td>\n",
       "      <td id=\"T_4c66e_row21_col1\" class=\"data row21 col1\" >Apollo standing left, holding patera and two arrows, resting left arm on column.</td>\n",
       "      <td id=\"T_4c66e_row21_col2\" class=\"data row21 col2\" >[('Apollo', 'PERSON', 'holding', 'patera', 'OBJECT'), ('Apollo', 'PERSON', 'holding', 'arrow', 'OBJECT')]</td>\n",
       "      <td id=\"T_4c66e_row21_col3\" class=\"data row21 col3\" >Apollo standing left, holding patera and two arrow, resting left arm on column.</td>\n",
       "      <td id=\"T_4c66e_row21_col4\" class=\"data row21 col4\" >[('Apollo', 'PERSON', 'holding', 'patera', 'OBJECT'), ('Apollo', 'PERSON', 'holding', 'arrow', 'OBJECT')]</td>\n",
       "      <td id=\"T_4c66e_row21_col5\" class=\"data row21 col5\" ></td>\n",
       "    </tr>\n",
       "    <tr>\n",
       "      <th id=\"T_4c66e_level0_row22\" class=\"row_heading level0 row22\" >52</th>\n",
       "      <td id=\"T_4c66e_row22_col0\" class=\"data row22 col0\" >6838</td>\n",
       "      <td id=\"T_4c66e_row22_col1\" class=\"data row22 col1\" >Apollo standing left, holding plectrum and lyre.</td>\n",
       "      <td id=\"T_4c66e_row22_col2\" class=\"data row22 col2\" >[('Apollo', 'PERSON', 'holding', 'plectrum', 'OBJECT'), ('Apollo', 'PERSON', 'holding', 'lyre', 'OBJECT')]</td>\n",
       "      <td id=\"T_4c66e_row22_col3\" class=\"data row22 col3\" >Apollo standing left, holding plectrum and lyre.</td>\n",
       "      <td id=\"T_4c66e_row22_col4\" class=\"data row22 col4\" >[('Apollo', 'PERSON', 'holding', 'plectrum', 'OBJECT'), ('Apollo', 'PERSON', 'holding', 'lyre', 'OBJECT')]</td>\n",
       "      <td id=\"T_4c66e_row22_col5\" class=\"data row22 col5\" ></td>\n",
       "    </tr>\n",
       "    <tr>\n",
       "      <th id=\"T_4c66e_level0_row23\" class=\"row_heading level0 row23\" >54</th>\n",
       "      <td id=\"T_4c66e_row23_col0\" class=\"data row23 col0\" >2450</td>\n",
       "      <td id=\"T_4c66e_row23_col1\" class=\"data row23 col1\" >Ares standing facing, head left, wearing cuirass, helmet and boots, holding spear in left hand and round shield in right arm. Ground line.</td>\n",
       "      <td id=\"T_4c66e_row23_col2\" class=\"data row23 col2\" >[('Ares', 'PERSON', 'wearing', 'cuirass', 'OBJECT'), ('Ares', 'PERSON', 'wearing', 'helmet', 'OBJECT'), ('Ares', 'PERSON', 'wearing', 'boot', 'OBJECT'), ('Ares', 'PERSON', 'holding', 'spear', 'OBJECT'), ('Ares', 'PERSON', 'holding', 'shield', 'OBJECT')]</td>\n",
       "      <td id=\"T_4c66e_row23_col3\" class=\"data row23 col3\" >Ares standing facing, head left, wearing cuirass, helmet and boot, holding spear in left hand and round shield in right arm. Ground line.</td>\n",
       "      <td id=\"T_4c66e_row23_col4\" class=\"data row23 col4\" >[('Ares', 'PERSON', 'wearing', 'cuirass', 'OBJECT'), ('Ares', 'PERSON', 'wearing', 'helmet', 'OBJECT'), ('Ares', 'PERSON', 'wearing', 'boot', 'OBJECT'), ('Ares', 'PERSON', 'holding', 'spear', 'OBJECT'), ('Ares', 'PERSON', 'holding', 'shield', 'OBJECT')]</td>\n",
       "      <td id=\"T_4c66e_row23_col5\" class=\"data row23 col5\" ></td>\n",
       "    </tr>\n",
       "    <tr>\n",
       "      <th id=\"T_4c66e_level0_row24\" class=\"row_heading level0 row24\" >59</th>\n",
       "      <td id=\"T_4c66e_row24_col0\" class=\"data row24 col0\" >98</td>\n",
       "      <td id=\"T_4c66e_row24_col1\" class=\"data row24 col1\" >Ares standing facing, head right, wearing cuirass, boots and crested helmet, holding spear in right hand and parazonium in left hand.</td>\n",
       "      <td id=\"T_4c66e_row24_col2\" class=\"data row24 col2\" >[('Ares', 'PERSON', 'wearing', 'cuirass', 'OBJECT'), ('Ares', 'PERSON', 'wearing', 'boot', 'OBJECT'), ('Ares', 'PERSON', 'wearing', 'helmet', 'OBJECT'), ('Ares', 'PERSON', 'holding', 'spear', 'OBJECT'), ('Ares', 'PERSON', 'holding', 'parazonium', 'OBJECT')]</td>\n",
       "      <td id=\"T_4c66e_row24_col3\" class=\"data row24 col3\" >Ares standing facing, head right, wearing cuirass, boot and crested helmet, holding spear in right hand and parazonium in left hand.</td>\n",
       "      <td id=\"T_4c66e_row24_col4\" class=\"data row24 col4\" >[('Ares', 'PERSON', 'wearing', 'cuirass', 'OBJECT'), ('Ares', 'PERSON', 'wearing', 'boot', 'OBJECT'), ('Ares', 'PERSON', 'wearing', 'helmet', 'OBJECT'), ('Ares', 'PERSON', 'holding', 'spear', 'OBJECT'), ('Ares', 'PERSON', 'holding', 'parazonium', 'OBJECT')]</td>\n",
       "      <td id=\"T_4c66e_row24_col5\" class=\"data row24 col5\" ></td>\n",
       "    </tr>\n",
       "    <tr>\n",
       "      <th id=\"T_4c66e_level0_row25\" class=\"row_heading level0 row25\" >64</th>\n",
       "      <td id=\"T_4c66e_row25_col0\" class=\"data row25 col0\" >6897</td>\n",
       "      <td id=\"T_4c66e_row25_col1\" class=\"data row25 col1\" >Ares standing left, wearing helmet, holding patera and shield.</td>\n",
       "      <td id=\"T_4c66e_row25_col2\" class=\"data row25 col2\" >[('Ares', 'PERSON', 'wearing', 'helmet', 'OBJECT'), ('Ares', 'PERSON', 'holding', 'patera', 'OBJECT'), ('Ares', 'PERSON', 'holding', 'shield', 'OBJECT')]</td>\n",
       "      <td id=\"T_4c66e_row25_col3\" class=\"data row25 col3\" >Ares standing left, wearing helmet, holding patera and shield.</td>\n",
       "      <td id=\"T_4c66e_row25_col4\" class=\"data row25 col4\" >[('Ares', 'PERSON', 'wearing', 'helmet', 'OBJECT'), ('Ares', 'PERSON', 'holding', 'patera', 'OBJECT'), ('Ares', 'PERSON', 'holding', 'shield', 'OBJECT')]</td>\n",
       "      <td id=\"T_4c66e_row25_col5\" class=\"data row25 col5\" ></td>\n",
       "    </tr>\n",
       "    <tr>\n",
       "      <th id=\"T_4c66e_level0_row26\" class=\"row_heading level0 row26\" >67</th>\n",
       "      <td id=\"T_4c66e_row26_col0\" class=\"data row26 col0\" >6891</td>\n",
       "      <td id=\"T_4c66e_row26_col1\" class=\"data row26 col1\" >Ares standing left, wearing helmet, holding patera and spear.</td>\n",
       "      <td id=\"T_4c66e_row26_col2\" class=\"data row26 col2\" >[('Ares', 'PERSON', 'wearing', 'helmet', 'OBJECT'), ('Ares', 'PERSON', 'holding', 'patera', 'OBJECT'), ('Ares', 'PERSON', 'holding', 'spear', 'OBJECT')]</td>\n",
       "      <td id=\"T_4c66e_row26_col3\" class=\"data row26 col3\" >Ares standing left, wearing helmet, holding patera and spear.</td>\n",
       "      <td id=\"T_4c66e_row26_col4\" class=\"data row26 col4\" >[('Ares', 'PERSON', 'wearing', 'helmet', 'OBJECT'), ('Ares', 'PERSON', 'holding', 'patera', 'OBJECT'), ('Ares', 'PERSON', 'holding', 'spear', 'OBJECT')]</td>\n",
       "      <td id=\"T_4c66e_row26_col5\" class=\"data row26 col5\" ></td>\n",
       "    </tr>\n",
       "    <tr>\n",
       "      <th id=\"T_4c66e_level0_row27\" class=\"row_heading level0 row27\" >70</th>\n",
       "      <td id=\"T_4c66e_row27_col0\" class=\"data row27 col0\" >6709</td>\n",
       "      <td id=\"T_4c66e_row27_col1\" class=\"data row27 col1\" >Ares standing left, wearing helmet, holding patera and spear; at his feet, shield.</td>\n",
       "      <td id=\"T_4c66e_row27_col2\" class=\"data row27 col2\" >[('Ares', 'PERSON', 'wearing', 'helmet', 'OBJECT'), ('Ares', 'PERSON', 'holding', 'patera', 'OBJECT'), ('Ares', 'PERSON', 'holding', 'spear', 'OBJECT')]</td>\n",
       "      <td id=\"T_4c66e_row27_col3\" class=\"data row27 col3\" >Ares standing left, wearing helmet, holding patera and spear; at his foot, shield.</td>\n",
       "      <td id=\"T_4c66e_row27_col4\" class=\"data row27 col4\" >[('Ares', 'PERSON', 'wearing', 'helmet', 'OBJECT'), ('Ares', 'PERSON', 'holding', 'patera', 'OBJECT'), ('Ares', 'PERSON', 'holding', 'spear', 'OBJECT')]</td>\n",
       "      <td id=\"T_4c66e_row27_col5\" class=\"data row27 col5\" ></td>\n",
       "    </tr>\n",
       "    <tr>\n",
       "      <th id=\"T_4c66e_level0_row28\" class=\"row_heading level0 row28\" >73</th>\n",
       "      <td id=\"T_4c66e_row28_col0\" class=\"data row28 col0\" >6782</td>\n",
       "      <td id=\"T_4c66e_row28_col1\" class=\"data row28 col1\" >Ares standing left, wearing helmet, holding patera in right hand and spear and shield in left hand.</td>\n",
       "      <td id=\"T_4c66e_row28_col2\" class=\"data row28 col2\" >[('Ares', 'PERSON', 'wearing', 'helmet', 'OBJECT')]</td>\n",
       "      <td id=\"T_4c66e_row28_col3\" class=\"data row28 col3\" >Ares standing left, wearing helmet, holding patera in right hand and spear and shield in left hand.</td>\n",
       "      <td id=\"T_4c66e_row28_col4\" class=\"data row28 col4\" >[('Ares', 'PERSON', 'wearing', 'helmet', 'OBJECT')]</td>\n",
       "      <td id=\"T_4c66e_row28_col5\" class=\"data row28 col5\" ></td>\n",
       "    </tr>\n",
       "    <tr>\n",
       "      <th id=\"T_4c66e_level0_row29\" class=\"row_heading level0 row29\" >74</th>\n",
       "      <td id=\"T_4c66e_row29_col0\" class=\"data row29 col0\" >4124</td>\n",
       "      <td id=\"T_4c66e_row29_col1\" class=\"data row29 col1\" >Ares standing left, wearing helmet, holding shield in left arm.</td>\n",
       "      <td id=\"T_4c66e_row29_col2\" class=\"data row29 col2\" >[('Ares', 'PERSON', 'wearing', 'helmet', 'OBJECT'), ('Ares', 'PERSON', 'holding', 'shield', 'OBJECT')]</td>\n",
       "      <td id=\"T_4c66e_row29_col3\" class=\"data row29 col3\" >Ares standing left, wearing helmet, holding shield in left arm.</td>\n",
       "      <td id=\"T_4c66e_row29_col4\" class=\"data row29 col4\" >[('Ares', 'PERSON', 'wearing', 'helmet', 'OBJECT'), ('Ares', 'PERSON', 'holding', 'shield', 'OBJECT')]</td>\n",
       "      <td id=\"T_4c66e_row29_col5\" class=\"data row29 col5\" ></td>\n",
       "    </tr>\n",
       "  </tbody>\n",
       "</table>\n"
      ],
      "text/plain": [
       "<pandas.io.formats.style.Styler at 0x7fce184e87f0>"
      ]
     },
     "execution_count": 75,
     "metadata": {},
     "output_type": "execute_result"
    }
   ],
   "source": [
    "X.head(30).style"
   ]
  },
  {
   "cell_type": "code",
   "execution_count": 42,
   "id": "762e1218",
   "metadata": {},
   "outputs": [
    {
     "data": {
      "text/html": [
       "<div>\n",
       "<style scoped>\n",
       "    .dataframe tbody tr th:only-of-type {\n",
       "        vertical-align: middle;\n",
       "    }\n",
       "\n",
       "    .dataframe tbody tr th {\n",
       "        vertical-align: top;\n",
       "    }\n",
       "\n",
       "    .dataframe thead th {\n",
       "        text-align: right;\n",
       "    }\n",
       "</style>\n",
       "<table border=\"1\" class=\"dataframe\">\n",
       "  <thead>\n",
       "    <tr style=\"text-align: right;\">\n",
       "      <th></th>\n",
       "      <th>design_id</th>\n",
       "      <th>design_en</th>\n",
       "    </tr>\n",
       "  </thead>\n",
       "  <tbody>\n",
       "    <tr>\n",
       "      <th>1915</th>\n",
       "      <td>2491</td>\n",
       "      <td>Veil Demeter throne left, holding two corn in ...</td>\n",
       "    </tr>\n",
       "    <tr>\n",
       "      <th>1196</th>\n",
       "      <td>1661</td>\n",
       "      <td>Wreath head of Antoninus Pius, right, wearing ...</td>\n",
       "    </tr>\n",
       "    <tr>\n",
       "      <th>2104</th>\n",
       "      <td>27685</td>\n",
       "      <td>Olybrius resting on shield.</td>\n",
       "    </tr>\n",
       "    <tr>\n",
       "      <th>2312</th>\n",
       "      <td>28041</td>\n",
       "      <td>Ares wearing helmet.</td>\n",
       "    </tr>\n",
       "    <tr>\n",
       "      <th>1070</th>\n",
       "      <td>3218</td>\n",
       "      <td>Labour of Heracles: Nude Heracles standing rig...</td>\n",
       "    </tr>\n",
       "  </tbody>\n",
       "</table>\n",
       "</div>"
      ],
      "text/plain": [
       "      design_id                                          design_en\n",
       "1915       2491  Veil Demeter throne left, holding two corn in ...\n",
       "1196       1661  Wreath head of Antoninus Pius, right, wearing ...\n",
       "2104      27685                        Olybrius resting on shield.\n",
       "2312      28041                               Ares wearing helmet.\n",
       "1070       3218  Labour of Heracles: Nude Heracles standing rig..."
      ]
     },
     "execution_count": 42,
     "metadata": {},
     "output_type": "execute_result"
    }
   ],
   "source": [
    "X_test.head()"
   ]
  },
  {
   "cell_type": "code",
   "execution_count": 43,
   "id": "0abedd9f",
   "metadata": {},
   "outputs": [
    {
     "data": {
      "text/plain": [
       "(1250, 5)"
      ]
     },
     "execution_count": 43,
     "metadata": {},
     "output_type": "execute_result"
    }
   ],
   "source": [
    "X.shape"
   ]
  },
  {
   "cell_type": "markdown",
   "id": "49e53879",
   "metadata": {},
   "source": [
    "#### load pretrained NER-Model"
   ]
  },
  {
   "cell_type": "code",
   "execution_count": 44,
   "id": "6014249f",
   "metadata": {
    "tags": []
   },
   "outputs": [],
   "source": [
    "# optional - if already defined above\n",
    "ner_model_directory = \"../cnt/trained_model/ner/english_new/\"\n",
    "ner_model_name = \"english_cno\""
   ]
  },
  {
   "cell_type": "markdown",
   "id": "e4a85a59",
   "metadata": {},
   "source": [
    "#### define RE-Model path"
   ]
  },
  {
   "cell_type": "code",
   "execution_count": 49,
   "id": "31786295",
   "metadata": {
    "tags": []
   },
   "outputs": [],
   "source": [
    "# optional - if already defined above\n",
    "re_model_directory = \"../cnt/trained_model/re/\"\n",
    "re_model_name = \"english_cno\""
   ]
  },
  {
   "cell_type": "code",
   "execution_count": 36,
   "id": "c2c4fa7b",
   "metadata": {
    "tags": []
   },
   "outputs": [
    {
     "name": "stdout",
     "output_type": "stream",
     "text": [
      "291     [((Athena), [Athena, seated, wearing, helmet],...\n",
      "1612    [((Dionysus), [Dionysus, standing, left, cross...\n",
      "1205    [((Nemesis), [Nemesis, Aequitas], (Aequitas), ...\n",
      "2270    [((Nike), [Nike, wearing, ribbon], (ribbon), (...\n",
      "537     [((Cybele), [Cybele, seated, on, jumping, lion...\n",
      "                              ...                        \n",
      "2365    [((Domitian), [Domitian, seated, on, rock], (r...\n",
      "1436    [((Heracles), [Heracles, seated, left, on, roc...\n",
      "1264    [((Apollo), [Apollo, Bonus, Eventus], (Bonus, ...\n",
      "929     [((Head), [Head, of, Dionysus], (Dionysus), (H...\n",
      "2184    [((Nike), [Nike, wearing, crown], (crown), (Ni...\n",
      "Name: y, Length: 937, dtype: object\n"
     ]
    },
    {
     "data": {
      "text/plain": [
       "Pipeline(steps=[('nertransformer',\n",
       "                 NERTransformer(design_col='design_en', id_col='design_id',\n",
       "                                model_dir='../cnt/trained_model/ner/english_new/',\n",
       "                                model_name='english_cno')),\n",
       "                ('featureextractor',\n",
       "                 FeatureExtractor(design_col='design_en', id_col='design_id',\n",
       "                                  model_dir='../cnt/trained_model/ner/english_new/',\n",
       "                                  model_name='english_cno')),\n",
       "                ('relationextractor',\n",
       "                 RelationExtractor(id_col='design_id', model_name='english_cno',\n",
       "                                   output_dir='../cnt/trained_model/re_test/',\n",
       "                                   pipeline=Pipeline(steps=[('pipeline',\n",
       "                                                             Pipeline(steps=[('path2str',\n",
       "                                                                              Path2Str(pos=True)),\n",
       "                                                                             ('countvectorizer',\n",
       "                                                                              CountVectorizer(ngram_range=(1,\n",
       "                                                                                                           3)))])),\n",
       "                                                            ('logisticregression',\n",
       "                                                             LogisticRegression(max_iter=1000))])))])"
      ]
     },
     "execution_count": 36,
     "metadata": {},
     "output_type": "execute_result"
    }
   ],
   "source": [
    "# training\n",
    "inner_pipeline = make_pipeline(feature, classifier)\n",
    "pipeline = make_pipeline(NERTransformer(ner_model_directory, ner_model_name, id_col_RE, design_col_RE),\n",
    "                         FeatureExtractor(ner_model_directory, ner_model_name, id_col_RE, design_col_RE),\n",
    "                         RelationExtractor(inner_pipeline, re_model_directory, re_model_name, id_col_RE))\n",
    "pipeline.fit(X_train, y_train)"
   ]
  },
  {
   "cell_type": "markdown",
   "id": "29da4439",
   "metadata": {},
   "source": [
    "## Save and Load model"
   ]
  },
  {
   "cell_type": "code",
   "execution_count": 40,
   "id": "6f65a9cf",
   "metadata": {
    "tags": []
   },
   "outputs": [],
   "source": [
    "save_pipeline(pipeline, re_model_directory, re_model_name)"
   ]
  },
  {
   "cell_type": "code",
   "execution_count": 50,
   "id": "a3902c25",
   "metadata": {
    "tags": []
   },
   "outputs": [],
   "source": [
    "model = load_pipeline(re_model_directory, re_model_name)"
   ]
  },
  {
   "cell_type": "markdown",
   "id": "5bc28040",
   "metadata": {},
   "source": [
    "## Predict"
   ]
  },
  {
   "cell_type": "code",
   "execution_count": 51,
   "id": "05a025cd",
   "metadata": {
    "tags": []
   },
   "outputs": [],
   "source": [
    "y_pred = model.predict(X_test)"
   ]
  },
  {
   "cell_type": "code",
   "execution_count": 52,
   "id": "cf7e5c59",
   "metadata": {
    "tags": []
   },
   "outputs": [],
   "source": [
    "metrics = Metrics()"
   ]
  },
  {
   "cell_type": "code",
   "execution_count": 53,
   "id": "e1a5db3e",
   "metadata": {
    "tags": []
   },
   "outputs": [],
   "source": [
    "precision, recall = metrics.score_precision_recall(y_test, y_pred)\n",
    "F1 = (2*precision*recall) / (precision + recall)"
   ]
  },
  {
   "cell_type": "code",
   "execution_count": 54,
   "id": "5194cee8",
   "metadata": {
    "tags": []
   },
   "outputs": [
    {
     "name": "stdout",
     "output_type": "stream",
     "text": [
      "Precision 84.56\n",
      "Recall 86.41\n",
      "F1 85.48\n"
     ]
    }
   ],
   "source": [
    "print(\"Precision\", round(precision*100,2))\n",
    "print(\"Recall\", round(recall*100,2))\n",
    "print(\"F1\", round(F1*100,2))"
   ]
  },
  {
   "cell_type": "markdown",
   "id": "4c855d37",
   "metadata": {},
   "source": [
    "## Map back"
   ]
  },
  {
   "cell_type": "code",
   "execution_count": 55,
   "id": "bf44f57d",
   "metadata": {},
   "outputs": [],
   "source": [
    "# results (that are based on the preprocessed designs) are mapped back to the original designs\n",
    "\n",
    "X_test[\"y\"] = y_test[\"y\"]"
   ]
  },
  {
   "cell_type": "code",
   "execution_count": 56,
   "id": "d0ed166a",
   "metadata": {},
   "outputs": [
    {
     "name": "stderr",
     "output_type": "stream",
     "text": [
      "Pandas Apply: 100%|████████████████████████| 313/313 [00:00<00:00, 45696.58it/s]\n"
     ]
    }
   ],
   "source": [
    "# Deleting brackets and questionmarks\n",
    "X_test[\"y_mapped\"] = X_test.swifter.apply(lambda row: preprocess.map_re(row[\"y\"], row.design_id), axis=1)"
   ]
  },
  {
   "cell_type": "code",
   "execution_count": 57,
   "id": "aad491f9",
   "metadata": {},
   "outputs": [
    {
     "data": {
      "text/html": [
       "<style type=\"text/css\">\n",
       "</style>\n",
       "<table id=\"T_81a67\">\n",
       "  <thead>\n",
       "    <tr>\n",
       "      <th class=\"blank level0\" >&nbsp;</th>\n",
       "      <th id=\"T_81a67_level0_col0\" class=\"col_heading level0 col0\" >design_id</th>\n",
       "      <th id=\"T_81a67_level0_col1\" class=\"col_heading level0 col1\" >design_en</th>\n",
       "      <th id=\"T_81a67_level0_col2\" class=\"col_heading level0 col2\" >y</th>\n",
       "      <th id=\"T_81a67_level0_col3\" class=\"col_heading level0 col3\" >y_mapped</th>\n",
       "    </tr>\n",
       "  </thead>\n",
       "  <tbody>\n",
       "    <tr>\n",
       "      <th id=\"T_81a67_level0_row0\" class=\"row_heading level0 row0\" >1915</th>\n",
       "      <td id=\"T_81a67_row0_col0\" class=\"data row0 col0\" >2491</td>\n",
       "      <td id=\"T_81a67_row0_col1\" class=\"data row0 col1\" >Veil Demeter throne left, holding two corn in right hand, left resting on long scepter. Border of dots.</td>\n",
       "      <td id=\"T_81a67_row0_col2\" class=\"data row0 col2\" >[('Demeter', 'PERSON', 'holding', 'corn', 'PLANT'), ('Demeter', 'PERSON', 'resting_on', 'scepter', 'OBJECT')]</td>\n",
       "      <td id=\"T_81a67_row0_col3\" class=\"data row0 col3\" >[('Demeter', 'PERSON', 'holding', 'corn', 'PLANT'), ('Demeter', 'PERSON', 'resting_on', 'scepter', 'OBJECT')]</td>\n",
       "    </tr>\n",
       "    <tr>\n",
       "      <th id=\"T_81a67_level0_row1\" class=\"row_heading level0 row1\" >1196</th>\n",
       "      <td id=\"T_81a67_row1_col0\" class=\"data row1 col0\" >1661</td>\n",
       "      <td id=\"T_81a67_row1_col1\" class=\"data row1 col1\" >Wreath head of Antoninus Pius, right, wearing paludamentum.</td>\n",
       "      <td id=\"T_81a67_row1_col2\" class=\"data row1 col2\" >[('Antoninus Pius', 'PERSON', 'wearing', 'paludamentum', 'OBJECT')]</td>\n",
       "      <td id=\"T_81a67_row1_col3\" class=\"data row1 col3\" >[('Antoninus Pius', 'PERSON', 'wearing', 'paludamentum', 'OBJECT')]</td>\n",
       "    </tr>\n",
       "    <tr>\n",
       "      <th id=\"T_81a67_level0_row2\" class=\"row_heading level0 row2\" >2104</th>\n",
       "      <td id=\"T_81a67_row2_col0\" class=\"data row2 col0\" >27685</td>\n",
       "      <td id=\"T_81a67_row2_col1\" class=\"data row2 col1\" >Olybrius resting on shield.</td>\n",
       "      <td id=\"T_81a67_row2_col2\" class=\"data row2 col2\" >[('Olybrius', 'PERSON', 'resting_on', 'shield', 'OBJECT')]</td>\n",
       "      <td id=\"T_81a67_row2_col3\" class=\"data row2 col3\" >[('Olybrius', 'PERSON', 'resting_on', 'shield', 'OBJECT')]</td>\n",
       "    </tr>\n",
       "    <tr>\n",
       "      <th id=\"T_81a67_level0_row3\" class=\"row_heading level0 row3\" >2312</th>\n",
       "      <td id=\"T_81a67_row3_col0\" class=\"data row3 col0\" >28041</td>\n",
       "      <td id=\"T_81a67_row3_col1\" class=\"data row3 col1\" >Ares wearing helmet.</td>\n",
       "      <td id=\"T_81a67_row3_col2\" class=\"data row3 col2\" >[('Ares', 'PERSON', 'wearing', 'helmet', 'OBJECT')]</td>\n",
       "      <td id=\"T_81a67_row3_col3\" class=\"data row3 col3\" >[('Ares', 'PERSON', 'wearing', 'helmet', 'OBJECT')]</td>\n",
       "    </tr>\n",
       "    <tr>\n",
       "      <th id=\"T_81a67_level0_row4\" class=\"row_heading level0 row4\" >1070</th>\n",
       "      <td id=\"T_81a67_row4_col0\" class=\"data row4 col0\" >3218</td>\n",
       "      <td id=\"T_81a67_row4_col1\" class=\"data row4 col1\" >Labour of Heracles: Nude Heracles standing right, strangling the Nemean lion.</td>\n",
       "      <td id=\"T_81a67_row4_col2\" class=\"data row4 col2\" >[('Heracles', 'PERSON', 'grasping', 'Nemean lion', 'ANIMAL')]</td>\n",
       "      <td id=\"T_81a67_row4_col3\" class=\"data row4 col3\" >[('Heracles', 'PERSON', 'grasping', 'Nemean lion', 'ANIMAL')]</td>\n",
       "    </tr>\n",
       "    <tr>\n",
       "      <th id=\"T_81a67_level0_row5\" class=\"row_heading level0 row5\" >698</th>\n",
       "      <td id=\"T_81a67_row5_col0\" class=\"data row5 col0\" >2209</td>\n",
       "      <td id=\"T_81a67_row5_col1\" class=\"data row5 col1\" >Eirene standing facing, head right, holding a long scepter in right hand and a cornucopia and the infant Plutos in left arm. Ground line. Border of dots.</td>\n",
       "      <td id=\"T_81a67_row5_col2\" class=\"data row5 col2\" >[('Eirene', 'PERSON', 'holding', 'scepter', 'OBJECT')]</td>\n",
       "      <td id=\"T_81a67_row5_col3\" class=\"data row5 col3\" >[('Eirene', 'PERSON', 'holding', 'scepter', 'OBJECT')]</td>\n",
       "    </tr>\n",
       "    <tr>\n",
       "      <th id=\"T_81a67_level0_row6\" class=\"row_heading level0 row6\" >889</th>\n",
       "      <td id=\"T_81a67_row6_col0\" class=\"data row6 col0\" >1309</td>\n",
       "      <td id=\"T_81a67_row6_col1\" class=\"data row6 col1\" >Head of youthful Dionysus, right, wearing ivy wreath, three curls falling on his right shoulder. Border of dots.</td>\n",
       "      <td id=\"T_81a67_row6_col2\" class=\"data row6 col2\" >[('Dionysus', 'PERSON', 'wearing', 'ivy wreath', 'OBJECT')]</td>\n",
       "      <td id=\"T_81a67_row6_col3\" class=\"data row6 col3\" >[('Dionysus', 'PERSON', 'wearing', 'ivy wreath', 'OBJECT')]</td>\n",
       "    </tr>\n",
       "    <tr>\n",
       "      <th id=\"T_81a67_level0_row7\" class=\"row_heading level0 row7\" >1682</th>\n",
       "      <td id=\"T_81a67_row7_col0\" class=\"data row7 col0\" >24698</td>\n",
       "      <td id=\"T_81a67_row7_col1\" class=\"data row7 col1\" >Radiate and togate emperor Elagabalus standing in quadriga, right, wearing toga, holding an aplustre in right hand and scepter in left arm; in front, charioteer seated right; behind, Nike standing right on chariot basket, crowning emperor with laurel wreath, holding branch in left arm; in background, tropaion on dais, on each side a captive seated right and left. Ground line. Border of dots.</td>\n",
       "      <td id=\"T_81a67_row7_col2\" class=\"data row7 col2\" >[('Elagabalus', 'PERSON', 'standing', 'quadriga', 'OBJECT'), ('Elagabalus', 'PERSON', 'wearing', 'toga', 'OBJECT'), ('Elagabalus', 'PERSON', 'holding', 'aplustre', 'OBJECT'), ('Elagabalus', 'PERSON', 'holding', 'scepter', 'OBJECT'), ('Nike', 'PERSON', 'standing', 'basket', 'OBJECT'), ('Nike', 'PERSON', 'crowning', 'emperor', 'PERSON'), ('Nike', 'PERSON', 'holding', 'palm branch', 'OBJECT')]</td>\n",
       "      <td id=\"T_81a67_row7_col3\" class=\"data row7 col3\" >[('Elagabalus', 'PERSON', 'standing', 'quadriga', 'OBJECT'), ('Elagabalus', 'PERSON', 'wearing', 'toga', 'OBJECT'), ('Elagabalus', 'PERSON', 'holding', 'aplustre', 'OBJECT'), ('Elagabalus', 'PERSON', 'holding', 'scepter', 'OBJECT'), ('Nike', 'PERSON', 'standing', 'basket', 'OBJECT'), ('Nike', 'PERSON', 'crowning', 'emperor', 'PERSON'), ('Nike', 'PERSON', 'holding', 'palm branch', 'OBJECT')]</td>\n",
       "    </tr>\n",
       "    <tr>\n",
       "      <th id=\"T_81a67_level0_row8\" class=\"row_heading level0 row8\" >1785</th>\n",
       "      <td id=\"T_81a67_row8_col0\" class=\"data row8 col0\" >262</td>\n",
       "      <td id=\"T_81a67_row8_col1\" class=\"data row8 col1\" >The three Charis or nymph standing facing, left one head right, middle and right one, head left; wearing long garment, left, holding jar in right hand, right in left hand; the middle holding jar in right hand and corn in left hand.</td>\n",
       "      <td id=\"T_81a67_row8_col2\" class=\"data row8 col2\" >[('Charis', 'PERSON', 'wearing', 'garment', 'OBJECT'), ('Charis', 'PERSON', 'holding', 'jar', 'OBJECT'), ('Charis', 'PERSON', 'holding', 'corn', 'PLANT')]</td>\n",
       "      <td id=\"T_81a67_row8_col3\" class=\"data row8 col3\" >[('Charis', 'PERSON', 'wearing', 'garment', 'OBJECT'), ('Charis', 'PERSON', 'holding', 'jar', 'OBJECT'), ('Charis', 'PERSON', 'holding', 'corn', 'PLANT')]</td>\n",
       "    </tr>\n",
       "    <tr>\n",
       "      <th id=\"T_81a67_level0_row9\" class=\"row_heading level0 row9\" >81</th>\n",
       "      <td id=\"T_81a67_row9_col0\" class=\"data row9 col0\" >6833</td>\n",
       "      <td id=\"T_81a67_row9_col1\" class=\"data row9 col1\" >Ares standing right, wearing crested helmet, cuirass and boot, holding spear and shield set down at his foot.</td>\n",
       "      <td id=\"T_81a67_row9_col2\" class=\"data row9 col2\" >[('Ares', 'PERSON', 'wearing', 'helmet', 'OBJECT'), ('Ares', 'PERSON', 'wearing', 'cuirass', 'OBJECT'), ('Ares', 'PERSON', 'wearing', 'boot', 'OBJECT'), ('Ares', 'PERSON', 'holding', 'spear', 'OBJECT'), ('Ares', 'PERSON', 'holding', 'shield', 'OBJECT')]</td>\n",
       "      <td id=\"T_81a67_row9_col3\" class=\"data row9 col3\" >[('Ares', 'PERSON', 'wearing', 'helmet', 'OBJECT'), ('Ares', 'PERSON', 'wearing', 'cuirass', 'OBJECT'), ('Ares', 'PERSON', 'wearing', 'boot', 'OBJECT'), ('Ares', 'PERSON', 'holding', 'spear', 'OBJECT'), ('Ares', 'PERSON', 'holding', 'shield', 'OBJECT')]</td>\n",
       "    </tr>\n",
       "    <tr>\n",
       "      <th id=\"T_81a67_level0_row10\" class=\"row_heading level0 row10\" >2273</th>\n",
       "      <td id=\"T_81a67_row10_col0\" class=\"data row10 col0\" >27575</td>\n",
       "      <td id=\"T_81a67_row10_col1\" class=\"data row10 col1\" >Seleucus I wearing cuirass.</td>\n",
       "      <td id=\"T_81a67_row10_col2\" class=\"data row10 col2\" >[('Seleucus I', 'PERSON', 'wearing', 'cuirass', 'OBJECT')]</td>\n",
       "      <td id=\"T_81a67_row10_col3\" class=\"data row10 col3\" >[('Seleucus I', 'PERSON', 'wearing', 'cuirass', 'OBJECT')]</td>\n",
       "    </tr>\n",
       "    <tr>\n",
       "      <th id=\"T_81a67_level0_row11\" class=\"row_heading level0 row11\" >1278</th>\n",
       "      <td id=\"T_81a67_row11_col0\" class=\"data row11 col0\" >24710</td>\n",
       "      <td id=\"T_81a67_row11_col1\" class=\"data row11 col1\" >Nude Apollo standing facing, head left, holding an arrow in right hand and a laurel branch in left arm; at right, tripod with serpent coiling. Ground line. Border of dots.</td>\n",
       "      <td id=\"T_81a67_row11_col2\" class=\"data row11 col2\" >[('Apollo', 'PERSON', 'holding', 'arrow', 'OBJECT'), ('Apollo', 'PERSON', 'holding', 'laurel branch', 'OBJECT')]</td>\n",
       "      <td id=\"T_81a67_row11_col3\" class=\"data row11 col3\" >[('Apollo', 'PERSON', 'holding', 'arrow', 'OBJECT'), ('Apollo', 'PERSON', 'holding', 'laurel branch', 'OBJECT')]</td>\n",
       "    </tr>\n",
       "    <tr>\n",
       "      <th id=\"T_81a67_level0_row12\" class=\"row_heading level0 row12\" >1630</th>\n",
       "      <td id=\"T_81a67_row12_col0\" class=\"data row12 col0\" >1684</td>\n",
       "      <td id=\"T_81a67_row12_col1\" class=\"data row12 col1\" >Poseidon throne left, naked to waist, holding fish, left, in outstretched right hand and trident in left arm over his shoulder.</td>\n",
       "      <td id=\"T_81a67_row12_col2\" class=\"data row12 col2\" >[('Poseidon', 'PERSON', 'holding', 'fish', 'ANIMAL')]</td>\n",
       "      <td id=\"T_81a67_row12_col3\" class=\"data row12 col3\" >[('Poseidon', 'PERSON', 'holding', 'fish', 'ANIMAL')]</td>\n",
       "    </tr>\n",
       "    <tr>\n",
       "      <th id=\"T_81a67_level0_row13\" class=\"row_heading level0 row13\" >378</th>\n",
       "      <td id=\"T_81a67_row13_col0\" class=\"data row13 col0\" >194</td>\n",
       "      <td id=\"T_81a67_row13_col1\" class=\"data row13 col1\" >Athlete standing facing, head left, holding three apple in right hand and discus in the left hand.</td>\n",
       "      <td id=\"T_81a67_row13_col2\" class=\"data row13 col2\" >[('athlete', 'PERSON', 'holding', 'apple', 'PLANT'), ('athlete', 'PERSON', 'holding', 'discus', 'OBJECT')]</td>\n",
       "      <td id=\"T_81a67_row13_col3\" class=\"data row13 col3\" >[('athlete', 'PERSON', 'holding', 'apple', 'PLANT'), ('athlete', 'PERSON', 'holding', 'discus', 'OBJECT')]</td>\n",
       "    </tr>\n",
       "    <tr>\n",
       "      <th id=\"T_81a67_level0_row14\" class=\"row_heading level0 row14\" >881</th>\n",
       "      <td id=\"T_81a67_row14_col0\" class=\"data row14 col0\" >1956</td>\n",
       "      <td id=\"T_81a67_row14_col1\" class=\"data row14 col1\" >Half-nude Aphrodite standing facing, head right, holding apple in right hand, holding falling chiton with left hand; next to her, two Erotes .</td>\n",
       "      <td id=\"T_81a67_row14_col2\" class=\"data row14 col2\" >[('Aphrodite', 'PERSON', 'holding', 'apple', 'PLANT'), ('Aphrodite', 'PERSON', 'holding', 'chiton', 'OBJECT')]</td>\n",
       "      <td id=\"T_81a67_row14_col3\" class=\"data row14 col3\" >[('Aphrodite', 'PERSON', 'holding', 'apple', 'PLANT'), ('Aphrodite', 'PERSON', 'holding', 'chiton', 'OBJECT')]</td>\n",
       "    </tr>\n",
       "    <tr>\n",
       "      <th id=\"T_81a67_level0_row15\" class=\"row_heading level0 row15\" >754</th>\n",
       "      <td id=\"T_81a67_row15_col0\" class=\"data row15 col0\" >466</td>\n",
       "      <td id=\"T_81a67_row15_col1\" class=\"data row15 col1\" >Emperor Caracalla riding right on horse, wearing cuirass, holding short scepter in right arm.</td>\n",
       "      <td id=\"T_81a67_row15_col2\" class=\"data row15 col2\" >[('Caracalla', 'PERSON', 'wearing', 'cuirass', 'OBJECT'), ('Caracalla', 'PERSON', 'holding', 'scepter', 'OBJECT')]</td>\n",
       "      <td id=\"T_81a67_row15_col3\" class=\"data row15 col3\" >[('Caracalla', 'PERSON', 'wearing', 'cuirass', 'OBJECT'), ('Caracalla', 'PERSON', 'holding', 'scepter', 'OBJECT')]</td>\n",
       "    </tr>\n",
       "    <tr>\n",
       "      <th id=\"T_81a67_level0_row16\" class=\"row_heading level0 row16\" >2066</th>\n",
       "      <td id=\"T_81a67_row16_col0\" class=\"data row16 col0\" >2570</td>\n",
       "      <td id=\"T_81a67_row16_col1\" class=\"data row16 col1\" >Zeus standing facing, head left, naked to waist, holding thunderbolt in outstretched right hand, left resting on long scepter. Ground line. Border of dots.</td>\n",
       "      <td id=\"T_81a67_row16_col2\" class=\"data row16 col2\" >[('Zeus', 'PERSON', 'holding', 'thunderbolt', 'OBJECT'), ('Zeus', 'PERSON', 'resting_on', 'scepter', 'OBJECT')]</td>\n",
       "      <td id=\"T_81a67_row16_col3\" class=\"data row16 col3\" >[('Zeus', 'PERSON', 'holding', 'thunderbolt', 'OBJECT'), ('Zeus', 'PERSON', 'resting_on', 'scepter', 'OBJECT')]</td>\n",
       "    </tr>\n",
       "    <tr>\n",
       "      <th id=\"T_81a67_level0_row17\" class=\"row_heading level0 row17\" >2040</th>\n",
       "      <td id=\"T_81a67_row17_col0\" class=\"data row17 col0\" >1938</td>\n",
       "      <td id=\"T_81a67_row17_col1\" class=\"data row17 col1\" >Wing Nemesis Nike standing facing, head left, right hand in front of her cista; holding branch in left arm; at her foot, griffin standing left, head upwards. Border of dots.</td>\n",
       "      <td id=\"T_81a67_row17_col2\" class=\"data row17 col2\" >[('Nemesis', 'PERSON', 'holding', 'palm branch', 'OBJECT'), ('Nike', 'PERSON', 'holding', 'palm branch', 'OBJECT')]</td>\n",
       "      <td id=\"T_81a67_row17_col3\" class=\"data row17 col3\" >[('Nemesis', 'PERSON', 'holding', 'palm branch', 'OBJECT'), ('Nike', 'PERSON', 'holding', 'palm branch', 'OBJECT')]</td>\n",
       "    </tr>\n",
       "    <tr>\n",
       "      <th id=\"T_81a67_level0_row18\" class=\"row_heading level0 row18\" >1572</th>\n",
       "      <td id=\"T_81a67_row18_col0\" class=\"data row18 col0\" >2082</td>\n",
       "      <td id=\"T_81a67_row18_col1\" class=\"data row18 col1\" >Nude bearded Heracles standing facing, head right, holding club in right hand, lion skin over left arm and apple of the Hesperides in left hand; at right, serpent Ladon coiling around tree, at right, Hesperide advancing right, head left. Border of dots.</td>\n",
       "      <td id=\"T_81a67_row18_col2\" class=\"data row18 col2\" >[('Heracles', 'PERSON', 'holding', 'club', 'OBJECT'), ('Heracles', 'PERSON', 'holding', 'apple', 'PLANT'), ('serpent', 'ANIMAL', 'coiling', 'tree', 'PLANT')]</td>\n",
       "      <td id=\"T_81a67_row18_col3\" class=\"data row18 col3\" >[('Heracles', 'PERSON', 'holding', 'club', 'OBJECT'), ('Heracles', 'PERSON', 'holding', 'apple', 'PLANT'), ('serpent', 'ANIMAL', 'coiling', 'tree', 'PLANT')]</td>\n",
       "    </tr>\n",
       "    <tr>\n",
       "      <th id=\"T_81a67_level0_row19\" class=\"row_heading level0 row19\" >1432</th>\n",
       "      <td id=\"T_81a67_row19_col0\" class=\"data row19 col0\" >672</td>\n",
       "      <td id=\"T_81a67_row19_col1\" class=\"data row19 col1\" >Nude Heracles seated left on rock, head and torso facing, rock covered with a lion skin, holding club in his right hand that rests on his right knee and resting his left elbow on his thigh, traces of drapery on right thigh; all within a shallow incuse square.</td>\n",
       "      <td id=\"T_81a67_row19_col2\" class=\"data row19 col2\" >[('Heracles', 'PERSON', 'seated_on', 'rock', 'OBJECT'), ('rock', 'OBJECT', 'wearing', 'lion skin', 'OBJECT'), ('Heracles', 'PERSON', 'holding', 'club', 'OBJECT'), ('Heracles', 'PERSON', 'resting_on', 'knee', 'OBJECT')]</td>\n",
       "      <td id=\"T_81a67_row19_col3\" class=\"data row19 col3\" >[('Heracles', 'PERSON', 'seated_on', 'rock', 'OBJECT'), ('rock', 'OBJECT', 'wearing', 'lion skin', 'OBJECT'), ('Heracles', 'PERSON', 'holding', 'club', 'OBJECT'), ('Heracles', 'PERSON', 'resting_on', 'knee', 'OBJECT')]</td>\n",
       "    </tr>\n",
       "  </tbody>\n",
       "</table>\n"
      ],
      "text/plain": [
       "<pandas.io.formats.style.Styler at 0x7fa3b9e32f70>"
      ]
     },
     "execution_count": 57,
     "metadata": {},
     "output_type": "execute_result"
    }
   ],
   "source": [
    "X_test.head(20).style"
   ]
  },
  {
   "cell_type": "markdown",
   "id": "034d60b1",
   "metadata": {},
   "source": [
    "## Auto relations"
   ]
  },
  {
   "cell_type": "code",
   "execution_count": 57,
   "id": "2de1ce71",
   "metadata": {},
   "outputs": [],
   "source": [
    "# adding relations based on adjectives - experimental\n",
    "obj_list = {\n",
    "\"veiled\": (\"wearing\", \"Veil\", \"before\"),\n",
    "\"draped\": (\"wearing\", \"Clothing\", \"before\"),\n",
    "\"helmeted\": (\"wearing\", \"Helmet\", \"before\"),\n",
    "\"diademed\": (\"wearing\", \"Diadem\", \"before\"),\n",
    "\"turreted\": (\"wearing\", \"Mural crown\", \"before\"),\n",
    "\"enthroned\": (\"seated_on\", \"Throne\", \"after\"),\n",
    "\n",
    "}"
   ]
  },
  {
   "cell_type": "code",
   "execution_count": 58,
   "id": "849bdcb1",
   "metadata": {
    "tags": []
   },
   "outputs": [],
   "source": [
    "y_pred[\"design_en\"] = X_test.design_en"
   ]
  },
  {
   "cell_type": "code",
   "execution_count": 59,
   "id": "c48b8750",
   "metadata": {},
   "outputs": [],
   "source": [
    "y_pred = relations_from_adjectives_df(y_pred, \"design_en\", \"y\", ner_model_directory, ner_model_name, id_col, design_col, obj_list, entities_to_consider=[\"PERSON\"])"
   ]
  },
  {
   "cell_type": "code",
   "execution_count": 60,
   "id": "39d9f723",
   "metadata": {
    "tags": []
   },
   "outputs": [
    {
     "data": {
      "text/html": [
       "<div>\n",
       "<style scoped>\n",
       "    .dataframe tbody tr th:only-of-type {\n",
       "        vertical-align: middle;\n",
       "    }\n",
       "\n",
       "    .dataframe tbody tr th {\n",
       "        vertical-align: top;\n",
       "    }\n",
       "\n",
       "    .dataframe thead th {\n",
       "        text-align: right;\n",
       "    }\n",
       "</style>\n",
       "<table border=\"1\" class=\"dataframe\">\n",
       "  <thead>\n",
       "    <tr style=\"text-align: right;\">\n",
       "      <th></th>\n",
       "      <th>design_id</th>\n",
       "      <th>y</th>\n",
       "      <th>design_en</th>\n",
       "    </tr>\n",
       "  </thead>\n",
       "  <tbody>\n",
       "    <tr>\n",
       "      <th>1915</th>\n",
       "      <td>2491</td>\n",
       "      <td>[(Demeter, PERSON, holding, corn, PLANT), (Dem...</td>\n",
       "      <td>Veil Demeter throne left, holding two corn in ...</td>\n",
       "    </tr>\n",
       "    <tr>\n",
       "      <th>1196</th>\n",
       "      <td>1661</td>\n",
       "      <td>[(Antoninus Pius, PERSON, wearing, paludamentu...</td>\n",
       "      <td>Wreath head of Antoninus Pius, right, wearing ...</td>\n",
       "    </tr>\n",
       "    <tr>\n",
       "      <th>2104</th>\n",
       "      <td>27685</td>\n",
       "      <td>[(Olybrius, PERSON, resting_on, shield, OBJECT)]</td>\n",
       "      <td>Olybrius resting on shield.</td>\n",
       "    </tr>\n",
       "    <tr>\n",
       "      <th>2312</th>\n",
       "      <td>28041</td>\n",
       "      <td>[(Ares, PERSON, wearing, helmet, OBJECT)]</td>\n",
       "      <td>Ares wearing helmet.</td>\n",
       "    </tr>\n",
       "    <tr>\n",
       "      <th>1070</th>\n",
       "      <td>3218</td>\n",
       "      <td>[(Heracles, PERSON, grasping, Nemean lion, ANI...</td>\n",
       "      <td>Labour of Heracles: Nude Heracles standing rig...</td>\n",
       "    </tr>\n",
       "    <tr>\n",
       "      <th>...</th>\n",
       "      <td>...</td>\n",
       "      <td>...</td>\n",
       "      <td>...</td>\n",
       "    </tr>\n",
       "    <tr>\n",
       "      <th>1628</th>\n",
       "      <td>944</td>\n",
       "      <td>[(Perseus, PERSON, standing, Cetus, ANIMAL), (...</td>\n",
       "      <td>Perseus and Andromeda; at left, Andromeda stan...</td>\n",
       "    </tr>\n",
       "    <tr>\n",
       "      <th>922</th>\n",
       "      <td>341</td>\n",
       "      <td>[]</td>\n",
       "      <td>Head of Demeter facing, slightly right, hair i...</td>\n",
       "    </tr>\n",
       "    <tr>\n",
       "      <th>2253</th>\n",
       "      <td>27752</td>\n",
       "      <td>[(Olybrius, PERSON, seated_on, kline, OBJECT)]</td>\n",
       "      <td>Olybrius seated on kline.</td>\n",
       "    </tr>\n",
       "    <tr>\n",
       "      <th>2287</th>\n",
       "      <td>27541</td>\n",
       "      <td>[(Olybrius, PERSON, seated_on, shield, OBJECT)]</td>\n",
       "      <td>Olybrius seated on shield.</td>\n",
       "    </tr>\n",
       "    <tr>\n",
       "      <th>452</th>\n",
       "      <td>24712</td>\n",
       "      <td>[(Strymon, PERSON, seated_on, rock, OBJECT), (...</td>\n",
       "      <td>Bearded river-god Strymon seated left on rock,...</td>\n",
       "    </tr>\n",
       "  </tbody>\n",
       "</table>\n",
       "<p>313 rows × 3 columns</p>\n",
       "</div>"
      ],
      "text/plain": [
       "      design_id                                                  y  \\\n",
       "1915       2491  [(Demeter, PERSON, holding, corn, PLANT), (Dem...   \n",
       "1196       1661  [(Antoninus Pius, PERSON, wearing, paludamentu...   \n",
       "2104      27685   [(Olybrius, PERSON, resting_on, shield, OBJECT)]   \n",
       "2312      28041          [(Ares, PERSON, wearing, helmet, OBJECT)]   \n",
       "1070       3218  [(Heracles, PERSON, grasping, Nemean lion, ANI...   \n",
       "...         ...                                                ...   \n",
       "1628        944  [(Perseus, PERSON, standing, Cetus, ANIMAL), (...   \n",
       "922         341                                                 []   \n",
       "2253      27752     [(Olybrius, PERSON, seated_on, kline, OBJECT)]   \n",
       "2287      27541    [(Olybrius, PERSON, seated_on, shield, OBJECT)]   \n",
       "452       24712  [(Strymon, PERSON, seated_on, rock, OBJECT), (...   \n",
       "\n",
       "                                              design_en  \n",
       "1915  Veil Demeter throne left, holding two corn in ...  \n",
       "1196  Wreath head of Antoninus Pius, right, wearing ...  \n",
       "2104                        Olybrius resting on shield.  \n",
       "2312                               Ares wearing helmet.  \n",
       "1070  Labour of Heracles: Nude Heracles standing rig...  \n",
       "...                                                 ...  \n",
       "1628  Perseus and Andromeda; at left, Andromeda stan...  \n",
       "922   Head of Demeter facing, slightly right, hair i...  \n",
       "2253                          Olybrius seated on kline.  \n",
       "2287                         Olybrius seated on shield.  \n",
       "452   Bearded river-god Strymon seated left on rock,...  \n",
       "\n",
       "[313 rows x 3 columns]"
      ]
     },
     "execution_count": 60,
     "metadata": {},
     "output_type": "execute_result"
    }
   ],
   "source": [
    "y_pred"
   ]
  },
  {
   "cell_type": "code",
   "execution_count": 49,
   "id": "56c2c089",
   "metadata": {
    "tags": []
   },
   "outputs": [
    {
     "data": {
      "text/plain": [
       "[('Ares', 'PERSON', 'wearing', 'Helmet', 'OBJECT'),\n",
       " ('Athena', 'PERSON', 'wearing', 'Diadem', 'OBJECT'),\n",
       " ('Athena', 'PERSON', 'holding', 'sword', 'OBJECT'),\n",
       " ('Ares', 'PERSON', 'holding', 'sword', 'OBJECT')]"
      ]
     },
     "execution_count": 49,
     "metadata": {},
     "output_type": "execute_result"
    }
   ],
   "source": [
    "# for testing a single design\n",
    "\n",
    "design = \"Diademed Athena to the left and helmeted Ares to the right, holding sword.\"\n",
    "# rule based - see above \n",
    "auto_relations = relations_from_adjectives_single(design,ner_model_directory, ner_model_name, id_col_RE, design_col_RE, obj_list)\n",
    "# results of the model\n",
    "model_relations = predict_re_single_sentence(model, design, id_col_RE, design_col_RE)\n",
    "# merging both results\n",
    "concat_relations(auto_relations, model_relations)"
   ]
  },
  {
   "cell_type": "code",
   "execution_count": 49,
   "id": "26606b9f",
   "metadata": {},
   "outputs": [
    {
     "name": "stderr",
     "output_type": "stream",
     "text": [
      "Pandas Apply: 100%|█████████████████████████| 7759/7759 [02:20<00:00, 55.29it/s]\n",
      "Pandas Apply: 100%|█████████████████████| 7759/7759 [00:00<00:00, 207714.09it/s]\n"
     ]
    }
   ],
   "source": [
    "# optional -only if results need to be uploaded to database\n",
    "# preprocessing\n",
    "upload = True\n",
    "f = open(\"/home/bigdatalab/Projects/D4N4/NLP_release_1.0/db_access.txt\", \"r\")\n",
    "access = f.read()\n",
    "dc =  Database_Connection(access)\n",
    "cnt_designs = dc.load_designs_from_db(\"data_designs\", [id_col, design_col])\n",
    "cnt_designs = cnt_designs.rename(columns={\"id\": \"design_id\"})\n",
    "\n",
    "cnt_designs[\"design_en_changed\"] = cnt_designs.swifter.apply(lambda row: preprocess.preprocess_design(row.design_en, row.design_id)[0], axis=1)\n",
    "cnt_designs[\"design_en_changed\"] = cnt_designs.swifter.apply(lambda row: row[\"design_en_changed\"].replace(\"?\", \"\").replace(\"(\", \"\").replace(\")\", \"\"), axis=1)"
   ]
  },
  {
   "cell_type": "code",
   "execution_count": 50,
   "id": "6bf5b6f1",
   "metadata": {},
   "outputs": [],
   "source": [
    "# optional -only if results need to be uploaded to database\n",
    "cnt_designs = cnt_designs.rename(columns={\"design_en\": \"design_en_org\"})\n",
    "cnt_designs = cnt_designs.rename(columns={\"design_en_changed\": \"design_en\"})"
   ]
  },
  {
   "cell_type": "code",
   "execution_count": 53,
   "id": "172ec8e7",
   "metadata": {},
   "outputs": [],
   "source": [
    "# optional -only if results need to be uploaded to database - TODO: check by Sebastian on BDL-Server\n",
    "upload = True\n",
    "if upload ==True:\n",
    "    cnt_pred = model.predict(cnt_designs)\n",
    "    cnt_pipeline_output = pd.DataFrame([(str(designid), *relation) for  _, (designid, relation_list) in cnt_pred.iterrows()\n",
    "                    for relation in relation_list],\n",
    "            columns=[\"DesignID\", \"Person\", \"Label_Person\", \"Relation\", \"Object\",\n",
    "                     \"Label_Object\"])\n",
    "    cnt_pipeline_output.to_sql(\"cnt_pipeline_output_v2\",dc.mysql_connection,if_exists=\"replace\", index=False)"
   ]
  },
  {
   "cell_type": "code",
   "execution_count": 59,
   "id": "6491dbb8",
   "metadata": {},
   "outputs": [
    {
     "data": {
      "text/html": [
       "<div>\n",
       "<style scoped>\n",
       "    .dataframe tbody tr th:only-of-type {\n",
       "        vertical-align: middle;\n",
       "    }\n",
       "\n",
       "    .dataframe tbody tr th {\n",
       "        vertical-align: top;\n",
       "    }\n",
       "\n",
       "    .dataframe thead th {\n",
       "        text-align: right;\n",
       "    }\n",
       "</style>\n",
       "<table border=\"1\" class=\"dataframe\">\n",
       "  <thead>\n",
       "    <tr style=\"text-align: right;\">\n",
       "      <th></th>\n",
       "      <th>design_id</th>\n",
       "      <th>design_en_org</th>\n",
       "      <th>design_en</th>\n",
       "    </tr>\n",
       "  </thead>\n",
       "  <tbody>\n",
       "    <tr>\n",
       "      <th>0</th>\n",
       "      <td>1</td>\n",
       "      <td>Diademed head of deified Alexander the Great w...</td>\n",
       "      <td>Diadem head of deified Alexander the Great wit...</td>\n",
       "    </tr>\n",
       "    <tr>\n",
       "      <th>1</th>\n",
       "      <td>6</td>\n",
       "      <td>Altar, lighted and garlanded.</td>\n",
       "      <td>Altar, lighted and garland.</td>\n",
       "    </tr>\n",
       "    <tr>\n",
       "      <th>2</th>\n",
       "      <td>8</td>\n",
       "      <td>Prize amphora on ornamental stand; within line...</td>\n",
       "      <td>Prize amphora on ornamental stand; within line...</td>\n",
       "    </tr>\n",
       "    <tr>\n",
       "      <th>3</th>\n",
       "      <td>9</td>\n",
       "      <td>Amphora with ribbed surface and crooked handle...</td>\n",
       "      <td>Amphora with ribbed surface and crooked handle...</td>\n",
       "    </tr>\n",
       "    <tr>\n",
       "      <th>4</th>\n",
       "      <td>10</td>\n",
       "      <td>Bust of youthful Anchialos, right, wearing tae...</td>\n",
       "      <td>Bust of youthful Anchialos, right, wearing tae...</td>\n",
       "    </tr>\n",
       "  </tbody>\n",
       "</table>\n",
       "</div>"
      ],
      "text/plain": [
       "   design_id                                      design_en_org  \\\n",
       "0          1  Diademed head of deified Alexander the Great w...   \n",
       "1          6                      Altar, lighted and garlanded.   \n",
       "2          8  Prize amphora on ornamental stand; within line...   \n",
       "3          9  Amphora with ribbed surface and crooked handle...   \n",
       "4         10  Bust of youthful Anchialos, right, wearing tae...   \n",
       "\n",
       "                                           design_en  \n",
       "0  Diadem head of deified Alexander the Great wit...  \n",
       "1                        Altar, lighted and garland.  \n",
       "2  Prize amphora on ornamental stand; within line...  \n",
       "3  Amphora with ribbed surface and crooked handle...  \n",
       "4  Bust of youthful Anchialos, right, wearing tae...  "
      ]
     },
     "execution_count": 59,
     "metadata": {},
     "output_type": "execute_result"
    }
   ],
   "source": [
    "cnt_designs.head()"
   ]
  },
  {
   "cell_type": "code",
   "execution_count": null,
   "id": "89c1174f",
   "metadata": {},
   "outputs": [],
   "source": []
  }
 ],
 "metadata": {
  "kernelspec": {
   "display_name": "Python 3 (ipykernel)",
   "language": "python",
   "name": "python3"
  },
  "language_info": {
   "codemirror_mode": {
    "name": "ipython",
    "version": 3
   },
   "file_extension": ".py",
   "mimetype": "text/x-python",
   "name": "python",
   "nbconvert_exporter": "python",
   "pygments_lexer": "ipython3",
   "version": "3.8.13"
  }
 },
 "nbformat": 4,
 "nbformat_minor": 5
}
