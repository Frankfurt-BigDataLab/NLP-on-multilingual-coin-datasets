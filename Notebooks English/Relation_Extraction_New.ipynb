{
 "cells": [
  {
   "cell_type": "code",
   "execution_count": 1,
   "metadata": {},
   "outputs": [],
   "source": [
    "import sys\n",
    "sys.path.append('../')\n",
    "import pandas as pd\n",
    "import random\n",
    "import os\n",
    "import numpy as np\n",
    "import swifter\n",
    "\n",
    "from cnt.model import (DesignEstimator, RelationExtractor, save_pipeline, load_pipeline, predict_re_single_sentence, \n",
    "relations_from_adjectives_df, relations_from_adjectives_single, concat_relations)\n",
    "from cnt.annotate import (annotate, annotate_single_design, \n",
    "                          annotate_designs, \n",
    "                          extract_string_from_annotation, labeling_eng)\n",
    "from cnt.extract_relation import (path, NERTransformer, FeatureExtractor)\n",
    "from cnt.evaluate import Metrics\n",
    "from cnt.vectorize import (Doc2Str, Path2Str, Verbs2Str, AveragedPath2Vec, \n",
    "                           AveragedRest2Vec)\n",
    "from cnt.io import (replace_left_right)\n",
    "from cnt.io import  Database_Connection\n",
    "from cnt.preprocess import Preprocess\n",
    "\n",
    "\n",
    "from sklearn.model_selection import train_test_split\n",
    "from sklearn.pipeline import Pipeline, make_pipeline, make_union\n",
    "from sklearn.feature_extraction.text import TfidfVectorizer, CountVectorizer\n",
    "from sklearn.svm import SVC\n",
    "from sklearn.linear_model import LogisticRegression\n",
    "from sklearn.ensemble import RandomForestClassifier\n",
    "from sklearn.preprocessing import Normalizer\n",
    "from sklearn.naive_bayes import MultinomialNB\n",
    "from itertools import product\n",
    "import warnings\n",
    "warnings.filterwarnings('ignore')"
   ]
  },
  {
   "cell_type": "code",
   "execution_count": 2,
   "metadata": {},
   "outputs": [],
   "source": [
    "dc =  Database_Connection(\"mysql+mysqlconnector://root:YourConnection\")  # Format user:password@IP/Database"
   ]
  },
  {
   "cell_type": "code",
   "execution_count": 3,
   "metadata": {},
   "outputs": [],
   "source": [
    "# Define all variables\n",
    "id_col = \"id\" \n",
    "design_col = \"design_en\"\n",
    "language = \"_en\"\n",
    "add_columns = [\"id\", \"name\"+language, \"alternativenames\"+language, \"class\"]\n",
    "id_col_RE = \"design_id\"\n",
    "design_col_RE = \"design_en\"\n",
    "ner_model_directory = \"../cnt/trained_model/ner/english_new/\" # for loading NER\n",
    "ner_model_name = \"english_cno\"\n",
    "re_model_directory = \"../cnt/trained_model/re/\"  # to save/load RE\n",
    "re_model_name = \"english_cno_new\"\n"
   ]
  },
  {
   "cell_type": "code",
   "execution_count": 4,
   "metadata": {},
   "outputs": [],
   "source": [
    "# optional - if already defined above\n",
    "id_col = \"id\"\n",
    "design_col = \"design_en\"\n",
    "language = \"_en\"\n",
    "add_columns = [\"id\", \"name\"+language, \"alternativenames\"+language, \"class\"]"
   ]
  },
  {
   "cell_type": "code",
   "execution_count": 4,
   "metadata": {},
   "outputs": [],
   "source": [
    "# Get the annotated designs (ground truth) from the database\n",
    "# ... under investigation\n",
    "train = dc.create_own_query(\"\"\"select design_id, \n",
    "(select design_en from nlp_training_designs as nlp where re.design_id=nlp.id) as design_en,\n",
    "(select name_en from nlp_list_entities as ner where ner.id=re.subject) as s, \n",
    "(select class from nlp_list_entities as ner where ner.id=re.subject) as subject_class, \n",
    "(select name_en from nlp_list_entities as ner where ner.id=re.predicate) as p, \n",
    "(select name_en from nlp_list_entities as ner where ner.id=re.object) as o, \n",
    "(select class from nlp_list_entities as ner where ner.id=re.object) as object_class\n",
    "from nlp_relation_extraction_en_v2 as re;\"\"\")"
   ]
  },
  {
   "cell_type": "code",
   "execution_count": 5,
   "metadata": {},
   "outputs": [
    {
     "data": {
      "text/html": [
       "<div>\n",
       "<style scoped>\n",
       "    .dataframe tbody tr th:only-of-type {\n",
       "        vertical-align: middle;\n",
       "    }\n",
       "\n",
       "    .dataframe tbody tr th {\n",
       "        vertical-align: top;\n",
       "    }\n",
       "\n",
       "    .dataframe thead th {\n",
       "        text-align: right;\n",
       "    }\n",
       "</style>\n",
       "<table border=\"1\" class=\"dataframe\">\n",
       "  <thead>\n",
       "    <tr style=\"text-align: right;\">\n",
       "      <th></th>\n",
       "      <th>design_id</th>\n",
       "      <th>design_en</th>\n",
       "      <th>s</th>\n",
       "      <th>subject_class</th>\n",
       "      <th>p</th>\n",
       "      <th>o</th>\n",
       "      <th>object_class</th>\n",
       "    </tr>\n",
       "  </thead>\n",
       "  <tbody>\n",
       "    <tr>\n",
       "      <th>0</th>\n",
       "      <td>9</td>\n",
       "      <td>Amphora with ribbed surface and crooked handle...</td>\n",
       "      <td>amphora</td>\n",
       "      <td>OBJECT</td>\n",
       "      <td>holding</td>\n",
       "      <td>poppy</td>\n",
       "      <td>PLANT</td>\n",
       "    </tr>\n",
       "    <tr>\n",
       "      <th>1</th>\n",
       "      <td>33</td>\n",
       "      <td>Half-nude Aphrodite standing facing, head left...</td>\n",
       "      <td>Aphrodite</td>\n",
       "      <td>PERSON</td>\n",
       "      <td>holding</td>\n",
       "      <td>apple</td>\n",
       "      <td>PLANT</td>\n",
       "    </tr>\n",
       "    <tr>\n",
       "      <th>2</th>\n",
       "      <td>36</td>\n",
       "      <td>Nude Aphrodite standing facing, head right, co...</td>\n",
       "      <td>Eros</td>\n",
       "      <td>PERSON</td>\n",
       "      <td>seated_on</td>\n",
       "      <td>dolphin</td>\n",
       "      <td>ANIMAL</td>\n",
       "    </tr>\n",
       "    <tr>\n",
       "      <th>3</th>\n",
       "      <td>85</td>\n",
       "      <td>Nude Apollo standing facing, head left, left l...</td>\n",
       "      <td>Apollo</td>\n",
       "      <td>PERSON</td>\n",
       "      <td>holding</td>\n",
       "      <td>patera</td>\n",
       "      <td>OBJECT</td>\n",
       "    </tr>\n",
       "    <tr>\n",
       "      <th>4</th>\n",
       "      <td>85</td>\n",
       "      <td>Nude Apollo standing facing, head left, left l...</td>\n",
       "      <td>serpent staff</td>\n",
       "      <td>OBJECT</td>\n",
       "      <td>coiling</td>\n",
       "      <td>omphalos</td>\n",
       "      <td>OBJECT</td>\n",
       "    </tr>\n",
       "  </tbody>\n",
       "</table>\n",
       "</div>"
      ],
      "text/plain": [
       "   design_id                                          design_en  \\\n",
       "0          9  Amphora with ribbed surface and crooked handle...   \n",
       "1         33  Half-nude Aphrodite standing facing, head left...   \n",
       "2         36  Nude Aphrodite standing facing, head right, co...   \n",
       "3         85  Nude Apollo standing facing, head left, left l...   \n",
       "4         85  Nude Apollo standing facing, head left, left l...   \n",
       "\n",
       "               s subject_class          p         o object_class  \n",
       "0        amphora        OBJECT    holding     poppy        PLANT  \n",
       "1      Aphrodite        PERSON    holding     apple        PLANT  \n",
       "2           Eros        PERSON  seated_on   dolphin       ANIMAL  \n",
       "3         Apollo        PERSON    holding    patera       OBJECT  \n",
       "4  serpent staff        OBJECT    coiling  omphalos       OBJECT  "
      ]
     },
     "execution_count": 5,
     "metadata": {},
     "output_type": "execute_result"
    }
   ],
   "source": [
    "train.head(5)"
   ]
  },
  {
   "cell_type": "code",
   "execution_count": 6,
   "metadata": {},
   "outputs": [],
   "source": [
    "# merging s, p, o to one triple into an array of length 1 for each entry - number of rows stay the same\n",
    "train[\"y\"] = train.apply(lambda row: [(row.s, row.subject_class, row.p, row.o, row.object_class)], axis=1)"
   ]
  },
  {
   "cell_type": "code",
   "execution_count": 7,
   "metadata": {},
   "outputs": [
    {
     "data": {
      "text/html": [
       "<div>\n",
       "<style scoped>\n",
       "    .dataframe tbody tr th:only-of-type {\n",
       "        vertical-align: middle;\n",
       "    }\n",
       "\n",
       "    .dataframe tbody tr th {\n",
       "        vertical-align: top;\n",
       "    }\n",
       "\n",
       "    .dataframe thead th {\n",
       "        text-align: right;\n",
       "    }\n",
       "</style>\n",
       "<table border=\"1\" class=\"dataframe\">\n",
       "  <thead>\n",
       "    <tr style=\"text-align: right;\">\n",
       "      <th></th>\n",
       "      <th>design_id</th>\n",
       "      <th>design_en</th>\n",
       "      <th>s</th>\n",
       "      <th>subject_class</th>\n",
       "      <th>p</th>\n",
       "      <th>o</th>\n",
       "      <th>object_class</th>\n",
       "      <th>y</th>\n",
       "    </tr>\n",
       "  </thead>\n",
       "  <tbody>\n",
       "    <tr>\n",
       "      <th>0</th>\n",
       "      <td>9</td>\n",
       "      <td>Amphora with ribbed surface and crooked handle...</td>\n",
       "      <td>amphora</td>\n",
       "      <td>OBJECT</td>\n",
       "      <td>holding</td>\n",
       "      <td>poppy</td>\n",
       "      <td>PLANT</td>\n",
       "      <td>[(amphora, OBJECT, holding, poppy, PLANT)]</td>\n",
       "    </tr>\n",
       "    <tr>\n",
       "      <th>1</th>\n",
       "      <td>33</td>\n",
       "      <td>Half-nude Aphrodite standing facing, head left...</td>\n",
       "      <td>Aphrodite</td>\n",
       "      <td>PERSON</td>\n",
       "      <td>holding</td>\n",
       "      <td>apple</td>\n",
       "      <td>PLANT</td>\n",
       "      <td>[(Aphrodite, PERSON, holding, apple, PLANT)]</td>\n",
       "    </tr>\n",
       "  </tbody>\n",
       "</table>\n",
       "</div>"
      ],
      "text/plain": [
       "   design_id                                          design_en          s  \\\n",
       "0          9  Amphora with ribbed surface and crooked handle...    amphora   \n",
       "1         33  Half-nude Aphrodite standing facing, head left...  Aphrodite   \n",
       "\n",
       "  subject_class        p      o object_class  \\\n",
       "0        OBJECT  holding  poppy        PLANT   \n",
       "1        PERSON  holding  apple        PLANT   \n",
       "\n",
       "                                              y  \n",
       "0    [(amphora, OBJECT, holding, poppy, PLANT)]  \n",
       "1  [(Aphrodite, PERSON, holding, apple, PLANT)]  "
      ]
     },
     "execution_count": 7,
     "metadata": {},
     "output_type": "execute_result"
    }
   ],
   "source": [
    "train.head(2).style"
   ]
  },
  {
   "cell_type": "code",
   "execution_count": 8,
   "metadata": {},
   "outputs": [],
   "source": [
    "# needed for the later merge\n",
    "tmp = train.groupby(\"design_id\").agg({\"y\": \"sum\"})"
   ]
  },
  {
   "cell_type": "code",
   "execution_count": 9,
   "metadata": {},
   "outputs": [
    {
     "data": {
      "text/html": [
       "<style  type=\"text/css\" >\n",
       "</style><table id=\"T_6be78721_174f_11ef_9a12_3448ed4f0c98\" ><thead>    <tr>        <th class=\"blank level0\" ></th>        <th class=\"col_heading level0 col0\" >y</th>    </tr>    <tr>        <th class=\"index_name level0\" >design_id</th>        <th class=\"blank\" ></th>    </tr></thead><tbody>\n",
       "                <tr>\n",
       "                        <th id=\"T_6be78721_174f_11ef_9a12_3448ed4f0c98level0_row0\" class=\"row_heading level0 row0\" >1706</th>\n",
       "                        <td id=\"T_6be78721_174f_11ef_9a12_3448ed4f0c98row0_col0\" class=\"data row0 col0\" >[('Caracalla', 'PERSON', 'wearing', 'toga', 'OBJECT'), ('Caracalla', 'PERSON', 'holding', 'scroll', 'OBJECT'), ('Geta', 'PERSON', 'wearing', 'toga', 'OBJECT'), ('Geta', 'PERSON', 'holding', 'scroll', 'OBJECT')]</td>\n",
       "            </tr>\n",
       "    </tbody></table>"
      ],
      "text/plain": [
       "<pandas.io.formats.style.Styler at 0x22e75e54190>"
      ]
     },
     "execution_count": 9,
     "metadata": {},
     "output_type": "execute_result"
    }
   ],
   "source": [
    "tmp.loc[tmp.index==1706].style"
   ]
  },
  {
   "cell_type": "code",
   "execution_count": 10,
   "metadata": {},
   "outputs": [],
   "source": [
    "X = train"
   ]
  },
  {
   "cell_type": "code",
   "execution_count": 11,
   "metadata": {},
   "outputs": [],
   "source": [
    "# entries for one design are merged --> arrays contain all triples for each design\n",
    "X = X.merge(tmp, left_on=\"design_id\", right_on=\"design_id\", suffixes=('', 'y'))"
   ]
  },
  {
   "cell_type": "code",
   "execution_count": 12,
   "metadata": {},
   "outputs": [],
   "source": [
    "X = X[[\"design_id\", \"design_en\", \"yy\"]].rename(columns={\"yy\":\"y\"})"
   ]
  },
  {
   "cell_type": "code",
   "execution_count": 13,
   "metadata": {},
   "outputs": [],
   "source": [
    "# duplicate entries for designs are removed (after merge the information is kept in a single row for each design)\n",
    "X = X.drop_duplicates(\"design_id\",keep=\"first\")"
   ]
  },
  {
   "cell_type": "code",
   "execution_count": 14,
   "metadata": {},
   "outputs": [],
   "source": [
    "# for preprocessing (preprocessing changes the original design text)\n",
    "X[\"design_en_changed\"] = \"\""
   ]
  },
  {
   "cell_type": "code",
   "execution_count": 15,
   "metadata": {},
   "outputs": [
    {
     "data": {
      "text/plain": [
       "(1297, 4)"
      ]
     },
     "execution_count": 15,
     "metadata": {},
     "output_type": "execute_result"
    }
   ],
   "source": [
    "X.shape"
   ]
  },
  {
   "cell_type": "code",
   "execution_count": 16,
   "metadata": {},
   "outputs": [],
   "source": [
    "df_entities = dc.load_from_db(\"nlp_list_entities\", add_columns)"
   ]
  },
  {
   "cell_type": "code",
   "execution_count": 17,
   "metadata": {},
   "outputs": [],
   "source": [
    "# Add rules for preprocessing\n",
    "preprocess = Preprocess()\n",
    "preprocess.add_rule(\"horseman\", \"horse man\")\n",
    "preprocess.add_rule(\"horsemen\", \"horse men\")\n",
    "\n",
    "for index, row in df_entities.iterrows():\n",
    "    if row[\"alternativenames_en\"] is not None:\n",
    "        if row[\"class\"] != \"VERB\":\n",
    "            standard_name = row[\"name_en\"]\n",
    "            alt_names = row[\"alternativenames_en\"].split(\", \")\n",
    "            for alt_name in alt_names:\n",
    "                preprocess.add_rule(alt_name, standard_name)"
   ]
  },
  {
   "cell_type": "markdown",
   "metadata": {},
   "source": [
    "#### Bei römischen Zahlen scheint es noch kleine Probleme zu geben, daher nochmal extra manuell"
   ]
  },
  {
   "cell_type": "code",
   "execution_count": 18,
   "metadata": {},
   "outputs": [],
   "source": [
    "for rule in list(preprocess.rules):\n",
    "    if \" I.\" in rule or \" II.\" in rule or \" III.\" in rule or \" IV.\" in rule or \" V.\" in rule:\n",
    "        del preprocess.rules[rule]"
   ]
  },
  {
   "cell_type": "code",
   "execution_count": 19,
   "metadata": {},
   "outputs": [],
   "source": [
    "for index, row in X.iterrows():\n",
    "    if \" I.\" in row[\"design_en\"]:\n",
    "        X.at[index, \"design_en\"] = row[\"design_en\"].replace(\" I.\", \" I\")\n",
    "    if \" II.\" in row[\"design_en\"]:\n",
    "        X.at[index, \"design_en\"] = row[\"design_en\"].replace(\" II.\", \" II\")\n",
    "    if \" III.\" in row[\"design_en\"]:\n",
    "        X.at[index, \"design_en\"] = row[\"design_en\"].replace(\" III.\", \" III\")\n",
    "    if \" IV.\" in row[\"design_en\"]:\n",
    "        X.at[index, \"design_en\"] = row[\"design_en\"].replace(\" IV.\", \" IV\")\n",
    "    if \" V.\" in row[\"design_en\"]:\n",
    "        X.at[index, \"design_en\"] = row[\"design_en\"].replace(\" V.\", \" V\")"
   ]
  },
  {
   "cell_type": "markdown",
   "metadata": {},
   "source": [
    "## Apply Preprocessing"
   ]
  },
  {
   "cell_type": "code",
   "execution_count": 20,
   "metadata": {},
   "outputs": [
    {
     "data": {
      "application/vnd.jupyter.widget-view+json": {
       "model_id": "17e85a0d8bb44710bc37afee11deaa18",
       "version_major": 2,
       "version_minor": 0
      },
      "text/plain": [
       "HBox(children=(FloatProgress(value=0.0, description='Pandas Apply', max=1297.0, style=ProgressStyle(descriptio…"
      ]
     },
     "metadata": {},
     "output_type": "display_data"
    },
    {
     "name": "stdout",
     "output_type": "stream",
     "text": [
      "\n"
     ]
    }
   ],
   "source": [
    "# Apply defined rules\n",
    "X[\"design_en_changed\"] = X.swifter.apply(lambda row: preprocess.preprocess_design(row.design_en, row.design_id)[0], axis=1)"
   ]
  },
  {
   "cell_type": "code",
   "execution_count": 21,
   "metadata": {},
   "outputs": [
    {
     "data": {
      "application/vnd.jupyter.widget-view+json": {
       "model_id": "d3e7f76f82a548f593808776b7211d70",
       "version_major": 2,
       "version_minor": 0
      },
      "text/plain": [
       "HBox(children=(FloatProgress(value=0.0, description='Pandas Apply', max=1297.0, style=ProgressStyle(descriptio…"
      ]
     },
     "metadata": {},
     "output_type": "display_data"
    },
    {
     "name": "stdout",
     "output_type": "stream",
     "text": [
      "\n"
     ]
    }
   ],
   "source": [
    "# Deleting brackets and questionmarks\n",
    "X[\"design_en_changed\"] = X.swifter.apply(lambda row: row[\"design_en_changed\"].replace(\"?\", \"\").replace(\"(\", \"\").replace(\")\", \"\"), axis=1)"
   ]
  },
  {
   "cell_type": "code",
   "execution_count": 22,
   "metadata": {},
   "outputs": [],
   "source": [
    "X.rename(columns={\"design_en\":\"design_en_orig\", \"design_en_changed\":\"design_en\", \"y\":\"annotations_orig\"}, inplace=True)"
   ]
  },
  {
   "cell_type": "code",
   "execution_count": 23,
   "metadata": {},
   "outputs": [
    {
     "data": {
      "application/vnd.jupyter.widget-view+json": {
       "model_id": "6b118ea17324436d8bb719ce69ce20a5",
       "version_major": 2,
       "version_minor": 0
      },
      "text/plain": [
       "HBox(children=(FloatProgress(value=0.0, description='Pandas Apply', max=1297.0, style=ProgressStyle(descriptio…"
      ]
     },
     "metadata": {},
     "output_type": "display_data"
    },
    {
     "name": "stdout",
     "output_type": "stream",
     "text": [
      "\n"
     ]
    }
   ],
   "source": [
    "# Mapping GT - prepocessing rules are also applied to GT\n",
    "X[\"y\"] = X.swifter.apply(lambda row: preprocess.preprocess_re(row[\"annotations_orig\"], row.design_id), axis=1)"
   ]
  },
  {
   "cell_type": "markdown",
   "metadata": {},
   "source": [
    "### Train the RE model"
   ]
  },
  {
   "cell_type": "code",
   "execution_count": 27,
   "metadata": {},
   "outputs": [],
   "source": [
    "# optional - if already defined above\n",
    "id_col_RE = \"design_id\"\n",
    "design_col_RE = \"design_en\""
   ]
  },
  {
   "cell_type": "code",
   "execution_count": 24,
   "metadata": {
    "tags": []
   },
   "outputs": [],
   "source": [
    "classifier = LogisticRegression(max_iter=1000)\n",
    "#classifier = RandomForestClassifier()\n",
    "string_converter = Path2Str(pos=True) \n",
    "vectorizer = CountVectorizer(ngram_range=(1,3))\n",
    "feature = make_pipeline(string_converter, vectorizer)"
   ]
  },
  {
   "cell_type": "code",
   "execution_count": 25,
   "metadata": {
    "tags": []
   },
   "outputs": [],
   "source": [
    "X_train, X_test, y_train, y_test = train_test_split(X[[id_col_RE, design_col_RE]], X[[id_col_RE, \"y\"]], test_size=0.25, random_state=33)"
   ]
  },
  {
   "cell_type": "code",
   "execution_count": 26,
   "metadata": {},
   "outputs": [
    {
     "data": {
      "text/html": [
       "<div>\n",
       "<style scoped>\n",
       "    .dataframe tbody tr th:only-of-type {\n",
       "        vertical-align: middle;\n",
       "    }\n",
       "\n",
       "    .dataframe tbody tr th {\n",
       "        vertical-align: top;\n",
       "    }\n",
       "\n",
       "    .dataframe thead th {\n",
       "        text-align: right;\n",
       "    }\n",
       "</style>\n",
       "<table border=\"1\" class=\"dataframe\">\n",
       "  <thead>\n",
       "    <tr style=\"text-align: right;\">\n",
       "      <th></th>\n",
       "      <th>design_id</th>\n",
       "      <th>design_en_orig</th>\n",
       "      <th>annotations_orig</th>\n",
       "      <th>design_en</th>\n",
       "      <th>y</th>\n",
       "    </tr>\n",
       "  </thead>\n",
       "  <tbody>\n",
       "    <tr>\n",
       "      <th>0</th>\n",
       "      <td>9</td>\n",
       "      <td>Amphora with ribbed surface and crooked handle...</td>\n",
       "      <td>[(amphora, OBJECT, holding, poppy, PLANT)]</td>\n",
       "      <td>Amphora with ribbed surface and crooked handle...</td>\n",
       "      <td>[(amphora, OBJECT, holding, poppy, PLANT)]</td>\n",
       "    </tr>\n",
       "    <tr>\n",
       "      <th>1</th>\n",
       "      <td>33</td>\n",
       "      <td>Half-nude Aphrodite standing facing, head left...</td>\n",
       "      <td>[(Aphrodite, PERSON, holding, apple, PLANT)]</td>\n",
       "      <td>Half-nude Aphrodite standing facing, head left...</td>\n",
       "      <td>[(Aphrodite, PERSON, holding, apple, PLANT)]</td>\n",
       "    </tr>\n",
       "    <tr>\n",
       "      <th>2</th>\n",
       "      <td>36</td>\n",
       "      <td>Nude Aphrodite standing facing, head right, co...</td>\n",
       "      <td>[(Eros, PERSON, seated_on, dolphin, ANIMAL)]</td>\n",
       "      <td>Nude Aphrodite standing facing, head right, co...</td>\n",
       "      <td>[(Eros, PERSON, seated_on, dolphin, ANIMAL)]</td>\n",
       "    </tr>\n",
       "    <tr>\n",
       "      <th>3</th>\n",
       "      <td>85</td>\n",
       "      <td>Nude Apollo standing facing, head left, left l...</td>\n",
       "      <td>[(Apollo, PERSON, holding, patera, OBJECT), (s...</td>\n",
       "      <td>Nude Apollo standing facing, head left, left l...</td>\n",
       "      <td>[(Apollo, PERSON, holding, patera, OBJECT), (s...</td>\n",
       "    </tr>\n",
       "    <tr>\n",
       "      <th>5</th>\n",
       "      <td>104</td>\n",
       "      <td>Artemis advancing right, wearing short flutter...</td>\n",
       "      <td>[(Artemis, PERSON, wearing, chiton, OBJECT), (...</td>\n",
       "      <td>Artemis advancing right, wearing short flutter...</td>\n",
       "      <td>[(Artemis, PERSON, wearing, chiton, OBJECT), (...</td>\n",
       "    </tr>\n",
       "  </tbody>\n",
       "</table>\n",
       "</div>"
      ],
      "text/plain": [
       "   design_id                                     design_en_orig  \\\n",
       "0          9  Amphora with ribbed surface and crooked handle...   \n",
       "1         33  Half-nude Aphrodite standing facing, head left...   \n",
       "2         36  Nude Aphrodite standing facing, head right, co...   \n",
       "3         85  Nude Apollo standing facing, head left, left l...   \n",
       "5        104  Artemis advancing right, wearing short flutter...   \n",
       "\n",
       "                                    annotations_orig  \\\n",
       "0         [(amphora, OBJECT, holding, poppy, PLANT)]   \n",
       "1       [(Aphrodite, PERSON, holding, apple, PLANT)]   \n",
       "2       [(Eros, PERSON, seated_on, dolphin, ANIMAL)]   \n",
       "3  [(Apollo, PERSON, holding, patera, OBJECT), (s...   \n",
       "5  [(Artemis, PERSON, wearing, chiton, OBJECT), (...   \n",
       "\n",
       "                                           design_en  \\\n",
       "0  Amphora with ribbed surface and crooked handle...   \n",
       "1  Half-nude Aphrodite standing facing, head left...   \n",
       "2  Nude Aphrodite standing facing, head right, co...   \n",
       "3  Nude Apollo standing facing, head left, left l...   \n",
       "5  Artemis advancing right, wearing short flutter...   \n",
       "\n",
       "                                                   y  \n",
       "0         [(amphora, OBJECT, holding, poppy, PLANT)]  \n",
       "1       [(Aphrodite, PERSON, holding, apple, PLANT)]  \n",
       "2       [(Eros, PERSON, seated_on, dolphin, ANIMAL)]  \n",
       "3  [(Apollo, PERSON, holding, patera, OBJECT), (s...  \n",
       "5  [(Artemis, PERSON, wearing, chiton, OBJECT), (...  "
      ]
     },
     "execution_count": 26,
     "metadata": {},
     "output_type": "execute_result"
    }
   ],
   "source": [
    "X.head()"
   ]
  },
  {
   "cell_type": "markdown",
   "metadata": {},
   "source": [
    "#### load pretrained NER-Model"
   ]
  },
  {
   "cell_type": "code",
   "execution_count": 31,
   "metadata": {
    "tags": []
   },
   "outputs": [],
   "source": [
    "# optional - if already defined above\n",
    "ner_model_directory = \"../cnt/trained_model/ner/english_new/\"\n",
    "ner_model_name = \"english_cno\""
   ]
  },
  {
   "cell_type": "markdown",
   "metadata": {},
   "source": [
    "#### define RE-Model path"
   ]
  },
  {
   "cell_type": "code",
   "execution_count": 32,
   "metadata": {
    "tags": []
   },
   "outputs": [],
   "source": [
    "# optional - if already defined above\n",
    "re_model_directory = \"../cnt/trained_model/re/\"\n",
    "re_model_name = \"english_cno_new\""
   ]
  },
  {
   "cell_type": "code",
   "execution_count": 28,
   "metadata": {
    "tags": []
   },
   "outputs": [
    {
     "data": {
      "text/plain": [
       "Pipeline(steps=[('nertransformer',\n",
       "                 NERTransformer(design_col='design_en', id_col='design_id',\n",
       "                                model_dir='../cnt/trained_model/ner/english_new/',\n",
       "                                model_name='english_cno')),\n",
       "                ('featureextractor',\n",
       "                 FeatureExtractor(design_col='design_en', id_col='design_id',\n",
       "                                  model_dir='../cnt/trained_model/ner/english_new/',\n",
       "                                  model_name='english_cno')),\n",
       "                ('relationextractor',\n",
       "                 RelationExtractor(id_col='design_id',\n",
       "                                   model_name='english_cno_new',\n",
       "                                   output_dir='../cnt/trained_model/re/',\n",
       "                                   pipeline=Pipeline(steps=[('pipeline',\n",
       "                                                             Pipeline(steps=[('path2str',\n",
       "                                                                              Path2Str(pos=True)),\n",
       "                                                                             ('countvectorizer',\n",
       "                                                                              CountVectorizer(ngram_range=(1,\n",
       "                                                                                                           3)))])),\n",
       "                                                            ('logisticregression',\n",
       "                                                             LogisticRegression(max_iter=1000))])))])"
      ]
     },
     "execution_count": 28,
     "metadata": {},
     "output_type": "execute_result"
    }
   ],
   "source": [
    "# training\n",
    "inner_pipeline = make_pipeline(feature, classifier)\n",
    "pipeline = make_pipeline(NERTransformer(ner_model_directory, ner_model_name, id_col_RE, design_col_RE),\n",
    "                         FeatureExtractor(ner_model_directory, ner_model_name, id_col_RE, design_col_RE),\n",
    "                         RelationExtractor(inner_pipeline, re_model_directory, re_model_name, id_col_RE))\n",
    "pipeline.fit(X_train, y_train)"
   ]
  },
  {
   "cell_type": "markdown",
   "metadata": {},
   "source": [
    "## Save and Load model"
   ]
  },
  {
   "cell_type": "code",
   "execution_count": 29,
   "metadata": {
    "tags": []
   },
   "outputs": [],
   "source": [
    "save_pipeline(pipeline, re_model_directory, re_model_name)"
   ]
  },
  {
   "cell_type": "code",
   "execution_count": 30,
   "metadata": {
    "tags": []
   },
   "outputs": [],
   "source": [
    "model = load_pipeline(re_model_directory, re_model_name)"
   ]
  },
  {
   "cell_type": "markdown",
   "metadata": {},
   "source": [
    "## Predict"
   ]
  },
  {
   "cell_type": "code",
   "execution_count": 31,
   "metadata": {
    "tags": []
   },
   "outputs": [],
   "source": [
    "y_pred = model.predict(X_test)"
   ]
  },
  {
   "cell_type": "code",
   "execution_count": 32,
   "metadata": {
    "tags": []
   },
   "outputs": [],
   "source": [
    "metrics = Metrics()"
   ]
  },
  {
   "cell_type": "code",
   "execution_count": 33,
   "metadata": {
    "tags": []
   },
   "outputs": [],
   "source": [
    "precision, recall = metrics.score_precision_recall(y_test, y_pred)\n",
    "F1 = (2*precision*recall) / (precision + recall)"
   ]
  },
  {
   "cell_type": "code",
   "execution_count": 34,
   "metadata": {
    "tags": []
   },
   "outputs": [
    {
     "name": "stdout",
     "output_type": "stream",
     "text": [
      "Precision 84.54\n",
      "Recall 61.29\n",
      "F1 71.06\n"
     ]
    }
   ],
   "source": [
    "print(\"Precision\", round(precision*100,2))\n",
    "print(\"Recall\", round(recall*100,2))\n",
    "print(\"F1\", round(F1*100,2))"
   ]
  },
  {
   "cell_type": "markdown",
   "metadata": {},
   "source": [
    "## Map back"
   ]
  },
  {
   "cell_type": "code",
   "execution_count": 35,
   "metadata": {},
   "outputs": [],
   "source": [
    "# results (that are based on the preprocessed designs) are mapped back to the original designs\n",
    "\n",
    "X_test[\"y\"] = y_test[\"y\"]"
   ]
  },
  {
   "cell_type": "code",
   "execution_count": 37,
   "metadata": {},
   "outputs": [
    {
     "data": {
      "application/vnd.jupyter.widget-view+json": {
       "model_id": "176311beca6f464b8af53bc482b20d5f",
       "version_major": 2,
       "version_minor": 0
      },
      "text/plain": [
       "HBox(children=(FloatProgress(value=0.0, description='Pandas Apply', max=325.0, style=ProgressStyle(description…"
      ]
     },
     "metadata": {},
     "output_type": "display_data"
    },
    {
     "name": "stdout",
     "output_type": "stream",
     "text": [
      "\n"
     ]
    }
   ],
   "source": [
    "# Deleting brackets and questionmarks\n",
    "X_test[\"y_mapped\"] = X_test.swifter.apply(lambda row: preprocess.map_re(row[\"y\"], row.design_id), axis=1)"
   ]
  },
  {
   "cell_type": "code",
   "execution_count": 38,
   "metadata": {},
   "outputs": [
    {
     "data": {
      "text/html": [
       "<div>\n",
       "<style scoped>\n",
       "    .dataframe tbody tr th:only-of-type {\n",
       "        vertical-align: middle;\n",
       "    }\n",
       "\n",
       "    .dataframe tbody tr th {\n",
       "        vertical-align: top;\n",
       "    }\n",
       "\n",
       "    .dataframe thead th {\n",
       "        text-align: right;\n",
       "    }\n",
       "</style>\n",
       "<table border=\"1\" class=\"dataframe\">\n",
       "  <thead>\n",
       "    <tr style=\"text-align: right;\">\n",
       "      <th></th>\n",
       "      <th>design_id</th>\n",
       "      <th>design_en</th>\n",
       "      <th>y</th>\n",
       "      <th>y_mapped</th>\n",
       "    </tr>\n",
       "  </thead>\n",
       "  <tbody>\n",
       "    <tr>\n",
       "      <th>1899</th>\n",
       "      <td>1700</td>\n",
       "      <td>Bare-headed bust of youthful Geta, right, wear...</td>\n",
       "      <td>[(Geta, PERSON, wearing, cuirass, OBJECT), (Ge...</td>\n",
       "      <td>[(Geta, PERSON, wearing, cuirass, OBJECT), (Ge...</td>\n",
       "    </tr>\n",
       "    <tr>\n",
       "      <th>179</th>\n",
       "      <td>778</td>\n",
       "      <td>Hygieia standing right, feeding serpent held i...</td>\n",
       "      <td>[(Hygieia, PERSON, feeding, serpent staff, OBJ...</td>\n",
       "      <td>[(Hygieia, PERSON, feeding, serpent staff, OBJ...</td>\n",
       "    </tr>\n",
       "    <tr>\n",
       "      <th>364</th>\n",
       "      <td>1620</td>\n",
       "      <td>Nude bearded Heracles advancing right, graspin...</td>\n",
       "      <td>[(Heracles, PERSON, grasping, Cretan Bull, ANI...</td>\n",
       "      <td>[(Heracles, PERSON, grasping, Cretan Bull, ANI...</td>\n",
       "    </tr>\n",
       "    <tr>\n",
       "      <th>1000</th>\n",
       "      <td>514</td>\n",
       "      <td>Radiate bust of Gallienus, right, seen from be...</td>\n",
       "      <td>[(Gallienus, PERSON, wearing, cuirass, OBJECT)...</td>\n",
       "      <td>[(Gallienus, PERSON, wearing, cuirass, OBJECT)...</td>\n",
       "    </tr>\n",
       "    <tr>\n",
       "      <th>2255</th>\n",
       "      <td>27717</td>\n",
       "      <td>Ares holding paludamentum.</td>\n",
       "      <td>[(Ares, PERSON, holding, paludamentum, OBJECT)]</td>\n",
       "      <td>[(Ares, PERSON, holding, paludamentum, OBJECT)]</td>\n",
       "    </tr>\n",
       "  </tbody>\n",
       "</table>\n",
       "</div>"
      ],
      "text/plain": [
       "      design_id                                          design_en  \\\n",
       "1899       1700  Bare-headed bust of youthful Geta, right, wear...   \n",
       "179         778  Hygieia standing right, feeding serpent held i...   \n",
       "364        1620  Nude bearded Heracles advancing right, graspin...   \n",
       "1000        514  Radiate bust of Gallienus, right, seen from be...   \n",
       "2255      27717                         Ares holding paludamentum.   \n",
       "\n",
       "                                                      y  \\\n",
       "1899  [(Geta, PERSON, wearing, cuirass, OBJECT), (Ge...   \n",
       "179   [(Hygieia, PERSON, feeding, serpent staff, OBJ...   \n",
       "364   [(Heracles, PERSON, grasping, Cretan Bull, ANI...   \n",
       "1000  [(Gallienus, PERSON, wearing, cuirass, OBJECT)...   \n",
       "2255    [(Ares, PERSON, holding, paludamentum, OBJECT)]   \n",
       "\n",
       "                                               y_mapped  \n",
       "1899  [(Geta, PERSON, wearing, cuirass, OBJECT), (Ge...  \n",
       "179   [(Hygieia, PERSON, feeding, serpent staff, OBJ...  \n",
       "364   [(Heracles, PERSON, grasping, Cretan Bull, ANI...  \n",
       "1000  [(Gallienus, PERSON, wearing, cuirass, OBJECT)...  \n",
       "2255    [(Ares, PERSON, holding, paludamentum, OBJECT)]  "
      ]
     },
     "execution_count": 38,
     "metadata": {},
     "output_type": "execute_result"
    }
   ],
   "source": [
    "X_test.head(5).style"
   ]
  },
  {
   "cell_type": "markdown",
   "metadata": {},
   "source": [
    "## Auto relations"
   ]
  },
  {
   "cell_type": "code",
   "execution_count": 40,
   "metadata": {},
   "outputs": [],
   "source": [
    "# adding relations based on adjectives - experimental\n",
    "obj_list = {\n",
    "\"veiled\": (\"wearing\", \"Veil\", \"before\"),\n",
    "\"draped\": (\"wearing\", \"Clothing\", \"before\"),\n",
    "\"helmeted\": (\"wearing\", \"Helmet\", \"before\"),\n",
    "\"diademed\": (\"wearing\", \"Diadem\", \"before\"),\n",
    "\"turreted\": (\"wearing\", \"Mural crown\", \"before\"),\n",
    "\"enthroned\": (\"seated_on\", \"Throne\", \"after\"),\n",
    "\n",
    "}"
   ]
  },
  {
   "cell_type": "code",
   "execution_count": 41,
   "metadata": {
    "tags": []
   },
   "outputs": [],
   "source": [
    "y_pred[\"design_en\"] = X_test.design_en"
   ]
  },
  {
   "cell_type": "code",
   "execution_count": 42,
   "metadata": {},
   "outputs": [],
   "source": [
    "y_pred = relations_from_adjectives_df(y_pred, \"design_en\", \"y\", ner_model_directory, ner_model_name, id_col, design_col, obj_list, entities_to_consider=[\"PERSON\"])"
   ]
  },
  {
   "cell_type": "code",
   "execution_count": 43,
   "metadata": {
    "tags": []
   },
   "outputs": [
    {
     "data": {
      "text/html": [
       "<div>\n",
       "<style scoped>\n",
       "    .dataframe tbody tr th:only-of-type {\n",
       "        vertical-align: middle;\n",
       "    }\n",
       "\n",
       "    .dataframe tbody tr th {\n",
       "        vertical-align: top;\n",
       "    }\n",
       "\n",
       "    .dataframe thead th {\n",
       "        text-align: right;\n",
       "    }\n",
       "</style>\n",
       "<table border=\"1\" class=\"dataframe\">\n",
       "  <thead>\n",
       "    <tr style=\"text-align: right;\">\n",
       "      <th></th>\n",
       "      <th>design_id</th>\n",
       "      <th>y</th>\n",
       "      <th>design_en</th>\n",
       "    </tr>\n",
       "  </thead>\n",
       "  <tbody>\n",
       "    <tr>\n",
       "      <th>1899</th>\n",
       "      <td>1700</td>\n",
       "      <td>[(Geta, PERSON, wearing, cuirass, OBJECT), (Ge...</td>\n",
       "      <td>Bare-headed bust of youthful Geta, right, wear...</td>\n",
       "    </tr>\n",
       "    <tr>\n",
       "      <th>179</th>\n",
       "      <td>778</td>\n",
       "      <td>[]</td>\n",
       "      <td>Hygieia standing right, feeding serpent held i...</td>\n",
       "    </tr>\n",
       "    <tr>\n",
       "      <th>364</th>\n",
       "      <td>1620</td>\n",
       "      <td>[]</td>\n",
       "      <td>Nude bearded Heracles advancing right, graspin...</td>\n",
       "    </tr>\n",
       "    <tr>\n",
       "      <th>1000</th>\n",
       "      <td>514</td>\n",
       "      <td>[(Gallienus, PERSON, wearing, cuirass, OBJECT)...</td>\n",
       "      <td>Radiate bust of Gallienus, right, seen from be...</td>\n",
       "    </tr>\n",
       "    <tr>\n",
       "      <th>2255</th>\n",
       "      <td>27717</td>\n",
       "      <td>[(Ares, PERSON, holding, paludamentum, OBJECT)]</td>\n",
       "      <td>Ares holding paludamentum.</td>\n",
       "    </tr>\n",
       "    <tr>\n",
       "      <th>...</th>\n",
       "      <td>...</td>\n",
       "      <td>...</td>\n",
       "      <td>...</td>\n",
       "    </tr>\n",
       "    <tr>\n",
       "      <th>579</th>\n",
       "      <td>2036</td>\n",
       "      <td>[]</td>\n",
       "      <td>Eagle flying right, wing open, holding a serpe...</td>\n",
       "    </tr>\n",
       "    <tr>\n",
       "      <th>2099</th>\n",
       "      <td>27561</td>\n",
       "      <td>[]</td>\n",
       "      <td>Seleucus I holding stone.</td>\n",
       "    </tr>\n",
       "    <tr>\n",
       "      <th>1977</th>\n",
       "      <td>1723</td>\n",
       "      <td>[(Elagabalus, PERSON, wearing, cuirass, OBJECT...</td>\n",
       "      <td>Radiate emperor Elagabalus in military attire ...</td>\n",
       "    </tr>\n",
       "    <tr>\n",
       "      <th>2100</th>\n",
       "      <td>27562</td>\n",
       "      <td>[]</td>\n",
       "      <td>Olybrius wearing boot.</td>\n",
       "    </tr>\n",
       "    <tr>\n",
       "      <th>213</th>\n",
       "      <td>24678</td>\n",
       "      <td>[(river-god, PERSON, resting_on, water urn, OB...</td>\n",
       "      <td>Bearded river-god reclining left, bare-chested...</td>\n",
       "    </tr>\n",
       "  </tbody>\n",
       "</table>\n",
       "<p>325 rows × 3 columns</p>\n",
       "</div>"
      ],
      "text/plain": [
       "      design_id                                                  y  \\\n",
       "1899       1700  [(Geta, PERSON, wearing, cuirass, OBJECT), (Ge...   \n",
       "179         778                                                 []   \n",
       "364        1620                                                 []   \n",
       "1000        514  [(Gallienus, PERSON, wearing, cuirass, OBJECT)...   \n",
       "2255      27717    [(Ares, PERSON, holding, paludamentum, OBJECT)]   \n",
       "...         ...                                                ...   \n",
       "579        2036                                                 []   \n",
       "2099      27561                                                 []   \n",
       "1977       1723  [(Elagabalus, PERSON, wearing, cuirass, OBJECT...   \n",
       "2100      27562                                                 []   \n",
       "213       24678  [(river-god, PERSON, resting_on, water urn, OB...   \n",
       "\n",
       "                                              design_en  \n",
       "1899  Bare-headed bust of youthful Geta, right, wear...  \n",
       "179   Hygieia standing right, feeding serpent held i...  \n",
       "364   Nude bearded Heracles advancing right, graspin...  \n",
       "1000  Radiate bust of Gallienus, right, seen from be...  \n",
       "2255                         Ares holding paludamentum.  \n",
       "...                                                 ...  \n",
       "579   Eagle flying right, wing open, holding a serpe...  \n",
       "2099                          Seleucus I holding stone.  \n",
       "1977  Radiate emperor Elagabalus in military attire ...  \n",
       "2100                             Olybrius wearing boot.  \n",
       "213   Bearded river-god reclining left, bare-chested...  \n",
       "\n",
       "[325 rows x 3 columns]"
      ]
     },
     "execution_count": 43,
     "metadata": {},
     "output_type": "execute_result"
    }
   ],
   "source": [
    "y_pred"
   ]
  },
  {
   "cell_type": "code",
   "execution_count": 45,
   "metadata": {
    "tags": []
   },
   "outputs": [
    {
     "data": {
      "text/plain": [
       "[('Ares', 'PERSON', 'wearing', 'Helmet', 'OBJECT'),\n",
       " ('Athena', 'PERSON', 'wearing', 'Diadem', 'OBJECT'),\n",
       " ('Athena', 'PERSON', 'holding', 'sword', 'OBJECT'),\n",
       " ('Ares', 'PERSON', 'holding', 'sword', 'OBJECT')]"
      ]
     },
     "execution_count": 45,
     "metadata": {},
     "output_type": "execute_result"
    }
   ],
   "source": [
    "# for testing a single design\n",
    "\n",
    "design = \"Diademed Athena to the left and helmeted Ares to the right, holding sword.\"\n",
    "# rule based - see above \n",
    "auto_relations = relations_from_adjectives_single(design,ner_model_directory, ner_model_name, id_col_RE, design_col_RE, obj_list)\n",
    "# results of the model\n",
    "model_relations = predict_re_single_sentence(model, design, id_col_RE, design_col_RE)\n",
    "# merging both results\n",
    "concat_relations(auto_relations, model_relations)"
   ]
  },
  {
   "cell_type": "code",
   "execution_count": 46,
   "metadata": {},
   "outputs": [
    {
     "data": {
      "application/vnd.jupyter.widget-view+json": {
       "model_id": "0ea0611b76644a1ebe543ea765354d73",
       "version_major": 2,
       "version_minor": 0
      },
      "text/plain": [
       "HBox(children=(FloatProgress(value=0.0, description='Pandas Apply', max=7596.0, style=ProgressStyle(descriptio…"
      ]
     },
     "metadata": {},
     "output_type": "display_data"
    },
    {
     "name": "stdout",
     "output_type": "stream",
     "text": [
      "\n"
     ]
    },
    {
     "data": {
      "application/vnd.jupyter.widget-view+json": {
       "model_id": "3ada367435b34744aae8738d13397b83",
       "version_major": 2,
       "version_minor": 0
      },
      "text/plain": [
       "HBox(children=(FloatProgress(value=0.0, description='Pandas Apply', max=7596.0, style=ProgressStyle(descriptio…"
      ]
     },
     "metadata": {},
     "output_type": "display_data"
    },
    {
     "name": "stdout",
     "output_type": "stream",
     "text": [
      "\n"
     ]
    }
   ],
   "source": [
    "# optional -only if results need to be uploaded to database\n",
    "# preprocessing\n",
    "upload = True\n",
    "dc =  Database_Connection(\"mysql+mysqlconnector://root:YourConnection\")\n",
    "cnt_designs = dc.load_designs_from_db(\"data_designs\", [id_col, design_col])\n",
    "cnt_designs = cnt_designs.rename(columns={\"id\": \"design_id\"})\n",
    "\n",
    "cnt_designs[\"design_en_changed\"] = cnt_designs.swifter.apply(lambda row: preprocess.preprocess_design(row.design_en, row.design_id)[0], axis=1)\n",
    "cnt_designs[\"design_en_changed\"] = cnt_designs.swifter.apply(lambda row: row[\"design_en_changed\"].replace(\"?\", \"\").replace(\"(\", \"\").replace(\")\", \"\"), axis=1)"
   ]
  },
  {
   "cell_type": "code",
   "execution_count": 47,
   "metadata": {},
   "outputs": [],
   "source": [
    "# optional -only if results need to be uploaded to database\n",
    "cnt_designs = cnt_designs.rename(columns={\"design_en\": \"design_en_org\"})\n",
    "cnt_designs = cnt_designs.rename(columns={\"design_en_changed\": \"design_en\"})"
   ]
  },
  {
   "cell_type": "code",
   "execution_count": null,
   "metadata": {},
   "outputs": [],
   "source": [
    "# optional -only if results need to be uploaded to database - TODO: check by Sebastian on BDL-Server\n",
    "upload = True\n",
    "if upload ==True:\n",
    "    cnt_pred = model.predict(cnt_designs)\n",
    "    cnt_pipeline_output = pd.DataFrame([(str(designid), *relation) for  _, (designid, relation_list) in cnt_pred.iterrows()\n",
    "                    for relation in relation_list],\n",
    "            columns=[\"DesignID\", \"Person\", \"Label_Person\", \"Relation\", \"Object\",\n",
    "                     \"Label_Object\"])\n",
    "    cnt_pipeline_output.to_sql(\"cnt_pipeline_output_org\",dc.mysql_connection,if_exists=\"replace\", index=False)"
   ]
  },
  {
   "cell_type": "code",
   "execution_count": null,
   "metadata": {},
   "outputs": [],
   "source": [
    "cnt_designs.head()"
   ]
  },
  {
   "cell_type": "code",
   "execution_count": null,
   "metadata": {},
   "outputs": [],
   "source": []
  }
 ],
 "metadata": {
  "kernelspec": {
   "display_name": "Python 3",
   "language": "python",
   "name": "python3"
  },
  "language_info": {
   "codemirror_mode": {
    "name": "ipython",
    "version": 3
   },
   "file_extension": ".py",
   "mimetype": "text/x-python",
   "name": "python",
   "nbconvert_exporter": "python",
   "pygments_lexer": "ipython3",
   "version": "3.8.3"
  }
 },
 "nbformat": 4,
 "nbformat_minor": 5
}
