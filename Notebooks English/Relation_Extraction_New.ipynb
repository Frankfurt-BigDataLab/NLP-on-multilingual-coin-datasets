{
 "cells": [
  {
   "cell_type": "code",
   "execution_count": 1,
   "id": "605f40b4-900d-4080-bfac-30ec917de545",
   "metadata": {},
   "outputs": [
    {
     "name": "stderr",
     "output_type": "stream",
     "text": [
      "/home/bigdatalab/anaconda3/envs/nlp/lib/python3.8/site-packages/tqdm/auto.py:22: TqdmWarning: IProgress not found. Please update jupyter and ipywidgets. See https://ipywidgets.readthedocs.io/en/stable/user_install.html\n",
      "  from .autonotebook import tqdm as notebook_tqdm\n"
     ]
    }
   ],
   "source": [
    "import sys\n",
    "sys.path.append('../')\n",
    "import pandas as pd\n",
    "import random\n",
    "import os\n",
    "import numpy as np\n",
    "import swifter\n",
    "\n",
    "from cnt.model import (DesignEstimator, RelationExtractor, save_pipeline, load_pipeline, predict_re_single_sentence, \n",
    "relations_from_adjectives_df, relations_from_adjectives_single, concat_relations)\n",
    "from cnt.annotate import (annotate, annotate_single_design, \n",
    "                          annotate_designs, \n",
    "                          extract_string_from_annotation, labeling_eng)\n",
    "from cnt.extract_relation import (path, NERTransformer, FeatureExtractor)\n",
    "from cnt.evaluate import Metrics\n",
    "from cnt.vectorize import (Doc2Str, Path2Str, Verbs2Str, AveragedPath2Vec, \n",
    "                           AveragedRest2Vec)\n",
    "from cnt.io import (replace_left_right)\n",
    "from cnt.io import  Database_Connection\n",
    "from cnt.preprocess import Preprocess\n",
    "\n",
    "\n",
    "from sklearn.model_selection import train_test_split\n",
    "from sklearn.pipeline import Pipeline, make_pipeline, make_union\n",
    "from sklearn.feature_extraction.text import TfidfVectorizer, CountVectorizer\n",
    "from sklearn.svm import SVC\n",
    "from sklearn.linear_model import LogisticRegression\n",
    "from sklearn.ensemble import RandomForestClassifier\n",
    "from sklearn.preprocessing import Normalizer\n",
    "from sklearn.naive_bayes import MultinomialNB\n",
    "from itertools import product\n",
    "import warnings\n",
    "warnings.filterwarnings('ignore')"
   ]
  },
  {
   "cell_type": "code",
   "execution_count": 2,
   "id": "3f21d03a-5f40-4436-8eba-a86e8f746181",
   "metadata": {},
   "outputs": [],
   "source": [
    "dc =  Database_Connection(\"mysql+mysqlconnector://root:YourConnection\") # Format user:password@IP/Database"
   ]
  },
  {
   "cell_type": "code",
   "execution_count": 4,
   "id": "26af4820-b3ac-4064-b291-96db1109d5f9",
   "metadata": {},
   "outputs": [],
   "source": [
    "id_col = \"id\"\n",
    "design_col = \"design_en\""
   ]
  },
  {
   "cell_type": "code",
   "execution_count": 5,
   "id": "fe119b3c-a829-4e80-90f6-6a25587bf899",
   "metadata": {},
   "outputs": [],
   "source": [
    "language = \"_en\"\n",
    "add_columns = [\"id\", \"name\"+language, \"alternativenames\"+language]"
   ]
  },
  {
   "cell_type": "code",
   "execution_count": 6,
   "id": "78eb79d7-466d-45ac-812c-d403d73e6f27",
   "metadata": {},
   "outputs": [],
   "source": [
    "train = dc.create_own_query(\"\"\"select design_id, \n",
    "(select design_en from nlp_training_designs as nlp where re.design_id=nlp.id) as design_en,\n",
    "(select name_en from nlp_list_entities as ner where ner.id=re.subject) as s, \n",
    "(select class from nlp_list_entities as ner where ner.id=re.subject) as subject_class, \n",
    "(select name_en from nlp_list_entities as ner where ner.id=re.predicate) as p, \n",
    "(select name_en from nlp_list_entities as ner where ner.id=re.object) as o, \n",
    "(select class from nlp_list_entities as ner where ner.id=re.object) as object_class\n",
    "from nlp_relation_extraction_en as re;\"\"\")"
   ]
  },
  {
   "cell_type": "code",
   "execution_count": 7,
   "id": "b43868b2-36b5-4b09-bf6f-e7fabc24386b",
   "metadata": {},
   "outputs": [
    {
     "data": {
      "text/html": [
       "<div>\n",
       "<style scoped>\n",
       "    .dataframe tbody tr th:only-of-type {\n",
       "        vertical-align: middle;\n",
       "    }\n",
       "\n",
       "    .dataframe tbody tr th {\n",
       "        vertical-align: top;\n",
       "    }\n",
       "\n",
       "    .dataframe thead th {\n",
       "        text-align: right;\n",
       "    }\n",
       "</style>\n",
       "<table border=\"1\" class=\"dataframe\">\n",
       "  <thead>\n",
       "    <tr style=\"text-align: right;\">\n",
       "      <th></th>\n",
       "      <th>design_id</th>\n",
       "      <th>design_en</th>\n",
       "      <th>s</th>\n",
       "      <th>subject_class</th>\n",
       "      <th>p</th>\n",
       "      <th>o</th>\n",
       "      <th>object_class</th>\n",
       "    </tr>\n",
       "  </thead>\n",
       "  <tbody>\n",
       "    <tr>\n",
       "      <th>0</th>\n",
       "      <td>9</td>\n",
       "      <td>Amphora with ribbed surface and crooked handle...</td>\n",
       "      <td>amphora</td>\n",
       "      <td>OBJECT</td>\n",
       "      <td>holding</td>\n",
       "      <td>poppy</td>\n",
       "      <td>PLANT</td>\n",
       "    </tr>\n",
       "    <tr>\n",
       "      <th>1</th>\n",
       "      <td>33</td>\n",
       "      <td>Half-nude Aphrodite standing facing, head left...</td>\n",
       "      <td>Aphrodite</td>\n",
       "      <td>PERSON</td>\n",
       "      <td>holding</td>\n",
       "      <td>apple</td>\n",
       "      <td>PLANT</td>\n",
       "    </tr>\n",
       "    <tr>\n",
       "      <th>2</th>\n",
       "      <td>36</td>\n",
       "      <td>Nude Aphrodite standing facing, head right, co...</td>\n",
       "      <td>Eros</td>\n",
       "      <td>PERSON</td>\n",
       "      <td>seated_on</td>\n",
       "      <td>dolphin</td>\n",
       "      <td>ANIMAL</td>\n",
       "    </tr>\n",
       "    <tr>\n",
       "      <th>3</th>\n",
       "      <td>85</td>\n",
       "      <td>Nude Apollo standing facing, head left, left l...</td>\n",
       "      <td>Apollo</td>\n",
       "      <td>PERSON</td>\n",
       "      <td>holding</td>\n",
       "      <td>patera</td>\n",
       "      <td>OBJECT</td>\n",
       "    </tr>\n",
       "    <tr>\n",
       "      <th>4</th>\n",
       "      <td>85</td>\n",
       "      <td>Nude Apollo standing facing, head left, left l...</td>\n",
       "      <td>serpent staff</td>\n",
       "      <td>OBJECT</td>\n",
       "      <td>coiling</td>\n",
       "      <td>omphalos</td>\n",
       "      <td>OBJECT</td>\n",
       "    </tr>\n",
       "  </tbody>\n",
       "</table>\n",
       "</div>"
      ],
      "text/plain": [
       "   design_id                                          design_en  \\\n",
       "0          9  Amphora with ribbed surface and crooked handle...   \n",
       "1         33  Half-nude Aphrodite standing facing, head left...   \n",
       "2         36  Nude Aphrodite standing facing, head right, co...   \n",
       "3         85  Nude Apollo standing facing, head left, left l...   \n",
       "4         85  Nude Apollo standing facing, head left, left l...   \n",
       "\n",
       "               s subject_class          p         o object_class  \n",
       "0        amphora        OBJECT    holding     poppy        PLANT  \n",
       "1      Aphrodite        PERSON    holding     apple        PLANT  \n",
       "2           Eros        PERSON  seated_on   dolphin       ANIMAL  \n",
       "3         Apollo        PERSON    holding    patera       OBJECT  \n",
       "4  serpent staff        OBJECT    coiling  omphalos       OBJECT  "
      ]
     },
     "execution_count": 7,
     "metadata": {},
     "output_type": "execute_result"
    }
   ],
   "source": [
    "train.head(5)"
   ]
  },
  {
   "cell_type": "code",
   "execution_count": 8,
   "id": "cff34ecb-a3ef-41d5-97ff-dce3cd9823c2",
   "metadata": {},
   "outputs": [],
   "source": [
    "train[\"y\"] = train.apply(lambda row: [(row.s, row.subject_class, row.p, row.o, row.object_class)], axis=1)"
   ]
  },
  {
   "cell_type": "code",
   "execution_count": 9,
   "id": "823f16a2-d65e-4d45-8f1a-b76c9673f34c",
   "metadata": {},
   "outputs": [
    {
     "data": {
      "text/html": [
       "<div>\n",
       "<style scoped>\n",
       "    .dataframe tbody tr th:only-of-type {\n",
       "        vertical-align: middle;\n",
       "    }\n",
       "\n",
       "    .dataframe tbody tr th {\n",
       "        vertical-align: top;\n",
       "    }\n",
       "\n",
       "    .dataframe thead th {\n",
       "        text-align: right;\n",
       "    }\n",
       "</style>\n",
       "<table border=\"1\" class=\"dataframe\">\n",
       "  <thead>\n",
       "    <tr style=\"text-align: right;\">\n",
       "      <th></th>\n",
       "      <th>design_id</th>\n",
       "      <th>design_en</th>\n",
       "      <th>s</th>\n",
       "      <th>subject_class</th>\n",
       "      <th>p</th>\n",
       "      <th>o</th>\n",
       "      <th>object_class</th>\n",
       "      <th>y</th>\n",
       "    </tr>\n",
       "  </thead>\n",
       "  <tbody>\n",
       "    <tr>\n",
       "      <th>0</th>\n",
       "      <td>9</td>\n",
       "      <td>Amphora with ribbed surface and crooked handle...</td>\n",
       "      <td>amphora</td>\n",
       "      <td>OBJECT</td>\n",
       "      <td>holding</td>\n",
       "      <td>poppy</td>\n",
       "      <td>PLANT</td>\n",
       "      <td>[(amphora, OBJECT, holding, poppy, PLANT)]</td>\n",
       "    </tr>\n",
       "    <tr>\n",
       "      <th>1</th>\n",
       "      <td>33</td>\n",
       "      <td>Half-nude Aphrodite standing facing, head left...</td>\n",
       "      <td>Aphrodite</td>\n",
       "      <td>PERSON</td>\n",
       "      <td>holding</td>\n",
       "      <td>apple</td>\n",
       "      <td>PLANT</td>\n",
       "      <td>[(Aphrodite, PERSON, holding, apple, PLANT)]</td>\n",
       "    </tr>\n",
       "  </tbody>\n",
       "</table>\n",
       "</div>"
      ],
      "text/plain": [
       "   design_id                                          design_en          s  \\\n",
       "0          9  Amphora with ribbed surface and crooked handle...    amphora   \n",
       "1         33  Half-nude Aphrodite standing facing, head left...  Aphrodite   \n",
       "\n",
       "  subject_class        p      o object_class  \\\n",
       "0        OBJECT  holding  poppy        PLANT   \n",
       "1        PERSON  holding  apple        PLANT   \n",
       "\n",
       "                                              y  \n",
       "0    [(amphora, OBJECT, holding, poppy, PLANT)]  \n",
       "1  [(Aphrodite, PERSON, holding, apple, PLANT)]  "
      ]
     },
     "execution_count": 9,
     "metadata": {},
     "output_type": "execute_result"
    }
   ],
   "source": [
    "train.head(2)"
   ]
  },
  {
   "cell_type": "code",
   "execution_count": 10,
   "id": "76203785-e4cc-4d57-a26b-32734831d197",
   "metadata": {},
   "outputs": [],
   "source": [
    "tmp = train.groupby(\"design_id\").agg({\"y\": \"sum\"})"
   ]
  },
  {
   "cell_type": "code",
   "execution_count": 11,
   "id": "74c080f9-3333-4f24-be0d-6cf97def271c",
   "metadata": {},
   "outputs": [
    {
     "data": {
      "text/html": [
       "<style type=\"text/css\">\n",
       "</style>\n",
       "<table id=\"T_e73f7\">\n",
       "  <thead>\n",
       "    <tr>\n",
       "      <th class=\"blank level0\" >&nbsp;</th>\n",
       "      <th id=\"T_e73f7_level0_col0\" class=\"col_heading level0 col0\" >y</th>\n",
       "    </tr>\n",
       "    <tr>\n",
       "      <th class=\"index_name level0\" >design_id</th>\n",
       "      <th class=\"blank col0\" >&nbsp;</th>\n",
       "    </tr>\n",
       "  </thead>\n",
       "  <tbody>\n",
       "    <tr>\n",
       "      <th id=\"T_e73f7_level0_row0\" class=\"row_heading level0 row0\" >1706</th>\n",
       "      <td id=\"T_e73f7_row0_col0\" class=\"data row0 col0\" >[('Caracalla', 'PERSON', 'wearing', 'toga', 'OBJECT'), ('Caracalla', 'PERSON', 'holding', 'scroll', 'OBJECT'), ('Geta', 'PERSON', 'wearing', 'toga', 'OBJECT'), ('Geta', 'PERSON', 'holding', 'scroll', 'OBJECT')]</td>\n",
       "    </tr>\n",
       "  </tbody>\n",
       "</table>\n"
      ],
      "text/plain": [
       "<pandas.io.formats.style.Styler at 0x7f39f51e6580>"
      ]
     },
     "execution_count": 11,
     "metadata": {},
     "output_type": "execute_result"
    }
   ],
   "source": [
    "tmp.loc[tmp.index==1706].style"
   ]
  },
  {
   "cell_type": "code",
   "execution_count": 12,
   "id": "c7bfbcde-a515-4bfb-add3-1ce949a75a71",
   "metadata": {},
   "outputs": [],
   "source": [
    "X = train.drop_duplicates(\"design_id\",keep=\"first\")"
   ]
  },
  {
   "cell_type": "code",
   "execution_count": 13,
   "id": "d91ebae3-0621-48a8-901e-2bf016c5222c",
   "metadata": {},
   "outputs": [],
   "source": [
    "X = X.merge(tmp, left_on=\"design_id\", right_on=\"design_id\", suffixes=('', 'y'))"
   ]
  },
  {
   "cell_type": "code",
   "execution_count": 14,
   "id": "087c7129-c671-4359-bda3-4bc91411d344",
   "metadata": {},
   "outputs": [],
   "source": [
    "X = X[[\"design_id\", \"design_en\", \"yy\"]].rename(columns={\"yy\":\"y\"})"
   ]
  },
  {
   "cell_type": "code",
   "execution_count": 15,
   "id": "2f44cc4d-b997-4662-9e9a-86a4e75b8c4d",
   "metadata": {},
   "outputs": [],
   "source": [
    "X[\"design_en_changed\"] = \"\""
   ]
  },
  {
   "cell_type": "code",
   "execution_count": 16,
   "id": "bc095322-94fe-444c-aa8d-ded6ada9f55e",
   "metadata": {},
   "outputs": [
    {
     "data": {
      "text/plain": [
       "(998, 4)"
      ]
     },
     "execution_count": 16,
     "metadata": {},
     "output_type": "execute_result"
    }
   ],
   "source": [
    "X.shape"
   ]
  },
  {
   "cell_type": "code",
   "execution_count": 17,
   "id": "2221be1b-57e3-4c47-80fb-bbc9c6b0ad65",
   "metadata": {},
   "outputs": [],
   "source": [
    "df_entities = dc.load_from_db(\"nlp_list_entities\", add_columns)"
   ]
  },
  {
   "cell_type": "code",
   "execution_count": 18,
   "id": "a8209a55-4305-4262-b002-481ee1bcae18",
   "metadata": {},
   "outputs": [],
   "source": [
    "# Add rules for preprocessing\n",
    "preprocess = Preprocess()\n",
    "preprocess.add_rule(\"horseman\", \"horse man\")\n",
    "preprocess.add_rule(\"horsemen\", \"horse men\")\n",
    "\n",
    "for index, row in df_entities.iterrows():\n",
    "    if row[\"alternativenames_en\"] is not None:\n",
    "        standard_name = row[\"name_en\"]\n",
    "        alt_names = row[\"alternativenames_en\"].split(\", \")\n",
    "        for alt_name in alt_names:\n",
    "            preprocess.add_rule(alt_name, standard_name)"
   ]
  },
  {
   "cell_type": "markdown",
   "id": "e95ccdf8-fc19-4363-9553-ce092fa50507",
   "metadata": {},
   "source": [
    "#### Bei römischen Zahlen scheint es noch kleine Probleme zu geben, daher nochmal extra manuell"
   ]
  },
  {
   "cell_type": "code",
   "execution_count": 19,
   "id": "d8ca977f-c8b2-4490-8404-ac99303dc868",
   "metadata": {},
   "outputs": [],
   "source": [
    "for rule in list(preprocess.rules):\n",
    "    if \" I.\" in rule or \" II.\" in rule or \" III.\" in rule or \" IV.\" in rule or \" V.\" in rule:\n",
    "        del preprocess.rules[rule]"
   ]
  },
  {
   "cell_type": "code",
   "execution_count": 20,
   "id": "d6404c1f-b58a-4845-9916-072664bdd26e",
   "metadata": {},
   "outputs": [],
   "source": [
    "for index, row in X.iterrows():\n",
    "    if \" I.\" in row[\"design_en\"]:\n",
    "        X.at[index, \"design_en\"] = row[\"design_en\"].replace(\" I.\", \" I\")\n",
    "    if \" II.\" in row[\"design_en\"]:\n",
    "        X.at[index, \"design_en\"] = row[\"design_en\"].replace(\" II.\", \" II\")\n",
    "    if \" III.\" in row[\"design_en\"]:\n",
    "        X.at[index, \"design_en\"] = row[\"design_en\"].replace(\" III.\", \" III\")\n",
    "    if \" IV.\" in row[\"design_en\"]:\n",
    "        X.at[index, \"design_en\"] = row[\"design_en\"].replace(\" IV.\", \" IV\")\n",
    "    if \" V.\" in row[\"design_en\"]:\n",
    "        X.at[index, \"design_en\"] = row[\"design_en\"].replace(\" V.\", \" V\")"
   ]
  },
  {
   "cell_type": "markdown",
   "id": "e310e019-d620-4637-b633-c1d75fd96bb6",
   "metadata": {},
   "source": [
    "## Apply Preprocessing"
   ]
  },
  {
   "cell_type": "code",
   "execution_count": 21,
   "id": "22ae87ce-e8ed-489b-b703-d5267655474b",
   "metadata": {},
   "outputs": [
    {
     "name": "stderr",
     "output_type": "stream",
     "text": [
      "Pandas Apply: 100%|█████████████████████████████████████████████████████████████████████████████████████████████████| 998/998 [00:21<00:00, 46.72it/s]\n"
     ]
    }
   ],
   "source": [
    "# Apply defined rules\n",
    "X[\"design_en_changed\"] = X.swifter.apply(lambda row: preprocess.preprocess_design(row.design_en, row.design_id)[0], axis=1)"
   ]
  },
  {
   "cell_type": "code",
   "execution_count": 22,
   "id": "575d78f4-5445-444c-b170-ced5a70c5a59",
   "metadata": {},
   "outputs": [
    {
     "name": "stderr",
     "output_type": "stream",
     "text": [
      "Pandas Apply: 100%|█████████████████████████████████████████████████████████████████████████████████████████████| 998/998 [00:00<00:00, 179322.08it/s]\n"
     ]
    }
   ],
   "source": [
    "# Deleting brackets and questionmarks\n",
    "X[\"design_en_changed\"] = X.swifter.apply(lambda row: row[\"design_en_changed\"].replace(\"?\", \"\").replace(\"(\", \"\").replace(\")\", \"\"), axis=1)"
   ]
  },
  {
   "cell_type": "code",
   "execution_count": 23,
   "id": "933b3a23-540f-4cc4-a54e-714b0bd2174f",
   "metadata": {},
   "outputs": [],
   "source": [
    "X.rename(columns={\"design_en\":\"design_en_orig\", \"design_en_changed\":\"design_en\", \"y\":\"annotations_orig\"}, inplace=True)"
   ]
  },
  {
   "cell_type": "code",
   "execution_count": 24,
   "id": "935d08ff-77f4-4110-95b8-1467ca124645",
   "metadata": {},
   "outputs": [
    {
     "name": "stderr",
     "output_type": "stream",
     "text": [
      "Pandas Apply: 100%|█████████████████████████████████████████████████████████████████████████████████████████████| 998/998 [00:00<00:00, 101585.09it/s]\n"
     ]
    }
   ],
   "source": [
    "# Mapping GT\n",
    "X[\"y\"] = X.swifter.apply(lambda row: preprocess.preprocess_re(row[\"annotations_orig\"], row.design_id), axis=1)"
   ]
  },
  {
   "cell_type": "markdown",
   "id": "0623156f-9bcb-4dde-82ee-3137c65d0a4b",
   "metadata": {},
   "source": [
    "### Train the RE model"
   ]
  },
  {
   "cell_type": "code",
   "execution_count": 25,
   "id": "aaddd528-8c7f-48e0-a81b-0b7607258fb0",
   "metadata": {},
   "outputs": [],
   "source": [
    "id_col = \"design_id\"\n",
    "design_col = \"design_en\""
   ]
  },
  {
   "cell_type": "code",
   "execution_count": 26,
   "id": "771f2e61-7000-42df-84cb-b371b0aa1d46",
   "metadata": {
    "tags": []
   },
   "outputs": [],
   "source": [
    "classifier = LogisticRegression(max_iter=1000)\n",
    "#classifier = RandomForestClassifier()\n",
    "string_converter = Path2Str(pos=True) \n",
    "vectorizer = CountVectorizer(ngram_range=(1,3))\n",
    "feature = make_pipeline(string_converter, vectorizer)"
   ]
  },
  {
   "cell_type": "code",
   "execution_count": 27,
   "id": "9814d195-0885-4805-b4f3-17d65fa25822",
   "metadata": {
    "tags": []
   },
   "outputs": [],
   "source": [
    "X_train, X_test, y_train, y_test = train_test_split(X[[id_col, design_col]], X[[id_col, \"y\"]], test_size=0.25, random_state=33)"
   ]
  },
  {
   "cell_type": "markdown",
   "id": "0b97d973-2564-4324-9ba4-5ce9ef98a900",
   "metadata": {},
   "source": [
    "#### load pretrained NER-Model"
   ]
  },
  {
   "cell_type": "code",
   "execution_count": 28,
   "id": "e2160111-78ee-4997-a98b-122a08ec5cc9",
   "metadata": {
    "tags": []
   },
   "outputs": [],
   "source": [
    "ner_model_directory = \"../cnt/trained_model/ner/english_new/\"\n",
    "ner_model_name = \"english_cno\""
   ]
  },
  {
   "cell_type": "markdown",
   "id": "b0cc1467-69a4-4ae9-9620-de85d6f931cf",
   "metadata": {},
   "source": [
    "#### define RE-Model path"
   ]
  },
  {
   "cell_type": "code",
   "execution_count": 29,
   "id": "ccf7d7fd-7225-4c69-afb2-b9e3d774a5df",
   "metadata": {
    "tags": []
   },
   "outputs": [],
   "source": [
    "re_model_directory = \"../cnt/trained_model/re/\"\n",
    "re_model_name = \"english_cno\""
   ]
  },
  {
   "cell_type": "code",
   "execution_count": 30,
   "id": "cfacc1cf-d542-4cf9-88cb-4d9f2bf0d954",
   "metadata": {
    "tags": []
   },
   "outputs": [
    {
     "data": {
      "text/plain": [
       "Pipeline(steps=[('nertransformer',\n",
       "                 NERTransformer(design_col='design_en', id_col='design_id',\n",
       "                                model_dir='../cnt/trained_model/ner/english/',\n",
       "                                model_name='english_cno')),\n",
       "                ('featureextractor',\n",
       "                 FeatureExtractor(design_col='design_en', id_col='design_id',\n",
       "                                  model_dir='../cnt/trained_model/ner/english/',\n",
       "                                  model_name='english_cno')),\n",
       "                ('relationextractor',\n",
       "                 RelationExtractor(id_col='design_id', model_name='english_cno',\n",
       "                                   output_dir='../cnt/trained_model/re/',\n",
       "                                   pipeline=Pipeline(steps=[('pipeline',\n",
       "                                                             Pipeline(steps=[('path2str',\n",
       "                                                                              Path2Str(pos=True)),\n",
       "                                                                             ('countvectorizer',\n",
       "                                                                              CountVectorizer(ngram_range=(1,\n",
       "                                                                                                           3)))])),\n",
       "                                                            ('logisticregression',\n",
       "                                                             LogisticRegression(max_iter=1000))])))])"
      ]
     },
     "execution_count": 30,
     "metadata": {},
     "output_type": "execute_result"
    }
   ],
   "source": [
    "inner_pipeline = make_pipeline(feature, classifier)\n",
    "pipeline = make_pipeline(NERTransformer(ner_model_directory, ner_model_name, id_col, design_col),\n",
    "                         FeatureExtractor(ner_model_directory, ner_model_name, id_col, design_col),\n",
    "                         RelationExtractor(inner_pipeline, re_model_directory, re_model_name, id_col))\n",
    "pipeline.fit(X_train, y_train)"
   ]
  },
  {
   "cell_type": "markdown",
   "id": "8bcc4121-5b7d-4982-aeb8-21c2c92ad73b",
   "metadata": {},
   "source": [
    "## Save and Load model"
   ]
  },
  {
   "cell_type": "code",
   "execution_count": 31,
   "id": "6cf73859-6eb8-41ed-967f-87b989a68b11",
   "metadata": {
    "tags": []
   },
   "outputs": [],
   "source": [
    "save_pipeline(pipeline, re_model_directory, re_model_name)"
   ]
  },
  {
   "cell_type": "code",
   "execution_count": 32,
   "id": "f8238624-aae7-4a2b-a941-95382eab4502",
   "metadata": {
    "tags": []
   },
   "outputs": [],
   "source": [
    "model = load_pipeline(re_model_directory, re_model_name)"
   ]
  },
  {
   "cell_type": "markdown",
   "id": "544a228d-38a8-4b4f-9615-643d9b916fe9",
   "metadata": {},
   "source": [
    "## Predict"
   ]
  },
  {
   "cell_type": "code",
   "execution_count": 33,
   "id": "23f8d35d-4b0d-403c-9219-781250fc645d",
   "metadata": {
    "tags": []
   },
   "outputs": [],
   "source": [
    "y_pred = model.predict(X_test)"
   ]
  },
  {
   "cell_type": "code",
   "execution_count": 34,
   "id": "3a595878-0629-47af-948e-1ed91cd0097e",
   "metadata": {
    "tags": []
   },
   "outputs": [],
   "source": [
    "metrics = Metrics()"
   ]
  },
  {
   "cell_type": "code",
   "execution_count": 35,
   "id": "a088afae-2c1e-4f1d-bae2-44aa72c6896e",
   "metadata": {
    "tags": []
   },
   "outputs": [],
   "source": [
    "precision, recall = metrics.score_precision_recall(y_test, y_pred)\n",
    "F1 = (2*precision*recall) / (precision + recall)"
   ]
  },
  {
   "cell_type": "code",
   "execution_count": 36,
   "id": "2ffa1a2e-8464-4041-93f0-87ca9dc7f417",
   "metadata": {
    "tags": []
   },
   "outputs": [
    {
     "name": "stdout",
     "output_type": "stream",
     "text": [
      "Precision 85.43\n",
      "Recall 59.69\n",
      "F1 70.28\n"
     ]
    }
   ],
   "source": [
    "print(\"Precision\", round(precision*100,2))\n",
    "print(\"Recall\", round(recall*100,2))\n",
    "print(\"F1\", round(F1*100,2))"
   ]
  },
  {
   "cell_type": "markdown",
   "id": "0d0970db-d23f-4ade-8085-a16fce9a50b0",
   "metadata": {},
   "source": [
    "## Map back"
   ]
  },
  {
   "cell_type": "code",
   "execution_count": 37,
   "id": "461178b5-6df9-4bd3-a0e3-7ffd1c59d216",
   "metadata": {},
   "outputs": [],
   "source": [
    "X_test[\"y\"] = y_test[\"y\"]"
   ]
  },
  {
   "cell_type": "code",
   "execution_count": 38,
   "id": "918dcc48-7b5c-4b13-aed1-67511e2b57b7",
   "metadata": {},
   "outputs": [
    {
     "name": "stderr",
     "output_type": "stream",
     "text": [
      "Pandas Apply: 100%|██████████████████████████████████████████████████████████████████████████████████████████████| 250/250 [00:00<00:00, 89354.58it/s]\n"
     ]
    }
   ],
   "source": [
    "# Deleting brackets and questionmarks\n",
    "X_test[\"y_mapped\"] = X_test.swifter.apply(lambda row: preprocess.map_re(row[\"y\"], row.design_id), axis=1)"
   ]
  },
  {
   "cell_type": "code",
   "execution_count": 39,
   "id": "3b8e0c11-abef-4800-89bc-cce3137562fc",
   "metadata": {},
   "outputs": [
    {
     "data": {
      "text/html": [
       "<div>\n",
       "<style scoped>\n",
       "    .dataframe tbody tr th:only-of-type {\n",
       "        vertical-align: middle;\n",
       "    }\n",
       "\n",
       "    .dataframe tbody tr th {\n",
       "        vertical-align: top;\n",
       "    }\n",
       "\n",
       "    .dataframe thead th {\n",
       "        text-align: right;\n",
       "    }\n",
       "</style>\n",
       "<table border=\"1\" class=\"dataframe\">\n",
       "  <thead>\n",
       "    <tr style=\"text-align: right;\">\n",
       "      <th></th>\n",
       "      <th>design_id</th>\n",
       "      <th>design_en</th>\n",
       "      <th>y</th>\n",
       "      <th>y_mapped</th>\n",
       "    </tr>\n",
       "  </thead>\n",
       "  <tbody>\n",
       "    <tr>\n",
       "      <th>557</th>\n",
       "      <td>955</td>\n",
       "      <td>Radiate bust of Philippus iunior, right, weari...</td>\n",
       "      <td>[(Philippus II, PERSON, wearing, cuirass, OBJE...</td>\n",
       "      <td>[(Philippus II, PERSON, wearing, cuirass, OBJE...</td>\n",
       "    </tr>\n",
       "    <tr>\n",
       "      <th>207</th>\n",
       "      <td>1694</td>\n",
       "      <td>At left, Demeter standing facing, head right, ...</td>\n",
       "      <td>[(Demeter, PERSON, wearing, corn wreath, OBJEC...</td>\n",
       "      <td>[(Demeter, PERSON, wearing, corn wreath, OBJEC...</td>\n",
       "    </tr>\n",
       "    <tr>\n",
       "      <th>684</th>\n",
       "      <td>24771</td>\n",
       "      <td>River-god and city goddess; to left, river-god...</td>\n",
       "      <td>[(river-god, PERSON, holding, reed, PLANT), (r...</td>\n",
       "      <td>[(river-god, PERSON, holding, reed, PLANT), (r...</td>\n",
       "    </tr>\n",
       "    <tr>\n",
       "      <th>4</th>\n",
       "      <td>104</td>\n",
       "      <td>Artemis advancing right, wearing short flutter...</td>\n",
       "      <td>[(Artemis, PERSON, wearing, chiton, OBJECT), (...</td>\n",
       "      <td>[(Artemis, PERSON, wearing, chiton, OBJECT), (...</td>\n",
       "    </tr>\n",
       "    <tr>\n",
       "      <th>826</th>\n",
       "      <td>2277</td>\n",
       "      <td>Façade of a hexastyle temple on crepidoma with...</td>\n",
       "      <td>[(Tyche, PERSON, wearing, kalathos, OBJECT), (...</td>\n",
       "      <td>[(Tyche, PERSON, wearing, kalathos, OBJECT), (...</td>\n",
       "    </tr>\n",
       "  </tbody>\n",
       "</table>\n",
       "</div>"
      ],
      "text/plain": [
       "     design_id                                          design_en  \\\n",
       "557        955  Radiate bust of Philippus iunior, right, weari...   \n",
       "207       1694  At left, Demeter standing facing, head right, ...   \n",
       "684      24771  River-god and city goddess; to left, river-god...   \n",
       "4          104  Artemis advancing right, wearing short flutter...   \n",
       "826       2277  Façade of a hexastyle temple on crepidoma with...   \n",
       "\n",
       "                                                     y  \\\n",
       "557  [(Philippus II, PERSON, wearing, cuirass, OBJE...   \n",
       "207  [(Demeter, PERSON, wearing, corn wreath, OBJEC...   \n",
       "684  [(river-god, PERSON, holding, reed, PLANT), (r...   \n",
       "4    [(Artemis, PERSON, wearing, chiton, OBJECT), (...   \n",
       "826  [(Tyche, PERSON, wearing, kalathos, OBJECT), (...   \n",
       "\n",
       "                                              y_mapped  \n",
       "557  [(Philippus II, PERSON, wearing, cuirass, OBJE...  \n",
       "207  [(Demeter, PERSON, wearing, corn wreath, OBJEC...  \n",
       "684  [(river-god, PERSON, holding, reed, PLANT), (r...  \n",
       "4    [(Artemis, PERSON, wearing, chiton, OBJECT), (...  \n",
       "826  [(Tyche, PERSON, wearing, kalathos, OBJECT), (...  "
      ]
     },
     "execution_count": 39,
     "metadata": {},
     "output_type": "execute_result"
    }
   ],
   "source": [
    "X_test.head(5)"
   ]
  },
  {
   "cell_type": "markdown",
   "id": "d08894d6-d0c2-4672-ad99-29c42615eef7",
   "metadata": {},
   "source": [
    "## Auto relations"
   ]
  },
  {
   "cell_type": "code",
   "execution_count": 50,
   "id": "e08667cf-0130-47d6-b5f9-8babbea6e2be",
   "metadata": {},
   "outputs": [],
   "source": [
    "obj_list = {\n",
    "\"veiled\": (\"wearing\", \"Veil\", \"before\"),\n",
    "\"draped\": (\"wearing\", \"Clothing\", \"before\"),\n",
    "\"helmeted\": (\"wearing\", \"Helmet\", \"before\"),\n",
    "\"diademed\": (\"wearing\", \"Diadem\", \"before\"),\n",
    "\"turreted\": (\"wearing\", \"Mural crown\", \"before\"),\n",
    "\"enthroned\": (\"seated_on\", \"Throne\", \"after\"),\n",
    "\n",
    "}"
   ]
  },
  {
   "cell_type": "code",
   "execution_count": 51,
   "id": "4fd9a667-12e2-4296-a5e5-8ad8569b5ea7",
   "metadata": {
    "tags": []
   },
   "outputs": [],
   "source": [
    "y_pred[\"design_en\"] = X_test.design_en"
   ]
  },
  {
   "cell_type": "code",
   "execution_count": 52,
   "id": "20d9d06b-d89f-40bf-98c5-720fca408e6e",
   "metadata": {},
   "outputs": [],
   "source": [
    "y_pred = relations_from_adjectives_df(y_pred, \"design_en\", \"y\", ner_model_directory, ner_model_name, id_col, design_col, obj_list, entities_to_consider=[\"PERSON\"])"
   ]
  },
  {
   "cell_type": "code",
   "execution_count": 58,
   "id": "82350e8d-cf17-4c34-8164-3f682b281e7d",
   "metadata": {
    "tags": []
   },
   "outputs": [
    {
     "data": {
      "text/html": [
       "<div>\n",
       "<style scoped>\n",
       "    .dataframe tbody tr th:only-of-type {\n",
       "        vertical-align: middle;\n",
       "    }\n",
       "\n",
       "    .dataframe tbody tr th {\n",
       "        vertical-align: top;\n",
       "    }\n",
       "\n",
       "    .dataframe thead th {\n",
       "        text-align: right;\n",
       "    }\n",
       "</style>\n",
       "<table border=\"1\" class=\"dataframe\">\n",
       "  <thead>\n",
       "    <tr style=\"text-align: right;\">\n",
       "      <th></th>\n",
       "      <th>design_id</th>\n",
       "      <th>y</th>\n",
       "      <th>design_en</th>\n",
       "    </tr>\n",
       "  </thead>\n",
       "  <tbody>\n",
       "    <tr>\n",
       "      <th>557</th>\n",
       "      <td>955</td>\n",
       "      <td>[]</td>\n",
       "      <td>Radiate bust of Philippus iunior, right, weari...</td>\n",
       "    </tr>\n",
       "    <tr>\n",
       "      <th>207</th>\n",
       "      <td>1694</td>\n",
       "      <td>[(Demeter, PERSON, wearing, wreath, OBJECT), (...</td>\n",
       "      <td>At left, Demeter standing facing, head right, ...</td>\n",
       "    </tr>\n",
       "    <tr>\n",
       "      <th>684</th>\n",
       "      <td>24771</td>\n",
       "      <td>[(city goddess, PERSON, holding, patera, OBJECT)]</td>\n",
       "      <td>River-god and city goddess; to left, river-god...</td>\n",
       "    </tr>\n",
       "    <tr>\n",
       "      <th>4</th>\n",
       "      <td>104</td>\n",
       "      <td>[(Artemis, PERSON, wearing, chiton, OBJECT), (...</td>\n",
       "      <td>Artemis advancing right, wearing short flutter...</td>\n",
       "    </tr>\n",
       "    <tr>\n",
       "      <th>826</th>\n",
       "      <td>2277</td>\n",
       "      <td>[]</td>\n",
       "      <td>Façade of a hexastyle temple on crepidoma with...</td>\n",
       "    </tr>\n",
       "    <tr>\n",
       "      <th>...</th>\n",
       "      <td>...</td>\n",
       "      <td>...</td>\n",
       "      <td>...</td>\n",
       "    </tr>\n",
       "    <tr>\n",
       "      <th>502</th>\n",
       "      <td>691</td>\n",
       "      <td>[(Hermes, PERSON, wearing, petasus, OBJECT)]</td>\n",
       "      <td>Head of youthful Hermes, right, wearing a flat...</td>\n",
       "    </tr>\n",
       "    <tr>\n",
       "      <th>501</th>\n",
       "      <td>690</td>\n",
       "      <td>[(Hermes, PERSON, wearing, petasus, OBJECT)]</td>\n",
       "      <td>Head of youthful Hermes facing, slightly left,...</td>\n",
       "    </tr>\n",
       "    <tr>\n",
       "      <th>260</th>\n",
       "      <td>1932</td>\n",
       "      <td>[]</td>\n",
       "      <td>Nude youth Dioscur standing facing, head right...</td>\n",
       "    </tr>\n",
       "    <tr>\n",
       "      <th>41</th>\n",
       "      <td>383</td>\n",
       "      <td>[(Dionysus, PERSON, wearing, ivy wreath, OBJECT)]</td>\n",
       "      <td>Head of youthful Dionysus, right, wearing ivy ...</td>\n",
       "    </tr>\n",
       "    <tr>\n",
       "      <th>358</th>\n",
       "      <td>79</td>\n",
       "      <td>[(Apollo, PERSON, holding, plectrum, OBJECT)]</td>\n",
       "      <td>Nude Apollo standing facing, head right, holdi...</td>\n",
       "    </tr>\n",
       "  </tbody>\n",
       "</table>\n",
       "<p>250 rows × 3 columns</p>\n",
       "</div>"
      ],
      "text/plain": [
       "     design_id                                                  y  \\\n",
       "557        955                                                 []   \n",
       "207       1694  [(Demeter, PERSON, wearing, wreath, OBJECT), (...   \n",
       "684      24771  [(city goddess, PERSON, holding, patera, OBJECT)]   \n",
       "4          104  [(Artemis, PERSON, wearing, chiton, OBJECT), (...   \n",
       "826       2277                                                 []   \n",
       "..         ...                                                ...   \n",
       "502        691       [(Hermes, PERSON, wearing, petasus, OBJECT)]   \n",
       "501        690       [(Hermes, PERSON, wearing, petasus, OBJECT)]   \n",
       "260       1932                                                 []   \n",
       "41         383  [(Dionysus, PERSON, wearing, ivy wreath, OBJECT)]   \n",
       "358         79      [(Apollo, PERSON, holding, plectrum, OBJECT)]   \n",
       "\n",
       "                                             design_en  \n",
       "557  Radiate bust of Philippus iunior, right, weari...  \n",
       "207  At left, Demeter standing facing, head right, ...  \n",
       "684  River-god and city goddess; to left, river-god...  \n",
       "4    Artemis advancing right, wearing short flutter...  \n",
       "826  Façade of a hexastyle temple on crepidoma with...  \n",
       "..                                                 ...  \n",
       "502  Head of youthful Hermes, right, wearing a flat...  \n",
       "501  Head of youthful Hermes facing, slightly left,...  \n",
       "260  Nude youth Dioscur standing facing, head right...  \n",
       "41   Head of youthful Dionysus, right, wearing ivy ...  \n",
       "358  Nude Apollo standing facing, head right, holdi...  \n",
       "\n",
       "[250 rows x 3 columns]"
      ]
     },
     "execution_count": 58,
     "metadata": {},
     "output_type": "execute_result"
    }
   ],
   "source": [
    "y_pred"
   ]
  },
  {
   "cell_type": "code",
   "execution_count": 57,
   "id": "11379ff5-4299-49b7-b122-4fcf654882a7",
   "metadata": {
    "tags": []
   },
   "outputs": [
    {
     "data": {
      "text/plain": [
       "[('Athena', 'PERSON', 'wearing', 'Diadem', 'OBJECT')]"
      ]
     },
     "execution_count": 60,
     "metadata": {},
     "output_type": "execute_result"
    }
   ],
   "source": [
    "design = \"Diademed Athena to the left and helmeted Ares to the right, holding swo.\"\n",
    "auto_relations = relations_from_adjectives_single(design,ner_model_directory, ner_model_name, id_col, design_col, obj_list)\n",
    "model_relations = predict_re_single_sentence(model, design, id_col, design_col)\n",
    "concat_relations(auto_relations, model_relations)"
   ]
  }
 ],
 "metadata": {
  "kernelspec": {
   "display_name": "Python 3 (ipykernel)",
   "language": "python",
   "name": "python3"
  },
  "language_info": {
   "codemirror_mode": {
    "name": "ipython",
    "version": 3
   },
   "file_extension": ".py",
   "mimetype": "text/x-python",
   "name": "python",
   "nbconvert_exporter": "python",
   "pygments_lexer": "ipython3",
   "version": "3.8.13"
  }
 },
 "nbformat": 4,
 "nbformat_minor": 5
}
