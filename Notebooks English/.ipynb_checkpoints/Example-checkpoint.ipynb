{
 "cells": [
  {
   "cell_type": "markdown",
   "id": "c443086e",
   "metadata": {},
   "source": [
    "developd by Chrisowalandis Deligio"
   ]
  },
  {
   "cell_type": "code",
   "execution_count": 1,
   "id": "8a93c6da-6496-44f1-82ea-337641dd4bba",
   "metadata": {},
   "outputs": [],
   "source": [
    "import sys\n",
    "sys.path.append('../')\n",
    "from cnt.model import load_ner_model_v2"
   ]
  },
  {
   "cell_type": "code",
   "execution_count": 2,
   "id": "a3b2df0c-e16b-4bbd-894e-890a16fe4156",
   "metadata": {},
   "outputs": [],
   "source": [
    "import pathlib"
   ]
  },
  {
   "cell_type": "markdown",
   "id": "ec9f2c5e-9177-4b59-a7a5-5e568fcd3215",
   "metadata": {},
   "source": [
    "# Named Entity Recognition"
   ]
  },
  {
   "cell_type": "markdown",
   "id": "f52717a7-3a3f-4d02-8a34-7490e3eae5c1",
   "metadata": {
    "tags": []
   },
   "source": [
    "### Define the path and name of the model"
   ]
  },
  {
   "cell_type": "code",
   "execution_count": 3,
   "id": "a5ed5415-5d33-48f5-9083-a864fb47b831",
   "metadata": {},
   "outputs": [],
   "source": [
    "model_directory =  \"../cnt/trained_model/ner/english/\"\n",
    "model_name = \"english_cno\""
   ]
  },
  {
   "cell_type": "markdown",
   "id": "aece11f8-9a31-4383-afc8-faed13c9f093",
   "metadata": {},
   "source": [
    "### Load the model"
   ]
  },
  {
   "cell_type": "code",
   "execution_count": 4,
   "id": "691683fd-f041-41f4-8f2c-300359f17107",
   "metadata": {},
   "outputs": [],
   "source": [
    "model = load_ner_model_v2(model_directory, model_name)"
   ]
  },
  {
   "cell_type": "markdown",
   "id": "dce60aa4-356d-45d4-93d3-768a4fd67ebb",
   "metadata": {},
   "source": [
    "### Define an input sentence"
   ]
  },
  {
   "cell_type": "code",
   "execution_count": 5,
   "id": "b608f680-2fbd-441a-992f-b34974fe2a24",
   "metadata": {},
   "outputs": [],
   "source": [
    "sentence = \"Bare-headed bust of Antoninus Pius, right, wearing cuirass and paludamentum.\""
   ]
  },
  {
   "cell_type": "markdown",
   "id": "1e3fdad3-7200-4bfc-bc0f-5eec9cd50082",
   "metadata": {},
   "source": [
    "### There are three different outputs.\n",
    "- use `predict_single_sentence' to receive the position of the predictions\n",
    "- use `predict_single_sentence_clear` to receive the string representation instead of the position\n",
    "- use `predict_single_sentence_clear` with `as_doc=True`to receive a spacy object that can be visualised using displacy "
   ]
  },
  {
   "cell_type": "markdown",
   "id": "509f119c-3186-4128-8fb6-acc0f7cd569c",
   "metadata": {},
   "source": [
    "----"
   ]
  },
  {
   "cell_type": "markdown",
   "id": "33b04904-8f33-4f0d-b69f-69163a33a59a",
   "metadata": {},
   "source": [
    "#### Option 1"
   ]
  },
  {
   "cell_type": "code",
   "execution_count": 6,
   "id": "7961bad4-0d0a-45af-81f8-4ba751c74345",
   "metadata": {},
   "outputs": [],
   "source": [
    "prediction = model.predict_single_sentence(sentence)"
   ]
  },
  {
   "cell_type": "code",
   "execution_count": 7,
   "id": "80bb7667-5bd1-45b0-ae3e-3433fec3b720",
   "metadata": {},
   "outputs": [
    {
     "data": {
      "text/plain": [
       "[(12, 16, 'OBJECT'),\n",
       " (20, 34, 'PERSON'),\n",
       " (51, 58, 'OBJECT'),\n",
       " (63, 75, 'OBJECT')]"
      ]
     },
     "execution_count": 7,
     "metadata": {},
     "output_type": "execute_result"
    }
   ],
   "source": [
    "prediction"
   ]
  },
  {
   "cell_type": "markdown",
   "id": "994e19cc-1030-4bb8-991f-298d14f7203b",
   "metadata": {},
   "source": [
    "----"
   ]
  },
  {
   "cell_type": "markdown",
   "id": "da6a40b1-d1c9-400d-96d9-a366681cd738",
   "metadata": {},
   "source": [
    "#### Option 2"
   ]
  },
  {
   "cell_type": "code",
   "execution_count": 8,
   "id": "e02040e8-9285-438c-9d52-a0de02c5f1d3",
   "metadata": {},
   "outputs": [],
   "source": [
    "prediction = model.predict_single_sentence_clear(sentence, as_doc=False)"
   ]
  },
  {
   "cell_type": "code",
   "execution_count": 9,
   "id": "eaaec5ec-f0c7-4527-9207-faf64544deb5",
   "metadata": {},
   "outputs": [
    {
     "data": {
      "text/plain": [
       "[('bust', 'OBJECT'),\n",
       " ('Antoninus Pius', 'PERSON'),\n",
       " ('cuirass', 'OBJECT'),\n",
       " ('paludamentum', 'OBJECT')]"
      ]
     },
     "execution_count": 9,
     "metadata": {},
     "output_type": "execute_result"
    }
   ],
   "source": [
    "prediction"
   ]
  },
  {
   "cell_type": "markdown",
   "id": "ce9a4a42-47b4-4396-b384-ae2fb34f38b0",
   "metadata": {},
   "source": [
    "----"
   ]
  },
  {
   "cell_type": "markdown",
   "id": "4306fad6-42b0-49bf-85a2-481b8a70cd2c",
   "metadata": {},
   "source": [
    "#### Option 3"
   ]
  },
  {
   "cell_type": "code",
   "execution_count": 10,
   "id": "9496432f-0599-43ec-bf21-bc75325abd95",
   "metadata": {},
   "outputs": [],
   "source": [
    "prediction = model.predict_single_sentence_clear(sentence, as_doc=True)"
   ]
  },
  {
   "cell_type": "code",
   "execution_count": 11,
   "id": "f71f0eff-805d-409c-8136-263ecba7c1c7",
   "metadata": {},
   "outputs": [
    {
     "data": {
      "text/html": [
       "<span class=\"tex2jax_ignore\"><div class=\"entities\" style=\"line-height: 2.5; direction: ltr\">Bare-headed \n",
       "<mark class=\"entity\" style=\"background: greenyellow; padding: 0.45em 0.6em; margin: 0 0.25em; line-height: 1; border-radius: 0.35em;\">\n",
       "    bust\n",
       "    <span style=\"font-size: 0.8em; font-weight: bold; line-height: 1; border-radius: 0.35em; text-transform: uppercase; vertical-align: middle; margin-left: 0.5rem\">OBJECT</span>\n",
       "</mark>\n",
       " of \n",
       "<mark class=\"entity\" style=\"background: mediumpurple; padding: 0.45em 0.6em; margin: 0 0.25em; line-height: 1; border-radius: 0.35em;\">\n",
       "    Antoninus Pius\n",
       "    <span style=\"font-size: 0.8em; font-weight: bold; line-height: 1; border-radius: 0.35em; text-transform: uppercase; vertical-align: middle; margin-left: 0.5rem\">PERSON</span>\n",
       "</mark>\n",
       ", right, wearing \n",
       "<mark class=\"entity\" style=\"background: greenyellow; padding: 0.45em 0.6em; margin: 0 0.25em; line-height: 1; border-radius: 0.35em;\">\n",
       "    cuirass\n",
       "    <span style=\"font-size: 0.8em; font-weight: bold; line-height: 1; border-radius: 0.35em; text-transform: uppercase; vertical-align: middle; margin-left: 0.5rem\">OBJECT</span>\n",
       "</mark>\n",
       " and \n",
       "<mark class=\"entity\" style=\"background: greenyellow; padding: 0.45em 0.6em; margin: 0 0.25em; line-height: 1; border-radius: 0.35em;\">\n",
       "    paludamentum\n",
       "    <span style=\"font-size: 0.8em; font-weight: bold; line-height: 1; border-radius: 0.35em; text-transform: uppercase; vertical-align: middle; margin-left: 0.5rem\">OBJECT</span>\n",
       "</mark>\n",
       ".</div></span>"
      ],
      "text/plain": [
       "<IPython.core.display.HTML object>"
      ]
     },
     "metadata": {},
     "output_type": "display_data"
    }
   ],
   "source": [
    "from spacy import displacy\n",
    "colors = {'PERSON': 'mediumpurple','OBJECT': 'greenyellow', 'ANIMAL' : 'orange', 'PLANT': 'salmom', 'VERBS': 'skyblue'}\n",
    "options = {'ent': ['PERSON', 'OBJECT', 'ANIMAL', 'PLANT'], 'colors': colors}\n",
    "displacy.render(prediction, \n",
    "                style='ent', jupyter=True, options=options)"
   ]
  },
  {
   "cell_type": "markdown",
   "id": "3a93c341-3c34-4a29-8326-967cebbcf9de",
   "metadata": {},
   "source": [
    "----"
   ]
  },
  {
   "cell_type": "markdown",
   "id": "e2cc5c35-9b97-4305-9258-2524d69cc3e5",
   "metadata": {},
   "source": [
    "#### Option 4 - experimental - at the moment only the english model has saved informations"
   ]
  },
  {
   "cell_type": "code",
   "execution_count": 12,
   "id": "49359056-6aff-43f5-a11f-9d78875d8f11",
   "metadata": {},
   "outputs": [],
   "source": [
    "model = load_ner_model_v2(model_directory, model_name, load_optional=True)"
   ]
  },
  {
   "cell_type": "code",
   "execution_count": 13,
   "id": "d27a0c48-aee2-4786-8a8f-2b533af07483",
   "metadata": {},
   "outputs": [],
   "source": [
    "prediction = model.predict_single_sentence_clear_optional(sentence)"
   ]
  },
  {
   "cell_type": "code",
   "execution_count": 14,
   "id": "79da2e23-c1b9-4500-b721-4735d7c02a59",
   "metadata": {},
   "outputs": [
    {
     "data": {
      "text/plain": [
       "[('bust', 'OBJECT', 'http://www.dbis.cs.uni-frankfurt.de/cnt/id/bust_object'),\n",
       " ('Antoninus Pius', 'PERSON', 'http://nomisma.org/id/antoninus_pius'),\n",
       " ('cuirass',\n",
       "  'OBJECT',\n",
       "  'http://www.dbis.cs.uni-frankfurt.de/cnt/id/cuirass_object'),\n",
       " ('paludamentum',\n",
       "  'OBJECT',\n",
       "  'http://www.dbis.cs.uni-frankfurt.de/cnt/id/paludamentum_object')]"
      ]
     },
     "execution_count": 14,
     "metadata": {},
     "output_type": "execute_result"
    }
   ],
   "source": [
    "prediction"
   ]
  },
  {
   "cell_type": "markdown",
   "id": "36a8dabf-c2c8-4b25-84e4-d1d989b2f827",
   "metadata": {},
   "source": [
    "-----"
   ]
  },
  {
   "cell_type": "markdown",
   "id": "4a651719-eba7-48d1-99f9-666a73031b18",
   "metadata": {},
   "source": [
    "# Relation Extraction"
   ]
  },
  {
   "cell_type": "code",
   "execution_count": 15,
   "id": "534d875a-e5a5-45e1-8c6f-f36a13a02c71",
   "metadata": {},
   "outputs": [],
   "source": [
    "from cnt.model import load_pipeline, predict_re_single_sentence"
   ]
  },
  {
   "cell_type": "markdown",
   "id": "2c2c7126-ea39-452c-8674-a61a50f9ba5d",
   "metadata": {},
   "source": [
    "### Define the path and name of the model"
   ]
  },
  {
   "cell_type": "code",
   "execution_count": 16,
   "id": "b704cfb8-8559-4453-a093-3b91422766d0",
   "metadata": {},
   "outputs": [],
   "source": [
    "re_model_directory = \"../cnt/trained_model/re/\"\n",
    "re_model_name = \"english_cno\""
   ]
  },
  {
   "cell_type": "markdown",
   "id": "9f27a819-283d-4f7c-b629-0de47c3e76e8",
   "metadata": {},
   "source": [
    "### Load the model"
   ]
  },
  {
   "cell_type": "code",
   "execution_count": 17,
   "id": "94657a85-cf18-425d-8df3-f8e095fcce5c",
   "metadata": {},
   "outputs": [],
   "source": [
    "model = load_pipeline(re_model_directory, re_model_name)"
   ]
  },
  {
   "cell_type": "markdown",
   "id": "98b0ec53-5aea-4f2a-ae8d-98ec3eb6047b",
   "metadata": {},
   "source": [
    "### Define an input sentence"
   ]
  },
  {
   "cell_type": "code",
   "execution_count": 18,
   "id": "5575a56d-4475-457a-9ecd-8f007a351236",
   "metadata": {},
   "outputs": [],
   "source": [
    "sentence = \"Bare-headed bust of Antoninus Pius, right, wearing cuirass and paludamentum.\""
   ]
  },
  {
   "cell_type": "markdown",
   "id": "3721e700-0263-4d46-814a-2581ad347588",
   "metadata": {},
   "source": [
    "### Use the ``predict_re_single_sentence`` function for predicting on a single sentence"
   ]
  },
  {
   "cell_type": "code",
   "execution_count": 19,
   "id": "6d92405a-7f0b-4e23-ac5d-2f105a5f1092",
   "metadata": {},
   "outputs": [
    {
     "name": "stderr",
     "output_type": "stream",
     "text": [
      "D:\\Dev\\NLP-on-multilingual-coin-descriptions_überarbeitet\\Notebooks English\\..\\cnt\\model.py:346: FutureWarning: The frame.append method is deprecated and will be removed from pandas in a future version. Use pandas.concat instead.\n",
      "  df = df.append({\"DesignID\":0,\"Design\":sentence}, ignore_index=True)\n"
     ]
    }
   ],
   "source": [
    "y_pred = predict_re_single_sentence(model, sentence)"
   ]
  },
  {
   "cell_type": "code",
   "execution_count": 20,
   "id": "1c49234e-41b0-4f67-a976-b704191e3ce5",
   "metadata": {},
   "outputs": [
    {
     "data": {
      "text/plain": [
       "[('Antoninus Pius', 'PERSON', 'wearing', 'cuirass', 'OBJECT'),\n",
       " ('Antoninus Pius', 'PERSON', 'wearing', 'paludamentum', 'OBJECT')]"
      ]
     },
     "execution_count": 20,
     "metadata": {},
     "output_type": "execute_result"
    }
   ],
   "source": [
    "y_pred"
   ]
  }
 ],
 "metadata": {
  "kernelspec": {
   "display_name": "Python 3 (ipykernel)",
   "language": "python",
   "name": "python3"
  },
  "language_info": {
   "codemirror_mode": {
    "name": "ipython",
    "version": 3
   },
   "file_extension": ".py",
   "mimetype": "text/x-python",
   "name": "python",
   "nbconvert_exporter": "python",
   "pygments_lexer": "ipython3",
   "version": "3.8.13"
  }
 },
 "nbformat": 4,
 "nbformat_minor": 5
}
