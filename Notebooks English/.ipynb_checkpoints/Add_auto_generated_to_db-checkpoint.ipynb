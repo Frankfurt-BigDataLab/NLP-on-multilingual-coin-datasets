{
 "cells": [
  {
   "cell_type": "markdown",
   "id": "1b96e976",
   "metadata": {},
   "source": [
    "developed by Chrisowalandis Deligio and Sebastian Gampe"
   ]
  },
  {
   "cell_type": "code",
   "execution_count": 1,
   "id": "63ed261f-4519-4e0b-9250-568eba90fafe",
   "metadata": {},
   "outputs": [],
   "source": [
    "import sys\n",
    "sys.path.append('../')\n",
    "import pandas as pd\n",
    "import random\n",
    "import os\n",
    "import numpy as np\n",
    "from cnt.generate_re_data import AutoRE\n",
    "\n",
    "from cnt.annotate import (annotate, annotate_single_design, \n",
    "                          annotate_designs, \n",
    "                          extract_string_from_annotation, labeling_eng)\n",
    "from cnt.extract_relation import (path, NERTransformer, FeatureExtractor)\n",
    "from cnt.evaluate import Metrics\n",
    "from cnt.vectorize import (Doc2Str, Path2Str, Verbs2Str, AveragedPath2Vec, \n",
    "                           AveragedRest2Vec)\n",
    "from cnt.io import (replace_left_right)\n",
    "from cnt.io import  Database_Connection\n",
    "from cnt.preprocess import Preprocess\n",
    "\n",
    "import warnings\n",
    "warnings.filterwarnings('ignore')"
   ]
  },
  {
   "cell_type": "code",
   "execution_count": 2,
   "id": "590e4fe8-0eaf-4b6b-bb99-8e56ad2a89e5",
   "metadata": {},
   "outputs": [],
   "source": [
    "auto = AutoRE()"
   ]
  },
  {
   "cell_type": "code",
   "execution_count": 3,
   "id": "39e8d9f0-9f1a-46cf-bd11-e2acf171ef05",
   "metadata": {},
   "outputs": [],
   "source": [
    "subjects = [\"Athena\", \"Ares\", \"Apollo\", \"Zeus\", \"Nike\", \"Olybrius\", \"Seleucus I\", \"Domitianus\", \"Equitas\", \"Rhoemetalces I\"]"
   ]
  },
  {
   "cell_type": "code",
   "execution_count": 4,
   "id": "969191b3-6013-4038-b05a-8935a6b58025",
   "metadata": {},
   "outputs": [],
   "source": [
    "relations = {\n",
    "    \"holding\":[\"sword\", \"shield\", \"paludamentum\", \"staff\", \"club\", \"stones\", \"jar\", \"bow\"],\n",
    "    \"wearing\":[\"belt\", \"crown\", \"helmet\", \"cuirass\", \"crown juwel\", \"ribbons\", \"boots\"],\n",
    "    \"seated_on\":[\"dolphin\", \"shield\", \"omphalos\", \"rock\", \"bull\", \"panther\", \"kline\"],\n",
    "    \"resting_on\":[\"serpent staff\", \"torch\", \"shield\", \"panther\", \"club\", \"water urn\", \"knee\", \"rock\"],\n",
    "    \"feeding\":[\"panther\", \"dolphin\"],\n",
    "    \"receiving\":[\"apple\", \"agonistic crown\", \"crown\", \"shield\"],}"
   ]
  },
  {
   "cell_type": "code",
   "execution_count": 5,
   "id": "2beb843c-3dfa-4265-8df2-a8891d37f9aa",
   "metadata": {},
   "outputs": [],
   "source": [
    "auto.set_subjects(subjects)"
   ]
  },
  {
   "cell_type": "code",
   "execution_count": 6,
   "id": "332a248f-127a-4f09-9edc-9cc32ecf974e",
   "metadata": {},
   "outputs": [],
   "source": [
    "auto.set_relations(relations)"
   ]
  },
  {
   "cell_type": "code",
   "execution_count": 7,
   "id": "2e8c1405-eaf1-4dfe-a272-45baf2b7d503",
   "metadata": {},
   "outputs": [],
   "source": [
    "result = auto.generate(300)"
   ]
  },
  {
   "cell_type": "code",
   "execution_count": 8,
   "id": "a9c0c00a-5d66-409b-b531-ab312c64802e",
   "metadata": {},
   "outputs": [
    {
     "data": {
      "text/html": [
       "<div>\n",
       "<style scoped>\n",
       "    .dataframe tbody tr th:only-of-type {\n",
       "        vertical-align: middle;\n",
       "    }\n",
       "\n",
       "    .dataframe tbody tr th {\n",
       "        vertical-align: top;\n",
       "    }\n",
       "\n",
       "    .dataframe thead th {\n",
       "        text-align: right;\n",
       "    }\n",
       "</style>\n",
       "<table border=\"1\" class=\"dataframe\">\n",
       "  <thead>\n",
       "    <tr style=\"text-align: right;\">\n",
       "      <th></th>\n",
       "      <th>design_en</th>\n",
       "      <th>y</th>\n",
       "    </tr>\n",
       "  </thead>\n",
       "  <tbody>\n",
       "    <tr>\n",
       "      <th>0</th>\n",
       "      <td>Olybrius holding staff.</td>\n",
       "      <td>(Olybrius, holding, staff)</td>\n",
       "    </tr>\n",
       "    <tr>\n",
       "      <th>1</th>\n",
       "      <td>Apollo receiving agonistic crown.</td>\n",
       "      <td>(Apollo, receiving, agonistic crown)</td>\n",
       "    </tr>\n",
       "    <tr>\n",
       "      <th>2</th>\n",
       "      <td>Athena resting on torch.</td>\n",
       "      <td>(Athena, resting_on, torch)</td>\n",
       "    </tr>\n",
       "    <tr>\n",
       "      <th>3</th>\n",
       "      <td>Ares receiving crown.</td>\n",
       "      <td>(Ares, receiving, crown)</td>\n",
       "    </tr>\n",
       "    <tr>\n",
       "      <th>4</th>\n",
       "      <td>Seleucus I wearing crown.</td>\n",
       "      <td>(Seleucus I, wearing, crown)</td>\n",
       "    </tr>\n",
       "  </tbody>\n",
       "</table>\n",
       "</div>"
      ],
      "text/plain": [
       "                           design_en                                     y\n",
       "0            Olybrius holding staff.            (Olybrius, holding, staff)\n",
       "1  Apollo receiving agonistic crown.  (Apollo, receiving, agonistic crown)\n",
       "2           Athena resting on torch.           (Athena, resting_on, torch)\n",
       "3              Ares receiving crown.              (Ares, receiving, crown)\n",
       "4          Seleucus I wearing crown.          (Seleucus I, wearing, crown)"
      ]
     },
     "execution_count": 8,
     "metadata": {},
     "output_type": "execute_result"
    }
   ],
   "source": [
    "result.head(5)"
   ]
  },
  {
   "cell_type": "code",
   "execution_count": 9,
   "id": "cceb9ee8-8a79-4647-bc8d-162198b15d6d",
   "metadata": {},
   "outputs": [
    {
     "data": {
      "text/html": [
       "<div>\n",
       "<style scoped>\n",
       "    .dataframe tbody tr th:only-of-type {\n",
       "        vertical-align: middle;\n",
       "    }\n",
       "\n",
       "    .dataframe tbody tr th {\n",
       "        vertical-align: top;\n",
       "    }\n",
       "\n",
       "    .dataframe thead th {\n",
       "        text-align: right;\n",
       "    }\n",
       "</style>\n",
       "<table border=\"1\" class=\"dataframe\">\n",
       "  <thead>\n",
       "    <tr style=\"text-align: right;\">\n",
       "      <th></th>\n",
       "      <th>design_en</th>\n",
       "      <th>design_de</th>\n",
       "      <th>comment</th>\n",
       "      <th>design_en_changed</th>\n",
       "    </tr>\n",
       "  </thead>\n",
       "  <tbody>\n",
       "    <tr>\n",
       "      <th>0</th>\n",
       "      <td>Olybrius holding staff.</td>\n",
       "      <td></td>\n",
       "      <td>auto_generated</td>\n",
       "      <td></td>\n",
       "    </tr>\n",
       "    <tr>\n",
       "      <th>1</th>\n",
       "      <td>Apollo receiving agonistic crown.</td>\n",
       "      <td></td>\n",
       "      <td>auto_generated</td>\n",
       "      <td></td>\n",
       "    </tr>\n",
       "  </tbody>\n",
       "</table>\n",
       "</div>"
      ],
      "text/plain": [
       "                           design_en design_de         comment  \\\n",
       "0            Olybrius holding staff.            auto_generated   \n",
       "1  Apollo receiving agonistic crown.            auto_generated   \n",
       "\n",
       "  design_en_changed  \n",
       "0                    \n",
       "1                    "
      ]
     },
     "execution_count": 9,
     "metadata": {},
     "output_type": "execute_result"
    }
   ],
   "source": [
    "X = result[[\"design_en\"]]\n",
    "X[\"design_de\"] = \"\"\n",
    "X[\"comment\"] = \"auto_generated\"\n",
    "X[\"design_en_changed\"] = \"\"\n",
    "X.head(2)"
   ]
  },
  {
   "cell_type": "code",
   "execution_count": 10,
   "id": "e965a38c-2c57-4b70-a9e7-ddff17838b5f",
   "metadata": {},
   "outputs": [
    {
     "data": {
      "text/plain": [
       "(300, 4)"
      ]
     },
     "execution_count": 10,
     "metadata": {},
     "output_type": "execute_result"
    }
   ],
   "source": [
    "X.shape"
   ]
  },
  {
   "cell_type": "code",
   "execution_count": 11,
   "id": "03dfe532-ceff-452d-a833-c7eb43951086",
   "metadata": {},
   "outputs": [],
   "source": [
    "dc =  Database_Connection(\"mysql+mysqlconnector://root:YourConnection\") # Format user:password@IP/Database"
   ]
  },
  {
   "cell_type": "code",
   "execution_count": 12,
   "id": "ee192458-3810-4875-9360-9060370164fa",
   "metadata": {},
   "outputs": [
    {
     "data": {
      "text/plain": [
       "300"
      ]
     },
     "execution_count": 12,
     "metadata": {},
     "output_type": "execute_result"
    }
   ],
   "source": [
    "X.to_sql(\"nlp_training_designs\",dc.mysql_connection,if_exists=\"append\", index=False)"
   ]
  },
  {
   "cell_type": "code",
   "execution_count": 13,
   "id": "5e76cf1f-5fba-4bf1-a663-9cc2858a33e5",
   "metadata": {},
   "outputs": [],
   "source": [
    "def get_id(design):\n",
    "    try:\n",
    "        return (dc.create_own_query(\"select id from nlp_training_designs where design_en='\"+design+\"';\").id)[0]\n",
    "    except:\n",
    "        return \"Null\""
   ]
  },
  {
   "cell_type": "code",
   "execution_count": 14,
   "id": "40592b1a-e030-464f-b76f-c3bd2384080f",
   "metadata": {},
   "outputs": [],
   "source": [
    "X[\"db_id\"] = X.apply(lambda row: get_id(row.design_en), axis=1)"
   ]
  },
  {
   "cell_type": "code",
   "execution_count": 15,
   "id": "e20f0f86-fe6c-4223-b37f-745ab74e64f8",
   "metadata": {},
   "outputs": [
    {
     "data": {
      "text/html": [
       "<div>\n",
       "<style scoped>\n",
       "    .dataframe tbody tr th:only-of-type {\n",
       "        vertical-align: middle;\n",
       "    }\n",
       "\n",
       "    .dataframe tbody tr th {\n",
       "        vertical-align: top;\n",
       "    }\n",
       "\n",
       "    .dataframe thead th {\n",
       "        text-align: right;\n",
       "    }\n",
       "</style>\n",
       "<table border=\"1\" class=\"dataframe\">\n",
       "  <thead>\n",
       "    <tr style=\"text-align: right;\">\n",
       "      <th></th>\n",
       "      <th>design_en</th>\n",
       "      <th>design_de</th>\n",
       "      <th>comment</th>\n",
       "      <th>design_en_changed</th>\n",
       "      <th>db_id</th>\n",
       "    </tr>\n",
       "  </thead>\n",
       "  <tbody>\n",
       "    <tr>\n",
       "      <th>0</th>\n",
       "      <td>Olybrius holding staff.</td>\n",
       "      <td></td>\n",
       "      <td>auto_generated</td>\n",
       "      <td></td>\n",
       "      <td>27819</td>\n",
       "    </tr>\n",
       "    <tr>\n",
       "      <th>1</th>\n",
       "      <td>Apollo receiving agonistic crown.</td>\n",
       "      <td></td>\n",
       "      <td>auto_generated</td>\n",
       "      <td></td>\n",
       "      <td>27551</td>\n",
       "    </tr>\n",
       "    <tr>\n",
       "      <th>2</th>\n",
       "      <td>Athena resting on torch.</td>\n",
       "      <td></td>\n",
       "      <td>auto_generated</td>\n",
       "      <td></td>\n",
       "      <td>27563</td>\n",
       "    </tr>\n",
       "    <tr>\n",
       "      <th>3</th>\n",
       "      <td>Ares receiving crown.</td>\n",
       "      <td></td>\n",
       "      <td>auto_generated</td>\n",
       "      <td></td>\n",
       "      <td>27691</td>\n",
       "    </tr>\n",
       "    <tr>\n",
       "      <th>4</th>\n",
       "      <td>Seleucus I wearing crown.</td>\n",
       "      <td></td>\n",
       "      <td>auto_generated</td>\n",
       "      <td></td>\n",
       "      <td>27522</td>\n",
       "    </tr>\n",
       "  </tbody>\n",
       "</table>\n",
       "</div>"
      ],
      "text/plain": [
       "                           design_en design_de         comment  \\\n",
       "0            Olybrius holding staff.            auto_generated   \n",
       "1  Apollo receiving agonistic crown.            auto_generated   \n",
       "2           Athena resting on torch.            auto_generated   \n",
       "3              Ares receiving crown.            auto_generated   \n",
       "4          Seleucus I wearing crown.            auto_generated   \n",
       "\n",
       "  design_en_changed  db_id  \n",
       "0                    27819  \n",
       "1                    27551  \n",
       "2                    27563  \n",
       "3                    27691  \n",
       "4                    27522  "
      ]
     },
     "execution_count": 15,
     "metadata": {},
     "output_type": "execute_result"
    }
   ],
   "source": [
    "X.head(5)"
   ]
  },
  {
   "cell_type": "code",
   "execution_count": 16,
   "id": "4ba865f5-65f6-4e5a-8fc9-58f75943b0a2",
   "metadata": {},
   "outputs": [
    {
     "data": {
      "text/plain": [
       "(300, 5)"
      ]
     },
     "execution_count": 16,
     "metadata": {},
     "output_type": "execute_result"
    }
   ],
   "source": [
    "X = X.loc[X.db_id!=\"Null\"]\n",
    "X.shape"
   ]
  },
  {
   "cell_type": "code",
   "execution_count": 17,
   "id": "e2fdc29c-94bf-41f8-985f-1bab13aa2808",
   "metadata": {},
   "outputs": [],
   "source": [
    "X[\"y\"] = result[\"y\"]"
   ]
  },
  {
   "cell_type": "code",
   "execution_count": 18,
   "id": "b7955b26-19a4-4861-aa55-02f7f5fcf0be",
   "metadata": {},
   "outputs": [
    {
     "data": {
      "text/html": [
       "<div>\n",
       "<style scoped>\n",
       "    .dataframe tbody tr th:only-of-type {\n",
       "        vertical-align: middle;\n",
       "    }\n",
       "\n",
       "    .dataframe tbody tr th {\n",
       "        vertical-align: top;\n",
       "    }\n",
       "\n",
       "    .dataframe thead th {\n",
       "        text-align: right;\n",
       "    }\n",
       "</style>\n",
       "<table border=\"1\" class=\"dataframe\">\n",
       "  <thead>\n",
       "    <tr style=\"text-align: right;\">\n",
       "      <th></th>\n",
       "      <th>design_en</th>\n",
       "      <th>design_de</th>\n",
       "      <th>comment</th>\n",
       "      <th>design_en_changed</th>\n",
       "      <th>db_id</th>\n",
       "      <th>y</th>\n",
       "    </tr>\n",
       "  </thead>\n",
       "  <tbody>\n",
       "    <tr>\n",
       "      <th>0</th>\n",
       "      <td>Olybrius holding staff.</td>\n",
       "      <td></td>\n",
       "      <td>auto_generated</td>\n",
       "      <td></td>\n",
       "      <td>27819</td>\n",
       "      <td>(Olybrius, holding, staff)</td>\n",
       "    </tr>\n",
       "    <tr>\n",
       "      <th>1</th>\n",
       "      <td>Apollo receiving agonistic crown.</td>\n",
       "      <td></td>\n",
       "      <td>auto_generated</td>\n",
       "      <td></td>\n",
       "      <td>27551</td>\n",
       "      <td>(Apollo, receiving, agonistic crown)</td>\n",
       "    </tr>\n",
       "    <tr>\n",
       "      <th>2</th>\n",
       "      <td>Athena resting on torch.</td>\n",
       "      <td></td>\n",
       "      <td>auto_generated</td>\n",
       "      <td></td>\n",
       "      <td>27563</td>\n",
       "      <td>(Athena, resting_on, torch)</td>\n",
       "    </tr>\n",
       "    <tr>\n",
       "      <th>3</th>\n",
       "      <td>Ares receiving crown.</td>\n",
       "      <td></td>\n",
       "      <td>auto_generated</td>\n",
       "      <td></td>\n",
       "      <td>27691</td>\n",
       "      <td>(Ares, receiving, crown)</td>\n",
       "    </tr>\n",
       "    <tr>\n",
       "      <th>4</th>\n",
       "      <td>Seleucus I wearing crown.</td>\n",
       "      <td></td>\n",
       "      <td>auto_generated</td>\n",
       "      <td></td>\n",
       "      <td>27522</td>\n",
       "      <td>(Seleucus I, wearing, crown)</td>\n",
       "    </tr>\n",
       "  </tbody>\n",
       "</table>\n",
       "</div>"
      ],
      "text/plain": [
       "                           design_en design_de         comment  \\\n",
       "0            Olybrius holding staff.            auto_generated   \n",
       "1  Apollo receiving agonistic crown.            auto_generated   \n",
       "2           Athena resting on torch.            auto_generated   \n",
       "3              Ares receiving crown.            auto_generated   \n",
       "4          Seleucus I wearing crown.            auto_generated   \n",
       "\n",
       "  design_en_changed  db_id                                     y  \n",
       "0                    27819            (Olybrius, holding, staff)  \n",
       "1                    27551  (Apollo, receiving, agonistic crown)  \n",
       "2                    27563           (Athena, resting_on, torch)  \n",
       "3                    27691              (Ares, receiving, crown)  \n",
       "4                    27522          (Seleucus I, wearing, crown)  "
      ]
     },
     "execution_count": 18,
     "metadata": {},
     "output_type": "execute_result"
    }
   ],
   "source": [
    "X.head(5)"
   ]
  },
  {
   "cell_type": "markdown",
   "id": "ee355287-4f5b-439c-bf88-6edc72bf3d24",
   "metadata": {},
   "source": [
    "## Add relations to db"
   ]
  },
  {
   "cell_type": "code",
   "execution_count": 19,
   "id": "81c3e381-d79e-45f8-b167-25f510394dd7",
   "metadata": {},
   "outputs": [
    {
     "data": {
      "text/html": [
       "<div>\n",
       "<style scoped>\n",
       "    .dataframe tbody tr th:only-of-type {\n",
       "        vertical-align: middle;\n",
       "    }\n",
       "\n",
       "    .dataframe tbody tr th {\n",
       "        vertical-align: top;\n",
       "    }\n",
       "\n",
       "    .dataframe thead th {\n",
       "        text-align: right;\n",
       "    }\n",
       "</style>\n",
       "<table border=\"1\" class=\"dataframe\">\n",
       "  <thead>\n",
       "    <tr style=\"text-align: right;\">\n",
       "      <th></th>\n",
       "      <th>id</th>\n",
       "      <th>name_en</th>\n",
       "      <th>alternativenames_en</th>\n",
       "    </tr>\n",
       "  </thead>\n",
       "  <tbody>\n",
       "    <tr>\n",
       "      <th>0</th>\n",
       "      <td>1</td>\n",
       "      <td>Abundantia</td>\n",
       "      <td>None</td>\n",
       "    </tr>\n",
       "    <tr>\n",
       "      <th>1</th>\n",
       "      <td>2</td>\n",
       "      <td>Actaeon</td>\n",
       "      <td>None</td>\n",
       "    </tr>\n",
       "    <tr>\n",
       "      <th>2</th>\n",
       "      <td>3</td>\n",
       "      <td>Aemilian</td>\n",
       "      <td>None</td>\n",
       "    </tr>\n",
       "    <tr>\n",
       "      <th>3</th>\n",
       "      <td>4</td>\n",
       "      <td>Aeneas</td>\n",
       "      <td>None</td>\n",
       "    </tr>\n",
       "    <tr>\n",
       "      <th>4</th>\n",
       "      <td>5</td>\n",
       "      <td>Aequitas</td>\n",
       "      <td>Equitas</td>\n",
       "    </tr>\n",
       "    <tr>\n",
       "      <th>...</th>\n",
       "      <td>...</td>\n",
       "      <td>...</td>\n",
       "      <td>...</td>\n",
       "    </tr>\n",
       "    <tr>\n",
       "      <th>844</th>\n",
       "      <td>845</td>\n",
       "      <td>turning</td>\n",
       "      <td>None</td>\n",
       "    </tr>\n",
       "    <tr>\n",
       "      <th>845</th>\n",
       "      <td>846</td>\n",
       "      <td>sailing</td>\n",
       "      <td>None</td>\n",
       "    </tr>\n",
       "    <tr>\n",
       "      <th>846</th>\n",
       "      <td>847</td>\n",
       "      <td>escorted_by</td>\n",
       "      <td>escorted by</td>\n",
       "    </tr>\n",
       "    <tr>\n",
       "      <th>847</th>\n",
       "      <td>848</td>\n",
       "      <td>wearing</td>\n",
       "      <td>None</td>\n",
       "    </tr>\n",
       "    <tr>\n",
       "      <th>848</th>\n",
       "      <td>1000</td>\n",
       "      <td>no-value</td>\n",
       "      <td>None</td>\n",
       "    </tr>\n",
       "  </tbody>\n",
       "</table>\n",
       "<p>849 rows × 3 columns</p>\n",
       "</div>"
      ],
      "text/plain": [
       "       id      name_en alternativenames_en\n",
       "0       1   Abundantia                None\n",
       "1       2      Actaeon                None\n",
       "2       3     Aemilian                None\n",
       "3       4       Aeneas                None\n",
       "4       5     Aequitas             Equitas\n",
       "..    ...          ...                 ...\n",
       "844   845      turning                None\n",
       "845   846      sailing                None\n",
       "846   847  escorted_by         escorted by\n",
       "847   848      wearing                None\n",
       "848  1000     no-value                None\n",
       "\n",
       "[849 rows x 3 columns]"
      ]
     },
     "execution_count": 19,
     "metadata": {},
     "output_type": "execute_result"
    }
   ],
   "source": [
    "entities = dc.create_own_query(\"select * from nlp_list_entities;\")\n",
    "entities[[\"id\", \"name_en\", \"alternativenames_en\"]]"
   ]
  },
  {
   "cell_type": "code",
   "execution_count": 20,
   "id": "4b496835-0abe-47f2-aeb1-54e0a58c2be1",
   "metadata": {},
   "outputs": [],
   "source": [
    "X[\"y\"] = X.apply(lambda row: [row.y], axis=1)"
   ]
  },
  {
   "cell_type": "code",
   "execution_count": 21,
   "id": "3379915b-be0e-426a-a50b-e85bffaa2360",
   "metadata": {},
   "outputs": [],
   "source": [
    "ent_dict = {}\n",
    "for index, row in entities[[\"id\", \"name_en\", \"alternativenames_en\"]].iterrows():\n",
    "    ent_dict[row[\"id\"]] = (row[\"name_en\"]+\", \"+row[\"alternativenames_en\"]).replace(\", None\",\"\").lower()"
   ]
  },
  {
   "cell_type": "code",
   "execution_count": 22,
   "id": "2c3882ab-510c-4fed-81ba-6e0745f37fff",
   "metadata": {},
   "outputs": [],
   "source": [
    "result = pd.DataFrame(columns=[\"design_id\", \"subject\", \"predicate\", \"object\"])"
   ]
  },
  {
   "cell_type": "code",
   "execution_count": 23,
   "id": "9092a04a",
   "metadata": {},
   "outputs": [],
   "source": [
    "def get_id(ent):\n",
    "    for row in ent_dict:\n",
    "        for entry in ent_dict[row].split(', '):\n",
    "            if ent == entry:\n",
    "                return row\n",
    "            if ent.lower() == entry:\n",
    "                return row\n",
    "    return ent"
   ]
  },
  {
   "cell_type": "code",
   "execution_count": 24,
   "id": "e8e8d25e-33ae-4964-90ed-0290d7aed7fd",
   "metadata": {},
   "outputs": [],
   "source": [
    "for index, row in X.iterrows():\n",
    "    for y in row.y:\n",
    "        subject = get_id(y[0])\n",
    "        subject_str = y[0]\n",
    "        predicate = get_id(y[1])\n",
    "        predicate_str = y[1]\n",
    "        obj = get_id(y[2])\n",
    "        obj_str = y[2]\n",
    "        if type(subject) == int and type(predicate) == int and type(obj) == int:\n",
    "            result = result._append({\"design_id\": row.db_id, \n",
    "                                     \"subject\": subject, \n",
    "                                     \"subject_str\": subject_str,\n",
    "                                     \"predicate\": predicate, \n",
    "                                     \"predicate_str\": predicate_str,\n",
    "                                     \"object\": obj,\n",
    "                                     \"object_str\": obj_str}, ignore_index=True)\n",
    "        else:\n",
    "            print(subject, predicate, obj)"
   ]
  },
  {
   "cell_type": "code",
   "execution_count": 25,
   "id": "ba172dfa-1a17-4f71-8acb-603bc0ab3795",
   "metadata": {},
   "outputs": [
    {
     "data": {
      "text/plain": [
       "(300, 7)"
      ]
     },
     "execution_count": 25,
     "metadata": {},
     "output_type": "execute_result"
    }
   ],
   "source": [
    "result.shape"
   ]
  },
  {
   "cell_type": "code",
   "execution_count": 26,
   "id": "15ec4d08-52a2-4402-9a77-79046c3e3886",
   "metadata": {},
   "outputs": [
    {
     "data": {
      "text/plain": [
       "300"
      ]
     },
     "execution_count": 26,
     "metadata": {},
     "output_type": "execute_result"
    }
   ],
   "source": [
    "result.to_sql(\"nlp_relation_extraction_en_v2\",dc.mysql_connection,if_exists=\"append\", index=False)"
   ]
  },
  {
   "cell_type": "code",
   "execution_count": null,
   "id": "59dfea8e",
   "metadata": {},
   "outputs": [],
   "source": []
  }
 ],
 "metadata": {
  "kernelspec": {
   "display_name": "Python 3 (ipykernel)",
   "language": "python",
   "name": "python3"
  },
  "language_info": {
   "codemirror_mode": {
    "name": "ipython",
    "version": 3
   },
   "file_extension": ".py",
   "mimetype": "text/x-python",
   "name": "python",
   "nbconvert_exporter": "python",
   "pygments_lexer": "ipython3",
   "version": "3.8.13"
  }
 },
 "nbformat": 4,
 "nbformat_minor": 5
}
