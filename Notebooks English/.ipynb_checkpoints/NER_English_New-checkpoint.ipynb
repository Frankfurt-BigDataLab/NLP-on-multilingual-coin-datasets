{
 "cells": [
  {
   "cell_type": "markdown",
   "metadata": {},
   "source": [
    "developed by Patricia Klinger, modified by Sebastian Gampe, Kerim Gencer, Chrisowalandis Deligio"
   ]
  },
  {
   "cell_type": "code",
   "execution_count": 1,
   "metadata": {},
   "outputs": [
    {
     "name": "stderr",
     "output_type": "stream",
     "text": [
      "/home/bigdatalab/anaconda3/envs/nlp/lib/python3.8/site-packages/tqdm/auto.py:22: TqdmWarning: IProgress not found. Please update jupyter and ipywidgets. See https://ipywidgets.readthedocs.io/en/stable/user_install.html\n",
      "  from .autonotebook import tqdm as notebook_tqdm\n"
     ]
    }
   ],
   "source": [
    "import os\n",
    "import sys\n",
    "sys.path.append('../')\n",
    "import pandas as pd\n",
    "import random\n",
    "import numpy as np\n",
    "import spacy\n",
    "import swifter\n",
    "from cnt.model import DesignEstimator, save_ner_model, load_ner_model,save_ner_model_v2, load_ner_model_v2\n",
    "from cnt.annotate import (annotate, annotate_single_design, \n",
    "                          annotate_designs, \n",
    "                          extract_string_from_annotation, split_alternativenames)\n",
    "from cnt.evaluate import Metrics\n",
    "#from cnt.stem_lemma_annotation import Stem_Lemma_Annotatizer\n",
    "from cnt.preprocess import Preprocess\n",
    "from cnt.io import  Database_Connection\n",
    "\n",
    "\n",
    "\n",
    "import warnings\n",
    "warnings.filterwarnings('ignore')"
   ]
  },
  {
   "cell_type": "markdown",
   "metadata": {
    "tags": []
   },
   "source": [
    "### Define the column names for the id and design column "
   ]
  },
  {
   "cell_type": "code",
   "execution_count": 2,
   "metadata": {},
   "outputs": [],
   "source": [
    "id_col = \"id\"\n",
    "design_col = \"design_en\"\n",
    "use_lemma_stem = False"
   ]
  },
  {
   "cell_type": "code",
   "execution_count": 3,
   "metadata": {},
   "outputs": [],
   "source": [
    "language = \"_en\"\n",
    "add_columns = [\"id\", \"name\"+language, \"alternativenames\"+language]"
   ]
  },
  {
   "cell_type": "code",
   "execution_count": 4,
   "metadata": {},
   "outputs": [],
   "source": [
    "dc =  Database_Connection(\"mysql+mysqlconnector://root:YourConnection\") # Format user:password@IP/Database"
   ]
  },
  {
   "cell_type": "code",
   "execution_count": 6,
   "metadata": {},
   "outputs": [],
   "source": [
    "designs = dc.load_designs_from_db(\"nlp_training_designs\", [id_col, design_col])"
   ]
  },
  {
   "cell_type": "code",
   "execution_count": 7,
   "metadata": {
    "tags": []
   },
   "outputs": [
    {
     "data": {
      "text/html": [
       "<div>\n",
       "<style scoped>\n",
       "    .dataframe tbody tr th:only-of-type {\n",
       "        vertical-align: middle;\n",
       "    }\n",
       "\n",
       "    .dataframe tbody tr th {\n",
       "        vertical-align: top;\n",
       "    }\n",
       "\n",
       "    .dataframe thead th {\n",
       "        text-align: right;\n",
       "    }\n",
       "</style>\n",
       "<table border=\"1\" class=\"dataframe\">\n",
       "  <thead>\n",
       "    <tr style=\"text-align: right;\">\n",
       "      <th></th>\n",
       "      <th>id</th>\n",
       "      <th>design_en</th>\n",
       "    </tr>\n",
       "  </thead>\n",
       "  <tbody>\n",
       "    <tr>\n",
       "      <th>0</th>\n",
       "      <td>1</td>\n",
       "      <td>Diademed head of deified Alexander the Great w...</td>\n",
       "    </tr>\n",
       "    <tr>\n",
       "      <th>1</th>\n",
       "      <td>6</td>\n",
       "      <td>Altar, lighted and garlanded.</td>\n",
       "    </tr>\n",
       "    <tr>\n",
       "      <th>2</th>\n",
       "      <td>8</td>\n",
       "      <td>Prize amphora on ornamental stand; within line...</td>\n",
       "    </tr>\n",
       "    <tr>\n",
       "      <th>3</th>\n",
       "      <td>9</td>\n",
       "      <td>Amphora with ribbed surface and crooked handle...</td>\n",
       "    </tr>\n",
       "    <tr>\n",
       "      <th>4</th>\n",
       "      <td>10</td>\n",
       "      <td>Bust of youthful Anchialos, right, wearing tae...</td>\n",
       "    </tr>\n",
       "  </tbody>\n",
       "</table>\n",
       "</div>"
      ],
      "text/plain": [
       "   id                                          design_en\n",
       "0   1  Diademed head of deified Alexander the Great w...\n",
       "1   6                      Altar, lighted and garlanded.\n",
       "2   8  Prize amphora on ornamental stand; within line...\n",
       "3   9  Amphora with ribbed surface and crooked handle...\n",
       "4  10  Bust of youthful Anchialos, right, wearing tae..."
      ]
     },
     "execution_count": 7,
     "metadata": {},
     "output_type": "execute_result"
    }
   ],
   "source": [
    "designs.head(5)"
   ]
  },
  {
   "cell_type": "code",
   "execution_count": 8,
   "metadata": {},
   "outputs": [
    {
     "data": {
      "text/plain": [
       "(22112, 2)"
      ]
     },
     "execution_count": 8,
     "metadata": {},
     "output_type": "execute_result"
    }
   ],
   "source": [
    "designs.shape"
   ]
  },
  {
   "cell_type": "markdown",
   "metadata": {},
   "source": [
    "## Load and annotate designs"
   ]
  },
  {
   "cell_type": "code",
   "execution_count": 9,
   "metadata": {},
   "outputs": [],
   "source": [
    "entities = {\n",
    "    \"PERSON\": dc.load_entities_from_db_v2(\"thrakien_d4n4.nlp_list_entities\", \"PERSON\", add_columns, [add_columns[1]], \",\", True),\n",
    "    \"OBJECT\": dc.load_entities_from_db_v2(\"thrakien_d4n4.nlp_list_entities\", \"OBJECT\", add_columns, [add_columns[1]], \",\", True),\n",
    "    \"ANIMAL\": dc.load_entities_from_db_v2(\"thrakien_d4n4.nlp_list_entities\", \"ANIMAL\", add_columns, [add_columns[1]], \",\", True),\n",
    "    \"PLANT\": dc.load_entities_from_db_v2(\"thrakien_d4n4.nlp_list_entities\", \"PLANT\", add_columns, [add_columns[1]], \",\", True)}"
   ]
  },
  {
   "cell_type": "code",
   "execution_count": 10,
   "metadata": {
    "tags": []
   },
   "outputs": [],
   "source": [
    "annotated_designs = annotate_designs(entities, designs, id_col, design_col)\n",
    "annotated_designs = annotated_designs[\n",
    "    annotated_designs.annotations.map(len) > 0]"
   ]
  },
  {
   "cell_type": "code",
   "execution_count": 11,
   "metadata": {
    "tags": []
   },
   "outputs": [],
   "source": [
    "if use_lemma_stem:\n",
    "    annotater = Stem_Lemma_Annotatizer() # parameter: method=\"lemma_stem\", language=\"en\", backbone=\"spacy_snowball\"\n",
    "    annotated_designs = annotater.annotate(annotated_designs, entities, id_col, design_col)"
   ]
  },
  {
   "cell_type": "code",
   "execution_count": 12,
   "metadata": {
    "tags": []
   },
   "outputs": [
    {
     "data": {
      "text/html": [
       "<div>\n",
       "<style scoped>\n",
       "    .dataframe tbody tr th:only-of-type {\n",
       "        vertical-align: middle;\n",
       "    }\n",
       "\n",
       "    .dataframe tbody tr th {\n",
       "        vertical-align: top;\n",
       "    }\n",
       "\n",
       "    .dataframe thead th {\n",
       "        text-align: right;\n",
       "    }\n",
       "</style>\n",
       "<table border=\"1\" class=\"dataframe\">\n",
       "  <thead>\n",
       "    <tr style=\"text-align: right;\">\n",
       "      <th></th>\n",
       "      <th>design_en</th>\n",
       "      <th>id</th>\n",
       "      <th>annotations</th>\n",
       "    </tr>\n",
       "  </thead>\n",
       "  <tbody>\n",
       "    <tr>\n",
       "      <th>0</th>\n",
       "      <td>Diademed head of deified Alexander the Great w...</td>\n",
       "      <td>1</td>\n",
       "      <td>[(9, 13, OBJECT), (25, 44, PERSON), (50, 54, O...</td>\n",
       "    </tr>\n",
       "    <tr>\n",
       "      <th>1</th>\n",
       "      <td>Altar, lighted and garlanded.</td>\n",
       "      <td>6</td>\n",
       "      <td>[(0, 5, OBJECT)]</td>\n",
       "    </tr>\n",
       "    <tr>\n",
       "      <th>2</th>\n",
       "      <td>Prize amphora on ornamental stand; within line...</td>\n",
       "      <td>8</td>\n",
       "      <td>[(6, 13, OBJECT)]</td>\n",
       "    </tr>\n",
       "    <tr>\n",
       "      <th>3</th>\n",
       "      <td>Amphora with ribbed surface and crooked handle...</td>\n",
       "      <td>9</td>\n",
       "      <td>[(0, 7, OBJECT), (40, 47, OBJECT), (63, 67, PL...</td>\n",
       "    </tr>\n",
       "    <tr>\n",
       "      <th>4</th>\n",
       "      <td>Bust of youthful Anchialos, right, wearing tae...</td>\n",
       "      <td>10</td>\n",
       "      <td>[(0, 4, OBJECT), (17, 26, PERSON), (43, 49, OB...</td>\n",
       "    </tr>\n",
       "  </tbody>\n",
       "</table>\n",
       "</div>"
      ],
      "text/plain": [
       "                                           design_en  id  \\\n",
       "0  Diademed head of deified Alexander the Great w...   1   \n",
       "1                      Altar, lighted and garlanded.   6   \n",
       "2  Prize amphora on ornamental stand; within line...   8   \n",
       "3  Amphora with ribbed surface and crooked handle...   9   \n",
       "4  Bust of youthful Anchialos, right, wearing tae...  10   \n",
       "\n",
       "                                         annotations  \n",
       "0  [(9, 13, OBJECT), (25, 44, PERSON), (50, 54, O...  \n",
       "1                                   [(0, 5, OBJECT)]  \n",
       "2                                  [(6, 13, OBJECT)]  \n",
       "3  [(0, 7, OBJECT), (40, 47, OBJECT), (63, 67, PL...  \n",
       "4  [(0, 4, OBJECT), (17, 26, PERSON), (43, 49, OB...  "
      ]
     },
     "execution_count": 12,
     "metadata": {},
     "output_type": "execute_result"
    }
   ],
   "source": [
    "annotated_designs.head(5)"
   ]
  },
  {
   "cell_type": "code",
   "execution_count": 13,
   "metadata": {
    "tags": []
   },
   "outputs": [
    {
     "data": {
      "text/plain": [
       "(21887, 3)"
      ]
     },
     "execution_count": 13,
     "metadata": {},
     "output_type": "execute_result"
    }
   ],
   "source": [
    "annotated_designs.shape"
   ]
  },
  {
   "cell_type": "markdown",
   "metadata": {},
   "source": [
    "## Preprocessing"
   ]
  },
  {
   "cell_type": "code",
   "execution_count": 14,
   "metadata": {},
   "outputs": [],
   "source": [
    "annotated_designs[\"design_en_changed\"] = \"\""
   ]
  },
  {
   "cell_type": "code",
   "execution_count": 15,
   "metadata": {},
   "outputs": [],
   "source": [
    "df_entities = dc.load_from_db(\"nlp_list_entities\", add_columns)"
   ]
  },
  {
   "cell_type": "code",
   "execution_count": 16,
   "metadata": {},
   "outputs": [],
   "source": [
    "# Add rules for preprocessing\n",
    "preprocess = Preprocess()\n",
    "preprocess.add_rule(\"horseman\", \"horse man\")\n",
    "preprocess.add_rule(\"horsemen\", \"horse men\")\n",
    "\n",
    "for index, row in df_entities.iterrows():\n",
    "    if row[\"alternativenames_en\"] is not None:\n",
    "        standard_name = row[\"name_en\"]\n",
    "        alt_names = row[\"alternativenames_en\"].split(\", \")\n",
    "        for alt_name in alt_names:\n",
    "            preprocess.add_rule(alt_name, standard_name)"
   ]
  },
  {
   "cell_type": "markdown",
   "metadata": {},
   "source": [
    "#### Bei römischen Zahlen scheint es noch kleine Probleme zu geben, daher nochmal extra manuell"
   ]
  },
  {
   "cell_type": "code",
   "execution_count": 17,
   "metadata": {},
   "outputs": [],
   "source": [
    "for rule in list(preprocess.rules):\n",
    "    if \" I.\" in rule or \" II.\" in rule or \" III.\" in rule or \" IV.\" in rule or \" V.\" in rule:\n",
    "        del preprocess.rules[rule]"
   ]
  },
  {
   "cell_type": "code",
   "execution_count": 18,
   "metadata": {},
   "outputs": [],
   "source": [
    "for index, row in annotated_designs.iterrows():\n",
    "    if \" I.\" in row[\"design_en\"]:\n",
    "        designs.at[index, \"design_en\"] = row[\"design_en\"].replace(\" I.\", \" I\")\n",
    "    if \" II.\" in row[\"design_en\"]:\n",
    "        designs.at[index, \"design_en\"] = row[\"design_en\"].replace(\" II.\", \" II\")\n",
    "    if \" III.\" in row[\"design_en\"]:\n",
    "        designs.at[index, \"design_en\"] = row[\"design_en\"].replace(\" III.\", \" III\")\n",
    "    if \" IV.\" in row[\"design_en\"]:\n",
    "        designs.at[index, \"design_en\"] = row[\"design_en\"].replace(\" IV.\", \" IV\")\n",
    "    if \" V.\" in row[\"design_en\"]:\n",
    "        designs.at[index, \"design_en\"] = row[\"design_en\"].replace(\" V.\", \" V\")"
   ]
  },
  {
   "cell_type": "code",
   "execution_count": 19,
   "metadata": {},
   "outputs": [
    {
     "name": "stderr",
     "output_type": "stream",
     "text": [
      "Pandas Apply: 100%|███████████████████████| 21887/21887 [07:10<00:00, 50.79it/s]\n"
     ]
    }
   ],
   "source": [
    "# Apply defined rules\n",
    "annotated_designs[\"design_en_changed\"] = annotated_designs.swifter.apply(lambda row: preprocess.preprocess_design(row.design_en, row.id)[0], axis=1)"
   ]
  },
  {
   "cell_type": "code",
   "execution_count": 20,
   "metadata": {},
   "outputs": [
    {
     "name": "stderr",
     "output_type": "stream",
     "text": [
      "Pandas Apply: 100%|███████████████████| 21887/21887 [00:00<00:00, 202286.68it/s]\n"
     ]
    }
   ],
   "source": [
    "# Deleting brackets and questionmarks\n",
    "annotated_designs[\"design_en_changed\"] = annotated_designs.swifter.apply(lambda row: row[\"design_en_changed\"].replace(\"?\", \"\").replace(\"(\", \"\").replace(\")\", \"\"), axis=1)"
   ]
  },
  {
   "cell_type": "code",
   "execution_count": 21,
   "metadata": {},
   "outputs": [],
   "source": [
    "annotated_designs.rename(columns={\"design_en\":\"design_en_orig\", \"design_en_changed\":\"design_en\", \"annotations\":\"annotations_orig\"}, inplace=True)"
   ]
  },
  {
   "cell_type": "code",
   "execution_count": 22,
   "metadata": {},
   "outputs": [
    {
     "data": {
      "text/html": [
       "<style type=\"text/css\">\n",
       "</style>\n",
       "<table id=\"T_6ded0\">\n",
       "  <thead>\n",
       "    <tr>\n",
       "      <th class=\"blank level0\" >&nbsp;</th>\n",
       "      <th id=\"T_6ded0_level0_col0\" class=\"col_heading level0 col0\" >design_en_orig</th>\n",
       "      <th id=\"T_6ded0_level0_col1\" class=\"col_heading level0 col1\" >id</th>\n",
       "      <th id=\"T_6ded0_level0_col2\" class=\"col_heading level0 col2\" >annotations_orig</th>\n",
       "      <th id=\"T_6ded0_level0_col3\" class=\"col_heading level0 col3\" >design_en</th>\n",
       "    </tr>\n",
       "  </thead>\n",
       "  <tbody>\n",
       "    <tr>\n",
       "      <th id=\"T_6ded0_level0_row0\" class=\"row_heading level0 row0\" >0</th>\n",
       "      <td id=\"T_6ded0_row0_col0\" class=\"data row0 col0\" >Diademed head of deified Alexander the Great with horn of Ammon, right. Border of dots.</td>\n",
       "      <td id=\"T_6ded0_row0_col1\" class=\"data row0 col1\" >1</td>\n",
       "      <td id=\"T_6ded0_row0_col2\" class=\"data row0 col2\" >[(9, 13, 'OBJECT'), (25, 44, 'PERSON'), (50, 54, 'OBJECT')]</td>\n",
       "      <td id=\"T_6ded0_row0_col3\" class=\"data row0 col3\" >Diadem head of deified Alexander the Great with horn of Ammon, right. Border of dots.</td>\n",
       "    </tr>\n",
       "    <tr>\n",
       "      <th id=\"T_6ded0_level0_row1\" class=\"row_heading level0 row1\" >1</th>\n",
       "      <td id=\"T_6ded0_row1_col0\" class=\"data row1 col0\" >Altar, lighted and garlanded.</td>\n",
       "      <td id=\"T_6ded0_row1_col1\" class=\"data row1 col1\" >6</td>\n",
       "      <td id=\"T_6ded0_row1_col2\" class=\"data row1 col2\" >[(0, 5, 'OBJECT')]</td>\n",
       "      <td id=\"T_6ded0_row1_col3\" class=\"data row1 col3\" >Altar, lighted and garland.</td>\n",
       "    </tr>\n",
       "    <tr>\n",
       "      <th id=\"T_6ded0_level0_row2\" class=\"row_heading level0 row2\" >2</th>\n",
       "      <td id=\"T_6ded0_row2_col0\" class=\"data row2 col0\" >Prize amphora on ornamental stand; within linear square and incuse square.</td>\n",
       "      <td id=\"T_6ded0_row2_col1\" class=\"data row2 col1\" >8</td>\n",
       "      <td id=\"T_6ded0_row2_col2\" class=\"data row2 col2\" >[(6, 13, 'OBJECT')]</td>\n",
       "      <td id=\"T_6ded0_row2_col3\" class=\"data row2 col3\" >Prize amphora on ornamental stand; within linear square and incuse square.</td>\n",
       "    </tr>\n",
       "    <tr>\n",
       "      <th id=\"T_6ded0_level0_row3\" class=\"row_heading level0 row3\" >3</th>\n",
       "      <td id=\"T_6ded0_row3_col0\" class=\"data row3 col0\" >Amphora with ribbed surface and crooked handles containing two ears of corn and poppy.</td>\n",
       "      <td id=\"T_6ded0_row3_col1\" class=\"data row3 col1\" >9</td>\n",
       "      <td id=\"T_6ded0_row3_col2\" class=\"data row3 col2\" >[(0, 7, 'OBJECT'), (40, 47, 'OBJECT'), (63, 67, 'PLANT'), (71, 75, 'PLANT'), (80, 85, 'PLANT')]</td>\n",
       "      <td id=\"T_6ded0_row3_col3\" class=\"data row3 col3\" >Amphora with ribbed surface and crooked handleholding two corn and poppy.</td>\n",
       "    </tr>\n",
       "    <tr>\n",
       "      <th id=\"T_6ded0_level0_row4\" class=\"row_heading level0 row4\" >4</th>\n",
       "      <td id=\"T_6ded0_row4_col0\" class=\"data row4 col0\" >Bust of youthful Anchialos, right, wearing taenia. Border of dots.</td>\n",
       "      <td id=\"T_6ded0_row4_col1\" class=\"data row4 col1\" >10</td>\n",
       "      <td id=\"T_6ded0_row4_col2\" class=\"data row4 col2\" >[(0, 4, 'OBJECT'), (17, 26, 'PERSON'), (43, 49, 'OBJECT')]</td>\n",
       "      <td id=\"T_6ded0_row4_col3\" class=\"data row4 col3\" >Bust of youthful Anchialos, right, wearing taenia. Border of dots.</td>\n",
       "    </tr>\n",
       "  </tbody>\n",
       "</table>\n"
      ],
      "text/plain": [
       "<pandas.io.formats.style.Styler at 0x7fa8f3c76e20>"
      ]
     },
     "execution_count": 22,
     "metadata": {},
     "output_type": "execute_result"
    }
   ],
   "source": [
    "annotated_designs.head(5).style"
   ]
  },
  {
   "cell_type": "code",
   "execution_count": 23,
   "metadata": {},
   "outputs": [],
   "source": [
    "train_designs = annotate_designs(entities, annotated_designs[[\"id\", \"design_en\"]], id_col, design_col)\n",
    "train_designs = train_designs[\n",
    "    train_designs.annotations.map(len) > 0]\n",
    "annotated_designs = annotated_designs.merge(train_designs[[\"id\", \"annotations\"]], left_on=\"id\", right_on=\"id\")"
   ]
  },
  {
   "cell_type": "code",
   "execution_count": 24,
   "metadata": {},
   "outputs": [
    {
     "data": {
      "text/html": [
       "<div>\n",
       "<style scoped>\n",
       "    .dataframe tbody tr th:only-of-type {\n",
       "        vertical-align: middle;\n",
       "    }\n",
       "\n",
       "    .dataframe tbody tr th {\n",
       "        vertical-align: top;\n",
       "    }\n",
       "\n",
       "    .dataframe thead th {\n",
       "        text-align: right;\n",
       "    }\n",
       "</style>\n",
       "<table border=\"1\" class=\"dataframe\">\n",
       "  <thead>\n",
       "    <tr style=\"text-align: right;\">\n",
       "      <th></th>\n",
       "      <th>design_en_orig</th>\n",
       "      <th>id</th>\n",
       "      <th>annotations_orig</th>\n",
       "      <th>design_en</th>\n",
       "      <th>annotations</th>\n",
       "    </tr>\n",
       "  </thead>\n",
       "  <tbody>\n",
       "    <tr>\n",
       "      <th>0</th>\n",
       "      <td>Diademed head of deified Alexander the Great w...</td>\n",
       "      <td>1</td>\n",
       "      <td>[(9, 13, OBJECT), (25, 44, PERSON), (50, 54, O...</td>\n",
       "      <td>Diadem head of deified Alexander the Great wit...</td>\n",
       "      <td>[(0, 6, OBJECT), (7, 11, OBJECT), (23, 42, PER...</td>\n",
       "    </tr>\n",
       "    <tr>\n",
       "      <th>1</th>\n",
       "      <td>Altar, lighted and garlanded.</td>\n",
       "      <td>6</td>\n",
       "      <td>[(0, 5, OBJECT)]</td>\n",
       "      <td>Altar, lighted and garland.</td>\n",
       "      <td>[(0, 5, OBJECT), (19, 26, OBJECT)]</td>\n",
       "    </tr>\n",
       "    <tr>\n",
       "      <th>2</th>\n",
       "      <td>Prize amphora on ornamental stand; within line...</td>\n",
       "      <td>8</td>\n",
       "      <td>[(6, 13, OBJECT)]</td>\n",
       "      <td>Prize amphora on ornamental stand; within line...</td>\n",
       "      <td>[(6, 13, OBJECT)]</td>\n",
       "    </tr>\n",
       "    <tr>\n",
       "      <th>3</th>\n",
       "      <td>Amphora with ribbed surface and crooked handle...</td>\n",
       "      <td>9</td>\n",
       "      <td>[(0, 7, OBJECT), (40, 47, OBJECT), (63, 67, PL...</td>\n",
       "      <td>Amphora with ribbed surface and crooked handle...</td>\n",
       "      <td>[(0, 7, OBJECT), (58, 62, PLANT), (67, 72, PLA...</td>\n",
       "    </tr>\n",
       "    <tr>\n",
       "      <th>4</th>\n",
       "      <td>Bust of youthful Anchialos, right, wearing tae...</td>\n",
       "      <td>10</td>\n",
       "      <td>[(0, 4, OBJECT), (17, 26, PERSON), (43, 49, OB...</td>\n",
       "      <td>Bust of youthful Anchialos, right, wearing tae...</td>\n",
       "      <td>[(0, 4, OBJECT), (17, 26, PERSON), (43, 49, OB...</td>\n",
       "    </tr>\n",
       "  </tbody>\n",
       "</table>\n",
       "</div>"
      ],
      "text/plain": [
       "                                      design_en_orig  id  \\\n",
       "0  Diademed head of deified Alexander the Great w...   1   \n",
       "1                      Altar, lighted and garlanded.   6   \n",
       "2  Prize amphora on ornamental stand; within line...   8   \n",
       "3  Amphora with ribbed surface and crooked handle...   9   \n",
       "4  Bust of youthful Anchialos, right, wearing tae...  10   \n",
       "\n",
       "                                    annotations_orig  \\\n",
       "0  [(9, 13, OBJECT), (25, 44, PERSON), (50, 54, O...   \n",
       "1                                   [(0, 5, OBJECT)]   \n",
       "2                                  [(6, 13, OBJECT)]   \n",
       "3  [(0, 7, OBJECT), (40, 47, OBJECT), (63, 67, PL...   \n",
       "4  [(0, 4, OBJECT), (17, 26, PERSON), (43, 49, OB...   \n",
       "\n",
       "                                           design_en  \\\n",
       "0  Diadem head of deified Alexander the Great wit...   \n",
       "1                        Altar, lighted and garland.   \n",
       "2  Prize amphora on ornamental stand; within line...   \n",
       "3  Amphora with ribbed surface and crooked handle...   \n",
       "4  Bust of youthful Anchialos, right, wearing tae...   \n",
       "\n",
       "                                         annotations  \n",
       "0  [(0, 6, OBJECT), (7, 11, OBJECT), (23, 42, PER...  \n",
       "1                 [(0, 5, OBJECT), (19, 26, OBJECT)]  \n",
       "2                                  [(6, 13, OBJECT)]  \n",
       "3  [(0, 7, OBJECT), (58, 62, PLANT), (67, 72, PLA...  \n",
       "4  [(0, 4, OBJECT), (17, 26, PERSON), (43, 49, OB...  "
      ]
     },
     "execution_count": 24,
     "metadata": {},
     "output_type": "execute_result"
    }
   ],
   "source": [
    "annotated_designs.head(5)"
   ]
  },
  {
   "cell_type": "markdown",
   "metadata": {},
   "source": [
    "## Train NER"
   ]
  },
  {
   "cell_type": "code",
   "execution_count": 25,
   "metadata": {},
   "outputs": [],
   "source": [
    "from sklearn.model_selection import train_test_split\n",
    "X_train, X_test, y_train, y_test = train_test_split(annotated_designs[[id_col, design_col]],\n",
    "                                                    annotated_designs[[id_col, \"annotations\"]],\n",
    "                                                    test_size=0.25, random_state = 12)\n",
    "y_test = y_test.rename(columns={\"annotations\": \"y\"})"
   ]
  },
  {
   "cell_type": "code",
   "execution_count": 26,
   "metadata": {},
   "outputs": [],
   "source": [
    "X_test.index = [i for i in range(X_test.shape[0])]\n",
    "y_test.index = [i for i in range(y_test.shape[0])]"
   ]
  },
  {
   "cell_type": "markdown",
   "metadata": {},
   "source": [
    "#### output directory for the trained model"
   ]
  },
  {
   "cell_type": "code",
   "execution_count": 27,
   "metadata": {},
   "outputs": [],
   "source": [
    "output_dir =  \"../cnt/trained_model/ner/english/\"\n",
    "model_name = \"english_cno\""
   ]
  },
  {
   "cell_type": "code",
   "execution_count": 28,
   "metadata": {},
   "outputs": [
    {
     "name": "stdout",
     "output_type": "stream",
     "text": [
      "../cnt/trained_model/ner/english\n",
      "Saved model to ../cnt/trained_model/ner/english\n"
     ]
    }
   ],
   "source": [
    "my_estimator = DesignEstimator(4, output_dir, model_name, id_col, design_col)\n",
    "my_estimator.set_labels(\"PERSON\", \"OBJECT\", \"ANIMAL\", \"PLANT\")\n",
    "my_estimator.fit(X_train, y_train.annotations, \"cnt\")"
   ]
  },
  {
   "cell_type": "markdown",
   "metadata": {},
   "source": [
    "## Load and evaluate model"
   ]
  },
  {
   "cell_type": "code",
   "execution_count": 29,
   "metadata": {},
   "outputs": [],
   "source": [
    "model = load_ner_model_v2(output_dir, model_name, id_col, design_col)"
   ]
  },
  {
   "cell_type": "code",
   "execution_count": 30,
   "metadata": {},
   "outputs": [],
   "source": [
    "x_predict = model.predict(X_test,as_doc=False)"
   ]
  },
  {
   "cell_type": "code",
   "execution_count": 31,
   "metadata": {},
   "outputs": [
    {
     "data": {
      "text/html": [
       "<div>\n",
       "<style scoped>\n",
       "    .dataframe tbody tr th:only-of-type {\n",
       "        vertical-align: middle;\n",
       "    }\n",
       "\n",
       "    .dataframe tbody tr th {\n",
       "        vertical-align: top;\n",
       "    }\n",
       "\n",
       "    .dataframe thead th {\n",
       "        text-align: right;\n",
       "    }\n",
       "</style>\n",
       "<table border=\"1\" class=\"dataframe\">\n",
       "  <thead>\n",
       "    <tr style=\"text-align: right;\">\n",
       "      <th></th>\n",
       "      <th>id</th>\n",
       "      <th>y</th>\n",
       "    </tr>\n",
       "  </thead>\n",
       "  <tbody>\n",
       "    <tr>\n",
       "      <th>0</th>\n",
       "      <td>16132</td>\n",
       "      <td>[(0, 7, PERSON), (32, 38, OBJECT), (48, 52, OB...</td>\n",
       "    </tr>\n",
       "    <tr>\n",
       "      <th>1</th>\n",
       "      <td>2256</td>\n",
       "      <td>[(0, 5, ANIMAL)]</td>\n",
       "    </tr>\n",
       "    <tr>\n",
       "      <th>2</th>\n",
       "      <td>22295</td>\n",
       "      <td>[(30, 36, OBJECT), (64, 68, PLANT)]</td>\n",
       "    </tr>\n",
       "    <tr>\n",
       "      <th>3</th>\n",
       "      <td>498</td>\n",
       "      <td>[(0, 6, OBJECT), (24, 29, OBJECT), (60, 68, OB...</td>\n",
       "    </tr>\n",
       "    <tr>\n",
       "      <th>4</th>\n",
       "      <td>23685</td>\n",
       "      <td>[(0, 8, PERSON), (10, 16, OBJECT), (36, 40, OB...</td>\n",
       "    </tr>\n",
       "    <tr>\n",
       "      <th>...</th>\n",
       "      <td>...</td>\n",
       "      <td>...</td>\n",
       "    </tr>\n",
       "    <tr>\n",
       "      <th>5466</th>\n",
       "      <td>19811</td>\n",
       "      <td>[(0, 3, PERSON), (27, 35, OBJECT), (45, 49, OB...</td>\n",
       "    </tr>\n",
       "    <tr>\n",
       "      <th>5467</th>\n",
       "      <td>5247</td>\n",
       "      <td>[(0, 9, OBJECT), (21, 25, OBJECT)]</td>\n",
       "    </tr>\n",
       "    <tr>\n",
       "      <th>5468</th>\n",
       "      <td>16861</td>\n",
       "      <td>[(0, 4, OBJECT), (8, 16, PERSON), (18, 21, PLA...</td>\n",
       "    </tr>\n",
       "    <tr>\n",
       "      <th>5469</th>\n",
       "      <td>21935</td>\n",
       "      <td>[(0, 3, PERSON), (5, 12, OBJECT), (31, 36, OBJ...</td>\n",
       "    </tr>\n",
       "    <tr>\n",
       "      <th>5470</th>\n",
       "      <td>18814</td>\n",
       "      <td>[(0, 15, PERSON), (20, 32, PERSON), (48, 56, O...</td>\n",
       "    </tr>\n",
       "  </tbody>\n",
       "</table>\n",
       "<p>5471 rows × 2 columns</p>\n",
       "</div>"
      ],
      "text/plain": [
       "         id                                                  y\n",
       "0     16132  [(0, 7, PERSON), (32, 38, OBJECT), (48, 52, OB...\n",
       "1      2256                                   [(0, 5, ANIMAL)]\n",
       "2     22295                [(30, 36, OBJECT), (64, 68, PLANT)]\n",
       "3       498  [(0, 6, OBJECT), (24, 29, OBJECT), (60, 68, OB...\n",
       "4     23685  [(0, 8, PERSON), (10, 16, OBJECT), (36, 40, OB...\n",
       "...     ...                                                ...\n",
       "5466  19811  [(0, 3, PERSON), (27, 35, OBJECT), (45, 49, OB...\n",
       "5467   5247                 [(0, 9, OBJECT), (21, 25, OBJECT)]\n",
       "5468  16861  [(0, 4, OBJECT), (8, 16, PERSON), (18, 21, PLA...\n",
       "5469  21935  [(0, 3, PERSON), (5, 12, OBJECT), (31, 36, OBJ...\n",
       "5470  18814  [(0, 15, PERSON), (20, 32, PERSON), (48, 56, O...\n",
       "\n",
       "[5471 rows x 2 columns]"
      ]
     },
     "execution_count": 31,
     "metadata": {},
     "output_type": "execute_result"
    }
   ],
   "source": [
    "x_predict"
   ]
  },
  {
   "cell_type": "code",
   "execution_count": 32,
   "metadata": {},
   "outputs": [],
   "source": [
    "metrics = Metrics()"
   ]
  },
  {
   "cell_type": "code",
   "execution_count": 33,
   "metadata": {},
   "outputs": [
    {
     "data": {
      "text/html": [
       "<div>\n",
       "<style scoped>\n",
       "    .dataframe tbody tr th:only-of-type {\n",
       "        vertical-align: middle;\n",
       "    }\n",
       "\n",
       "    .dataframe tbody tr th {\n",
       "        vertical-align: top;\n",
       "    }\n",
       "\n",
       "    .dataframe thead th {\n",
       "        text-align: right;\n",
       "    }\n",
       "</style>\n",
       "<table border=\"1\" class=\"dataframe\">\n",
       "  <thead>\n",
       "    <tr style=\"text-align: right;\">\n",
       "      <th></th>\n",
       "      <th></th>\n",
       "      <th>Total(TP+FN)</th>\n",
       "      <th>Hits(TP)</th>\n",
       "      <th>Wrongs(FP)</th>\n",
       "      <th>%</th>\n",
       "    </tr>\n",
       "  </thead>\n",
       "  <tbody>\n",
       "    <tr>\n",
       "      <th>0</th>\n",
       "      <td>PERSON</td>\n",
       "      <td>5995</td>\n",
       "      <td>5973</td>\n",
       "      <td>36</td>\n",
       "      <td>99.6</td>\n",
       "    </tr>\n",
       "    <tr>\n",
       "      <th>1</th>\n",
       "      <td>OBJECT</td>\n",
       "      <td>22332</td>\n",
       "      <td>22319</td>\n",
       "      <td>66</td>\n",
       "      <td>99.9</td>\n",
       "    </tr>\n",
       "    <tr>\n",
       "      <th>2</th>\n",
       "      <td>ANIMAL</td>\n",
       "      <td>1256</td>\n",
       "      <td>1246</td>\n",
       "      <td>8</td>\n",
       "      <td>99.2</td>\n",
       "    </tr>\n",
       "    <tr>\n",
       "      <th>3</th>\n",
       "      <td>PLANT</td>\n",
       "      <td>953</td>\n",
       "      <td>945</td>\n",
       "      <td>9</td>\n",
       "      <td>99.2</td>\n",
       "    </tr>\n",
       "  </tbody>\n",
       "</table>\n",
       "</div>"
      ],
      "text/plain": [
       "           Total(TP+FN)  Hits(TP)  Wrongs(FP)     %\n",
       "0  PERSON          5995      5973          36  99.6\n",
       "1  OBJECT         22332     22319          66  99.9\n",
       "2  ANIMAL          1256      1246           8  99.2\n",
       "3   PLANT           953       945           9  99.2"
      ]
     },
     "execution_count": 33,
     "metadata": {},
     "output_type": "execute_result"
    }
   ],
   "source": [
    "scores_frame = metrics.create_score_frame(y_test, x_predict, my_estimator.get_labels())\n",
    "scores_frame"
   ]
  },
  {
   "cell_type": "code",
   "execution_count": 34,
   "metadata": {},
   "outputs": [],
   "source": [
    "precision, recall = metrics.score_precision_recall(y_test, x_predict)"
   ]
  },
  {
   "cell_type": "code",
   "execution_count": 35,
   "metadata": {},
   "outputs": [],
   "source": [
    "F1 = (2*precision*recall) / (precision + recall)"
   ]
  },
  {
   "cell_type": "code",
   "execution_count": 36,
   "metadata": {
    "tags": []
   },
   "outputs": [
    {
     "name": "stdout",
     "output_type": "stream",
     "text": [
      "Precision 99.61\n",
      "Recall 99.83\n",
      "F1 99.72\n"
     ]
    }
   ],
   "source": [
    "print(\"Precision\", round(precision*100,2))\n",
    "print(\"Recall\", round(recall*100,2))\n",
    "print(\"F1\", round(F1*100,2))"
   ]
  },
  {
   "cell_type": "markdown",
   "metadata": {},
   "source": [
    "## Entity scores"
   ]
  },
  {
   "cell_type": "code",
   "execution_count": 37,
   "metadata": {},
   "outputs": [
    {
     "data": {
      "text/html": [
       "<div>\n",
       "<style scoped>\n",
       "    .dataframe tbody tr th:only-of-type {\n",
       "        vertical-align: middle;\n",
       "    }\n",
       "\n",
       "    .dataframe tbody tr th {\n",
       "        vertical-align: top;\n",
       "    }\n",
       "\n",
       "    .dataframe thead th {\n",
       "        text-align: right;\n",
       "    }\n",
       "</style>\n",
       "<table border=\"1\" class=\"dataframe\">\n",
       "  <thead>\n",
       "    <tr style=\"text-align: right;\">\n",
       "      <th></th>\n",
       "      <th>id</th>\n",
       "      <th>y</th>\n",
       "    </tr>\n",
       "  </thead>\n",
       "  <tbody>\n",
       "    <tr>\n",
       "      <th>0</th>\n",
       "      <td>16132</td>\n",
       "      <td>[(0, 7, PERSON), (32, 38, OBJECT), (48, 52, OB...</td>\n",
       "    </tr>\n",
       "    <tr>\n",
       "      <th>1</th>\n",
       "      <td>2256</td>\n",
       "      <td>[(0, 5, ANIMAL)]</td>\n",
       "    </tr>\n",
       "    <tr>\n",
       "      <th>2</th>\n",
       "      <td>22295</td>\n",
       "      <td>[(30, 36, OBJECT), (64, 68, PLANT)]</td>\n",
       "    </tr>\n",
       "    <tr>\n",
       "      <th>3</th>\n",
       "      <td>498</td>\n",
       "      <td>[(0, 6, OBJECT), (24, 29, OBJECT), (60, 68, OB...</td>\n",
       "    </tr>\n",
       "    <tr>\n",
       "      <th>4</th>\n",
       "      <td>23685</td>\n",
       "      <td>[(0, 8, PERSON), (10, 16, OBJECT), (36, 40, OB...</td>\n",
       "    </tr>\n",
       "  </tbody>\n",
       "</table>\n",
       "</div>"
      ],
      "text/plain": [
       "      id                                                  y\n",
       "0  16132  [(0, 7, PERSON), (32, 38, OBJECT), (48, 52, OB...\n",
       "1   2256                                   [(0, 5, ANIMAL)]\n",
       "2  22295                [(30, 36, OBJECT), (64, 68, PLANT)]\n",
       "3    498  [(0, 6, OBJECT), (24, 29, OBJECT), (60, 68, OB...\n",
       "4  23685  [(0, 8, PERSON), (10, 16, OBJECT), (36, 40, OB..."
      ]
     },
     "execution_count": 37,
     "metadata": {},
     "output_type": "execute_result"
    }
   ],
   "source": [
    "y_test.head(5)"
   ]
  },
  {
   "cell_type": "code",
   "execution_count": 38,
   "metadata": {},
   "outputs": [
    {
     "data": {
      "text/html": [
       "<div>\n",
       "<style scoped>\n",
       "    .dataframe tbody tr th:only-of-type {\n",
       "        vertical-align: middle;\n",
       "    }\n",
       "\n",
       "    .dataframe tbody tr th {\n",
       "        vertical-align: top;\n",
       "    }\n",
       "\n",
       "    .dataframe thead th {\n",
       "        text-align: right;\n",
       "    }\n",
       "</style>\n",
       "<table border=\"1\" class=\"dataframe\">\n",
       "  <thead>\n",
       "    <tr style=\"text-align: right;\">\n",
       "      <th></th>\n",
       "      <th>id</th>\n",
       "      <th>y</th>\n",
       "    </tr>\n",
       "  </thead>\n",
       "  <tbody>\n",
       "    <tr>\n",
       "      <th>0</th>\n",
       "      <td>16132</td>\n",
       "      <td>[(0, 7, PERSON), (32, 38, OBJECT), (48, 52, OB...</td>\n",
       "    </tr>\n",
       "    <tr>\n",
       "      <th>1</th>\n",
       "      <td>2256</td>\n",
       "      <td>[(0, 5, ANIMAL)]</td>\n",
       "    </tr>\n",
       "    <tr>\n",
       "      <th>2</th>\n",
       "      <td>22295</td>\n",
       "      <td>[(30, 36, OBJECT), (64, 68, PLANT)]</td>\n",
       "    </tr>\n",
       "    <tr>\n",
       "      <th>3</th>\n",
       "      <td>498</td>\n",
       "      <td>[(0, 6, OBJECT), (24, 29, OBJECT), (60, 68, OB...</td>\n",
       "    </tr>\n",
       "    <tr>\n",
       "      <th>4</th>\n",
       "      <td>23685</td>\n",
       "      <td>[(0, 8, PERSON), (10, 16, OBJECT), (36, 40, OB...</td>\n",
       "    </tr>\n",
       "  </tbody>\n",
       "</table>\n",
       "</div>"
      ],
      "text/plain": [
       "      id                                                  y\n",
       "0  16132  [(0, 7, PERSON), (32, 38, OBJECT), (48, 52, OB...\n",
       "1   2256                                   [(0, 5, ANIMAL)]\n",
       "2  22295                [(30, 36, OBJECT), (64, 68, PLANT)]\n",
       "3    498  [(0, 6, OBJECT), (24, 29, OBJECT), (60, 68, OB...\n",
       "4  23685  [(0, 8, PERSON), (10, 16, OBJECT), (36, 40, OB..."
      ]
     },
     "execution_count": 38,
     "metadata": {},
     "output_type": "execute_result"
    }
   ],
   "source": [
    "x_predict.head(5)"
   ]
  },
  {
   "cell_type": "code",
   "execution_count": 39,
   "metadata": {},
   "outputs": [
    {
     "data": {
      "text/html": [
       "<div>\n",
       "<style scoped>\n",
       "    .dataframe tbody tr th:only-of-type {\n",
       "        vertical-align: middle;\n",
       "    }\n",
       "\n",
       "    .dataframe tbody tr th {\n",
       "        vertical-align: top;\n",
       "    }\n",
       "\n",
       "    .dataframe thead th {\n",
       "        text-align: right;\n",
       "    }\n",
       "</style>\n",
       "<table border=\"1\" class=\"dataframe\">\n",
       "  <thead>\n",
       "    <tr style=\"text-align: right;\">\n",
       "      <th></th>\n",
       "      <th>id</th>\n",
       "      <th>design_en</th>\n",
       "      <th>annotation</th>\n",
       "      <th>prediction</th>\n",
       "    </tr>\n",
       "  </thead>\n",
       "  <tbody>\n",
       "    <tr>\n",
       "      <th>0</th>\n",
       "      <td>16132</td>\n",
       "      <td>Fortuna, standing left, holding patera in righ...</td>\n",
       "      <td>[(0, 7, PERSON), (32, 38, OBJECT), (48, 52, OB...</td>\n",
       "      <td>[(0, 7, PERSON), (32, 38, OBJECT), (48, 52, OB...</td>\n",
       "    </tr>\n",
       "    <tr>\n",
       "      <th>1</th>\n",
       "      <td>2256</td>\n",
       "      <td>Horse prancing right; below, monogram.</td>\n",
       "      <td>[(0, 5, ANIMAL)]</td>\n",
       "      <td>[(0, 5, ANIMAL)]</td>\n",
       "    </tr>\n",
       "  </tbody>\n",
       "</table>\n",
       "</div>"
      ],
      "text/plain": [
       "      id                                          design_en  \\\n",
       "0  16132  Fortuna, standing left, holding patera in righ...   \n",
       "1   2256             Horse prancing right; below, monogram.   \n",
       "\n",
       "                                          annotation  \\\n",
       "0  [(0, 7, PERSON), (32, 38, OBJECT), (48, 52, OB...   \n",
       "1                                   [(0, 5, ANIMAL)]   \n",
       "\n",
       "                                          prediction  \n",
       "0  [(0, 7, PERSON), (32, 38, OBJECT), (48, 52, OB...  \n",
       "1                                   [(0, 5, ANIMAL)]  "
      ]
     },
     "execution_count": 39,
     "metadata": {},
     "output_type": "execute_result"
    }
   ],
   "source": [
    "X_test[\"annotation\"] = y_test[\"y\"]\n",
    "X_test[\"prediction\"] = x_predict[\"y\"]\n",
    "X_test.head(2)"
   ]
  },
  {
   "cell_type": "code",
   "execution_count": 40,
   "metadata": {},
   "outputs": [],
   "source": [
    "def get_text(design, ent_list):\n",
    "    result = []\n",
    "    for i in ent_list:\n",
    "        result.append(design[i[0]:i[1]])\n",
    "    return result"
   ]
  },
  {
   "cell_type": "code",
   "execution_count": 41,
   "metadata": {},
   "outputs": [],
   "source": [
    "X_test[\"annotation_str\"] = X_test.apply(lambda row: get_text(row.design_en, row.annotation), axis=1)\n",
    "X_test[\"prediction_str\"] = X_test.apply(lambda row: get_text(row.design_en, row.prediction), axis=1)"
   ]
  },
  {
   "cell_type": "code",
   "execution_count": 42,
   "metadata": {},
   "outputs": [
    {
     "data": {
      "text/html": [
       "<div>\n",
       "<style scoped>\n",
       "    .dataframe tbody tr th:only-of-type {\n",
       "        vertical-align: middle;\n",
       "    }\n",
       "\n",
       "    .dataframe tbody tr th {\n",
       "        vertical-align: top;\n",
       "    }\n",
       "\n",
       "    .dataframe thead th {\n",
       "        text-align: right;\n",
       "    }\n",
       "</style>\n",
       "<table border=\"1\" class=\"dataframe\">\n",
       "  <thead>\n",
       "    <tr style=\"text-align: right;\">\n",
       "      <th></th>\n",
       "      <th>id</th>\n",
       "      <th>design_en</th>\n",
       "      <th>annotation</th>\n",
       "      <th>prediction</th>\n",
       "      <th>annotation_str</th>\n",
       "      <th>prediction_str</th>\n",
       "    </tr>\n",
       "  </thead>\n",
       "  <tbody>\n",
       "    <tr>\n",
       "      <th>0</th>\n",
       "      <td>16132</td>\n",
       "      <td>Fortuna, standing left, holding patera in righ...</td>\n",
       "      <td>[(0, 7, PERSON), (32, 38, OBJECT), (48, 52, OB...</td>\n",
       "      <td>[(0, 7, PERSON), (32, 38, OBJECT), (48, 52, OB...</td>\n",
       "      <td>[Fortuna, patera, hand, cornucopia]</td>\n",
       "      <td>[Fortuna, patera, hand, cornucopia]</td>\n",
       "    </tr>\n",
       "    <tr>\n",
       "      <th>1</th>\n",
       "      <td>2256</td>\n",
       "      <td>Horse prancing right; below, monogram.</td>\n",
       "      <td>[(0, 5, ANIMAL)]</td>\n",
       "      <td>[(0, 5, ANIMAL)]</td>\n",
       "      <td>[Horse]</td>\n",
       "      <td>[Horse]</td>\n",
       "    </tr>\n",
       "  </tbody>\n",
       "</table>\n",
       "</div>"
      ],
      "text/plain": [
       "      id                                          design_en  \\\n",
       "0  16132  Fortuna, standing left, holding patera in righ...   \n",
       "1   2256             Horse prancing right; below, monogram.   \n",
       "\n",
       "                                          annotation  \\\n",
       "0  [(0, 7, PERSON), (32, 38, OBJECT), (48, 52, OB...   \n",
       "1                                   [(0, 5, ANIMAL)]   \n",
       "\n",
       "                                          prediction  \\\n",
       "0  [(0, 7, PERSON), (32, 38, OBJECT), (48, 52, OB...   \n",
       "1                                   [(0, 5, ANIMAL)]   \n",
       "\n",
       "                        annotation_str                       prediction_str  \n",
       "0  [Fortuna, patera, hand, cornucopia]  [Fortuna, patera, hand, cornucopia]  \n",
       "1                              [Horse]                              [Horse]  "
      ]
     },
     "execution_count": 42,
     "metadata": {},
     "output_type": "execute_result"
    }
   ],
   "source": [
    "X_test.head(2)"
   ]
  },
  {
   "cell_type": "code",
   "execution_count": 60,
   "metadata": {},
   "outputs": [],
   "source": [
    "X_train[\"annotation\"] = y_train[\"annotations\"]"
   ]
  },
  {
   "cell_type": "code",
   "execution_count": 61,
   "metadata": {},
   "outputs": [],
   "source": [
    "X_train[\"annotation_str\"] = X_train.apply(lambda row: get_text(row.design_en, row.annotation), axis=1)"
   ]
  },
  {
   "cell_type": "code",
   "execution_count": 81,
   "metadata": {},
   "outputs": [],
   "source": [
    "labels = {}\n",
    "for index, row in X_test.iterrows():\n",
    "    for i in row.annotation_str:\n",
    "        labels[i] = [0,0,0]\n",
    "\n",
    "for index, row in X_train.iterrows():\n",
    "    for i in row.annotation_str:\n",
    "        labels[i] = [0,0,0]"
   ]
  },
  {
   "cell_type": "code",
   "execution_count": 82,
   "metadata": {},
   "outputs": [],
   "source": [
    "for index, row in X_test.iterrows():\n",
    "    annot = row.annotation_str\n",
    "    pred = row.prediction_str\n",
    "    \n",
    "    for i in annot:\n",
    "        labels[i][0] += 1\n",
    "        if i in pred:\n",
    "            labels[i][1] += 1"
   ]
  },
  {
   "cell_type": "code",
   "execution_count": 83,
   "metadata": {},
   "outputs": [],
   "source": [
    "for index, row in X_train.iterrows():\n",
    "    annot = row.annotation_str\n",
    "    \n",
    "    for i in annot:\n",
    "        labels[i][2] += 1\n"
   ]
  },
  {
   "cell_type": "code",
   "execution_count": 84,
   "metadata": {},
   "outputs": [],
   "source": [
    "label_scores = pd.DataFrame().from_dict(labels, orient=\"index\").rename(columns={0:\"Annotation\", 1:\"Prediction\", 2:\"Total_in_train\"})"
   ]
  },
  {
   "cell_type": "code",
   "execution_count": 85,
   "metadata": {},
   "outputs": [],
   "source": [
    "label_scores[\"Accuracy\"] = label_scores.apply(lambda row: row.Prediction/row.Annotation, axis=1)"
   ]
  },
  {
   "cell_type": "code",
   "execution_count": 86,
   "metadata": {},
   "outputs": [
    {
     "data": {
      "text/html": [
       "<div>\n",
       "<style scoped>\n",
       "    .dataframe tbody tr th:only-of-type {\n",
       "        vertical-align: middle;\n",
       "    }\n",
       "\n",
       "    .dataframe tbody tr th {\n",
       "        vertical-align: top;\n",
       "    }\n",
       "\n",
       "    .dataframe thead th {\n",
       "        text-align: right;\n",
       "    }\n",
       "</style>\n",
       "<table border=\"1\" class=\"dataframe\">\n",
       "  <thead>\n",
       "    <tr style=\"text-align: right;\">\n",
       "      <th></th>\n",
       "      <th>Annotation</th>\n",
       "      <th>Prediction</th>\n",
       "      <th>Total_in_train</th>\n",
       "      <th>Accuracy</th>\n",
       "    </tr>\n",
       "  </thead>\n",
       "  <tbody>\n",
       "    <tr>\n",
       "      <th>Severus Alexander</th>\n",
       "      <td>43</td>\n",
       "      <td>43</td>\n",
       "      <td>115</td>\n",
       "      <td>1.0</td>\n",
       "    </tr>\n",
       "    <tr>\n",
       "      <th>Alexander the Great</th>\n",
       "      <td>2</td>\n",
       "      <td>2</td>\n",
       "      <td>3</td>\n",
       "      <td>1.0</td>\n",
       "    </tr>\n",
       "    <tr>\n",
       "      <th>Domitius Alexander</th>\n",
       "      <td>0</td>\n",
       "      <td>0</td>\n",
       "      <td>4</td>\n",
       "      <td>NaN</td>\n",
       "    </tr>\n",
       "  </tbody>\n",
       "</table>\n",
       "</div>"
      ],
      "text/plain": [
       "                     Annotation  Prediction  Total_in_train  Accuracy\n",
       "Severus Alexander            43          43             115       1.0\n",
       "Alexander the Great           2           2               3       1.0\n",
       "Domitius Alexander            0           0               4       NaN"
      ]
     },
     "execution_count": 86,
     "metadata": {},
     "output_type": "execute_result"
    }
   ],
   "source": [
    "label_scores.loc[label_scores.index.str.contains(\"Alexander\")]"
   ]
  },
  {
   "cell_type": "code",
   "execution_count": 87,
   "metadata": {},
   "outputs": [
    {
     "data": {
      "text/html": [
       "<div>\n",
       "<style scoped>\n",
       "    .dataframe tbody tr th:only-of-type {\n",
       "        vertical-align: middle;\n",
       "    }\n",
       "\n",
       "    .dataframe tbody tr th {\n",
       "        vertical-align: top;\n",
       "    }\n",
       "\n",
       "    .dataframe thead th {\n",
       "        text-align: right;\n",
       "    }\n",
       "</style>\n",
       "<table border=\"1\" class=\"dataframe\">\n",
       "  <thead>\n",
       "    <tr style=\"text-align: right;\">\n",
       "      <th></th>\n",
       "      <th>Annotation</th>\n",
       "      <th>Prediction</th>\n",
       "      <th>Total_in_train</th>\n",
       "      <th>Accuracy</th>\n",
       "    </tr>\n",
       "  </thead>\n",
       "  <tbody>\n",
       "    <tr>\n",
       "      <th>laurel tree</th>\n",
       "      <td>2</td>\n",
       "      <td>0</td>\n",
       "      <td>1</td>\n",
       "      <td>0.0</td>\n",
       "    </tr>\n",
       "    <tr>\n",
       "      <th>Bona Mens</th>\n",
       "      <td>1</td>\n",
       "      <td>0</td>\n",
       "      <td>0</td>\n",
       "      <td>0.0</td>\n",
       "    </tr>\n",
       "    <tr>\n",
       "      <th>Minotaur</th>\n",
       "      <td>1</td>\n",
       "      <td>0</td>\n",
       "      <td>0</td>\n",
       "      <td>0.0</td>\n",
       "    </tr>\n",
       "    <tr>\n",
       "      <th>Tempus</th>\n",
       "      <td>1</td>\n",
       "      <td>0</td>\n",
       "      <td>0</td>\n",
       "      <td>0.0</td>\n",
       "    </tr>\n",
       "    <tr>\n",
       "      <th>Augean Stables</th>\n",
       "      <td>1</td>\n",
       "      <td>0</td>\n",
       "      <td>0</td>\n",
       "      <td>0.0</td>\n",
       "    </tr>\n",
       "    <tr>\n",
       "      <th>Euphratides</th>\n",
       "      <td>2</td>\n",
       "      <td>0</td>\n",
       "      <td>0</td>\n",
       "      <td>0.0</td>\n",
       "    </tr>\n",
       "    <tr>\n",
       "      <th>Stoa</th>\n",
       "      <td>1</td>\n",
       "      <td>0</td>\n",
       "      <td>0</td>\n",
       "      <td>0.0</td>\n",
       "    </tr>\n",
       "    <tr>\n",
       "      <th>visor</th>\n",
       "      <td>1</td>\n",
       "      <td>0</td>\n",
       "      <td>0</td>\n",
       "      <td>0.0</td>\n",
       "    </tr>\n",
       "    <tr>\n",
       "      <th>scale</th>\n",
       "      <td>1</td>\n",
       "      <td>0</td>\n",
       "      <td>0</td>\n",
       "      <td>0.0</td>\n",
       "    </tr>\n",
       "    <tr>\n",
       "      <th>Rhoimetalces III</th>\n",
       "      <td>1</td>\n",
       "      <td>0</td>\n",
       "      <td>0</td>\n",
       "      <td>0.0</td>\n",
       "    </tr>\n",
       "  </tbody>\n",
       "</table>\n",
       "</div>"
      ],
      "text/plain": [
       "                  Annotation  Prediction  Total_in_train  Accuracy\n",
       "laurel tree                2           0               1       0.0\n",
       "Bona Mens                  1           0               0       0.0\n",
       "Minotaur                   1           0               0       0.0\n",
       "Tempus                     1           0               0       0.0\n",
       "Augean Stables             1           0               0       0.0\n",
       "Euphratides                2           0               0       0.0\n",
       "Stoa                       1           0               0       0.0\n",
       "visor                      1           0               0       0.0\n",
       "scale                      1           0               0       0.0\n",
       "Rhoimetalces III           1           0               0       0.0"
      ]
     },
     "execution_count": 87,
     "metadata": {},
     "output_type": "execute_result"
    }
   ],
   "source": [
    "label_scores.sort_values(\"Accuracy\").head(10)"
   ]
  },
  {
   "cell_type": "markdown",
   "metadata": {},
   "source": [
    "## Map result back"
   ]
  },
  {
   "cell_type": "code",
   "execution_count": 50,
   "metadata": {},
   "outputs": [],
   "source": [
    "X_test[\"y\"] = y_test[\"y\"]"
   ]
  },
  {
   "cell_type": "code",
   "execution_count": 51,
   "metadata": {},
   "outputs": [
    {
     "data": {
      "text/html": [
       "<div>\n",
       "<style scoped>\n",
       "    .dataframe tbody tr th:only-of-type {\n",
       "        vertical-align: middle;\n",
       "    }\n",
       "\n",
       "    .dataframe tbody tr th {\n",
       "        vertical-align: top;\n",
       "    }\n",
       "\n",
       "    .dataframe thead th {\n",
       "        text-align: right;\n",
       "    }\n",
       "</style>\n",
       "<table border=\"1\" class=\"dataframe\">\n",
       "  <thead>\n",
       "    <tr style=\"text-align: right;\">\n",
       "      <th></th>\n",
       "      <th>id</th>\n",
       "      <th>design_en</th>\n",
       "      <th>annotation</th>\n",
       "      <th>prediction</th>\n",
       "      <th>annotation_str</th>\n",
       "      <th>prediction_str</th>\n",
       "      <th>y</th>\n",
       "    </tr>\n",
       "  </thead>\n",
       "  <tbody>\n",
       "    <tr>\n",
       "      <th>0</th>\n",
       "      <td>16132</td>\n",
       "      <td>Fortuna, standing left, holding patera in righ...</td>\n",
       "      <td>[(0, 7, PERSON), (32, 38, OBJECT), (48, 52, OB...</td>\n",
       "      <td>[(0, 7, PERSON), (32, 38, OBJECT), (48, 52, OB...</td>\n",
       "      <td>[Fortuna, patera, hand, cornucopia]</td>\n",
       "      <td>[Fortuna, patera, hand, cornucopia]</td>\n",
       "      <td>[(0, 7, PERSON), (32, 38, OBJECT), (48, 52, OB...</td>\n",
       "    </tr>\n",
       "    <tr>\n",
       "      <th>1</th>\n",
       "      <td>2256</td>\n",
       "      <td>Horse prancing right; below, monogram.</td>\n",
       "      <td>[(0, 5, ANIMAL)]</td>\n",
       "      <td>[(0, 5, ANIMAL)]</td>\n",
       "      <td>[Horse]</td>\n",
       "      <td>[Horse]</td>\n",
       "      <td>[(0, 5, ANIMAL)]</td>\n",
       "    </tr>\n",
       "    <tr>\n",
       "      <th>2</th>\n",
       "      <td>22295</td>\n",
       "      <td>Tellus standing left, holding plough and hoe o...</td>\n",
       "      <td>[(30, 36, OBJECT), (64, 68, PLANT)]</td>\n",
       "      <td>[(30, 36, OBJECT), (64, 68, PLANT)]</td>\n",
       "      <td>[plough, corn]</td>\n",
       "      <td>[plough, corn]</td>\n",
       "      <td>[(30, 36, OBJECT), (64, 68, PLANT)]</td>\n",
       "    </tr>\n",
       "    <tr>\n",
       "      <th>3</th>\n",
       "      <td>498</td>\n",
       "      <td>Galley sailing left, on board, three rowers in...</td>\n",
       "      <td>[(0, 6, OBJECT), (24, 29, OBJECT), (60, 68, OB...</td>\n",
       "      <td>[(0, 6, OBJECT), (24, 29, OBJECT), (60, 68, OB...</td>\n",
       "      <td>[Galley, board, standard, prow, standard]</td>\n",
       "      <td>[Galley, board, standard, prow, standard]</td>\n",
       "      <td>[(0, 6, OBJECT), (24, 29, OBJECT), (60, 68, OB...</td>\n",
       "    </tr>\n",
       "    <tr>\n",
       "      <th>4</th>\n",
       "      <td>23685</td>\n",
       "      <td>Victoria, draped, standing right on prow, hold...</td>\n",
       "      <td>[(0, 8, PERSON), (10, 16, OBJECT), (36, 40, OB...</td>\n",
       "      <td>[(0, 8, PERSON), (10, 16, OBJECT), (36, 40, OB...</td>\n",
       "      <td>[Victoria, draped, prow, wreath, hand, palm]</td>\n",
       "      <td>[Victoria, draped, prow, wreath, hand, palm]</td>\n",
       "      <td>[(0, 8, PERSON), (10, 16, OBJECT), (36, 40, OB...</td>\n",
       "    </tr>\n",
       "    <tr>\n",
       "      <th>...</th>\n",
       "      <td>...</td>\n",
       "      <td>...</td>\n",
       "      <td>...</td>\n",
       "      <td>...</td>\n",
       "      <td>...</td>\n",
       "      <td>...</td>\n",
       "      <td>...</td>\n",
       "    </tr>\n",
       "    <tr>\n",
       "      <th>5466</th>\n",
       "      <td>19811</td>\n",
       "      <td>Pax standing left, holding caduceus in right h...</td>\n",
       "      <td>[(0, 3, PERSON), (27, 35, OBJECT), (45, 49, OB...</td>\n",
       "      <td>[(0, 3, PERSON), (27, 35, OBJECT), (45, 49, OB...</td>\n",
       "      <td>[Pax, caduceus, hand, corn, ear, poppy]</td>\n",
       "      <td>[Pax, caduceus, hand, corn, ear, poppy]</td>\n",
       "      <td>[(0, 3, PERSON), (27, 35, OBJECT), (45, 49, OB...</td>\n",
       "    </tr>\n",
       "    <tr>\n",
       "      <th>5467</th>\n",
       "      <td>5247</td>\n",
       "      <td>Capricorn left. With head turned back.</td>\n",
       "      <td>[(0, 9, OBJECT), (21, 25, OBJECT)]</td>\n",
       "      <td>[(0, 9, OBJECT), (21, 25, OBJECT)]</td>\n",
       "      <td>[Capricorn, head]</td>\n",
       "      <td>[Capricorn, head]</td>\n",
       "      <td>[(0, 9, OBJECT), (21, 25, OBJECT)]</td>\n",
       "    </tr>\n",
       "    <tr>\n",
       "      <th>5468</th>\n",
       "      <td>16861</td>\n",
       "      <td>Head of Augustus, oak-wreath, right</td>\n",
       "      <td>[(0, 4, OBJECT), (8, 16, PERSON), (18, 21, PLA...</td>\n",
       "      <td>[(0, 4, OBJECT), (8, 16, PERSON), (18, 21, PLA...</td>\n",
       "      <td>[Head, Augustus, oak, wreath]</td>\n",
       "      <td>[Head, Augustus, oak, wreath]</td>\n",
       "      <td>[(0, 4, OBJECT), (8, 16, PERSON), (18, 21, PLA...</td>\n",
       "    </tr>\n",
       "    <tr>\n",
       "      <th>5469</th>\n",
       "      <td>21935</td>\n",
       "      <td>Sol, radiate, naked except for cloak over left...</td>\n",
       "      <td>[(0, 3, PERSON), (5, 12, OBJECT), (31, 36, OBJ...</td>\n",
       "      <td>[(0, 3, PERSON), (5, 12, OBJECT), (31, 36, OBJ...</td>\n",
       "      <td>[Sol, radiate, cloak, shoulder, hand, whip, ha...</td>\n",
       "      <td>[Sol, radiate, cloak, shoulder, hand, whip, ha...</td>\n",
       "      <td>[(0, 3, PERSON), (5, 12, OBJECT), (31, 36, OBJ...</td>\n",
       "    </tr>\n",
       "    <tr>\n",
       "      <th>5470</th>\n",
       "      <td>18814</td>\n",
       "      <td>Marcus Aurelius and Lucius Verus seated_on on ...</td>\n",
       "      <td>[(0, 15, PERSON), (20, 32, PERSON), (48, 56, O...</td>\n",
       "      <td>[(0, 15, PERSON), (20, 32, PERSON), (48, 56, O...</td>\n",
       "      <td>[Marcus Aurelius, Lucius Verus, platform, man,...</td>\n",
       "      <td>[Marcus Aurelius, Lucius Verus, platform, man,...</td>\n",
       "      <td>[(0, 15, PERSON), (20, 32, PERSON), (48, 56, O...</td>\n",
       "    </tr>\n",
       "  </tbody>\n",
       "</table>\n",
       "<p>5471 rows × 7 columns</p>\n",
       "</div>"
      ],
      "text/plain": [
       "         id                                          design_en  \\\n",
       "0     16132  Fortuna, standing left, holding patera in righ...   \n",
       "1      2256             Horse prancing right; below, monogram.   \n",
       "2     22295  Tellus standing left, holding plough and hoe o...   \n",
       "3       498  Galley sailing left, on board, three rowers in...   \n",
       "4     23685  Victoria, draped, standing right on prow, hold...   \n",
       "...     ...                                                ...   \n",
       "5466  19811  Pax standing left, holding caduceus in right h...   \n",
       "5467   5247             Capricorn left. With head turned back.   \n",
       "5468  16861                Head of Augustus, oak-wreath, right   \n",
       "5469  21935  Sol, radiate, naked except for cloak over left...   \n",
       "5470  18814  Marcus Aurelius and Lucius Verus seated_on on ...   \n",
       "\n",
       "                                             annotation  \\\n",
       "0     [(0, 7, PERSON), (32, 38, OBJECT), (48, 52, OB...   \n",
       "1                                      [(0, 5, ANIMAL)]   \n",
       "2                   [(30, 36, OBJECT), (64, 68, PLANT)]   \n",
       "3     [(0, 6, OBJECT), (24, 29, OBJECT), (60, 68, OB...   \n",
       "4     [(0, 8, PERSON), (10, 16, OBJECT), (36, 40, OB...   \n",
       "...                                                 ...   \n",
       "5466  [(0, 3, PERSON), (27, 35, OBJECT), (45, 49, OB...   \n",
       "5467                 [(0, 9, OBJECT), (21, 25, OBJECT)]   \n",
       "5468  [(0, 4, OBJECT), (8, 16, PERSON), (18, 21, PLA...   \n",
       "5469  [(0, 3, PERSON), (5, 12, OBJECT), (31, 36, OBJ...   \n",
       "5470  [(0, 15, PERSON), (20, 32, PERSON), (48, 56, O...   \n",
       "\n",
       "                                             prediction  \\\n",
       "0     [(0, 7, PERSON), (32, 38, OBJECT), (48, 52, OB...   \n",
       "1                                      [(0, 5, ANIMAL)]   \n",
       "2                   [(30, 36, OBJECT), (64, 68, PLANT)]   \n",
       "3     [(0, 6, OBJECT), (24, 29, OBJECT), (60, 68, OB...   \n",
       "4     [(0, 8, PERSON), (10, 16, OBJECT), (36, 40, OB...   \n",
       "...                                                 ...   \n",
       "5466  [(0, 3, PERSON), (27, 35, OBJECT), (45, 49, OB...   \n",
       "5467                 [(0, 9, OBJECT), (21, 25, OBJECT)]   \n",
       "5468  [(0, 4, OBJECT), (8, 16, PERSON), (18, 21, PLA...   \n",
       "5469  [(0, 3, PERSON), (5, 12, OBJECT), (31, 36, OBJ...   \n",
       "5470  [(0, 15, PERSON), (20, 32, PERSON), (48, 56, O...   \n",
       "\n",
       "                                         annotation_str  \\\n",
       "0                   [Fortuna, patera, hand, cornucopia]   \n",
       "1                                               [Horse]   \n",
       "2                                        [plough, corn]   \n",
       "3             [Galley, board, standard, prow, standard]   \n",
       "4          [Victoria, draped, prow, wreath, hand, palm]   \n",
       "...                                                 ...   \n",
       "5466            [Pax, caduceus, hand, corn, ear, poppy]   \n",
       "5467                                  [Capricorn, head]   \n",
       "5468                      [Head, Augustus, oak, wreath]   \n",
       "5469  [Sol, radiate, cloak, shoulder, hand, whip, ha...   \n",
       "5470  [Marcus Aurelius, Lucius Verus, platform, man,...   \n",
       "\n",
       "                                         prediction_str  \\\n",
       "0                   [Fortuna, patera, hand, cornucopia]   \n",
       "1                                               [Horse]   \n",
       "2                                        [plough, corn]   \n",
       "3             [Galley, board, standard, prow, standard]   \n",
       "4          [Victoria, draped, prow, wreath, hand, palm]   \n",
       "...                                                 ...   \n",
       "5466            [Pax, caduceus, hand, corn, ear, poppy]   \n",
       "5467                                  [Capricorn, head]   \n",
       "5468                      [Head, Augustus, oak, wreath]   \n",
       "5469  [Sol, radiate, cloak, shoulder, hand, whip, ha...   \n",
       "5470  [Marcus Aurelius, Lucius Verus, platform, man,...   \n",
       "\n",
       "                                                      y  \n",
       "0     [(0, 7, PERSON), (32, 38, OBJECT), (48, 52, OB...  \n",
       "1                                      [(0, 5, ANIMAL)]  \n",
       "2                   [(30, 36, OBJECT), (64, 68, PLANT)]  \n",
       "3     [(0, 6, OBJECT), (24, 29, OBJECT), (60, 68, OB...  \n",
       "4     [(0, 8, PERSON), (10, 16, OBJECT), (36, 40, OB...  \n",
       "...                                                 ...  \n",
       "5466  [(0, 3, PERSON), (27, 35, OBJECT), (45, 49, OB...  \n",
       "5467                 [(0, 9, OBJECT), (21, 25, OBJECT)]  \n",
       "5468  [(0, 4, OBJECT), (8, 16, PERSON), (18, 21, PLA...  \n",
       "5469  [(0, 3, PERSON), (5, 12, OBJECT), (31, 36, OBJ...  \n",
       "5470  [(0, 15, PERSON), (20, 32, PERSON), (48, 56, O...  \n",
       "\n",
       "[5471 rows x 7 columns]"
      ]
     },
     "execution_count": 51,
     "metadata": {},
     "output_type": "execute_result"
    }
   ],
   "source": [
    "X_test"
   ]
  },
  {
   "cell_type": "code",
   "execution_count": 52,
   "metadata": {},
   "outputs": [
    {
     "name": "stderr",
     "output_type": "stream",
     "text": [
      "Pandas Apply: 100%|██████████████████████| 5471/5471 [00:00<00:00, 51503.30it/s]\n"
     ]
    }
   ],
   "source": [
    "X_test[\"design_en_orig\"] = X_test.swifter.apply(lambda row: preprocess.map_back_design(row.design_en, row.id) if row.id in preprocess.rules_applied else row.design_en, axis=1)"
   ]
  },
  {
   "cell_type": "code",
   "execution_count": 53,
   "metadata": {},
   "outputs": [
    {
     "name": "stderr",
     "output_type": "stream",
     "text": [
      "Pandas Apply: 100%|███████████████████████| 5471/5471 [00:01<00:00, 5402.77it/s]\n"
     ]
    }
   ],
   "source": [
    "X_test[\"y_orig\"] = X_test.swifter.apply(lambda row: preprocess.map_result_ner(row.design_en,row.y, row.id) if row.id in preprocess.rules_applied else row.y, axis=1)"
   ]
  },
  {
   "cell_type": "code",
   "execution_count": 54,
   "metadata": {},
   "outputs": [
    {
     "data": {
      "text/html": [
       "<div>\n",
       "<style scoped>\n",
       "    .dataframe tbody tr th:only-of-type {\n",
       "        vertical-align: middle;\n",
       "    }\n",
       "\n",
       "    .dataframe tbody tr th {\n",
       "        vertical-align: top;\n",
       "    }\n",
       "\n",
       "    .dataframe thead th {\n",
       "        text-align: right;\n",
       "    }\n",
       "</style>\n",
       "<table border=\"1\" class=\"dataframe\">\n",
       "  <thead>\n",
       "    <tr style=\"text-align: right;\">\n",
       "      <th></th>\n",
       "      <th>id</th>\n",
       "      <th>design_en</th>\n",
       "      <th>annotation</th>\n",
       "      <th>prediction</th>\n",
       "      <th>annotation_str</th>\n",
       "      <th>prediction_str</th>\n",
       "      <th>y</th>\n",
       "      <th>design_en_orig</th>\n",
       "      <th>y_orig</th>\n",
       "    </tr>\n",
       "  </thead>\n",
       "  <tbody>\n",
       "  </tbody>\n",
       "</table>\n",
       "</div>"
      ],
      "text/plain": [
       "Empty DataFrame\n",
       "Columns: [id, design_en, annotation, prediction, annotation_str, prediction_str, y, design_en_orig, y_orig]\n",
       "Index: []"
      ]
     },
     "execution_count": 54,
     "metadata": {},
     "output_type": "execute_result"
    }
   ],
   "source": [
    "X_test.loc[X_test.design_en.str.contains(\"Alexander III\")]"
   ]
  },
  {
   "cell_type": "code",
   "execution_count": 55,
   "metadata": {},
   "outputs": [
    {
     "data": {
      "text/html": [
       "<div>\n",
       "<style scoped>\n",
       "    .dataframe tbody tr th:only-of-type {\n",
       "        vertical-align: middle;\n",
       "    }\n",
       "\n",
       "    .dataframe tbody tr th {\n",
       "        vertical-align: top;\n",
       "    }\n",
       "\n",
       "    .dataframe thead th {\n",
       "        text-align: right;\n",
       "    }\n",
       "</style>\n",
       "<table border=\"1\" class=\"dataframe\">\n",
       "  <thead>\n",
       "    <tr style=\"text-align: right;\">\n",
       "      <th></th>\n",
       "      <th>id</th>\n",
       "      <th>design_en</th>\n",
       "      <th>annotation</th>\n",
       "      <th>prediction</th>\n",
       "      <th>annotation_str</th>\n",
       "      <th>prediction_str</th>\n",
       "      <th>y</th>\n",
       "      <th>design_en_orig</th>\n",
       "      <th>y_orig</th>\n",
       "    </tr>\n",
       "  </thead>\n",
       "  <tbody>\n",
       "    <tr>\n",
       "      <th>29</th>\n",
       "      <td>355</td>\n",
       "      <td>Veil Demeter standing facing, head left, weari...</td>\n",
       "      <td>[(0, 4, OBJECT), (5, 12, PERSON), (30, 34, OBJ...</td>\n",
       "      <td>[(0, 4, OBJECT), (5, 12, PERSON), (30, 34, OBJ...</td>\n",
       "      <td>[Veil, Demeter, head, corn wreath, garment, co...</td>\n",
       "      <td>[Veil, Demeter, head, corn wreath, garment, co...</td>\n",
       "      <td>[(0, 4, OBJECT), (5, 12, PERSON), (30, 34, OBJ...</td>\n",
       "      <td>Veiled Demeter standing facing, head left, wea...</td>\n",
       "      <td>[(0, 6, OBJECT), (7, 14, PERSON), (32, 36, OBJ...</td>\n",
       "    </tr>\n",
       "    <tr>\n",
       "      <th>205</th>\n",
       "      <td>7893</td>\n",
       "      <td>Veil Hera standing facing, head left, wearing ...</td>\n",
       "      <td>[(0, 4, OBJECT), (5, 9, PERSON), (27, 31, OBJE...</td>\n",
       "      <td>[(0, 4, OBJECT), (5, 9, PERSON), (27, 31, OBJE...</td>\n",
       "      <td>[Veil, Hera, head, garment, patera, scepter, g...</td>\n",
       "      <td>[Veil, Hera, head, garment, patera, scepter, g...</td>\n",
       "      <td>[(0, 4, OBJECT), (5, 9, PERSON), (27, 31, OBJE...</td>\n",
       "      <td>Veiled Hera standing facing, head left, wearin...</td>\n",
       "      <td>[(0, 6, OBJECT), (7, 11, PERSON), (29, 33, OBJ...</td>\n",
       "    </tr>\n",
       "    <tr>\n",
       "      <th>651</th>\n",
       "      <td>492</td>\n",
       "      <td>Veil woman goddess standing facing, head left,...</td>\n",
       "      <td>[(0, 4, OBJECT), (5, 10, PERSON), (36, 40, OBJ...</td>\n",
       "      <td>[(0, 4, OBJECT), (5, 10, PERSON), (36, 40, OBJ...</td>\n",
       "      <td>[Veil, woman, head, object, hand, scepter, hand]</td>\n",
       "      <td>[Veil, woman, head, object, hand, scepter, hand]</td>\n",
       "      <td>[(0, 4, OBJECT), (5, 10, PERSON), (36, 40, OBJ...</td>\n",
       "      <td>Veiled female goddess standing facing, head le...</td>\n",
       "      <td>[(0, 6, OBJECT), (7, 13, PERSON), (39, 43, OBJ...</td>\n",
       "    </tr>\n",
       "    <tr>\n",
       "      <th>819</th>\n",
       "      <td>7056</td>\n",
       "      <td>Veil Hera standing left, wearing long garment,...</td>\n",
       "      <td>[(0, 4, OBJECT), (5, 9, PERSON), (38, 45, OBJE...</td>\n",
       "      <td>[(0, 4, OBJECT), (5, 9, PERSON), (38, 45, OBJE...</td>\n",
       "      <td>[Veil, Hera, garment, patera, scepter]</td>\n",
       "      <td>[Veil, Hera, garment, patera, scepter]</td>\n",
       "      <td>[(0, 4, OBJECT), (5, 9, PERSON), (38, 45, OBJE...</td>\n",
       "      <td>Veiled Hera standing left, wearing long garmen...</td>\n",
       "      <td>[(0, 6, OBJECT), (7, 11, PERSON), (40, 47, OBJ...</td>\n",
       "    </tr>\n",
       "    <tr>\n",
       "      <th>829</th>\n",
       "      <td>7897</td>\n",
       "      <td>Veil Demeter throne left, holding corn and lon...</td>\n",
       "      <td>[(0, 4, OBJECT), (5, 12, PERSON), (13, 19, OBJ...</td>\n",
       "      <td>[(0, 4, OBJECT), (5, 12, PERSON), (13, 19, OBJ...</td>\n",
       "      <td>[Veil, Demeter, throne, corn, torch, basket, s...</td>\n",
       "      <td>[Veil, Demeter, throne, corn, torch, basket, s...</td>\n",
       "      <td>[(0, 4, OBJECT), (5, 12, PERSON), (13, 19, OBJ...</td>\n",
       "      <td>Veiled Demeter enthroned left, holding ears of...</td>\n",
       "      <td>[(0, 6, OBJECT), (7, 14, PERSON), (15, 24, OBJ...</td>\n",
       "    </tr>\n",
       "  </tbody>\n",
       "</table>\n",
       "</div>"
      ],
      "text/plain": [
       "       id                                          design_en  \\\n",
       "29    355  Veil Demeter standing facing, head left, weari...   \n",
       "205  7893  Veil Hera standing facing, head left, wearing ...   \n",
       "651   492  Veil woman goddess standing facing, head left,...   \n",
       "819  7056  Veil Hera standing left, wearing long garment,...   \n",
       "829  7897  Veil Demeter throne left, holding corn and lon...   \n",
       "\n",
       "                                            annotation  \\\n",
       "29   [(0, 4, OBJECT), (5, 12, PERSON), (30, 34, OBJ...   \n",
       "205  [(0, 4, OBJECT), (5, 9, PERSON), (27, 31, OBJE...   \n",
       "651  [(0, 4, OBJECT), (5, 10, PERSON), (36, 40, OBJ...   \n",
       "819  [(0, 4, OBJECT), (5, 9, PERSON), (38, 45, OBJE...   \n",
       "829  [(0, 4, OBJECT), (5, 12, PERSON), (13, 19, OBJ...   \n",
       "\n",
       "                                            prediction  \\\n",
       "29   [(0, 4, OBJECT), (5, 12, PERSON), (30, 34, OBJ...   \n",
       "205  [(0, 4, OBJECT), (5, 9, PERSON), (27, 31, OBJE...   \n",
       "651  [(0, 4, OBJECT), (5, 10, PERSON), (36, 40, OBJ...   \n",
       "819  [(0, 4, OBJECT), (5, 9, PERSON), (38, 45, OBJE...   \n",
       "829  [(0, 4, OBJECT), (5, 12, PERSON), (13, 19, OBJ...   \n",
       "\n",
       "                                        annotation_str  \\\n",
       "29   [Veil, Demeter, head, corn wreath, garment, co...   \n",
       "205  [Veil, Hera, head, garment, patera, scepter, g...   \n",
       "651   [Veil, woman, head, object, hand, scepter, hand]   \n",
       "819             [Veil, Hera, garment, patera, scepter]   \n",
       "829  [Veil, Demeter, throne, corn, torch, basket, s...   \n",
       "\n",
       "                                        prediction_str  \\\n",
       "29   [Veil, Demeter, head, corn wreath, garment, co...   \n",
       "205  [Veil, Hera, head, garment, patera, scepter, g...   \n",
       "651   [Veil, woman, head, object, hand, scepter, hand]   \n",
       "819             [Veil, Hera, garment, patera, scepter]   \n",
       "829  [Veil, Demeter, throne, corn, torch, basket, s...   \n",
       "\n",
       "                                                     y  \\\n",
       "29   [(0, 4, OBJECT), (5, 12, PERSON), (30, 34, OBJ...   \n",
       "205  [(0, 4, OBJECT), (5, 9, PERSON), (27, 31, OBJE...   \n",
       "651  [(0, 4, OBJECT), (5, 10, PERSON), (36, 40, OBJ...   \n",
       "819  [(0, 4, OBJECT), (5, 9, PERSON), (38, 45, OBJE...   \n",
       "829  [(0, 4, OBJECT), (5, 12, PERSON), (13, 19, OBJ...   \n",
       "\n",
       "                                        design_en_orig  \\\n",
       "29   Veiled Demeter standing facing, head left, wea...   \n",
       "205  Veiled Hera standing facing, head left, wearin...   \n",
       "651  Veiled female goddess standing facing, head le...   \n",
       "819  Veiled Hera standing left, wearing long garmen...   \n",
       "829  Veiled Demeter enthroned left, holding ears of...   \n",
       "\n",
       "                                                y_orig  \n",
       "29   [(0, 6, OBJECT), (7, 14, PERSON), (32, 36, OBJ...  \n",
       "205  [(0, 6, OBJECT), (7, 11, PERSON), (29, 33, OBJ...  \n",
       "651  [(0, 6, OBJECT), (7, 13, PERSON), (39, 43, OBJ...  \n",
       "819  [(0, 6, OBJECT), (7, 11, PERSON), (40, 47, OBJ...  \n",
       "829  [(0, 6, OBJECT), (7, 14, PERSON), (15, 24, OBJ...  "
      ]
     },
     "execution_count": 55,
     "metadata": {},
     "output_type": "execute_result"
    }
   ],
   "source": [
    "X_test.loc[X_test.design_en.str.contains(\"Veil\")].head(5)"
   ]
  },
  {
   "cell_type": "markdown",
   "metadata": {
    "tags": []
   },
   "source": [
    "# Visualize prediction"
   ]
  },
  {
   "cell_type": "code",
   "execution_count": 56,
   "metadata": {},
   "outputs": [],
   "source": [
    "x_predict_as_doc = model.predict(X_test, as_doc=True)"
   ]
  },
  {
   "cell_type": "code",
   "execution_count": null,
   "metadata": {},
   "outputs": [],
   "source": [
    "from spacy import displacy\n",
    "colors = {'PERSON': 'mediumpurple','OBJECT': 'greenyellow', 'ANIMAL' : 'orange', 'PLANT': 'salmom', 'VERBS': 'skyblue'}\n",
    "options = {'ent': ['PERSON', 'OBJECT', 'ANIMAL', 'PLANT'], 'colors': colors}\n",
    "displacy.render(x_predict_as_doc.y, \n",
    "                style='ent', jupyter=True, options=options)"
   ]
  },
  {
   "cell_type": "markdown",
   "metadata": {},
   "source": [
    "## Upload data to mysql"
   ]
  },
  {
   "cell_type": "code",
   "execution_count": null,
   "metadata": {},
   "outputs": [],
   "source": [
    "upload = False"
   ]
  },
  {
   "cell_type": "code",
   "execution_count": null,
   "metadata": {
    "tags": []
   },
   "outputs": [],
   "source": [
    "if upload ==True:\n",
    "    dc =  Database_Connection(\"mysql+mysqlconnector://YourConnection\")\n",
    "    cnt_designs = dc.load_designs_from_db(\"designs\", [id_col, design_col])\n",
    "    cnt_pred = my_estimator.predict_clear(cnt_designs )\n",
    "    cnt_pred_predictions_only = cnt_pred[\"y\"]\n",
    "    \n",
    "    cnt_ner_output = pd.DataFrame([(str(designid), *relation) for  _, (designid, relation_list) in cnt_pred.iterrows()\n",
    "                    for relation in relation_list],\n",
    "            columns=[\"DesignID\", \"Entity\", \"Label_Entity\"])\n",
    "\n",
    "    cnt_ner_output.to_sql(\"cnt_pipeline_ner\", dc.mysql_connection, \n",
    "                           if_exists=\"replace\", index=False)"
   ]
  }
 ],
 "metadata": {
  "kernelspec": {
   "display_name": "Python 3 (ipykernel)",
   "language": "python",
   "name": "python3"
  },
  "language_info": {
   "codemirror_mode": {
    "name": "ipython",
    "version": 3
   },
   "file_extension": ".py",
   "mimetype": "text/x-python",
   "name": "python",
   "nbconvert_exporter": "python",
   "pygments_lexer": "ipython3",
   "version": "3.8.13"
  }
 },
 "nbformat": 4,
 "nbformat_minor": 4
}
