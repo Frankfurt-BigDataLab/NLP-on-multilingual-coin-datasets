{
 "cells": [
  {
   "cell_type": "markdown",
   "metadata": {},
   "source": [
    "developed by Patricia Klinger, modified by Sebastian Gampe, Kerim Gencer, Chrisowalandis Deligio"
   ]
  },
  {
   "cell_type": "code",
   "execution_count": 1,
   "metadata": {},
   "outputs": [
    {
     "name": "stderr",
     "output_type": "stream",
     "text": [
      "[nltk_data] Downloading package wordnet to /Users/chris/nltk_data...\n",
      "[nltk_data]   Package wordnet is already up-to-date!\n"
     ]
    }
   ],
   "source": [
    "import sys\n",
    "sys.path.append('../')\n",
    "import pandas as pd\n",
    "import random\n",
    "import os\n",
    "import numpy as np\n",
    "from cnt.model import DesignEstimator, save_ner_model, load_ner_model,save_ner_model_v2, load_ner_model_v2\n",
    "from cnt.annotate import (annotate, annotate_single_design, \n",
    "                          annotate_designs, \n",
    "                          extract_string_from_annotation, split_alternativenames)\n",
    "from cnt.evaluate import Metrics\n",
    "from cnt.stem_lemma_annotation import Stem_Lemma_Annotatizer\n",
    "from cnt.preprocess import Preprocess\n",
    "import spacy\n",
    "from cnt.io import  Database_Connection\n",
    "import warnings\n",
    "warnings.filterwarnings('ignore')"
   ]
  },
  {
   "cell_type": "markdown",
   "metadata": {
    "tags": []
   },
   "source": [
    "### Define the column names for the id and design column "
   ]
  },
  {
   "cell_type": "code",
   "execution_count": 2,
   "metadata": {},
   "outputs": [],
   "source": [
    "id_col = \"id\"\n",
    "design_col = \"design_en\"\n",
    "use_lemma_stem = False"
   ]
  },
  {
   "cell_type": "code",
   "execution_count": 3,
   "metadata": {},
   "outputs": [],
   "source": [
    "dc =  Database_Connection(\"mysql+mysqlconnector://root:YourConnection\") # Format user:password@IP/Database"
   ]
  },
  {
   "cell_type": "code",
   "execution_count": 5,
   "metadata": {},
   "outputs": [],
   "source": [
    "designs = dc.load_designs_from_db(\"nlp_training_designs\", [id_col, design_col])"
   ]
  },
  {
   "cell_type": "code",
   "execution_count": 6,
   "metadata": {
    "tags": []
   },
   "outputs": [
    {
     "data": {
      "text/html": [
       "<div>\n",
       "<style scoped>\n",
       "    .dataframe tbody tr th:only-of-type {\n",
       "        vertical-align: middle;\n",
       "    }\n",
       "\n",
       "    .dataframe tbody tr th {\n",
       "        vertical-align: top;\n",
       "    }\n",
       "\n",
       "    .dataframe thead th {\n",
       "        text-align: right;\n",
       "    }\n",
       "</style>\n",
       "<table border=\"1\" class=\"dataframe\">\n",
       "  <thead>\n",
       "    <tr style=\"text-align: right;\">\n",
       "      <th></th>\n",
       "      <th>id</th>\n",
       "      <th>design_en</th>\n",
       "    </tr>\n",
       "  </thead>\n",
       "  <tbody>\n",
       "    <tr>\n",
       "      <th>0</th>\n",
       "      <td>1</td>\n",
       "      <td>Diademed head of deified Alexander the Great with horn of Ammon, right. Border of dots.</td>\n",
       "    </tr>\n",
       "    <tr>\n",
       "      <th>1</th>\n",
       "      <td>6</td>\n",
       "      <td>Altar, lighted and garlanded.</td>\n",
       "    </tr>\n",
       "    <tr>\n",
       "      <th>2</th>\n",
       "      <td>8</td>\n",
       "      <td>Prize amphora on ornamental stand; within linear square and incuse square.</td>\n",
       "    </tr>\n",
       "    <tr>\n",
       "      <th>3</th>\n",
       "      <td>9</td>\n",
       "      <td>Amphora with ribbed surface and crooked handles containing two ears of corn and poppy.</td>\n",
       "    </tr>\n",
       "    <tr>\n",
       "      <th>4</th>\n",
       "      <td>10</td>\n",
       "      <td>Bust of youthful Anchialos, right, wearing taenia. Border of dots.</td>\n",
       "    </tr>\n",
       "  </tbody>\n",
       "</table>\n",
       "</div>"
      ],
      "text/plain": [
       "   id  \\\n",
       "0   1   \n",
       "1   6   \n",
       "2   8   \n",
       "3   9   \n",
       "4  10   \n",
       "\n",
       "                                                                                 design_en  \n",
       "0  Diademed head of deified Alexander the Great with horn of Ammon, right. Border of dots.  \n",
       "1                                                            Altar, lighted and garlanded.  \n",
       "2               Prize amphora on ornamental stand; within linear square and incuse square.  \n",
       "3   Amphora with ribbed surface and crooked handles containing two ears of corn and poppy.  \n",
       "4                       Bust of youthful Anchialos, right, wearing taenia. Border of dots.  "
      ]
     },
     "execution_count": 6,
     "metadata": {},
     "output_type": "execute_result"
    }
   ],
   "source": [
    "designs.head(5)"
   ]
  },
  {
   "cell_type": "markdown",
   "metadata": {
    "jp-MarkdownHeadingCollapsed": true,
    "tags": []
   },
   "source": [
    "## This step is optional - load additional data to save with the model"
   ]
  },
  {
   "cell_type": "raw",
   "metadata": {},
   "source": [
    "language = \"_en\"\n",
    "add_columns = [\"name\"+language, \"alternativenames\"+language, \"link\"]"
   ]
  },
  {
   "cell_type": "raw",
   "metadata": {},
   "source": [
    "entity_information = [dc.load_designs_from_db(\"nlp_list_person\", [\"name\", \"alternativenames\", \"link\"]),\n",
    "                      dc.load_designs_from_db(\"nlp_list_obj\", add_columns),\n",
    "                      dc.load_designs_from_db(\"nlp_list_animal\", add_columns),\n",
    "                      dc.load_designs_from_db(\"nlp_list_plant\", add_columns)]"
   ]
  },
  {
   "cell_type": "raw",
   "metadata": {},
   "source": [
    "for dataframe in entity_information:\n",
    "    dataframe.rename(columns={\"name\"+language:\"name\", \"alternativenames\"+language:\"alternativenames\"}, inplace=True)"
   ]
  },
  {
   "cell_type": "raw",
   "metadata": {},
   "source": [
    "optional_info = pd.DataFrame(columns=[\"name\",\"link\"])\n",
    "for df in entity_information:\n",
    "    tmp = split_alternativenames(df.fillna(\" \"))\n",
    "    optional_info = optional_info.append(tmp)"
   ]
  },
  {
   "cell_type": "raw",
   "metadata": {},
   "source": [
    "optional_info.head(5)"
   ]
  },
  {
   "cell_type": "raw",
   "metadata": {},
   "source": [
    "optional_info.shape"
   ]
  },
  {
   "cell_type": "raw",
   "metadata": {},
   "source": [
    "optional_info.loc[optional_info[\"name\"]==\"Andromeda\"][\"link\"].item()"
   ]
  },
  {
   "cell_type": "markdown",
   "metadata": {},
   "source": [
    "## Load and annotate designs"
   ]
  },
  {
   "cell_type": "code",
   "execution_count": 7,
   "metadata": {
    "tags": []
   },
   "outputs": [],
   "source": [
    "language = \"_en\"\n",
    "add_columns = [\"name\"+language, \"alternativenames\"+language]"
   ]
  },
  {
   "cell_type": "code",
   "execution_count": 8,
   "metadata": {
    "tags": []
   },
   "outputs": [],
   "source": [
    "entities = {\n",
    "    \"PERSON\": dc.load_entities_from_db(\"nlp_list_person\", [\"name\", \"alternativenames\"], [\"alternativenames\"], \",\", True),\n",
    "    \"OBJECT\": dc.load_entities_from_db(\"nlp_list_obj\", add_columns, [add_columns[1]], \",\", True),\n",
    "    \"ANIMAL\": dc.load_entities_from_db(\"nlp_list_animal\", add_columns, [add_columns[1]], \",\", True),\n",
    "    \"PLANT\": dc.load_entities_from_db(\"nlp_list_plant\", add_columns, [add_columns[1]], \",\", True)}"
   ]
  },
  {
   "cell_type": "code",
   "execution_count": 9,
   "metadata": {
    "tags": []
   },
   "outputs": [],
   "source": [
    "annotated_designs = annotate_designs(entities, designs, id_col, design_col)\n",
    "annotated_designs = annotated_designs[\n",
    "    annotated_designs.annotations.map(len) > 0]"
   ]
  },
  {
   "cell_type": "code",
   "execution_count": 10,
   "metadata": {
    "tags": []
   },
   "outputs": [],
   "source": [
    "if use_lemma_stem:\n",
    "    annotater = Stem_Lemma_Annotatizer() # parameter: method=\"lemma_stem\", language=\"en\", backbone=\"spacy_snowball\"\n",
    "    annotated_designs = annotater.annotate(annotated_designs, entities, id_col, design_col)"
   ]
  },
  {
   "cell_type": "code",
   "execution_count": 11,
   "metadata": {
    "tags": []
   },
   "outputs": [
    {
     "data": {
      "text/html": [
       "<div>\n",
       "<style scoped>\n",
       "    .dataframe tbody tr th:only-of-type {\n",
       "        vertical-align: middle;\n",
       "    }\n",
       "\n",
       "    .dataframe tbody tr th {\n",
       "        vertical-align: top;\n",
       "    }\n",
       "\n",
       "    .dataframe thead th {\n",
       "        text-align: right;\n",
       "    }\n",
       "</style>\n",
       "<table border=\"1\" class=\"dataframe\">\n",
       "  <thead>\n",
       "    <tr style=\"text-align: right;\">\n",
       "      <th></th>\n",
       "      <th>design_en</th>\n",
       "      <th>id</th>\n",
       "      <th>annotations</th>\n",
       "    </tr>\n",
       "  </thead>\n",
       "  <tbody>\n",
       "    <tr>\n",
       "      <th>0</th>\n",
       "      <td>Diademed head of deified Alexander the Great with horn of Ammon, right. Border of dots.</td>\n",
       "      <td>1</td>\n",
       "      <td>[(9, 13, OBJECT), (25, 44, PERSON)]</td>\n",
       "    </tr>\n",
       "    <tr>\n",
       "      <th>1</th>\n",
       "      <td>Altar, lighted and garlanded.</td>\n",
       "      <td>6</td>\n",
       "      <td>[(0, 5, OBJECT)]</td>\n",
       "    </tr>\n",
       "    <tr>\n",
       "      <th>2</th>\n",
       "      <td>Prize amphora on ornamental stand; within linear square and incuse square.</td>\n",
       "      <td>8</td>\n",
       "      <td>[(6, 13, OBJECT)]</td>\n",
       "    </tr>\n",
       "    <tr>\n",
       "      <th>3</th>\n",
       "      <td>Amphora with ribbed surface and crooked handles containing two ears of corn and poppy.</td>\n",
       "      <td>9</td>\n",
       "      <td>[(0, 7, OBJECT), (63, 75, PLANT), (80, 85, PLANT)]</td>\n",
       "    </tr>\n",
       "    <tr>\n",
       "      <th>4</th>\n",
       "      <td>Bust of youthful Anchialos, right, wearing taenia. Border of dots.</td>\n",
       "      <td>10</td>\n",
       "      <td>[(0, 4, OBJECT), (17, 26, PERSON), (43, 49, OBJECT)]</td>\n",
       "    </tr>\n",
       "  </tbody>\n",
       "</table>\n",
       "</div>"
      ],
      "text/plain": [
       "                                                                                 design_en  \\\n",
       "0  Diademed head of deified Alexander the Great with horn of Ammon, right. Border of dots.   \n",
       "1                                                            Altar, lighted and garlanded.   \n",
       "2               Prize amphora on ornamental stand; within linear square and incuse square.   \n",
       "3   Amphora with ribbed surface and crooked handles containing two ears of corn and poppy.   \n",
       "4                       Bust of youthful Anchialos, right, wearing taenia. Border of dots.   \n",
       "\n",
       "   id                                           annotations  \n",
       "0   1                   [(9, 13, OBJECT), (25, 44, PERSON)]  \n",
       "1   6                                      [(0, 5, OBJECT)]  \n",
       "2   8                                     [(6, 13, OBJECT)]  \n",
       "3   9    [(0, 7, OBJECT), (63, 75, PLANT), (80, 85, PLANT)]  \n",
       "4  10  [(0, 4, OBJECT), (17, 26, PERSON), (43, 49, OBJECT)]  "
      ]
     },
     "execution_count": 11,
     "metadata": {},
     "output_type": "execute_result"
    }
   ],
   "source": [
    "annotated_designs.head(5)"
   ]
  },
  {
   "cell_type": "code",
   "execution_count": 12,
   "metadata": {
    "tags": []
   },
   "outputs": [
    {
     "data": {
      "text/plain": [
       "(21883, 3)"
      ]
     },
     "execution_count": 12,
     "metadata": {},
     "output_type": "execute_result"
    }
   ],
   "source": [
    "annotated_designs.shape"
   ]
  },
  {
   "cell_type": "markdown",
   "metadata": {},
   "source": [
    "## Add preprocessing rules"
   ]
  },
  {
   "cell_type": "code",
   "execution_count": 13,
   "metadata": {
    "tags": []
   },
   "outputs": [],
   "source": [
    "preprocess = Preprocess()"
   ]
  },
  {
   "cell_type": "code",
   "execution_count": 14,
   "metadata": {},
   "outputs": [],
   "source": [
    "#Examples (not used in pipeline)\n",
    "preprocess.add_rule(\"horn of Ammon\", \"Ammonhorn\")\n",
    "preprocess.add_rule(\"Alexander the Great\", \"Alexander\")"
   ]
  },
  {
   "cell_type": "code",
   "execution_count": 15,
   "metadata": {},
   "outputs": [],
   "source": [
    "design = \"Diademed head of deified Alexander the Great with horn of Ammon, right.\""
   ]
  },
  {
   "cell_type": "code",
   "execution_count": 16,
   "metadata": {
    "tags": []
   },
   "outputs": [
    {
     "data": {
      "text/plain": [
       "'Diademed head of deified Alexander with Ammonhorn, right.'"
      ]
     },
     "execution_count": 16,
     "metadata": {},
     "output_type": "execute_result"
    }
   ],
   "source": [
    "pre_design = preprocess.preprocess_design(design,1)\n",
    "pre_design"
   ]
  },
  {
   "cell_type": "code",
   "execution_count": 17,
   "metadata": {
    "tags": []
   },
   "outputs": [],
   "source": [
    "annot = [(25,34,\"PERSON\"), (40, 49,\"OBJECT\")]"
   ]
  },
  {
   "cell_type": "code",
   "execution_count": 18,
   "metadata": {
    "tags": []
   },
   "outputs": [
    {
     "data": {
      "text/plain": [
       "'Diademed head of deified Alexander the Great with horn of Ammon, right.'"
      ]
     },
     "execution_count": 18,
     "metadata": {},
     "output_type": "execute_result"
    }
   ],
   "source": [
    "preprocess.map_back_design(pre_design, 1)"
   ]
  },
  {
   "cell_type": "code",
   "execution_count": 19,
   "metadata": {
    "tags": []
   },
   "outputs": [
    {
     "data": {
      "text/plain": [
       "[(25, 44, 'PERSON'), (50, 63, 'OBJECT')]"
      ]
     },
     "execution_count": 19,
     "metadata": {},
     "output_type": "execute_result"
    }
   ],
   "source": [
    "preprocess.map_result_ner(pre_design, annot, 1)"
   ]
  },
  {
   "cell_type": "markdown",
   "metadata": {},
   "source": [
    "## Train NER"
   ]
  },
  {
   "cell_type": "code",
   "execution_count": 20,
   "metadata": {},
   "outputs": [],
   "source": [
    "from sklearn.model_selection import train_test_split\n",
    "X_train, X_test, y_train, y_test = train_test_split(annotated_designs[[id_col, design_col]],\n",
    "                                                    annotated_designs[[id_col, \"annotations\"]],\n",
    "                                                    test_size=0.25, random_state = 12)\n",
    "y_test = y_test.rename(columns={\"annotations\": \"y\"})"
   ]
  },
  {
   "cell_type": "code",
   "execution_count": 21,
   "metadata": {},
   "outputs": [],
   "source": [
    "X_test.index = [i for i in range(X_test.shape[0])]\n",
    "y_test.index = [i for i in range(y_test.shape[0])]"
   ]
  },
  {
   "cell_type": "markdown",
   "metadata": {},
   "source": [
    "#### output directory for the trained model"
   ]
  },
  {
   "cell_type": "code",
   "execution_count": 22,
   "metadata": {},
   "outputs": [],
   "source": [
    "output_dir =  \"../cnt/trained_model/ner/english/\"\n",
    "model_name = \"english_cno\""
   ]
  },
  {
   "cell_type": "code",
   "execution_count": 23,
   "metadata": {},
   "outputs": [
    {
     "name": "stdout",
     "output_type": "stream",
     "text": [
      "../cnt/trained_model/ner/english\n",
      "Saved model to ../cnt/trained_model/ner/english\n"
     ]
    }
   ],
   "source": [
    "my_estimator = DesignEstimator(4, output_dir, model_name, id_col, design_col)\n",
    "my_estimator.set_labels(\"PERSON\", \"OBJECT\", \"ANIMAL\", \"PLANT\")\n",
    "my_estimator.fit(X_train, y_train.annotations, \"cnt\")"
   ]
  },
  {
   "cell_type": "markdown",
   "metadata": {},
   "source": [
    "## Load and evaluate model"
   ]
  },
  {
   "cell_type": "code",
   "execution_count": 24,
   "metadata": {},
   "outputs": [],
   "source": [
    "model = load_ner_model_v2(output_dir, model_name, id_col, design_col)"
   ]
  },
  {
   "cell_type": "code",
   "execution_count": 25,
   "metadata": {},
   "outputs": [],
   "source": [
    "x_predict = model.predict(X_test,as_doc=False)"
   ]
  },
  {
   "cell_type": "code",
   "execution_count": 26,
   "metadata": {},
   "outputs": [
    {
     "data": {
      "text/html": [
       "<div>\n",
       "<style scoped>\n",
       "    .dataframe tbody tr th:only-of-type {\n",
       "        vertical-align: middle;\n",
       "    }\n",
       "\n",
       "    .dataframe tbody tr th {\n",
       "        vertical-align: top;\n",
       "    }\n",
       "\n",
       "    .dataframe thead th {\n",
       "        text-align: right;\n",
       "    }\n",
       "</style>\n",
       "<table border=\"1\" class=\"dataframe\">\n",
       "  <thead>\n",
       "    <tr style=\"text-align: right;\">\n",
       "      <th></th>\n",
       "      <th>id</th>\n",
       "      <th>y</th>\n",
       "    </tr>\n",
       "  </thead>\n",
       "  <tbody>\n",
       "    <tr>\n",
       "      <th>0</th>\n",
       "      <td>12350</td>\n",
       "      <td>[(0, 4, OBJECT), (25, 32, OBJECT), (52, 56, OBJECT), (77, 84, OBJECT)]</td>\n",
       "    </tr>\n",
       "    <tr>\n",
       "      <th>1</th>\n",
       "      <td>8434</td>\n",
       "      <td>[(0, 6, OBJECT), (16, 21, ANIMAL)]</td>\n",
       "    </tr>\n",
       "    <tr>\n",
       "      <th>2</th>\n",
       "      <td>2273</td>\n",
       "      <td>[(0, 4, ANIMAL), (27, 32, OBJECT), (33, 37, OBJECT)]</td>\n",
       "    </tr>\n",
       "    <tr>\n",
       "      <th>3</th>\n",
       "      <td>7548</td>\n",
       "      <td>[(0, 4, ANIMAL), (24, 28, OBJECT), (56, 61, ANIMAL)]</td>\n",
       "    </tr>\n",
       "    <tr>\n",
       "      <th>4</th>\n",
       "      <td>1988</td>\n",
       "      <td>[(9, 13, OBJECT), (17, 23, PERSON)]</td>\n",
       "    </tr>\n",
       "    <tr>\n",
       "      <th>...</th>\n",
       "      <td>...</td>\n",
       "      <td>...</td>\n",
       "    </tr>\n",
       "    <tr>\n",
       "      <th>5466</th>\n",
       "      <td>4153</td>\n",
       "      <td>[(5, 13, PERSON), (31, 35, OBJECT), (50, 60, OBJECT), (65, 70, OBJECT), (89, 95, PLANT), (136, 143, OBJECT)]</td>\n",
       "    </tr>\n",
       "    <tr>\n",
       "      <th>5467</th>\n",
       "      <td>4964</td>\n",
       "      <td>[(12, 16, OBJECT), (36, 51, PERSON)]</td>\n",
       "    </tr>\n",
       "    <tr>\n",
       "      <th>5468</th>\n",
       "      <td>2021</td>\n",
       "      <td>[(0, 4, ANIMAL)]</td>\n",
       "    </tr>\n",
       "    <tr>\n",
       "      <th>5469</th>\n",
       "      <td>24538</td>\n",
       "      <td>[(7, 18, OBJECT)]</td>\n",
       "    </tr>\n",
       "    <tr>\n",
       "      <th>5470</th>\n",
       "      <td>5241</td>\n",
       "      <td>[(6, 10, PLANT)]</td>\n",
       "    </tr>\n",
       "  </tbody>\n",
       "</table>\n",
       "<p>5471 rows × 2 columns</p>\n",
       "</div>"
      ],
      "text/plain": [
       "         id  \\\n",
       "0     12350   \n",
       "1      8434   \n",
       "2      2273   \n",
       "3      7548   \n",
       "4      1988   \n",
       "...     ...   \n",
       "5466   4153   \n",
       "5467   4964   \n",
       "5468   2021   \n",
       "5469  24538   \n",
       "5470   5241   \n",
       "\n",
       "                                                                                                                 y  \n",
       "0                                           [(0, 4, OBJECT), (25, 32, OBJECT), (52, 56, OBJECT), (77, 84, OBJECT)]  \n",
       "1                                                                               [(0, 6, OBJECT), (16, 21, ANIMAL)]  \n",
       "2                                                             [(0, 4, ANIMAL), (27, 32, OBJECT), (33, 37, OBJECT)]  \n",
       "3                                                             [(0, 4, ANIMAL), (24, 28, OBJECT), (56, 61, ANIMAL)]  \n",
       "4                                                                              [(9, 13, OBJECT), (17, 23, PERSON)]  \n",
       "...                                                                                                            ...  \n",
       "5466  [(5, 13, PERSON), (31, 35, OBJECT), (50, 60, OBJECT), (65, 70, OBJECT), (89, 95, PLANT), (136, 143, OBJECT)]  \n",
       "5467                                                                          [(12, 16, OBJECT), (36, 51, PERSON)]  \n",
       "5468                                                                                              [(0, 4, ANIMAL)]  \n",
       "5469                                                                                             [(7, 18, OBJECT)]  \n",
       "5470                                                                                              [(6, 10, PLANT)]  \n",
       "\n",
       "[5471 rows x 2 columns]"
      ]
     },
     "execution_count": 26,
     "metadata": {},
     "output_type": "execute_result"
    }
   ],
   "source": [
    "x_predict"
   ]
  },
  {
   "cell_type": "code",
   "execution_count": 27,
   "metadata": {},
   "outputs": [],
   "source": [
    "metrics = Metrics()"
   ]
  },
  {
   "cell_type": "code",
   "execution_count": 28,
   "metadata": {},
   "outputs": [
    {
     "data": {
      "text/html": [
       "<div>\n",
       "<style scoped>\n",
       "    .dataframe tbody tr th:only-of-type {\n",
       "        vertical-align: middle;\n",
       "    }\n",
       "\n",
       "    .dataframe tbody tr th {\n",
       "        vertical-align: top;\n",
       "    }\n",
       "\n",
       "    .dataframe thead th {\n",
       "        text-align: right;\n",
       "    }\n",
       "</style>\n",
       "<table border=\"1\" class=\"dataframe\">\n",
       "  <thead>\n",
       "    <tr style=\"text-align: right;\">\n",
       "      <th></th>\n",
       "      <th></th>\n",
       "      <th>Total(TP+FN)</th>\n",
       "      <th>Hits(TP)</th>\n",
       "      <th>Wrongs(FP)</th>\n",
       "      <th>%</th>\n",
       "    </tr>\n",
       "  </thead>\n",
       "  <tbody>\n",
       "    <tr>\n",
       "      <th>0</th>\n",
       "      <td>PERSON</td>\n",
       "      <td>5919</td>\n",
       "      <td>5891</td>\n",
       "      <td>67</td>\n",
       "      <td>99.5</td>\n",
       "    </tr>\n",
       "    <tr>\n",
       "      <th>1</th>\n",
       "      <td>OBJECT</td>\n",
       "      <td>12710</td>\n",
       "      <td>12681</td>\n",
       "      <td>52</td>\n",
       "      <td>99.8</td>\n",
       "    </tr>\n",
       "    <tr>\n",
       "      <th>2</th>\n",
       "      <td>ANIMAL</td>\n",
       "      <td>1281</td>\n",
       "      <td>1267</td>\n",
       "      <td>8</td>\n",
       "      <td>98.9</td>\n",
       "    </tr>\n",
       "    <tr>\n",
       "      <th>3</th>\n",
       "      <td>PLANT</td>\n",
       "      <td>980</td>\n",
       "      <td>971</td>\n",
       "      <td>11</td>\n",
       "      <td>99.1</td>\n",
       "    </tr>\n",
       "  </tbody>\n",
       "</table>\n",
       "</div>"
      ],
      "text/plain": [
       "           Total(TP+FN)  Hits(TP)  Wrongs(FP)     %\n",
       "0  PERSON          5919      5891          67  99.5\n",
       "1  OBJECT         12710     12681          52  99.8\n",
       "2  ANIMAL          1281      1267           8  98.9\n",
       "3   PLANT           980       971          11  99.1"
      ]
     },
     "execution_count": 28,
     "metadata": {},
     "output_type": "execute_result"
    }
   ],
   "source": [
    "scores_frame = metrics.create_score_frame(y_test, x_predict, my_estimator.get_labels())\n",
    "scores_frame"
   ]
  },
  {
   "cell_type": "code",
   "execution_count": 29,
   "metadata": {},
   "outputs": [],
   "source": [
    "precision, recall = metrics.score_precision_recall(y_test, x_predict)"
   ]
  },
  {
   "cell_type": "code",
   "execution_count": 30,
   "metadata": {},
   "outputs": [],
   "source": [
    "F1 = (2*precision*recall) / (precision + recall)"
   ]
  },
  {
   "cell_type": "code",
   "execution_count": 31,
   "metadata": {
    "tags": []
   },
   "outputs": [
    {
     "name": "stdout",
     "output_type": "stream",
     "text": [
      "Precision 99.34\n",
      "Recall 99.62\n",
      "F1 99.48\n"
     ]
    }
   ],
   "source": [
    "print(\"Precision\", round(precision*100,2))\n",
    "print(\"Recall\", round(recall*100,2))\n",
    "print(\"F1\", round(F1*100,2))"
   ]
  },
  {
   "cell_type": "markdown",
   "metadata": {
    "tags": []
   },
   "source": [
    "# Visualize prediction"
   ]
  },
  {
   "cell_type": "code",
   "execution_count": 32,
   "metadata": {},
   "outputs": [],
   "source": [
    "x_predict_as_doc = model.predict(designs, as_doc=True)"
   ]
  },
  {
   "cell_type": "code",
   "execution_count": 33,
   "metadata": {},
   "outputs": [
    {
     "data": {
      "text/html": [
       "<span class=\"tex2jax_ignore\"><div class=\"entities\" style=\"line-height: 2.5; direction: ltr\">Diademed \n",
       "<mark class=\"entity\" style=\"background: greenyellow; padding: 0.45em 0.6em; margin: 0 0.25em; line-height: 1; border-radius: 0.35em;\">\n",
       "    head\n",
       "    <span style=\"font-size: 0.8em; font-weight: bold; line-height: 1; border-radius: 0.35em; text-transform: uppercase; vertical-align: middle; margin-left: 0.5rem\">OBJECT</span>\n",
       "</mark>\n",
       " of deified \n",
       "<mark class=\"entity\" style=\"background: mediumpurple; padding: 0.45em 0.6em; margin: 0 0.25em; line-height: 1; border-radius: 0.35em;\">\n",
       "    Alexander the Great\n",
       "    <span style=\"font-size: 0.8em; font-weight: bold; line-height: 1; border-radius: 0.35em; text-transform: uppercase; vertical-align: middle; margin-left: 0.5rem\">PERSON</span>\n",
       "</mark>\n",
       " with horn of Ammon, right. Border of dots.</div>\n",
       "\n",
       "<div class=\"entities\" style=\"line-height: 2.5; direction: ltr\">\n",
       "<mark class=\"entity\" style=\"background: greenyellow; padding: 0.45em 0.6em; margin: 0 0.25em; line-height: 1; border-radius: 0.35em;\">\n",
       "    Altar\n",
       "    <span style=\"font-size: 0.8em; font-weight: bold; line-height: 1; border-radius: 0.35em; text-transform: uppercase; vertical-align: middle; margin-left: 0.5rem\">OBJECT</span>\n",
       "</mark>\n",
       ", lighted and garlanded.</div>\n",
       "\n",
       "<div class=\"entities\" style=\"line-height: 2.5; direction: ltr\">Prize \n",
       "<mark class=\"entity\" style=\"background: greenyellow; padding: 0.45em 0.6em; margin: 0 0.25em; line-height: 1; border-radius: 0.35em;\">\n",
       "    amphora\n",
       "    <span style=\"font-size: 0.8em; font-weight: bold; line-height: 1; border-radius: 0.35em; text-transform: uppercase; vertical-align: middle; margin-left: 0.5rem\">OBJECT</span>\n",
       "</mark>\n",
       " on ornamental stand; within linear square and incuse square.</div>\n",
       "\n",
       "<div class=\"entities\" style=\"line-height: 2.5; direction: ltr\">\n",
       "<mark class=\"entity\" style=\"background: greenyellow; padding: 0.45em 0.6em; margin: 0 0.25em; line-height: 1; border-radius: 0.35em;\">\n",
       "    Amphora\n",
       "    <span style=\"font-size: 0.8em; font-weight: bold; line-height: 1; border-radius: 0.35em; text-transform: uppercase; vertical-align: middle; margin-left: 0.5rem\">OBJECT</span>\n",
       "</mark>\n",
       " with ribbed surface and crooked handles containing two \n",
       "<mark class=\"entity\" style=\"background: salmom; padding: 0.45em 0.6em; margin: 0 0.25em; line-height: 1; border-radius: 0.35em;\">\n",
       "    ears of corn\n",
       "    <span style=\"font-size: 0.8em; font-weight: bold; line-height: 1; border-radius: 0.35em; text-transform: uppercase; vertical-align: middle; margin-left: 0.5rem\">PLANT</span>\n",
       "</mark>\n",
       " and \n",
       "<mark class=\"entity\" style=\"background: salmom; padding: 0.45em 0.6em; margin: 0 0.25em; line-height: 1; border-radius: 0.35em;\">\n",
       "    poppy\n",
       "    <span style=\"font-size: 0.8em; font-weight: bold; line-height: 1; border-radius: 0.35em; text-transform: uppercase; vertical-align: middle; margin-left: 0.5rem\">PLANT</span>\n",
       "</mark>\n",
       ".</div>\n",
       "\n",
       "<div class=\"entities\" style=\"line-height: 2.5; direction: ltr\">\n",
       "<mark class=\"entity\" style=\"background: greenyellow; padding: 0.45em 0.6em; margin: 0 0.25em; line-height: 1; border-radius: 0.35em;\">\n",
       "    Bust\n",
       "    <span style=\"font-size: 0.8em; font-weight: bold; line-height: 1; border-radius: 0.35em; text-transform: uppercase; vertical-align: middle; margin-left: 0.5rem\">OBJECT</span>\n",
       "</mark>\n",
       " of youthful \n",
       "<mark class=\"entity\" style=\"background: mediumpurple; padding: 0.45em 0.6em; margin: 0 0.25em; line-height: 1; border-radius: 0.35em;\">\n",
       "    Anchialos\n",
       "    <span style=\"font-size: 0.8em; font-weight: bold; line-height: 1; border-radius: 0.35em; text-transform: uppercase; vertical-align: middle; margin-left: 0.5rem\">PERSON</span>\n",
       "</mark>\n",
       ", right, wearing \n",
       "<mark class=\"entity\" style=\"background: greenyellow; padding: 0.45em 0.6em; margin: 0 0.25em; line-height: 1; border-radius: 0.35em;\">\n",
       "    taenia\n",
       "    <span style=\"font-size: 0.8em; font-weight: bold; line-height: 1; border-radius: 0.35em; text-transform: uppercase; vertical-align: middle; margin-left: 0.5rem\">OBJECT</span>\n",
       "</mark>\n",
       ". Border of dots.</div>\n",
       "\n",
       "<div class=\"entities\" style=\"line-height: 2.5; direction: ltr\">Inverted \n",
       "<mark class=\"entity\" style=\"background: greenyellow; padding: 0.45em 0.6em; margin: 0 0.25em; line-height: 1; border-radius: 0.35em;\">\n",
       "    anchor\n",
       "    <span style=\"font-size: 0.8em; font-weight: bold; line-height: 1; border-radius: 0.35em; text-transform: uppercase; vertical-align: middle; margin-left: 0.5rem\">OBJECT</span>\n",
       "</mark>\n",
       "; under left fluke, \n",
       "<mark class=\"entity\" style=\"background: orange; padding: 0.45em 0.6em; margin: 0 0.25em; line-height: 1; border-radius: 0.35em;\">\n",
       "    crayfish\n",
       "    <span style=\"font-size: 0.8em; font-weight: bold; line-height: 1; border-radius: 0.35em; text-transform: uppercase; vertical-align: middle; margin-left: 0.5rem\">ANIMAL</span>\n",
       "</mark>\n",
       ", under right fluke, ethnicon.</div>\n",
       "\n",
       "<div class=\"entities\" style=\"line-height: 2.5; direction: ltr\">Inverted \n",
       "<mark class=\"entity\" style=\"background: greenyellow; padding: 0.45em 0.6em; margin: 0 0.25em; line-height: 1; border-radius: 0.35em;\">\n",
       "    anchor\n",
       "    <span style=\"font-size: 0.8em; font-weight: bold; line-height: 1; border-radius: 0.35em; text-transform: uppercase; vertical-align: middle; margin-left: 0.5rem\">OBJECT</span>\n",
       "</mark>\n",
       "; under left fluke, \n",
       "<mark class=\"entity\" style=\"background: orange; padding: 0.45em 0.6em; margin: 0 0.25em; line-height: 1; border-radius: 0.35em;\">\n",
       "    crayfish\n",
       "    <span style=\"font-size: 0.8em; font-weight: bold; line-height: 1; border-radius: 0.35em; text-transform: uppercase; vertical-align: middle; margin-left: 0.5rem\">ANIMAL</span>\n",
       "</mark>\n",
       ", under right fluke, ethnicon; all within circular incuse.</div>\n",
       "\n",
       "<div class=\"entities\" style=\"line-height: 2.5; direction: ltr\">Inverted \n",
       "<mark class=\"entity\" style=\"background: greenyellow; padding: 0.45em 0.6em; margin: 0 0.25em; line-height: 1; border-radius: 0.35em;\">\n",
       "    anchor\n",
       "    <span style=\"font-size: 0.8em; font-weight: bold; line-height: 1; border-radius: 0.35em; text-transform: uppercase; vertical-align: middle; margin-left: 0.5rem\">OBJECT</span>\n",
       "</mark>\n",
       ";  under right fluke, \n",
       "<mark class=\"entity\" style=\"background: orange; padding: 0.45em 0.6em; margin: 0 0.25em; line-height: 1; border-radius: 0.35em;\">\n",
       "    crayfish\n",
       "    <span style=\"font-size: 0.8em; font-weight: bold; line-height: 1; border-radius: 0.35em; text-transform: uppercase; vertical-align: middle; margin-left: 0.5rem\">ANIMAL</span>\n",
       "</mark>\n",
       ", under left fluke, ethnicon.</div>\n",
       "\n",
       "<div class=\"entities\" style=\"line-height: 2.5; direction: ltr\">Inverted \n",
       "<mark class=\"entity\" style=\"background: greenyellow; padding: 0.45em 0.6em; margin: 0 0.25em; line-height: 1; border-radius: 0.35em;\">\n",
       "    anchor\n",
       "    <span style=\"font-size: 0.8em; font-weight: bold; line-height: 1; border-radius: 0.35em; text-transform: uppercase; vertical-align: middle; margin-left: 0.5rem\">OBJECT</span>\n",
       "</mark>\n",
       "; under right fluke, \n",
       "<mark class=\"entity\" style=\"background: orange; padding: 0.45em 0.6em; margin: 0 0.25em; line-height: 1; border-radius: 0.35em;\">\n",
       "    crayfish\n",
       "    <span style=\"font-size: 0.8em; font-weight: bold; line-height: 1; border-radius: 0.35em; text-transform: uppercase; vertical-align: middle; margin-left: 0.5rem\">ANIMAL</span>\n",
       "</mark>\n",
       ", under left fluke, ethnicon; all within shallow incuse square.</div>\n",
       "\n",
       "<div class=\"entities\" style=\"line-height: 2.5; direction: ltr\">Inverted \n",
       "<mark class=\"entity\" style=\"background: greenyellow; padding: 0.45em 0.6em; margin: 0 0.25em; line-height: 1; border-radius: 0.35em;\">\n",
       "    anchor\n",
       "    <span style=\"font-size: 0.8em; font-weight: bold; line-height: 1; border-radius: 0.35em; text-transform: uppercase; vertical-align: middle; margin-left: 0.5rem\">OBJECT</span>\n",
       "</mark>\n",
       "; under right fluke, \n",
       "<mark class=\"entity\" style=\"background: orange; padding: 0.45em 0.6em; margin: 0 0.25em; line-height: 1; border-radius: 0.35em;\">\n",
       "    crayfish\n",
       "    <span style=\"font-size: 0.8em; font-weight: bold; line-height: 1; border-radius: 0.35em; text-transform: uppercase; vertical-align: middle; margin-left: 0.5rem\">ANIMAL</span>\n",
       "</mark>\n",
       ".</div></span>"
      ],
      "text/plain": [
       "<IPython.core.display.HTML object>"
      ]
     },
     "metadata": {},
     "output_type": "display_data"
    }
   ],
   "source": [
    "from spacy import displacy\n",
    "colors = {'PERSON': 'mediumpurple','OBJECT': 'greenyellow', 'ANIMAL' : 'orange', 'PLANT': 'salmom', 'VERBS': 'skyblue'}\n",
    "options = {'ent': ['PERSON', 'OBJECT', 'ANIMAL', 'PLANT'], 'colors': colors}\n",
    "displacy.render(x_predict_as_doc.y[:10], \n",
    "                style='ent', jupyter=True, options=options)"
   ]
  },
  {
   "cell_type": "markdown",
   "metadata": {},
   "source": [
    "## Upload data to mysql"
   ]
  },
  {
   "cell_type": "code",
   "execution_count": 34,
   "metadata": {},
   "outputs": [],
   "source": [
    "upload = False"
   ]
  },
  {
   "cell_type": "code",
   "execution_count": 35,
   "metadata": {
    "tags": []
   },
   "outputs": [],
   "source": [
    "if upload ==True:\n",
    "    dc =  Database_Connection(\"mysql+mysqlconnector://YourConnection\")\n",
    "    cnt_designs = dc.load_designs_from_db(\"designs\", [id_col, design_col])\n",
    "    cnt_pred = my_estimator.predict_clear(cnt_designs )\n",
    "    cnt_pred_predictions_only = cnt_pred[\"y\"]\n",
    "    \n",
    "    cnt_ner_output = pd.DataFrame([(str(designid), *relation) for  _, (designid, relation_list) in cnt_pred.iterrows()\n",
    "                    for relation in relation_list],\n",
    "            columns=[\"DesignID\", \"Entity\", \"Label_Entity\"])\n",
    "\n",
    "    cnt_ner_output.to_sql(\"cnt_pipeline_ner\", dc.mysql_connection, \n",
    "                           if_exists=\"replace\", index=False)"
   ]
  }
 ],
 "metadata": {
  "kernelspec": {
   "display_name": "Python 3 (ipykernel)",
   "language": "python",
   "name": "python3"
  },
  "language_info": {
   "codemirror_mode": {
    "name": "ipython",
    "version": 3
   },
   "file_extension": ".py",
   "mimetype": "text/x-python",
   "name": "python",
   "nbconvert_exporter": "python",
   "pygments_lexer": "ipython3",
   "version": "3.8.18"
  }
 },
 "nbformat": 4,
 "nbformat_minor": 4
}
