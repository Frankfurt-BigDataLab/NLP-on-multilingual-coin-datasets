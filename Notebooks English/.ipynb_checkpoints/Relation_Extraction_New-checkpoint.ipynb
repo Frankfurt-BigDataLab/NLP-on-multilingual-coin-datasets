{
 "cells": [
  {
   "cell_type": "code",
   "execution_count": 1,
   "id": "605f40b4-900d-4080-bfac-30ec917de545",
   "metadata": {},
   "outputs": [
    {
     "name": "stderr",
     "output_type": "stream",
     "text": [
      "/home/bigdatalab/anaconda3/envs/nlp/lib/python3.8/site-packages/tqdm/auto.py:22: TqdmWarning: IProgress not found. Please update jupyter and ipywidgets. See https://ipywidgets.readthedocs.io/en/stable/user_install.html\n",
      "  from .autonotebook import tqdm as notebook_tqdm\n"
     ]
    }
   ],
   "source": [
    "import sys\n",
    "sys.path.append('../')\n",
    "import pandas as pd\n",
    "import random\n",
    "import os\n",
    "import numpy as np\n",
    "import swifter\n",
    "\n",
    "from cnt.model import (DesignEstimator, RelationExtractor, save_pipeline, load_pipeline, predict_re_single_sentence, \n",
    "relations_from_adjectives_df, relations_from_adjectives_single, concat_relations)\n",
    "from cnt.annotate import (annotate, annotate_single_design, \n",
    "                          annotate_designs, \n",
    "                          extract_string_from_annotation, labeling_eng)\n",
    "from cnt.extract_relation import (path, NERTransformer, FeatureExtractor)\n",
    "from cnt.evaluate import Metrics\n",
    "from cnt.vectorize import (Doc2Str, Path2Str, Verbs2Str, AveragedPath2Vec, \n",
    "                           AveragedRest2Vec)\n",
    "from cnt.io import (replace_left_right)\n",
    "from cnt.io import  Database_Connection\n",
    "from cnt.preprocess import Preprocess\n",
    "\n",
    "\n",
    "from sklearn.model_selection import train_test_split\n",
    "from sklearn.pipeline import Pipeline, make_pipeline, make_union\n",
    "from sklearn.feature_extraction.text import TfidfVectorizer, CountVectorizer\n",
    "from sklearn.svm import SVC\n",
    "from sklearn.linear_model import LogisticRegression\n",
    "from sklearn.ensemble import RandomForestClassifier\n",
    "from sklearn.preprocessing import Normalizer\n",
    "from sklearn.naive_bayes import MultinomialNB\n",
    "from itertools import product\n",
    "import warnings\n",
    "warnings.filterwarnings('ignore')"
   ]
  },
  {
   "cell_type": "code",
   "execution_count": 2,
   "id": "26af4820-b3ac-4064-b291-96db1109d5f9",
   "metadata": {},
   "outputs": [],
   "source": [
    "id_col = \"id\"\n",
    "design_col = \"design_en\""
   ]
  },
  {
   "cell_type": "code",
   "execution_count": 4,
   "id": "fe119b3c-a829-4e80-90f6-6a25587bf899",
   "metadata": {},
   "outputs": [],
   "source": [
    "language = \"_en\"\n",
    "add_columns = [\"id\", \"name\"+language, \"alternativenames\"+language]"
   ]
  },
  {
   "cell_type": "code",
   "execution_count": 5,
   "id": "78eb79d7-466d-45ac-812c-d403d73e6f27",
   "metadata": {},
   "outputs": [],
   "source": [
    "train = dc.create_own_query(\"\"\"select design_id, \n",
    "(select design_en from nlp_training_designs as nlp where re.design_id=nlp.id) as design_en,\n",
    "(select name_en from nlp_list_entities as ner where ner.id=re.subject) as s, \n",
    "(select class from nlp_list_entities as ner where ner.id=re.subject) as subject_class, \n",
    "(select name_en from nlp_list_entities as ner where ner.id=re.predicate) as p, \n",
    "(select name_en from nlp_list_entities as ner where ner.id=re.object) as o, \n",
    "(select class from nlp_list_entities as ner where ner.id=re.object) as object_class\n",
    "from nlp_relation_extraction_en as re;\"\"\")"
   ]
  },
  {
   "cell_type": "code",
   "execution_count": 6,
   "id": "cff34ecb-a3ef-41d5-97ff-dce3cd9823c2",
   "metadata": {},
   "outputs": [],
   "source": [
    "train[\"y\"] = train.apply(lambda row: [row.s, row.subject_class, row.p, row.o, row.object_class], axis=1)"
   ]
  },
  {
   "cell_type": "code",
   "execution_count": 7,
   "id": "76203785-e4cc-4d57-a26b-32734831d197",
   "metadata": {},
   "outputs": [],
   "source": [
    "tmp = train.groupby(\"design_id\").agg({\"y\": \"sum\"})"
   ]
  },
  {
   "cell_type": "code",
   "execution_count": 8,
   "id": "c7bfbcde-a515-4bfb-add3-1ce949a75a71",
   "metadata": {},
   "outputs": [],
   "source": [
    "X = train.drop_duplicates(\"design_id\",keep=\"first\")"
   ]
  },
  {
   "cell_type": "code",
   "execution_count": 9,
   "id": "d91ebae3-0621-48a8-901e-2bf016c5222c",
   "metadata": {},
   "outputs": [],
   "source": [
    "X = X.merge(tmp, left_on=\"design_id\", right_on=\"design_id\", suffixes=('', '_y'))"
   ]
  },
  {
   "cell_type": "code",
   "execution_count": 10,
   "id": "087c7129-c671-4359-bda3-4bc91411d344",
   "metadata": {},
   "outputs": [],
   "source": [
    "X = X[[\"design_id\", \"design_en\", \"y\"]]"
   ]
  },
  {
   "cell_type": "code",
   "execution_count": 11,
   "id": "ae12b31a-f181-4404-9ca7-1a822e3972ba",
   "metadata": {},
   "outputs": [
    {
     "data": {
      "text/html": [
       "<div>\n",
       "<style scoped>\n",
       "    .dataframe tbody tr th:only-of-type {\n",
       "        vertical-align: middle;\n",
       "    }\n",
       "\n",
       "    .dataframe tbody tr th {\n",
       "        vertical-align: top;\n",
       "    }\n",
       "\n",
       "    .dataframe thead th {\n",
       "        text-align: right;\n",
       "    }\n",
       "</style>\n",
       "<table border=\"1\" class=\"dataframe\">\n",
       "  <thead>\n",
       "    <tr style=\"text-align: right;\">\n",
       "      <th></th>\n",
       "      <th>design_id</th>\n",
       "      <th>design_en</th>\n",
       "      <th>y</th>\n",
       "    </tr>\n",
       "  </thead>\n",
       "  <tbody>\n",
       "    <tr>\n",
       "      <th>0</th>\n",
       "      <td>9</td>\n",
       "      <td>Amphora with ribbed surface and crooked handle...</td>\n",
       "      <td>[amphora, OBJECT, holding, poppy, PLANT]</td>\n",
       "    </tr>\n",
       "    <tr>\n",
       "      <th>1</th>\n",
       "      <td>33</td>\n",
       "      <td>Half-nude Aphrodite standing facing, head left...</td>\n",
       "      <td>[Aphrodite, PERSON, holding, apple, PLANT]</td>\n",
       "    </tr>\n",
       "    <tr>\n",
       "      <th>2</th>\n",
       "      <td>36</td>\n",
       "      <td>Nude Aphrodite standing facing, head right, co...</td>\n",
       "      <td>[Eros, PERSON, seated_on, dolphin, ANIMAL]</td>\n",
       "    </tr>\n",
       "    <tr>\n",
       "      <th>3</th>\n",
       "      <td>85</td>\n",
       "      <td>Nude Apollo standing facing, head left, left l...</td>\n",
       "      <td>[Apollo, PERSON, holding, patera, OBJECT]</td>\n",
       "    </tr>\n",
       "    <tr>\n",
       "      <th>4</th>\n",
       "      <td>104</td>\n",
       "      <td>Artemis advancing right, wearing short flutter...</td>\n",
       "      <td>[Artemis, PERSON, wearing, chiton, OBJECT]</td>\n",
       "    </tr>\n",
       "  </tbody>\n",
       "</table>\n",
       "</div>"
      ],
      "text/plain": [
       "   design_id                                          design_en  \\\n",
       "0          9  Amphora with ribbed surface and crooked handle...   \n",
       "1         33  Half-nude Aphrodite standing facing, head left...   \n",
       "2         36  Nude Aphrodite standing facing, head right, co...   \n",
       "3         85  Nude Apollo standing facing, head left, left l...   \n",
       "4        104  Artemis advancing right, wearing short flutter...   \n",
       "\n",
       "                                            y  \n",
       "0    [amphora, OBJECT, holding, poppy, PLANT]  \n",
       "1  [Aphrodite, PERSON, holding, apple, PLANT]  \n",
       "2  [Eros, PERSON, seated_on, dolphin, ANIMAL]  \n",
       "3   [Apollo, PERSON, holding, patera, OBJECT]  \n",
       "4  [Artemis, PERSON, wearing, chiton, OBJECT]  "
      ]
     },
     "execution_count": 11,
     "metadata": {},
     "output_type": "execute_result"
    }
   ],
   "source": [
    "X.head(5)"
   ]
  },
  {
   "cell_type": "code",
   "execution_count": 12,
   "id": "2f44cc4d-b997-4662-9e9a-86a4e75b8c4d",
   "metadata": {},
   "outputs": [],
   "source": [
    "X[\"design_en_changed\"] = \"\""
   ]
  },
  {
   "cell_type": "code",
   "execution_count": 13,
   "id": "2221be1b-57e3-4c47-80fb-bbc9c6b0ad65",
   "metadata": {},
   "outputs": [],
   "source": [
    "df_entities = dc.load_from_db(\"nlp_list_entities\", add_columns)"
   ]
  },
  {
   "cell_type": "code",
   "execution_count": 14,
   "id": "a8209a55-4305-4262-b002-481ee1bcae18",
   "metadata": {},
   "outputs": [],
   "source": [
    "# Add rules for preprocessing\n",
    "preprocess = Preprocess()\n",
    "preprocess.add_rule(\"horseman\", \"horse man\")\n",
    "preprocess.add_rule(\"horsemen\", \"horse men\")\n",
    "\n",
    "for index, row in df_entities.iterrows():\n",
    "    if row[\"alternativenames_en\"] is not None:\n",
    "        standard_name = row[\"name_en\"]\n",
    "        alt_names = row[\"alternativenames_en\"].split(\", \")\n",
    "        for alt_name in alt_names:\n",
    "            preprocess.add_rule(alt_name, standard_name)"
   ]
  },
  {
   "cell_type": "markdown",
   "id": "e95ccdf8-fc19-4363-9553-ce092fa50507",
   "metadata": {},
   "source": [
    "#### Bei römischen Zahlen scheint es noch kleine Probleme zu geben, daher nochmal extra manuell"
   ]
  },
  {
   "cell_type": "code",
   "execution_count": 15,
   "id": "d8ca977f-c8b2-4490-8404-ac99303dc868",
   "metadata": {},
   "outputs": [],
   "source": [
    "for rule in list(preprocess.rules):\n",
    "    if \" I.\" in rule or \" II.\" in rule or \" III.\" in rule or \" IV.\" in rule or \" V.\" in rule:\n",
    "        del preprocess.rules[rule]"
   ]
  },
  {
   "cell_type": "code",
   "execution_count": 16,
   "id": "d6404c1f-b58a-4845-9916-072664bdd26e",
   "metadata": {},
   "outputs": [],
   "source": [
    "for index, row in X.iterrows():\n",
    "    if \" I.\" in row[\"design_en\"]:\n",
    "        designs.at[index, \"design_en\"] = row[\"design_en\"].replace(\" I.\", \" I\")\n",
    "    if \" II.\" in row[\"design_en\"]:\n",
    "        designs.at[index, \"design_en\"] = row[\"design_en\"].replace(\" II.\", \" II\")\n",
    "    if \" III.\" in row[\"design_en\"]:\n",
    "        designs.at[index, \"design_en\"] = row[\"design_en\"].replace(\" III.\", \" III\")\n",
    "    if \" IV.\" in row[\"design_en\"]:\n",
    "        designs.at[index, \"design_en\"] = row[\"design_en\"].replace(\" IV.\", \" IV\")\n",
    "    if \" V.\" in row[\"design_en\"]:\n",
    "        designs.at[index, \"design_en\"] = row[\"design_en\"].replace(\" V.\", \" V\")"
   ]
  },
  {
   "cell_type": "code",
   "execution_count": 19,
   "id": "22ae87ce-e8ed-489b-b703-d5267655474b",
   "metadata": {},
   "outputs": [
    {
     "name": "stderr",
     "output_type": "stream",
     "text": [
      "Pandas Apply: 100%|███████████████████████████| 849/849 [00:18<00:00, 45.71it/s]\n"
     ]
    }
   ],
   "source": [
    "# Apply defined rules\n",
    "X[\"design_en_changed\"] = X.swifter.apply(lambda row: preprocess.preprocess_design(row.design_en, row.design_id)[0], axis=1)"
   ]
  },
  {
   "cell_type": "code",
   "execution_count": 20,
   "id": "575d78f4-5445-444c-b170-ced5a70c5a59",
   "metadata": {},
   "outputs": [
    {
     "name": "stderr",
     "output_type": "stream",
     "text": [
      "Pandas Apply: 100%|███████████████████████| 849/849 [00:00<00:00, 182566.73it/s]\n"
     ]
    }
   ],
   "source": [
    "# Deleting brackets and questionmarks\n",
    "X[\"design_en_changed\"] = X.swifter.apply(lambda row: row[\"design_en_changed\"].replace(\"?\", \"\").replace(\"(\", \"\").replace(\")\", \"\"), axis=1)"
   ]
  },
  {
   "cell_type": "code",
   "execution_count": 21,
   "id": "933b3a23-540f-4cc4-a54e-714b0bd2174f",
   "metadata": {},
   "outputs": [],
   "source": [
    "X.rename(columns={\"design_en\":\"design_en_orig\", \"design_en_changed\":\"design_en\", \"annotations\":\"annotations_orig\"}, inplace=True)"
   ]
  },
  {
   "cell_type": "code",
   "execution_count": 22,
   "id": "b01c7eec-2483-4c6d-8209-9a0f0576f6eb",
   "metadata": {},
   "outputs": [
    {
     "data": {
      "text/html": [
       "<div>\n",
       "<style scoped>\n",
       "    .dataframe tbody tr th:only-of-type {\n",
       "        vertical-align: middle;\n",
       "    }\n",
       "\n",
       "    .dataframe tbody tr th {\n",
       "        vertical-align: top;\n",
       "    }\n",
       "\n",
       "    .dataframe thead th {\n",
       "        text-align: right;\n",
       "    }\n",
       "</style>\n",
       "<table border=\"1\" class=\"dataframe\">\n",
       "  <thead>\n",
       "    <tr style=\"text-align: right;\">\n",
       "      <th></th>\n",
       "      <th>design_id</th>\n",
       "      <th>design_en_orig</th>\n",
       "      <th>y</th>\n",
       "      <th>design_en</th>\n",
       "    </tr>\n",
       "  </thead>\n",
       "  <tbody>\n",
       "    <tr>\n",
       "      <th>0</th>\n",
       "      <td>9</td>\n",
       "      <td>Amphora with ribbed surface and crooked handle...</td>\n",
       "      <td>[amphora, OBJECT, holding, poppy, PLANT]</td>\n",
       "      <td>Amphora with ribbed surface and crooked handle...</td>\n",
       "    </tr>\n",
       "    <tr>\n",
       "      <th>1</th>\n",
       "      <td>33</td>\n",
       "      <td>Half-nude Aphrodite standing facing, head left...</td>\n",
       "      <td>[Aphrodite, PERSON, holding, apple, PLANT]</td>\n",
       "      <td>Half-nude Aphrodite standing facing, head left...</td>\n",
       "    </tr>\n",
       "    <tr>\n",
       "      <th>2</th>\n",
       "      <td>36</td>\n",
       "      <td>Nude Aphrodite standing facing, head right, co...</td>\n",
       "      <td>[Eros, PERSON, seated_on, dolphin, ANIMAL]</td>\n",
       "      <td>Nude Aphrodite standing facing, head right, ho...</td>\n",
       "    </tr>\n",
       "    <tr>\n",
       "      <th>3</th>\n",
       "      <td>85</td>\n",
       "      <td>Nude Apollo standing facing, head left, left l...</td>\n",
       "      <td>[Apollo, PERSON, holding, patera, OBJECT]</td>\n",
       "      <td>Nude Apollo standing facing, head left, left l...</td>\n",
       "    </tr>\n",
       "    <tr>\n",
       "      <th>4</th>\n",
       "      <td>104</td>\n",
       "      <td>Artemis advancing right, wearing short flutter...</td>\n",
       "      <td>[Artemis, PERSON, wearing, chiton, OBJECT]</td>\n",
       "      <td>Artemis advancing right, wearing short flutter...</td>\n",
       "    </tr>\n",
       "  </tbody>\n",
       "</table>\n",
       "</div>"
      ],
      "text/plain": [
       "   design_id                                     design_en_orig  \\\n",
       "0          9  Amphora with ribbed surface and crooked handle...   \n",
       "1         33  Half-nude Aphrodite standing facing, head left...   \n",
       "2         36  Nude Aphrodite standing facing, head right, co...   \n",
       "3         85  Nude Apollo standing facing, head left, left l...   \n",
       "4        104  Artemis advancing right, wearing short flutter...   \n",
       "\n",
       "                                            y  \\\n",
       "0    [amphora, OBJECT, holding, poppy, PLANT]   \n",
       "1  [Aphrodite, PERSON, holding, apple, PLANT]   \n",
       "2  [Eros, PERSON, seated_on, dolphin, ANIMAL]   \n",
       "3   [Apollo, PERSON, holding, patera, OBJECT]   \n",
       "4  [Artemis, PERSON, wearing, chiton, OBJECT]   \n",
       "\n",
       "                                           design_en  \n",
       "0  Amphora with ribbed surface and crooked handle...  \n",
       "1  Half-nude Aphrodite standing facing, head left...  \n",
       "2  Nude Aphrodite standing facing, head right, ho...  \n",
       "3  Nude Apollo standing facing, head left, left l...  \n",
       "4  Artemis advancing right, wearing short flutter...  "
      ]
     },
     "execution_count": 22,
     "metadata": {},
     "output_type": "execute_result"
    }
   ],
   "source": [
    "X.head(5)"
   ]
  }
 ],
 "metadata": {
  "kernelspec": {
   "display_name": "Python 3 (ipykernel)",
   "language": "python",
   "name": "python3"
  },
  "language_info": {
   "codemirror_mode": {
    "name": "ipython",
    "version": 3
   },
   "file_extension": ".py",
   "mimetype": "text/x-python",
   "name": "python",
   "nbconvert_exporter": "python",
   "pygments_lexer": "ipython3",
   "version": "3.8.13"
  }
 },
 "nbformat": 4,
 "nbformat_minor": 5
}
