{
 "cells": [
  {
   "cell_type": "markdown",
   "metadata": {},
   "source": [
    "developed by Patricia Klinger, modified by Sebastian Gampe, Kerim Gencer, Chrisowalandis Deligio"
   ]
  },
  {
   "cell_type": "code",
   "execution_count": 1,
   "metadata": {},
   "outputs": [],
   "source": [
    "import sys\n",
    "sys.path.append('../')\n",
    "import pandas as pd\n",
    "import random\n",
    "import os\n",
    "import numpy as np\n",
    "from cnt.model import DesignEstimator, RelationExtractor, save_pipeline, load_pipeline\n",
    "from cnt.annotate import (annotate, annotate_single_design, \n",
    "                          annotate_designs, \n",
    "                          extract_string_from_annotation, labeling_eng)\n",
    "from cnt.extract_relation import (path, NERTransformer, FeatureExtractor)\n",
    "from cnt.evaluate import Metrics\n",
    "from cnt.vectorize import (Doc2Str, Path2Str, Verbs2Str, AveragedPath2Vec, \n",
    "                           AveragedRest2Vec)\n",
    "from cnt.io import (replace_left_right)\n",
    "from cnt.io import  Database_Connection\n",
    "from sklearn.model_selection import train_test_split\n",
    "from sklearn.pipeline import Pipeline, make_pipeline, make_union\n",
    "from sklearn.feature_extraction.text import TfidfVectorizer, CountVectorizer\n",
    "from sklearn.svm import SVC\n",
    "from sklearn.linear_model import LogisticRegression\n",
    "from sklearn.ensemble import RandomForestClassifier\n",
    "from sklearn.preprocessing import Normalizer\n",
    "from sklearn.naive_bayes import MultinomialNB\n",
    "from itertools import product\n",
    "import warnings\n",
    "warnings.filterwarnings('ignore')"
   ]
  },
  {
   "cell_type": "markdown",
   "metadata": {},
   "source": [
    "### Load yaml file with annotated data"
   ]
  },
  {
   "cell_type": "code",
   "execution_count": 2,
   "metadata": {},
   "outputs": [],
   "source": [
    "import yaml\n",
    "import_path = \"../data/English_RE_data.yaml\"\n",
    "with open(import_path, encoding='utf8') as f:\n",
    "    dictionary = yaml.safe_load(f)\n",
    "    d = {replace_left_right(key): value for key, value in dictionary.items()}"
   ]
  },
  {
   "cell_type": "code",
   "execution_count": 3,
   "metadata": {},
   "outputs": [
    {
     "data": {
      "text/plain": [
       "[('holding', 1113),\n",
       " ('wearing', 781),\n",
       " ('resting_on', 238),\n",
       " ('seated_on', 88),\n",
       " ('grasping', 36),\n",
       " ('standing', 36),\n",
       " ('crowning', 14),\n",
       " ('feeding', 10),\n",
       " ('coiling', 7),\n",
       " ('breaking', 4),\n",
       " ('pushing', 3),\n",
       " ('flying_over', 2),\n",
       " ('receiving', 2),\n",
       " ('escorted_by', 1)]"
      ]
     },
     "execution_count": 3,
     "metadata": {},
     "output_type": "execute_result"
    }
   ],
   "source": [
    "relation_counts = {}\n",
    "labels = []\n",
    "for sentence, relations in d.items():\n",
    "    for rel in relations:\n",
    "        rel_name = rel[1]\n",
    "        if rel_name not in relation_counts:\n",
    "            relation_counts[rel_name] = 1\n",
    "        else:\n",
    "            relation_counts[rel_name] += 1\n",
    "\n",
    "sorted(relation_counts.items(), key= lambda x: (-x[1], x[0]))"
   ]
  },
  {
   "cell_type": "code",
   "execution_count": 4,
   "metadata": {},
   "outputs": [],
   "source": [
    "dc =  Database_Connection(\"mysql+mysqlconnector://root:YourConnection\") # Format user:password@IP/Database"
   ]
  },
  {
   "cell_type": "code",
   "execution_count": 6,
   "metadata": {},
   "outputs": [],
   "source": [
    "entities = {\n",
    "    \"PERSON\": dc.load_entities_from_db(\"nlp_list_person\", [\"name\", \"alternativenames\"], [\"alternativenames\"], \",\", True),\n",
    "    \"OBJECT\": dc.load_entities_from_db(\"nlp_list_obj\", [\"name\", \"alternativenames\"], [\"alternativenames\"], \",\", True),\n",
    "    \"ANIMAL\": dc.load_entities_from_db(\"nlp_list_animal\", [\"name\", \"alternativenames\"], [\"alternativenames\"], \",\", True),\n",
    "    \"PLANT\": dc.load_entities_from_db(\"nlp_list_plant\", [\"name\", \"alternativenames\"], [\"alternativenames\"], \",\", True)}"
   ]
  },
  {
   "cell_type": "code",
   "execution_count": 7,
   "metadata": {},
   "outputs": [],
   "source": [
    "X_list, y_list = labeling_eng(d, entities)"
   ]
  },
  {
   "cell_type": "code",
   "execution_count": 8,
   "metadata": {},
   "outputs": [],
   "source": [
    "X = pd.DataFrame({\"Design\": X_list, \"y\" : y_list})"
   ]
  },
  {
   "cell_type": "code",
   "execution_count": 9,
   "metadata": {},
   "outputs": [
    {
     "data": {
      "text/plain": [
       "(1029, 2)"
      ]
     },
     "execution_count": 9,
     "metadata": {},
     "output_type": "execute_result"
    }
   ],
   "source": [
    "X.shape"
   ]
  },
  {
   "cell_type": "code",
   "execution_count": 10,
   "metadata": {},
   "outputs": [],
   "source": [
    "X['DesignID'] = X.index"
   ]
  },
  {
   "cell_type": "code",
   "execution_count": 11,
   "metadata": {},
   "outputs": [
    {
     "data": {
      "text/html": [
       "<div>\n",
       "<style scoped>\n",
       "    .dataframe tbody tr th:only-of-type {\n",
       "        vertical-align: middle;\n",
       "    }\n",
       "\n",
       "    .dataframe tbody tr th {\n",
       "        vertical-align: top;\n",
       "    }\n",
       "\n",
       "    .dataframe thead th {\n",
       "        text-align: right;\n",
       "    }\n",
       "</style>\n",
       "<table border=\"1\" class=\"dataframe\">\n",
       "  <thead>\n",
       "    <tr style=\"text-align: right;\">\n",
       "      <th></th>\n",
       "      <th>Design</th>\n",
       "      <th>y</th>\n",
       "      <th>DesignID</th>\n",
       "    </tr>\n",
       "  </thead>\n",
       "  <tbody>\n",
       "    <tr>\n",
       "      <th>0</th>\n",
       "      <td>Amphora with ribbed surface and crooked handle...</td>\n",
       "      <td>[(Amphora, OBJECT, holding, poppy, PLANT), (Am...</td>\n",
       "      <td>0</td>\n",
       "    </tr>\n",
       "    <tr>\n",
       "      <th>1</th>\n",
       "      <td>Half-nude Aphrodite standing facing, head left...</td>\n",
       "      <td>[(Aphrodite, PERSON, holding, apple, PLANT)]</td>\n",
       "      <td>1</td>\n",
       "    </tr>\n",
       "    <tr>\n",
       "      <th>2</th>\n",
       "      <td>Nude Aphrodite standing facing, head right, co...</td>\n",
       "      <td>[(Eros, PERSON, seated_on, dolphin, ANIMAL)]</td>\n",
       "      <td>2</td>\n",
       "    </tr>\n",
       "    <tr>\n",
       "      <th>3</th>\n",
       "      <td>Nude Apollo standing facing, head left, left l...</td>\n",
       "      <td>[(Apollo, PERSON, holding, patera, OBJECT), (s...</td>\n",
       "      <td>3</td>\n",
       "    </tr>\n",
       "    <tr>\n",
       "      <th>4</th>\n",
       "      <td>Artemis advancing right, wearing short flutter...</td>\n",
       "      <td>[(Artemis, PERSON, wearing, chiton, OBJECT), (...</td>\n",
       "      <td>4</td>\n",
       "    </tr>\n",
       "  </tbody>\n",
       "</table>\n",
       "</div>"
      ],
      "text/plain": [
       "                                              Design  \\\n",
       "0  Amphora with ribbed surface and crooked handle...   \n",
       "1  Half-nude Aphrodite standing facing, head left...   \n",
       "2  Nude Aphrodite standing facing, head right, co...   \n",
       "3  Nude Apollo standing facing, head left, left l...   \n",
       "4  Artemis advancing right, wearing short flutter...   \n",
       "\n",
       "                                                   y  DesignID  \n",
       "0  [(Amphora, OBJECT, holding, poppy, PLANT), (Am...         0  \n",
       "1       [(Aphrodite, PERSON, holding, apple, PLANT)]         1  \n",
       "2       [(Eros, PERSON, seated_on, dolphin, ANIMAL)]         2  \n",
       "3  [(Apollo, PERSON, holding, patera, OBJECT), (s...         3  \n",
       "4  [(Artemis, PERSON, wearing, chiton, OBJECT), (...         4  "
      ]
     },
     "execution_count": 11,
     "metadata": {},
     "output_type": "execute_result"
    }
   ],
   "source": [
    "X.head(5)"
   ]
  },
  {
   "cell_type": "markdown",
   "metadata": {},
   "source": [
    "### Train the RE model"
   ]
  },
  {
   "cell_type": "code",
   "execution_count": 12,
   "metadata": {},
   "outputs": [],
   "source": [
    "classifier = LogisticRegression(max_iter=1000)\n",
    "string_converter = Path2Str(pos=True) \n",
    "vectorizer = CountVectorizer(ngram_range=(1,3))\n",
    "feature = make_pipeline(string_converter, vectorizer)"
   ]
  },
  {
   "cell_type": "code",
   "execution_count": 13,
   "metadata": {},
   "outputs": [],
   "source": [
    "X_train, X_test, y_train, y_test = train_test_split(X[[\"DesignID\", \"Design\"]], X[[\"DesignID\", \"y\"]], test_size=0.25, random_state=33)"
   ]
  },
  {
   "cell_type": "markdown",
   "metadata": {},
   "source": [
    "#### load pretrained NER-Model"
   ]
  },
  {
   "cell_type": "code",
   "execution_count": 17,
   "metadata": {},
   "outputs": [],
   "source": [
    "ner_model_directory = \"../cnt/trained_model/ner/english/\"\n",
    "ner_model_name = \"english_cno\""
   ]
  },
  {
   "cell_type": "markdown",
   "metadata": {},
   "source": [
    "#### define RE-Model path"
   ]
  },
  {
   "cell_type": "code",
   "execution_count": 18,
   "metadata": {},
   "outputs": [],
   "source": [
    "re_model_directory = \"../cnt/trained_model/re/\"\n",
    "re_model_name = \"english_cno\""
   ]
  },
  {
   "cell_type": "code",
   "execution_count": 19,
   "metadata": {},
   "outputs": [
    {
     "data": {
      "text/plain": [
       "Pipeline(steps=[('nertransformer',\n",
       "                 NERTransformer(model_dir='../cnt/trained_model/ner/english/',\n",
       "                                model_name='english_cno')),\n",
       "                ('featureextractor', FeatureExtractor()),\n",
       "                ('relationextractor',\n",
       "                 RelationExtractor(model_name='english_cno',\n",
       "                                   output_dir='../cnt/trained_model/re/',\n",
       "                                   pipeline=Pipeline(steps=[('pipeline',\n",
       "                                                             Pipeline(steps=[('path2str',\n",
       "                                                                              Path2Str(pos=True)),\n",
       "                                                                             ('countvectorizer',\n",
       "                                                                              CountVectorizer(ngram_range=(1,\n",
       "                                                                                                           3)))])),\n",
       "                                                            ('logisticregression',\n",
       "                                                             LogisticRegression(max_iter=1000))])))])"
      ]
     },
     "execution_count": 19,
     "metadata": {},
     "output_type": "execute_result"
    }
   ],
   "source": [
    "inner_pipeline = make_pipeline(feature, classifier)\n",
    "pipeline = make_pipeline(NERTransformer(ner_model_directory, ner_model_name),\n",
    "                         FeatureExtractor(),\n",
    "                         RelationExtractor(inner_pipeline, re_model_directory, re_model_name))\n",
    "pipeline.fit(X_train, y_train)"
   ]
  },
  {
   "cell_type": "markdown",
   "metadata": {},
   "source": [
    "## Save and Load model"
   ]
  },
  {
   "cell_type": "code",
   "execution_count": 20,
   "metadata": {},
   "outputs": [],
   "source": [
    "save_pipeline(pipeline, re_model_directory, re_model_name)"
   ]
  },
  {
   "cell_type": "code",
   "execution_count": 21,
   "metadata": {},
   "outputs": [],
   "source": [
    "model = load_pipeline(re_model_directory, re_model_name)"
   ]
  },
  {
   "cell_type": "markdown",
   "metadata": {},
   "source": [
    "## Predict"
   ]
  },
  {
   "cell_type": "code",
   "execution_count": 22,
   "metadata": {},
   "outputs": [],
   "source": [
    "y_pred = model.predict(X_test)"
   ]
  },
  {
   "cell_type": "code",
   "execution_count": 23,
   "metadata": {},
   "outputs": [],
   "source": [
    "metrics = Metrics()"
   ]
  },
  {
   "cell_type": "code",
   "execution_count": 24,
   "metadata": {},
   "outputs": [],
   "source": [
    "precision, recall = metrics.score_precision_recall(y_test, y_pred)\n",
    "F1 = (2*precision*recall) / (precision + recall)"
   ]
  },
  {
   "cell_type": "code",
   "execution_count": 25,
   "metadata": {},
   "outputs": [
    {
     "name": "stdout",
     "output_type": "stream",
     "text": [
      "Precision 89.31\n",
      "Recall 83.74\n",
      "F1 86.44\n"
     ]
    }
   ],
   "source": [
    "print(\"Precision\", round(precision*100,2))\n",
    "print(\"Recall\", round(recall*100,2))\n",
    "print(\"F1\", round(F1*100,2))"
   ]
  },
  {
   "cell_type": "markdown",
   "metadata": {},
   "source": [
    "## Prediction dataframe"
   ]
  },
  {
   "cell_type": "code",
   "execution_count": 26,
   "metadata": {},
   "outputs": [],
   "source": [
    "pre_df = X_test.merge(y_pred, left_on=\"DesignID\", right_on =\"DesignID\")"
   ]
  },
  {
   "cell_type": "code",
   "execution_count": 27,
   "metadata": {},
   "outputs": [
    {
     "data": {
      "text/html": [
       "<div>\n",
       "<style scoped>\n",
       "    .dataframe tbody tr th:only-of-type {\n",
       "        vertical-align: middle;\n",
       "    }\n",
       "\n",
       "    .dataframe tbody tr th {\n",
       "        vertical-align: top;\n",
       "    }\n",
       "\n",
       "    .dataframe thead th {\n",
       "        text-align: right;\n",
       "    }\n",
       "</style>\n",
       "<table border=\"1\" class=\"dataframe\">\n",
       "  <thead>\n",
       "    <tr style=\"text-align: right;\">\n",
       "      <th></th>\n",
       "      <th>DesignID</th>\n",
       "      <th>Design</th>\n",
       "      <th>y</th>\n",
       "    </tr>\n",
       "  </thead>\n",
       "  <tbody>\n",
       "    <tr>\n",
       "      <th>0</th>\n",
       "      <td>948</td>\n",
       "      <td>Tyche standing facing, head left, wearing kala...</td>\n",
       "      <td>[(Tyche, PERSON, wearing, kalathos, OBJECT), (...</td>\n",
       "    </tr>\n",
       "    <tr>\n",
       "      <th>1</th>\n",
       "      <td>779</td>\n",
       "      <td>Apollo standing left, holding plectrum and lyre.</td>\n",
       "      <td>[(Apollo, PERSON, holding, plectrum, OBJECT), ...</td>\n",
       "    </tr>\n",
       "    <tr>\n",
       "      <th>2</th>\n",
       "      <td>241</td>\n",
       "      <td>Turreted Cybele seated, head right, on lion ju...</td>\n",
       "      <td>[(Cybele, PERSON, seated_on, lion, ANIMAL), (C...</td>\n",
       "    </tr>\n",
       "    <tr>\n",
       "      <th>3</th>\n",
       "      <td>347</td>\n",
       "      <td>Heracles kneeling right, wearing lion skin, dr...</td>\n",
       "      <td>[(Heracles, PERSON, wearing, lion skin, OBJECT)]</td>\n",
       "    </tr>\n",
       "    <tr>\n",
       "      <th>4</th>\n",
       "      <td>388</td>\n",
       "      <td>Nude Apollo standing left, holding patera in o...</td>\n",
       "      <td>[(Apollo, PERSON, holding, patera, OBJECT)]</td>\n",
       "    </tr>\n",
       "    <tr>\n",
       "      <th>...</th>\n",
       "      <td>...</td>\n",
       "      <td>...</td>\n",
       "      <td>...</td>\n",
       "    </tr>\n",
       "    <tr>\n",
       "      <th>253</th>\n",
       "      <td>781</td>\n",
       "      <td>Hygieia wearing double chiton standing facing,...</td>\n",
       "      <td>[(Hygieia, PERSON, feeding, serpent, ANIMAL)]</td>\n",
       "    </tr>\n",
       "    <tr>\n",
       "      <th>254</th>\n",
       "      <td>37</td>\n",
       "      <td>Demeter standing facing, head left, holding ea...</td>\n",
       "      <td>[(Demeter, PERSON, holding, ears of corn, PLAN...</td>\n",
       "    </tr>\n",
       "    <tr>\n",
       "      <th>255</th>\n",
       "      <td>437</td>\n",
       "      <td>Laureate bust of Caracalla, left, wearing cuir...</td>\n",
       "      <td>[(Caracalla, PERSON, wearing, cuirass, OBJECT)...</td>\n",
       "    </tr>\n",
       "    <tr>\n",
       "      <th>256</th>\n",
       "      <td>271</td>\n",
       "      <td>Lion crouching left, breaking spear in jaws; u...</td>\n",
       "      <td>[(Lion, ANIMAL, breaking, spear, OBJECT)]</td>\n",
       "    </tr>\n",
       "    <tr>\n",
       "      <th>257</th>\n",
       "      <td>802</td>\n",
       "      <td>Eagle standing right on base, head left, with ...</td>\n",
       "      <td>[(Eagle, ANIMAL, holding, laurel wreath, OBJECT)]</td>\n",
       "    </tr>\n",
       "  </tbody>\n",
       "</table>\n",
       "<p>258 rows × 3 columns</p>\n",
       "</div>"
      ],
      "text/plain": [
       "     DesignID                                             Design  \\\n",
       "0         948  Tyche standing facing, head left, wearing kala...   \n",
       "1         779   Apollo standing left, holding plectrum and lyre.   \n",
       "2         241  Turreted Cybele seated, head right, on lion ju...   \n",
       "3         347  Heracles kneeling right, wearing lion skin, dr...   \n",
       "4         388  Nude Apollo standing left, holding patera in o...   \n",
       "..        ...                                                ...   \n",
       "253       781  Hygieia wearing double chiton standing facing,...   \n",
       "254        37  Demeter standing facing, head left, holding ea...   \n",
       "255       437  Laureate bust of Caracalla, left, wearing cuir...   \n",
       "256       271  Lion crouching left, breaking spear in jaws; u...   \n",
       "257       802  Eagle standing right on base, head left, with ...   \n",
       "\n",
       "                                                     y  \n",
       "0    [(Tyche, PERSON, wearing, kalathos, OBJECT), (...  \n",
       "1    [(Apollo, PERSON, holding, plectrum, OBJECT), ...  \n",
       "2    [(Cybele, PERSON, seated_on, lion, ANIMAL), (C...  \n",
       "3     [(Heracles, PERSON, wearing, lion skin, OBJECT)]  \n",
       "4          [(Apollo, PERSON, holding, patera, OBJECT)]  \n",
       "..                                                 ...  \n",
       "253      [(Hygieia, PERSON, feeding, serpent, ANIMAL)]  \n",
       "254  [(Demeter, PERSON, holding, ears of corn, PLAN...  \n",
       "255  [(Caracalla, PERSON, wearing, cuirass, OBJECT)...  \n",
       "256          [(Lion, ANIMAL, breaking, spear, OBJECT)]  \n",
       "257  [(Eagle, ANIMAL, holding, laurel wreath, OBJECT)]  \n",
       "\n",
       "[258 rows x 3 columns]"
      ]
     },
     "execution_count": 27,
     "metadata": {},
     "output_type": "execute_result"
    }
   ],
   "source": [
    "pre_df"
   ]
  },
  {
   "cell_type": "markdown",
   "metadata": {
    "tags": []
   },
   "source": [
    "## Upload to mysql"
   ]
  },
  {
   "cell_type": "code",
   "execution_count": 28,
   "metadata": {},
   "outputs": [],
   "source": [
    "upload = False"
   ]
  },
  {
   "cell_type": "code",
   "execution_count": 29,
   "metadata": {},
   "outputs": [],
   "source": [
    "if upload ==True:\n",
    "    dc =  Database_Connection(\"mysql+mysqlconnector://YourConnection\")\n",
    "    cnt_designs = dc.load_designs_from_db(\"designs\", [\"DesignID\", \"DesignEng\"])\n",
    "    cnt_designs.rename(columns={\"DesignEng\":\"Design\"}, inplace=True) # if english\n",
    "    cnt_pred = pipeline.predict(cnt_designs)\n",
    "    cnt_pipeline_output = pd.DataFrame([(str(designid), *relation) for  _, (designid, relation_list) in cnt_pred.iterrows()\n",
    "                    for relation in relation_list],\n",
    "            columns=[\"DesignID\", \"Person\", \"Label_Person\", \"Relation\", \"Object\",\n",
    "                     \"Label_Object\"])\n",
    "    cnt_pipeline_output.to_sql(\"CNO.cnt_pipeline_output\",dc.mysql_connection,if_exists=\"replace\", index=False)"
   ]
  }
 ],
 "metadata": {
  "kernelspec": {
   "display_name": "Python 3 (ipykernel)",
   "language": "python",
   "name": "python3"
  },
  "language_info": {
   "codemirror_mode": {
    "name": "ipython",
    "version": 3
   },
   "file_extension": ".py",
   "mimetype": "text/x-python",
   "name": "python",
   "nbconvert_exporter": "python",
   "pygments_lexer": "ipython3",
   "version": "3.8.12"
  }
 },
 "nbformat": 4,
 "nbformat_minor": 4
}
