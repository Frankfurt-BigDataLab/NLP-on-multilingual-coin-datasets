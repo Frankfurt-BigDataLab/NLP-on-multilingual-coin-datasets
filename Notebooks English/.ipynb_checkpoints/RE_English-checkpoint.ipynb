{
 "cells": [
  {
   "cell_type": "markdown",
   "metadata": {},
   "source": [
    "developed by Patricia Klinger, modified by Sebastian Gampe, Kerim Gencer, Chrisowalandis Deligio"
   ]
  },
  {
   "cell_type": "code",
   "execution_count": 46,
   "metadata": {},
   "outputs": [],
   "source": [
    "import sys\n",
    "sys.path.append('../')\n",
    "import pandas as pd\n",
    "import random\n",
    "import os\n",
    "import numpy as np\n",
    "from cnt.model import (DesignEstimator, RelationExtractor, save_pipeline, load_pipeline, predict_re_single_sentence, \n",
    "relations_from_adjectives_df, relations_from_adjectives_single, concat_relations)\n",
    "from cnt.annotate import (annotate, annotate_single_design, \n",
    "                          annotate_designs, \n",
    "                          extract_string_from_annotation, labeling_eng)\n",
    "from cnt.extract_relation import (path, NERTransformer, FeatureExtractor)\n",
    "from cnt.evaluate import Metrics\n",
    "from cnt.vectorize import (Doc2Str, Path2Str, Verbs2Str, AveragedPath2Vec, \n",
    "                           AveragedRest2Vec)\n",
    "from cnt.io import (replace_left_right)\n",
    "from cnt.io import  Database_Connection\n",
    "from sklearn.model_selection import train_test_split\n",
    "from sklearn.pipeline import Pipeline, make_pipeline, make_union\n",
    "from sklearn.feature_extraction.text import TfidfVectorizer, CountVectorizer\n",
    "from sklearn.svm import SVC\n",
    "from sklearn.linear_model import LogisticRegression\n",
    "from sklearn.ensemble import RandomForestClassifier\n",
    "from sklearn.preprocessing import Normalizer\n",
    "from sklearn.naive_bayes import MultinomialNB\n",
    "from itertools import product\n",
    "import warnings\n",
    "warnings.filterwarnings('ignore')"
   ]
  },
  {
   "cell_type": "markdown",
   "metadata": {
    "tags": []
   },
   "source": [
    "### Define the column names for the id and design column "
   ]
  },
  {
   "cell_type": "code",
   "execution_count": 47,
   "metadata": {},
   "outputs": [],
   "source": [
    "id_col = \"design_id\"\n",
    "design_col = \"design_en\""
   ]
  },
  {
   "cell_type": "code",
   "execution_count": 48,
   "metadata": {
    "tags": []
   },
   "outputs": [],
   "source": [
    "dc =  Database_Connection(\"mysql+mysqlconnector://root:YourConnection\") # Format user:password@IP/Database"
   ]
  },
  {
   "cell_type": "markdown",
   "metadata": {
    "jp-MarkdownHeadingCollapsed": true,
    "tags": []
   },
   "source": [
    "## Old"
   ]
  },
  {
   "cell_type": "markdown",
   "metadata": {},
   "source": [
    "### Load yaml file with annotated data"
   ]
  },
  {
   "cell_type": "code",
   "execution_count": 50,
   "metadata": {},
   "outputs": [],
   "source": [
    "import yaml\n",
    "import_path = \"../data/English_RE_data.yaml\"\n",
    "with open(import_path, encoding='utf8') as f:\n",
    "    dictionary = yaml.safe_load(f)\n",
    "    d = {replace_left_right(key): value for key, value in dictionary.items()}"
   ]
  },
  {
   "cell_type": "code",
   "execution_count": 51,
   "metadata": {},
   "outputs": [
    {
     "data": {
      "text/plain": [
       "[('holding', 1113),\n",
       " ('wearing', 781),\n",
       " ('resting_on', 238),\n",
       " ('seated_on', 88),\n",
       " ('grasping', 36),\n",
       " ('standing', 36),\n",
       " ('crowning', 14),\n",
       " ('feeding', 10),\n",
       " ('coiling', 7),\n",
       " ('breaking', 4),\n",
       " ('pushing', 3),\n",
       " ('flying_over', 2),\n",
       " ('receiving', 2),\n",
       " ('escorted_by', 1)]"
      ]
     },
     "execution_count": 51,
     "metadata": {},
     "output_type": "execute_result"
    }
   ],
   "source": [
    "relation_counts = {}\n",
    "labels = []\n",
    "for sentence, relations in d.items():\n",
    "    for rel in relations:\n",
    "        rel_name = rel[1]\n",
    "        if rel_name not in relation_counts:\n",
    "            relation_counts[rel_name] = 1\n",
    "        else:\n",
    "            relation_counts[rel_name] += 1\n",
    "\n",
    "sorted(relation_counts.items(), key= lambda x: (-x[1], x[0]))"
   ]
  },
  {
   "cell_type": "markdown",
   "metadata": {
    "jp-MarkdownHeadingCollapsed": true,
    "tags": []
   },
   "source": [
    "## Old"
   ]
  },
  {
   "cell_type": "code",
   "execution_count": 52,
   "metadata": {
    "tags": []
   },
   "outputs": [],
   "source": [
    "language = \"_en\"\n",
    "add_columns = [\"id\", \"name\"+language, \"alternativenames\"+language]"
   ]
  },
  {
   "cell_type": "code",
   "execution_count": 53,
   "metadata": {},
   "outputs": [],
   "source": [
    "entities = {\n",
    "    \"PERSON\": dc.load_entities_from_db(\"nlp_list_person\", [\"name\", \"alternativenames\"], [\"alternativenames\"], \",\", True),\n",
    "    \"OBJECT\": dc.load_entities_from_db(\"nlp_list_obj\", add_columns, [add_columns[1]], \",\", True),\n",
    "    \"ANIMAL\": dc.load_entities_from_db(\"nlp_list_animal\", add_columns, [add_columns[1]], \",\", True),\n",
    "    \"PLANT\": dc.load_entities_from_db(\"nlp_list_plant\", add_columns, [add_columns[1]], \",\", True)}"
   ]
  },
  {
   "cell_type": "code",
   "execution_count": 54,
   "metadata": {
    "tags": []
   },
   "outputs": [],
   "source": [
    "X_list, y_list = labeling_eng(d, entities)"
   ]
  },
  {
   "cell_type": "code",
   "execution_count": 55,
   "metadata": {
    "tags": []
   },
   "outputs": [],
   "source": [
    "X = pd.DataFrame({design_col: X_list, \"y\" : y_list})"
   ]
  },
  {
   "cell_type": "code",
   "execution_count": 56,
   "metadata": {
    "tags": []
   },
   "outputs": [
    {
     "data": {
      "text/plain": [
       "(1029, 2)"
      ]
     },
     "execution_count": 56,
     "metadata": {},
     "output_type": "execute_result"
    }
   ],
   "source": [
    "X.shape"
   ]
  },
  {
   "cell_type": "code",
   "execution_count": 57,
   "metadata": {
    "tags": []
   },
   "outputs": [],
   "source": [
    "X[id_col] = X.index"
   ]
  },
  {
   "cell_type": "markdown",
   "metadata": {},
   "source": [
    "## New"
   ]
  },
  {
   "cell_type": "code",
   "execution_count": 58,
   "metadata": {},
   "outputs": [],
   "source": [
    "train = dc.create_own_query(\"\"\"select design_id, \n",
    "(select design_en from nlp_training_designs as nlp where re.design_id=nlp.id) as design_en,\n",
    "subject_str as s, \n",
    "(select class from nlp_list_entities as ner where ner.id=re.subject) as subject_class, \n",
    "predicate_str as p, \n",
    "object_str as o, \n",
    "(select class from nlp_list_entities as ner where ner.id=re.object) as object_class\n",
    "from nlp_relation_extraction_en_v2 as re;\"\"\")"
   ]
  },
  {
   "cell_type": "code",
   "execution_count": 59,
   "metadata": {},
   "outputs": [
    {
     "data": {
      "text/html": [
       "<div>\n",
       "<style scoped>\n",
       "    .dataframe tbody tr th:only-of-type {\n",
       "        vertical-align: middle;\n",
       "    }\n",
       "\n",
       "    .dataframe tbody tr th {\n",
       "        vertical-align: top;\n",
       "    }\n",
       "\n",
       "    .dataframe thead th {\n",
       "        text-align: right;\n",
       "    }\n",
       "</style>\n",
       "<table border=\"1\" class=\"dataframe\">\n",
       "  <thead>\n",
       "    <tr style=\"text-align: right;\">\n",
       "      <th></th>\n",
       "      <th>design_id</th>\n",
       "      <th>design_en</th>\n",
       "      <th>s</th>\n",
       "      <th>subject_class</th>\n",
       "      <th>p</th>\n",
       "      <th>o</th>\n",
       "      <th>object_class</th>\n",
       "    </tr>\n",
       "  </thead>\n",
       "  <tbody>\n",
       "    <tr>\n",
       "      <th>0</th>\n",
       "      <td>9</td>\n",
       "      <td>Amphora with ribbed surface and crooked handle...</td>\n",
       "      <td>Amphora</td>\n",
       "      <td>OBJECT</td>\n",
       "      <td>holding</td>\n",
       "      <td>poppy</td>\n",
       "      <td>PLANT</td>\n",
       "    </tr>\n",
       "    <tr>\n",
       "      <th>1</th>\n",
       "      <td>33</td>\n",
       "      <td>Half-nude Aphrodite standing facing, head left...</td>\n",
       "      <td>Aphrodite</td>\n",
       "      <td>PERSON</td>\n",
       "      <td>holding</td>\n",
       "      <td>apple</td>\n",
       "      <td>PLANT</td>\n",
       "    </tr>\n",
       "    <tr>\n",
       "      <th>2</th>\n",
       "      <td>36</td>\n",
       "      <td>Nude Aphrodite standing facing, head right, co...</td>\n",
       "      <td>Eros</td>\n",
       "      <td>PERSON</td>\n",
       "      <td>seated_on</td>\n",
       "      <td>dolphin</td>\n",
       "      <td>ANIMAL</td>\n",
       "    </tr>\n",
       "    <tr>\n",
       "      <th>3</th>\n",
       "      <td>85</td>\n",
       "      <td>Nude Apollo standing facing, head left, left l...</td>\n",
       "      <td>Apollo</td>\n",
       "      <td>PERSON</td>\n",
       "      <td>holding</td>\n",
       "      <td>patera</td>\n",
       "      <td>OBJECT</td>\n",
       "    </tr>\n",
       "    <tr>\n",
       "      <th>4</th>\n",
       "      <td>85</td>\n",
       "      <td>Nude Apollo standing facing, head left, left l...</td>\n",
       "      <td>serpent</td>\n",
       "      <td>OBJECT</td>\n",
       "      <td>coiling</td>\n",
       "      <td>omphalos</td>\n",
       "      <td>OBJECT</td>\n",
       "    </tr>\n",
       "  </tbody>\n",
       "</table>\n",
       "</div>"
      ],
      "text/plain": [
       "   design_id                                          design_en          s  \\\n",
       "0          9  Amphora with ribbed surface and crooked handle...    Amphora   \n",
       "1         33  Half-nude Aphrodite standing facing, head left...  Aphrodite   \n",
       "2         36  Nude Aphrodite standing facing, head right, co...       Eros   \n",
       "3         85  Nude Apollo standing facing, head left, left l...     Apollo   \n",
       "4         85  Nude Apollo standing facing, head left, left l...    serpent   \n",
       "\n",
       "  subject_class          p         o object_class  \n",
       "0        OBJECT    holding     poppy        PLANT  \n",
       "1        PERSON    holding     apple        PLANT  \n",
       "2        PERSON  seated_on   dolphin       ANIMAL  \n",
       "3        PERSON    holding    patera       OBJECT  \n",
       "4        OBJECT    coiling  omphalos       OBJECT  "
      ]
     },
     "execution_count": 59,
     "metadata": {},
     "output_type": "execute_result"
    }
   ],
   "source": [
    "train.head(5)"
   ]
  },
  {
   "cell_type": "code",
   "execution_count": 60,
   "metadata": {},
   "outputs": [
    {
     "data": {
      "text/plain": [
       "holding        1009\n",
       "wearing         805\n",
       "resting_on      253\n",
       "seated_on       130\n",
       "receiving        41\n",
       "standing         33\n",
       "grasping         32\n",
       "feeding          30\n",
       "crowning         10\n",
       "coiling           7\n",
       "breaking          4\n",
       "flying_over       2\n",
       "escorted_by       1\n",
       "Name: p, dtype: int64"
      ]
     },
     "execution_count": 60,
     "metadata": {},
     "output_type": "execute_result"
    }
   ],
   "source": [
    "train.p.value_counts()"
   ]
  },
  {
   "cell_type": "code",
   "execution_count": 61,
   "metadata": {},
   "outputs": [],
   "source": [
    "train[\"y\"] = train.apply(lambda row: [(row.s, row.subject_class, row.p, row.o, row.object_class)], axis=1)"
   ]
  },
  {
   "cell_type": "code",
   "execution_count": 62,
   "metadata": {},
   "outputs": [
    {
     "data": {
      "text/html": [
       "<div>\n",
       "<style scoped>\n",
       "    .dataframe tbody tr th:only-of-type {\n",
       "        vertical-align: middle;\n",
       "    }\n",
       "\n",
       "    .dataframe tbody tr th {\n",
       "        vertical-align: top;\n",
       "    }\n",
       "\n",
       "    .dataframe thead th {\n",
       "        text-align: right;\n",
       "    }\n",
       "</style>\n",
       "<table border=\"1\" class=\"dataframe\">\n",
       "  <thead>\n",
       "    <tr style=\"text-align: right;\">\n",
       "      <th></th>\n",
       "      <th>design_id</th>\n",
       "      <th>design_en</th>\n",
       "      <th>s</th>\n",
       "      <th>subject_class</th>\n",
       "      <th>p</th>\n",
       "      <th>o</th>\n",
       "      <th>object_class</th>\n",
       "      <th>y</th>\n",
       "    </tr>\n",
       "  </thead>\n",
       "  <tbody>\n",
       "    <tr>\n",
       "      <th>0</th>\n",
       "      <td>9</td>\n",
       "      <td>Amphora with ribbed surface and crooked handle...</td>\n",
       "      <td>Amphora</td>\n",
       "      <td>OBJECT</td>\n",
       "      <td>holding</td>\n",
       "      <td>poppy</td>\n",
       "      <td>PLANT</td>\n",
       "      <td>[(Amphora, OBJECT, holding, poppy, PLANT)]</td>\n",
       "    </tr>\n",
       "    <tr>\n",
       "      <th>1</th>\n",
       "      <td>33</td>\n",
       "      <td>Half-nude Aphrodite standing facing, head left...</td>\n",
       "      <td>Aphrodite</td>\n",
       "      <td>PERSON</td>\n",
       "      <td>holding</td>\n",
       "      <td>apple</td>\n",
       "      <td>PLANT</td>\n",
       "      <td>[(Aphrodite, PERSON, holding, apple, PLANT)]</td>\n",
       "    </tr>\n",
       "  </tbody>\n",
       "</table>\n",
       "</div>"
      ],
      "text/plain": [
       "   design_id                                          design_en          s  \\\n",
       "0          9  Amphora with ribbed surface and crooked handle...    Amphora   \n",
       "1         33  Half-nude Aphrodite standing facing, head left...  Aphrodite   \n",
       "\n",
       "  subject_class        p      o object_class  \\\n",
       "0        OBJECT  holding  poppy        PLANT   \n",
       "1        PERSON  holding  apple        PLANT   \n",
       "\n",
       "                                              y  \n",
       "0    [(Amphora, OBJECT, holding, poppy, PLANT)]  \n",
       "1  [(Aphrodite, PERSON, holding, apple, PLANT)]  "
      ]
     },
     "execution_count": 62,
     "metadata": {},
     "output_type": "execute_result"
    }
   ],
   "source": [
    "train.head(2)"
   ]
  },
  {
   "cell_type": "code",
   "execution_count": 63,
   "metadata": {},
   "outputs": [],
   "source": [
    "tmp = train.groupby(\"design_id\").agg({\"y\": \"sum\"})"
   ]
  },
  {
   "cell_type": "code",
   "execution_count": 64,
   "metadata": {},
   "outputs": [
    {
     "data": {
      "text/html": [
       "<style type=\"text/css\">\n",
       "</style>\n",
       "<table id=\"T_eaf81\">\n",
       "  <thead>\n",
       "    <tr>\n",
       "      <th class=\"blank level0\" >&nbsp;</th>\n",
       "      <th id=\"T_eaf81_level0_col0\" class=\"col_heading level0 col0\" >y</th>\n",
       "    </tr>\n",
       "    <tr>\n",
       "      <th class=\"index_name level0\" >design_id</th>\n",
       "      <th class=\"blank col0\" >&nbsp;</th>\n",
       "    </tr>\n",
       "  </thead>\n",
       "  <tbody>\n",
       "    <tr>\n",
       "      <th id=\"T_eaf81_level0_row0\" class=\"row_heading level0 row0\" >1706</th>\n",
       "      <td id=\"T_eaf81_row0_col0\" class=\"data row0 col0\" >[('Caracalla', 'PERSON', 'wearing', 'toga', 'OBJECT'), ('Caracalla', 'PERSON', 'holding', 'scroll', 'OBJECT'), ('Geta', 'PERSON', 'wearing', 'toga', 'OBJECT'), ('Geta', 'PERSON', 'holding', 'scroll', 'OBJECT')]</td>\n",
       "    </tr>\n",
       "  </tbody>\n",
       "</table>\n"
      ],
      "text/plain": [
       "<pandas.io.formats.style.Styler at 0x7f22212cfdc0>"
      ]
     },
     "execution_count": 64,
     "metadata": {},
     "output_type": "execute_result"
    }
   ],
   "source": [
    "tmp.loc[tmp.index==1706].style"
   ]
  },
  {
   "cell_type": "code",
   "execution_count": 65,
   "metadata": {},
   "outputs": [],
   "source": [
    "X = train.drop_duplicates(\"design_id\",keep=\"first\")"
   ]
  },
  {
   "cell_type": "code",
   "execution_count": 66,
   "metadata": {},
   "outputs": [],
   "source": [
    "X = X.merge(tmp, left_on=\"design_id\", right_on=\"design_id\", suffixes=('', 'y'))"
   ]
  },
  {
   "cell_type": "code",
   "execution_count": 67,
   "metadata": {},
   "outputs": [],
   "source": [
    "X = X[[\"design_id\", \"design_en\", \"yy\"]].rename(columns={\"yy\":\"y\"})"
   ]
  },
  {
   "cell_type": "code",
   "execution_count": 68,
   "metadata": {},
   "outputs": [],
   "source": [
    "X[\"design_en_changed\"] = \"\""
   ]
  },
  {
   "cell_type": "code",
   "execution_count": 69,
   "metadata": {},
   "outputs": [
    {
     "data": {
      "text/plain": [
       "(1297, 4)"
      ]
     },
     "execution_count": 69,
     "metadata": {},
     "output_type": "execute_result"
    }
   ],
   "source": [
    "X.shape"
   ]
  },
  {
   "cell_type": "raw",
   "metadata": {
    "jupyter": {
     "source_hidden": true
    },
    "tags": []
   },
   "source": [
    "def get_id(design):\n",
    "    try:\n",
    "        return dc.create_own_query(\"select id from nlp_training_designs where design_en='\"+design+\"';\").id.item()\n",
    "    except:\n",
    "        return \"Null\""
   ]
  },
  {
   "cell_type": "raw",
   "metadata": {
    "jupyter": {
     "source_hidden": true
    },
    "tags": []
   },
   "source": [
    "%%capture\n",
    "X[\"db_id\"] = X.apply(lambda row: get_id(row.design_en), axis=1)"
   ]
  },
  {
   "cell_type": "raw",
   "metadata": {
    "jupyter": {
     "source_hidden": true
    },
    "tags": []
   },
   "source": [
    "X.shape"
   ]
  },
  {
   "cell_type": "code",
   "execution_count": 70,
   "metadata": {},
   "outputs": [
    {
     "data": {
      "text/html": [
       "<style type=\"text/css\">\n",
       "</style>\n",
       "<table id=\"T_eca08\">\n",
       "  <thead>\n",
       "    <tr>\n",
       "      <th class=\"blank level0\" >&nbsp;</th>\n",
       "      <th id=\"T_eca08_level0_col0\" class=\"col_heading level0 col0\" >design_id</th>\n",
       "      <th id=\"T_eca08_level0_col1\" class=\"col_heading level0 col1\" >design_en</th>\n",
       "      <th id=\"T_eca08_level0_col2\" class=\"col_heading level0 col2\" >y</th>\n",
       "      <th id=\"T_eca08_level0_col3\" class=\"col_heading level0 col3\" >design_en_changed</th>\n",
       "    </tr>\n",
       "  </thead>\n",
       "  <tbody>\n",
       "    <tr>\n",
       "      <th id=\"T_eca08_level0_row0\" class=\"row_heading level0 row0\" >0</th>\n",
       "      <td id=\"T_eca08_row0_col0\" class=\"data row0 col0\" >9</td>\n",
       "      <td id=\"T_eca08_row0_col1\" class=\"data row0 col1\" >Amphora with ribbed surface and crooked handles containing two ears of corn and poppy.</td>\n",
       "      <td id=\"T_eca08_row0_col2\" class=\"data row0 col2\" >[('Amphora', 'OBJECT', 'holding', 'poppy', 'PLANT')]</td>\n",
       "      <td id=\"T_eca08_row0_col3\" class=\"data row0 col3\" ></td>\n",
       "    </tr>\n",
       "    <tr>\n",
       "      <th id=\"T_eca08_level0_row1\" class=\"row_heading level0 row1\" >1</th>\n",
       "      <td id=\"T_eca08_row1_col0\" class=\"data row1 col0\" >33</td>\n",
       "      <td id=\"T_eca08_row1_col1\" class=\"data row1 col1\" >Half-nude Aphrodite standing facing, head left, holding apple in raised right hand.</td>\n",
       "      <td id=\"T_eca08_row1_col2\" class=\"data row1 col2\" >[('Aphrodite', 'PERSON', 'holding', 'apple', 'PLANT')]</td>\n",
       "      <td id=\"T_eca08_row1_col3\" class=\"data row1 col3\" ></td>\n",
       "    </tr>\n",
       "    <tr>\n",
       "      <th id=\"T_eca08_level0_row2\" class=\"row_heading level0 row2\" >2</th>\n",
       "      <td id=\"T_eca08_row2_col0\" class=\"data row2 col0\" >36</td>\n",
       "      <td id=\"T_eca08_row2_col1\" class=\"data row2 col1\" >Nude Aphrodite standing facing, head right, covering her breasts with right hand and pudenda with left hand; to left, Eros, riding a dolphin downwards.</td>\n",
       "      <td id=\"T_eca08_row2_col2\" class=\"data row2 col2\" >[('Eros', 'PERSON', 'seated_on', 'dolphin', 'ANIMAL')]</td>\n",
       "      <td id=\"T_eca08_row2_col3\" class=\"data row2 col3\" ></td>\n",
       "    </tr>\n",
       "    <tr>\n",
       "      <th id=\"T_eca08_level0_row3\" class=\"row_heading level0 row3\" >3</th>\n",
       "      <td id=\"T_eca08_row3_col0\" class=\"data row3 col0\" >85</td>\n",
       "      <td id=\"T_eca08_row3_col1\" class=\"data row3 col1\" >Nude Apollo standing facing, head left, left leg crossed over right, holding patera in outstretched right hand, left hand over serpent coiling around omphalos at his feet to right. Border of dots.</td>\n",
       "      <td id=\"T_eca08_row3_col2\" class=\"data row3 col2\" >[('Apollo', 'PERSON', 'holding', 'patera', 'OBJECT'), ('serpent', 'OBJECT', 'coiling', 'omphalos', 'OBJECT')]</td>\n",
       "      <td id=\"T_eca08_row3_col3\" class=\"data row3 col3\" ></td>\n",
       "    </tr>\n",
       "    <tr>\n",
       "      <th id=\"T_eca08_level0_row4\" class=\"row_heading level0 row4\" >4</th>\n",
       "      <td id=\"T_eca08_row4_col0\" class=\"data row4 col0\" >104</td>\n",
       "      <td id=\"T_eca08_row4_col1\" class=\"data row4 col1\" >Artemis advancing right, wearing short fluttering chiton and boots, holding bow in left hand and drawing arrow from quiver at shoulder with right hand; at her feet, hound running right.</td>\n",
       "      <td id=\"T_eca08_row4_col2\" class=\"data row4 col2\" >[('Artemis', 'PERSON', 'wearing', 'chiton', 'OBJECT'), ('Artemis', 'PERSON', 'wearing', 'boots', 'OBJECT'), ('Artemis', 'PERSON', 'holding', 'bow', 'OBJECT'), ('Artemis', 'PERSON', 'holding', 'arrow', 'OBJECT')]</td>\n",
       "      <td id=\"T_eca08_row4_col3\" class=\"data row4 col3\" ></td>\n",
       "    </tr>\n",
       "  </tbody>\n",
       "</table>\n"
      ],
      "text/plain": [
       "<pandas.io.formats.style.Styler at 0x7f222134e580>"
      ]
     },
     "execution_count": 70,
     "metadata": {},
     "output_type": "execute_result"
    }
   ],
   "source": [
    "X.head(5).style"
   ]
  },
  {
   "cell_type": "code",
   "execution_count": 71,
   "metadata": {},
   "outputs": [
    {
     "data": {
      "text/html": [
       "<style type=\"text/css\">\n",
       "</style>\n",
       "<table id=\"T_f95f2\">\n",
       "  <thead>\n",
       "    <tr>\n",
       "      <th class=\"blank level0\" >&nbsp;</th>\n",
       "      <th id=\"T_f95f2_level0_col0\" class=\"col_heading level0 col0\" >design_id</th>\n",
       "      <th id=\"T_f95f2_level0_col1\" class=\"col_heading level0 col1\" >design_en</th>\n",
       "      <th id=\"T_f95f2_level0_col2\" class=\"col_heading level0 col2\" >y</th>\n",
       "      <th id=\"T_f95f2_level0_col3\" class=\"col_heading level0 col3\" >design_en_changed</th>\n",
       "    </tr>\n",
       "  </thead>\n",
       "  <tbody>\n",
       "    <tr>\n",
       "      <th id=\"T_f95f2_level0_row0\" class=\"row_heading level0 row0\" >1292</th>\n",
       "      <td id=\"T_f95f2_row0_col0\" class=\"data row0 col0\" >27814</td>\n",
       "      <td id=\"T_f95f2_row0_col1\" class=\"data row0 col1\" >Seleucus I wearing crown juwel.</td>\n",
       "      <td id=\"T_f95f2_row0_col2\" class=\"data row0 col2\" >[('Seleucus I', 'PERSON', 'wearing', 'crown juwel', 'OBJECT')]</td>\n",
       "      <td id=\"T_f95f2_row0_col3\" class=\"data row0 col3\" ></td>\n",
       "    </tr>\n",
       "    <tr>\n",
       "      <th id=\"T_f95f2_level0_row1\" class=\"row_heading level0 row1\" >1293</th>\n",
       "      <td id=\"T_f95f2_row1_col0\" class=\"data row1 col0\" >27815</td>\n",
       "      <td id=\"T_f95f2_row1_col1\" class=\"data row1 col1\" >Athena seated on dolphin.</td>\n",
       "      <td id=\"T_f95f2_row1_col2\" class=\"data row1 col2\" >[('Athena', 'PERSON', 'seated_on', 'dolphin', 'ANIMAL')]</td>\n",
       "      <td id=\"T_f95f2_row1_col3\" class=\"data row1 col3\" ></td>\n",
       "    </tr>\n",
       "    <tr>\n",
       "      <th id=\"T_f95f2_level0_row2\" class=\"row_heading level0 row2\" >1294</th>\n",
       "      <td id=\"T_f95f2_row2_col0\" class=\"data row2 col0\" >27816</td>\n",
       "      <td id=\"T_f95f2_row2_col1\" class=\"data row2 col1\" >Rhoemetalces I holding paludamentum.</td>\n",
       "      <td id=\"T_f95f2_row2_col2\" class=\"data row2 col2\" >[('Rhoemetalces I', 'PERSON', 'holding', 'paludamentum', 'OBJECT')]</td>\n",
       "      <td id=\"T_f95f2_row2_col3\" class=\"data row2 col3\" ></td>\n",
       "    </tr>\n",
       "    <tr>\n",
       "      <th id=\"T_f95f2_level0_row3\" class=\"row_heading level0 row3\" >1295</th>\n",
       "      <td id=\"T_f95f2_row3_col0\" class=\"data row3 col0\" >27817</td>\n",
       "      <td id=\"T_f95f2_row3_col1\" class=\"data row3 col1\" >Equitas seated on bull.</td>\n",
       "      <td id=\"T_f95f2_row3_col2\" class=\"data row3 col2\" >[('Equitas', 'PERSON', 'seated_on', 'bull', 'ANIMAL')]</td>\n",
       "      <td id=\"T_f95f2_row3_col3\" class=\"data row3 col3\" ></td>\n",
       "    </tr>\n",
       "    <tr>\n",
       "      <th id=\"T_f95f2_level0_row4\" class=\"row_heading level0 row4\" >1296</th>\n",
       "      <td id=\"T_f95f2_row4_col0\" class=\"data row4 col0\" >27818</td>\n",
       "      <td id=\"T_f95f2_row4_col1\" class=\"data row4 col1\" >Nike holding sword.</td>\n",
       "      <td id=\"T_f95f2_row4_col2\" class=\"data row4 col2\" >[('Nike', 'PERSON', 'holding', 'sword', 'OBJECT')]</td>\n",
       "      <td id=\"T_f95f2_row4_col3\" class=\"data row4 col3\" ></td>\n",
       "    </tr>\n",
       "  </tbody>\n",
       "</table>\n"
      ],
      "text/plain": [
       "<pandas.io.formats.style.Styler at 0x7f2221378a00>"
      ]
     },
     "execution_count": 71,
     "metadata": {},
     "output_type": "execute_result"
    }
   ],
   "source": [
    "X.tail(5).style"
   ]
  },
  {
   "cell_type": "markdown",
   "metadata": {},
   "source": [
    "### Train the RE model"
   ]
  },
  {
   "cell_type": "code",
   "execution_count": 72,
   "metadata": {
    "tags": []
   },
   "outputs": [],
   "source": [
    "classifier = LogisticRegression(max_iter=1000)\n",
    "string_converter = Path2Str(pos=True) \n",
    "vectorizer = CountVectorizer(ngram_range=(1,3))\n",
    "feature = make_pipeline(string_converter, vectorizer)"
   ]
  },
  {
   "cell_type": "code",
   "execution_count": 73,
   "metadata": {
    "tags": []
   },
   "outputs": [],
   "source": [
    "X_train, X_test, y_train, y_test = train_test_split(X[[id_col, design_col]], X[[id_col, \"y\"]], test_size=0.25, random_state=33)"
   ]
  },
  {
   "cell_type": "markdown",
   "metadata": {},
   "source": [
    "#### load pretrained NER-Model"
   ]
  },
  {
   "cell_type": "code",
   "execution_count": 74,
   "metadata": {
    "tags": []
   },
   "outputs": [],
   "source": [
    "ner_model_directory = \"../cnt/trained_model/ner/english/\"\n",
    "ner_model_name = \"english_cno\""
   ]
  },
  {
   "cell_type": "markdown",
   "metadata": {},
   "source": [
    "#### define RE-Model path"
   ]
  },
  {
   "cell_type": "code",
   "execution_count": 75,
   "metadata": {
    "tags": []
   },
   "outputs": [],
   "source": [
    "re_model_directory = \"../cnt/trained_model/re/\"\n",
    "re_model_name = \"english_cno\""
   ]
  },
  {
   "cell_type": "code",
   "execution_count": 76,
   "metadata": {
    "tags": []
   },
   "outputs": [
    {
     "data": {
      "text/plain": [
       "Pipeline(steps=[('nertransformer',\n",
       "                 NERTransformer(design_col='design_en', id_col='design_id',\n",
       "                                model_dir='../cnt/trained_model/ner/english/',\n",
       "                                model_name='english_cno')),\n",
       "                ('featureextractor',\n",
       "                 FeatureExtractor(design_col='design_en', id_col='design_id',\n",
       "                                  model_dir='../cnt/trained_model/ner/english/',\n",
       "                                  model_name='english_cno')),\n",
       "                ('relationextractor',\n",
       "                 RelationExtractor(id_col='design_id', model_name='english_cno',\n",
       "                                   output_dir='../cnt/trained_model/re/',\n",
       "                                   pipeline=Pipeline(steps=[('pipeline',\n",
       "                                                             Pipeline(steps=[('path2str',\n",
       "                                                                              Path2Str(pos=True)),\n",
       "                                                                             ('countvectorizer',\n",
       "                                                                              CountVectorizer(ngram_range=(1,\n",
       "                                                                                                           3)))])),\n",
       "                                                            ('logisticregression',\n",
       "                                                             LogisticRegression(max_iter=1000))])))])"
      ]
     },
     "execution_count": 76,
     "metadata": {},
     "output_type": "execute_result"
    }
   ],
   "source": [
    "inner_pipeline = make_pipeline(feature, classifier)\n",
    "pipeline = make_pipeline(NERTransformer(ner_model_directory, ner_model_name, id_col, design_col),\n",
    "                         FeatureExtractor(ner_model_directory, ner_model_name, id_col, design_col),\n",
    "                         RelationExtractor(inner_pipeline, re_model_directory, re_model_name, id_col))\n",
    "pipeline.fit(X_train, y_train)"
   ]
  },
  {
   "cell_type": "markdown",
   "metadata": {},
   "source": [
    "## Save and Load model"
   ]
  },
  {
   "cell_type": "code",
   "execution_count": 77,
   "metadata": {
    "tags": []
   },
   "outputs": [],
   "source": [
    "save_pipeline(pipeline, re_model_directory, re_model_name)"
   ]
  },
  {
   "cell_type": "code",
   "execution_count": 78,
   "metadata": {
    "tags": []
   },
   "outputs": [],
   "source": [
    "model = load_pipeline(re_model_directory, re_model_name)"
   ]
  },
  {
   "cell_type": "markdown",
   "metadata": {},
   "source": [
    "## Predict"
   ]
  },
  {
   "cell_type": "code",
   "execution_count": 79,
   "metadata": {
    "tags": []
   },
   "outputs": [],
   "source": [
    "y_pred = model.predict(X_test)"
   ]
  },
  {
   "cell_type": "code",
   "execution_count": 80,
   "metadata": {
    "tags": []
   },
   "outputs": [],
   "source": [
    "metrics = Metrics()"
   ]
  },
  {
   "cell_type": "code",
   "execution_count": 81,
   "metadata": {
    "tags": []
   },
   "outputs": [],
   "source": [
    "precision, recall = metrics.score_precision_recall(y_test, y_pred)\n",
    "F1 = (2*precision*recall) / (precision + recall)"
   ]
  },
  {
   "cell_type": "code",
   "execution_count": 82,
   "metadata": {
    "tags": []
   },
   "outputs": [
    {
     "name": "stdout",
     "output_type": "stream",
     "text": [
      "Precision 84.29\n",
      "Recall 74.45\n",
      "F1 79.07\n"
     ]
    }
   ],
   "source": [
    "print(\"Precision\", round(precision*100,2))\n",
    "print(\"Recall\", round(recall*100,2))\n",
    "print(\"F1\", round(F1*100,2))"
   ]
  },
  {
   "cell_type": "markdown",
   "metadata": {},
   "source": [
    "## Add auto annotation"
   ]
  },
  {
   "cell_type": "code",
   "execution_count": 38,
   "metadata": {},
   "outputs": [],
   "source": [
    "obj_list = {\n",
    "\"veiled\": (\"wearing\", \"Veil\", \"before\"),\n",
    "\"draped\": (\"wearing\", \"Clothing\", \"before\"),\n",
    "\"helmeted\": (\"wearing\", \"Helmet\", \"before\"),\n",
    "\"diademed\": (\"wearing\", \"Diadem\", \"before\"),\n",
    "\"turreted\": (\"wearing\", \"Mural crown\", \"before\"),\n",
    "\"enthroned\": (\"seated_on\", \"Throne\", \"after\"),\n",
    "\n",
    "}"
   ]
  },
  {
   "cell_type": "code",
   "execution_count": 39,
   "metadata": {
    "tags": []
   },
   "outputs": [],
   "source": [
    "y_pred[\"design_en\"] = X_test.design_en"
   ]
  },
  {
   "cell_type": "code",
   "execution_count": 40,
   "metadata": {},
   "outputs": [],
   "source": [
    "y_pred = relations_from_adjectives_df(y_pred, \"design_en\", \"y\", ner_model_directory, ner_model_name, id_col, design_col, obj_list, entities_to_consider=[\"PERSON\"])"
   ]
  },
  {
   "cell_type": "code",
   "execution_count": 41,
   "metadata": {},
   "outputs": [
    {
     "data": {
      "text/html": [
       "<style type=\"text/css\">\n",
       "</style>\n",
       "<table id=\"T_970ed\">\n",
       "  <thead>\n",
       "    <tr>\n",
       "      <th class=\"blank level0\" >&nbsp;</th>\n",
       "      <th id=\"T_970ed_level0_col0\" class=\"col_heading level0 col0\" >design_id</th>\n",
       "      <th id=\"T_970ed_level0_col1\" class=\"col_heading level0 col1\" >y</th>\n",
       "      <th id=\"T_970ed_level0_col2\" class=\"col_heading level0 col2\" >design_en</th>\n",
       "    </tr>\n",
       "  </thead>\n",
       "  <tbody>\n",
       "    <tr>\n",
       "      <th id=\"T_970ed_level0_row0\" class=\"row_heading level0 row0\" >557</th>\n",
       "      <td id=\"T_970ed_row0_col0\" class=\"data row0 col0\" >955</td>\n",
       "      <td id=\"T_970ed_row0_col1\" class=\"data row0 col1\" >[('Philippus II', 'PERSON', 'wearing', 'cuirass', 'OBJECT'), ('Philippus II', 'PERSON', 'wearing', 'paludamentum', 'OBJECT')]</td>\n",
       "      <td id=\"T_970ed_row0_col2\" class=\"data row0 col2\" >Radiate bust of Philippus II, right, wearing cuirass and paludamentum.</td>\n",
       "    </tr>\n",
       "    <tr>\n",
       "      <th id=\"T_970ed_level0_row1\" class=\"row_heading level0 row1\" >207</th>\n",
       "      <td id=\"T_970ed_row1_col0\" class=\"data row1 col0\" >1694</td>\n",
       "      <td id=\"T_970ed_row1_col1\" class=\"data row1 col1\" >[('Demeter', 'PERSON', 'wearing', 'wreath', 'OBJECT'), ('Demeter', 'PERSON', 'holding', 'torch', 'OBJECT'), ('Demeter', 'PERSON', 'holding', 'cista mystica', 'OBJECT'), ('Demeter', 'PERSON', 'holding', 'patera', 'OBJECT'), ('Demeter', 'PERSON', 'holding', 'cornucopia', 'OBJECT'), ('Homonoia', 'PERSON', 'wearing', 'wreath', 'OBJECT'), ('Homonoia', 'PERSON', 'holding', 'torch', 'OBJECT'), ('Homonoia', 'PERSON', 'holding', 'cista mystica', 'OBJECT'), ('Homonoia', 'PERSON', 'holding', 'patera', 'OBJECT'), ('Homonoia', 'PERSON', 'holding', 'cornucopia', 'OBJECT'), ('cornucopia', 'OBJECT', 'holding', 'patera', 'OBJECT')]</td>\n",
       "      <td id=\"T_970ed_row1_col2\" class=\"data row1 col2\" >At left, Demeter standing facing, head right, wearing wreath, holding long lit torch in left arm and two ears of corn with right hand over cista mystica on the left with half-open lid, to right, out of which serpent creeps, right; at right, Homonoia with kalathos standing facing, head left, holding a patera in outstretched right hand over lighted and garlanded altar to left and cornucopia in left arm. Ground line. Border of dots.</td>\n",
       "    </tr>\n",
       "    <tr>\n",
       "      <th id=\"T_970ed_level0_row2\" class=\"row_heading level0 row2\" >684</th>\n",
       "      <td id=\"T_970ed_row2_col0\" class=\"data row2 col0\" >24771</td>\n",
       "      <td id=\"T_970ed_row2_col1\" class=\"data row2 col1\" >[('River god', 'PERSON', 'holding', 'patera', 'OBJECT'), ('city goddess', 'PERSON', 'wearing', 'kalathos', 'OBJECT'), ('city goddess', 'PERSON', 'holding', 'patera', 'OBJECT'), ('river god', 'PERSON', 'holding', 'patera', 'OBJECT'), ('city goddess', 'PERSON', 'wearing', 'kalathos', 'OBJECT')]</td>\n",
       "      <td id=\"T_970ed_row2_col2\" class=\"data row2 col2\" >River god and city goddess; to left, river god reclining right, holding reed and resting on water urn; to right, city goddess standing left, wearing kalathos, holding patera and sceptre.</td>\n",
       "    </tr>\n",
       "    <tr>\n",
       "      <th id=\"T_970ed_level0_row3\" class=\"row_heading level0 row3\" >4</th>\n",
       "      <td id=\"T_970ed_row3_col0\" class=\"data row3 col0\" >104</td>\n",
       "      <td id=\"T_970ed_row3_col1\" class=\"data row3 col1\" >[('Artemis', 'PERSON', 'wearing', 'chiton', 'OBJECT'), ('Artemis', 'PERSON', 'wearing', 'boots', 'OBJECT'), ('Artemis', 'PERSON', 'holding', 'bow', 'OBJECT'), ('Artemis', 'PERSON', 'holding', 'arrow', 'OBJECT')]</td>\n",
       "      <td id=\"T_970ed_row3_col2\" class=\"data row3 col2\" >Artemis advancing right, wearing short fluttering chiton and boots, holding bow in left hand and drawing arrow from quiver at shoulder with right hand; at her feet, hound running right.</td>\n",
       "    </tr>\n",
       "    <tr>\n",
       "      <th id=\"T_970ed_level0_row4\" class=\"row_heading level0 row4\" >826</th>\n",
       "      <td id=\"T_970ed_row4_col0\" class=\"data row4 col0\" >2277</td>\n",
       "      <td id=\"T_970ed_row4_col1\" class=\"data row4 col1\" >[('Tyche', 'PERSON', 'wearing', 'kalathos', 'OBJECT')]</td>\n",
       "      <td id=\"T_970ed_row4_col2\" class=\"data row4 col2\" >Façade of a hexastyle temple on crepidoma with architrave, frieze and geison, a dot on pediment and acroteria and antefixa along roof; inside a statue of Tyche standing facing, head left, wearing kalathos, holding patera in outstretched right hand and cornucopia in left arm.</td>\n",
       "    </tr>\n",
       "  </tbody>\n",
       "</table>\n"
      ],
      "text/plain": [
       "<pandas.io.formats.style.Styler at 0x7f221bd8e7c0>"
      ]
     },
     "execution_count": 41,
     "metadata": {},
     "output_type": "execute_result"
    }
   ],
   "source": [
    "y_pred.head(5).style"
   ]
  },
  {
   "cell_type": "markdown",
   "metadata": {},
   "source": [
    "## Prediction dataframe"
   ]
  },
  {
   "cell_type": "code",
   "execution_count": 42,
   "metadata": {},
   "outputs": [],
   "source": [
    "pre_df = X_test.merge(y_pred, left_on=id_col, right_on =id_col, suffixes=[\"\", \"_y\"])\n",
    "pre_df = pre_df[[\"design_en\", \"y\"]]"
   ]
  },
  {
   "cell_type": "code",
   "execution_count": 43,
   "metadata": {},
   "outputs": [
    {
     "data": {
      "text/html": [
       "<div>\n",
       "<style scoped>\n",
       "    .dataframe tbody tr th:only-of-type {\n",
       "        vertical-align: middle;\n",
       "    }\n",
       "\n",
       "    .dataframe tbody tr th {\n",
       "        vertical-align: top;\n",
       "    }\n",
       "\n",
       "    .dataframe thead th {\n",
       "        text-align: right;\n",
       "    }\n",
       "</style>\n",
       "<table border=\"1\" class=\"dataframe\">\n",
       "  <thead>\n",
       "    <tr style=\"text-align: right;\">\n",
       "      <th></th>\n",
       "      <th>design_en</th>\n",
       "      <th>y</th>\n",
       "    </tr>\n",
       "  </thead>\n",
       "  <tbody>\n",
       "    <tr>\n",
       "      <th>0</th>\n",
       "      <td>Radiate bust of Philippus II, right, wearing c...</td>\n",
       "      <td>[(Philippus II, PERSON, wearing, cuirass, OBJE...</td>\n",
       "    </tr>\n",
       "    <tr>\n",
       "      <th>1</th>\n",
       "      <td>At left, Demeter standing facing, head right, ...</td>\n",
       "      <td>[(Demeter, PERSON, wearing, wreath, OBJECT), (...</td>\n",
       "    </tr>\n",
       "    <tr>\n",
       "      <th>2</th>\n",
       "      <td>River god and city goddess; to left, river god...</td>\n",
       "      <td>[(River god, PERSON, holding, patera, OBJECT),...</td>\n",
       "    </tr>\n",
       "    <tr>\n",
       "      <th>3</th>\n",
       "      <td>Artemis advancing right, wearing short flutter...</td>\n",
       "      <td>[(Artemis, PERSON, wearing, chiton, OBJECT), (...</td>\n",
       "    </tr>\n",
       "    <tr>\n",
       "      <th>4</th>\n",
       "      <td>Façade of a hexastyle temple on crepidoma with...</td>\n",
       "      <td>[(Tyche, PERSON, wearing, kalathos, OBJECT)]</td>\n",
       "    </tr>\n",
       "    <tr>\n",
       "      <th>5</th>\n",
       "      <td>Hermes standing left, holding purse and caduceus.</td>\n",
       "      <td>[(Hermes, PERSON, holding, purse, OBJECT), (He...</td>\n",
       "    </tr>\n",
       "    <tr>\n",
       "      <th>6</th>\n",
       "      <td>Nude Zeus standing left, head right, cloak ove...</td>\n",
       "      <td>[(Zeus, PERSON, holding, thunderbolt, OBJECT)]</td>\n",
       "    </tr>\n",
       "    <tr>\n",
       "      <th>7</th>\n",
       "      <td>Athena standing facing, head left, wearing lon...</td>\n",
       "      <td>[(Athena, PERSON, wearing, garment, OBJECT), (...</td>\n",
       "    </tr>\n",
       "    <tr>\n",
       "      <th>8</th>\n",
       "      <td>Head of Artemis, right, wearing necklace and e...</td>\n",
       "      <td>[(Artemis, PERSON, wearing, necklace, OBJECT),...</td>\n",
       "    </tr>\n",
       "    <tr>\n",
       "      <th>9</th>\n",
       "      <td>Athena (Nikephoros) enthroned left, holding Ni...</td>\n",
       "      <td>[(Athena, PERSON, holding, Nike, PERSON), (Ath...</td>\n",
       "    </tr>\n",
       "  </tbody>\n",
       "</table>\n",
       "</div>"
      ],
      "text/plain": [
       "                                           design_en  \\\n",
       "0  Radiate bust of Philippus II, right, wearing c...   \n",
       "1  At left, Demeter standing facing, head right, ...   \n",
       "2  River god and city goddess; to left, river god...   \n",
       "3  Artemis advancing right, wearing short flutter...   \n",
       "4  Façade of a hexastyle temple on crepidoma with...   \n",
       "5  Hermes standing left, holding purse and caduceus.   \n",
       "6  Nude Zeus standing left, head right, cloak ove...   \n",
       "7  Athena standing facing, head left, wearing lon...   \n",
       "8  Head of Artemis, right, wearing necklace and e...   \n",
       "9  Athena (Nikephoros) enthroned left, holding Ni...   \n",
       "\n",
       "                                                   y  \n",
       "0  [(Philippus II, PERSON, wearing, cuirass, OBJE...  \n",
       "1  [(Demeter, PERSON, wearing, wreath, OBJECT), (...  \n",
       "2  [(River god, PERSON, holding, patera, OBJECT),...  \n",
       "3  [(Artemis, PERSON, wearing, chiton, OBJECT), (...  \n",
       "4       [(Tyche, PERSON, wearing, kalathos, OBJECT)]  \n",
       "5  [(Hermes, PERSON, holding, purse, OBJECT), (He...  \n",
       "6     [(Zeus, PERSON, holding, thunderbolt, OBJECT)]  \n",
       "7  [(Athena, PERSON, wearing, garment, OBJECT), (...  \n",
       "8  [(Artemis, PERSON, wearing, necklace, OBJECT),...  \n",
       "9  [(Athena, PERSON, holding, Nike, PERSON), (Ath...  "
      ]
     },
     "execution_count": 43,
     "metadata": {},
     "output_type": "execute_result"
    }
   ],
   "source": [
    "pre_df.head(10)"
   ]
  },
  {
   "cell_type": "markdown",
   "metadata": {
    "tags": []
   },
   "source": [
    "## Upload to mysql"
   ]
  },
  {
   "cell_type": "code",
   "execution_count": 44,
   "metadata": {},
   "outputs": [],
   "source": [
    "upload = False"
   ]
  },
  {
   "cell_type": "code",
   "execution_count": 45,
   "metadata": {
    "tags": []
   },
   "outputs": [],
   "source": [
    "if upload ==True:\n",
    "    dc =  Database_Connection(\"mysql+mysqlconnector://YourConnection\")\n",
    "    cnt_designs = dc.load_designs_from_db(\"designs\", [\"DesignID\", \"DesignEng\"])\n",
    "    cnt_designs.rename(columns={\"DesignEng\":\"Design\"}, inplace=True) # if english\n",
    "    cnt_pred = pipeline.predict(cnt_designs)\n",
    "    cnt_pipeline_output = pd.DataFrame([(str(designid), *relation) for  _, (designid, relation_list) in cnt_pred.iterrows()\n",
    "                    for relation in relation_list],\n",
    "            columns=[\"DesignID\", \"Person\", \"Label_Person\", \"Relation\", \"Object\",\n",
    "                     \"Label_Object\"])\n",
    "    cnt_pipeline_output.to_sql(\"CNO.cnt_pipeline_output\",dc.mysql_connection,if_exists=\"replace\", index=False)"
   ]
  }
 ],
 "metadata": {
  "kernelspec": {
   "display_name": "Python 3 (ipykernel)",
   "language": "python",
   "name": "python3"
  },
  "language_info": {
   "codemirror_mode": {
    "name": "ipython",
    "version": 3
   },
   "file_extension": ".py",
   "mimetype": "text/x-python",
   "name": "python",
   "nbconvert_exporter": "python",
   "pygments_lexer": "ipython3",
   "version": "3.8.13"
  }
 },
 "nbformat": 4,
 "nbformat_minor": 4
}
