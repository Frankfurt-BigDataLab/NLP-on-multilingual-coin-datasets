{
 "cells": [
  {
   "cell_type": "markdown",
   "metadata": {},
   "source": [
    "developed by Patricia Klinger, modified by Sebastian Gampe, Kerim Gencer, Chrisowalandis Deligio"
   ]
  },
  {
   "cell_type": "code",
   "execution_count": 1,
   "metadata": {},
   "outputs": [],
   "source": [
    "import sys\n",
    "sys.path.append('../')\n",
    "import pandas as pd\n",
    "import random\n",
    "import os\n",
    "import numpy as np\n",
    "from cnt.model import (DesignEstimator, RelationExtractor, save_pipeline, load_pipeline, predict_re_single_sentence, \n",
    "relations_from_adjectives_df, relations_from_adjectives_single, concat_relations)\n",
    "from cnt.annotate import (annotate, annotate_single_design, \n",
    "                          annotate_designs, \n",
    "                          extract_string_from_annotation, labeling_eng)\n",
    "from cnt.extract_relation import (path, NERTransformer, FeatureExtractor)\n",
    "from cnt.evaluate import Metrics\n",
    "from cnt.vectorize import (Doc2Str, Path2Str, Verbs2Str, AveragedPath2Vec, \n",
    "                           AveragedRest2Vec)\n",
    "from cnt.io import (replace_left_right)\n",
    "from cnt.io import  Database_Connection\n",
    "from sklearn.model_selection import train_test_split\n",
    "from sklearn.pipeline import Pipeline, make_pipeline, make_union\n",
    "from sklearn.feature_extraction.text import TfidfVectorizer, CountVectorizer\n",
    "from sklearn.svm import SVC\n",
    "from sklearn.linear_model import LogisticRegression\n",
    "from sklearn.ensemble import RandomForestClassifier\n",
    "from sklearn.preprocessing import Normalizer\n",
    "from sklearn.naive_bayes import MultinomialNB\n",
    "from itertools import product\n",
    "import warnings\n",
    "warnings.filterwarnings('ignore')"
   ]
  },
  {
   "cell_type": "markdown",
   "metadata": {
    "tags": []
   },
   "source": [
    "### Define the column names for the id and design column "
   ]
  },
  {
   "cell_type": "code",
   "execution_count": 2,
   "metadata": {},
   "outputs": [],
   "source": [
    "id_col = \"id\"\n",
    "design_col = \"design_en\""
   ]
  },
  {
   "cell_type": "markdown",
   "metadata": {},
   "source": [
    "### Load yaml file with annotated data"
   ]
  },
  {
   "cell_type": "code",
   "execution_count": 3,
   "metadata": {},
   "outputs": [],
   "source": [
    "import yaml\n",
    "import_path = \"../data/English_RE_data.yaml\"\n",
    "with open(import_path, encoding='utf8') as f:\n",
    "    dictionary = yaml.safe_load(f)\n",
    "    d = {replace_left_right(key): value for key, value in dictionary.items()}"
   ]
  },
  {
   "cell_type": "code",
   "execution_count": 4,
   "metadata": {},
   "outputs": [
    {
     "data": {
      "text/plain": [
       "[('holding', 1113),\n",
       " ('wearing', 781),\n",
       " ('resting_on', 238),\n",
       " ('seated_on', 88),\n",
       " ('grasping', 36),\n",
       " ('standing', 36),\n",
       " ('crowning', 14),\n",
       " ('feeding', 10),\n",
       " ('coiling', 7),\n",
       " ('breaking', 4),\n",
       " ('pushing', 3),\n",
       " ('flying_over', 2),\n",
       " ('receiving', 2),\n",
       " ('escorted_by', 1)]"
      ]
     },
     "execution_count": 4,
     "metadata": {},
     "output_type": "execute_result"
    }
   ],
   "source": [
    "relation_counts = {}\n",
    "labels = []\n",
    "for sentence, relations in d.items():\n",
    "    for rel in relations:\n",
    "        rel_name = rel[1]\n",
    "        if rel_name not in relation_counts:\n",
    "            relation_counts[rel_name] = 1\n",
    "        else:\n",
    "            relation_counts[rel_name] += 1\n",
    "\n",
    "sorted(relation_counts.items(), key= lambda x: (-x[1], x[0]))"
   ]
  },
  {
   "cell_type": "code",
   "execution_count": 5,
   "metadata": {
    "tags": []
   },
   "outputs": [],
   "source": [
    "dc =  Database_Connection(\"mysql+mysqlconnector://root:YourConnection\") # Format user:password@IP/Database"
   ]
  },
  {
   "cell_type": "code",
   "execution_count": 7,
   "metadata": {
    "tags": []
   },
   "outputs": [],
   "source": [
    "language = \"_en\"\n",
    "add_columns = [\"id\", \"name\"+language, \"alternativenames\"+language]"
   ]
  },
  {
   "cell_type": "code",
   "execution_count": 8,
   "metadata": {},
   "outputs": [],
   "source": [
    "entities = {\n",
    "    \"PERSON\": dc.load_entities_from_db(\"nlp_list_person\", [\"name\", \"alternativenames\"], [\"alternativenames\"], \",\", True),\n",
    "    \"OBJECT\": dc.load_entities_from_db(\"nlp_list_obj\", add_columns, [add_columns[1]], \",\", True),\n",
    "    \"ANIMAL\": dc.load_entities_from_db(\"nlp_list_animal\", add_columns, [add_columns[1]], \",\", True),\n",
    "    \"PLANT\": dc.load_entities_from_db(\"nlp_list_plant\", add_columns, [add_columns[1]], \",\", True)}"
   ]
  },
  {
   "cell_type": "code",
   "execution_count": 9,
   "metadata": {
    "tags": []
   },
   "outputs": [],
   "source": [
    "X_list, y_list = labeling_eng(d, entities)"
   ]
  },
  {
   "cell_type": "code",
   "execution_count": 10,
   "metadata": {
    "tags": []
   },
   "outputs": [],
   "source": [
    "X = pd.DataFrame({design_col: X_list, \"y\" : y_list})"
   ]
  },
  {
   "cell_type": "code",
   "execution_count": 11,
   "metadata": {
    "tags": []
   },
   "outputs": [
    {
     "data": {
      "text/plain": [
       "(1029, 2)"
      ]
     },
     "execution_count": 11,
     "metadata": {},
     "output_type": "execute_result"
    }
   ],
   "source": [
    "X.shape"
   ]
  },
  {
   "cell_type": "code",
   "execution_count": 12,
   "metadata": {
    "tags": []
   },
   "outputs": [],
   "source": [
    "X[id_col] = X.index"
   ]
  },
  {
   "cell_type": "code",
   "execution_count": 13,
   "metadata": {
    "tags": []
   },
   "outputs": [
    {
     "data": {
      "text/html": [
       "<div>\n",
       "<style scoped>\n",
       "    .dataframe tbody tr th:only-of-type {\n",
       "        vertical-align: middle;\n",
       "    }\n",
       "\n",
       "    .dataframe tbody tr th {\n",
       "        vertical-align: top;\n",
       "    }\n",
       "\n",
       "    .dataframe thead th {\n",
       "        text-align: right;\n",
       "    }\n",
       "</style>\n",
       "<table border=\"1\" class=\"dataframe\">\n",
       "  <thead>\n",
       "    <tr style=\"text-align: right;\">\n",
       "      <th></th>\n",
       "      <th>design_en</th>\n",
       "      <th>y</th>\n",
       "      <th>id</th>\n",
       "    </tr>\n",
       "  </thead>\n",
       "  <tbody>\n",
       "    <tr>\n",
       "      <th>0</th>\n",
       "      <td>Amphora with ribbed surface and crooked handle...</td>\n",
       "      <td>[(Amphora, OBJECT, holding, poppy, PLANT)]</td>\n",
       "      <td>0</td>\n",
       "    </tr>\n",
       "    <tr>\n",
       "      <th>1</th>\n",
       "      <td>Half-nude Aphrodite standing facing, head left...</td>\n",
       "      <td>[(Aphrodite, PERSON, holding, apple, PLANT)]</td>\n",
       "      <td>1</td>\n",
       "    </tr>\n",
       "    <tr>\n",
       "      <th>2</th>\n",
       "      <td>Nude Aphrodite standing facing, head right, co...</td>\n",
       "      <td>[(Eros, PERSON, seated_on, dolphin, ANIMAL)]</td>\n",
       "      <td>2</td>\n",
       "    </tr>\n",
       "    <tr>\n",
       "      <th>3</th>\n",
       "      <td>Nude Apollo standing facing, head left, left l...</td>\n",
       "      <td>[(Apollo, PERSON, holding, patera, OBJECT), (s...</td>\n",
       "      <td>3</td>\n",
       "    </tr>\n",
       "    <tr>\n",
       "      <th>4</th>\n",
       "      <td>Artemis advancing right, wearing short flutter...</td>\n",
       "      <td>[(Artemis, PERSON, wearing, chiton, OBJECT), (...</td>\n",
       "      <td>4</td>\n",
       "    </tr>\n",
       "    <tr>\n",
       "      <th>...</th>\n",
       "      <td>...</td>\n",
       "      <td>...</td>\n",
       "      <td>...</td>\n",
       "    </tr>\n",
       "    <tr>\n",
       "      <th>1024</th>\n",
       "      <td>Turreted Tyche standing facing, head left, hol...</td>\n",
       "      <td>[(Tyche, PERSON, holding, temple, OBJECT)]</td>\n",
       "      <td>1024</td>\n",
       "    </tr>\n",
       "    <tr>\n",
       "      <th>1025</th>\n",
       "      <td>Turreted Tyche standing facing, head left, hol...</td>\n",
       "      <td>[(Tyche, PERSON, holding, temple, OBJECT)]</td>\n",
       "      <td>1025</td>\n",
       "    </tr>\n",
       "    <tr>\n",
       "      <th>1026</th>\n",
       "      <td>Turreted Tyche standing facing, head left, hol...</td>\n",
       "      <td>[(Tyche, PERSON, holding, temple, OBJECT)]</td>\n",
       "      <td>1026</td>\n",
       "    </tr>\n",
       "    <tr>\n",
       "      <th>1027</th>\n",
       "      <td>Turreted Tyche standing facing, head left, hol...</td>\n",
       "      <td>[(Tyche, PERSON, holding, temple, OBJECT)]</td>\n",
       "      <td>1027</td>\n",
       "    </tr>\n",
       "    <tr>\n",
       "      <th>1028</th>\n",
       "      <td>Two emperors (Caracalla and Geta) standing fac...</td>\n",
       "      <td>[(Caracalla, PERSON, wearing, toga, OBJECT), (...</td>\n",
       "      <td>1028</td>\n",
       "    </tr>\n",
       "  </tbody>\n",
       "</table>\n",
       "<p>1029 rows × 3 columns</p>\n",
       "</div>"
      ],
      "text/plain": [
       "                                              design_en  \\\n",
       "0     Amphora with ribbed surface and crooked handle...   \n",
       "1     Half-nude Aphrodite standing facing, head left...   \n",
       "2     Nude Aphrodite standing facing, head right, co...   \n",
       "3     Nude Apollo standing facing, head left, left l...   \n",
       "4     Artemis advancing right, wearing short flutter...   \n",
       "...                                                 ...   \n",
       "1024  Turreted Tyche standing facing, head left, hol...   \n",
       "1025  Turreted Tyche standing facing, head left, hol...   \n",
       "1026  Turreted Tyche standing facing, head left, hol...   \n",
       "1027  Turreted Tyche standing facing, head left, hol...   \n",
       "1028  Two emperors (Caracalla and Geta) standing fac...   \n",
       "\n",
       "                                                      y    id  \n",
       "0            [(Amphora, OBJECT, holding, poppy, PLANT)]     0  \n",
       "1          [(Aphrodite, PERSON, holding, apple, PLANT)]     1  \n",
       "2          [(Eros, PERSON, seated_on, dolphin, ANIMAL)]     2  \n",
       "3     [(Apollo, PERSON, holding, patera, OBJECT), (s...     3  \n",
       "4     [(Artemis, PERSON, wearing, chiton, OBJECT), (...     4  \n",
       "...                                                 ...   ...  \n",
       "1024         [(Tyche, PERSON, holding, temple, OBJECT)]  1024  \n",
       "1025         [(Tyche, PERSON, holding, temple, OBJECT)]  1025  \n",
       "1026         [(Tyche, PERSON, holding, temple, OBJECT)]  1026  \n",
       "1027         [(Tyche, PERSON, holding, temple, OBJECT)]  1027  \n",
       "1028  [(Caracalla, PERSON, wearing, toga, OBJECT), (...  1028  \n",
       "\n",
       "[1029 rows x 3 columns]"
      ]
     },
     "execution_count": 13,
     "metadata": {},
     "output_type": "execute_result"
    }
   ],
   "source": [
    "X"
   ]
  },
  {
   "cell_type": "code",
   "execution_count": 14,
   "metadata": {
    "tags": []
   },
   "outputs": [],
   "source": [
    "design = X.iloc[0][\"design_en\"]"
   ]
  },
  {
   "cell_type": "code",
   "execution_count": 15,
   "metadata": {
    "tags": []
   },
   "outputs": [
    {
     "data": {
      "text/plain": [
       "'Amphora with ribbed surface and crooked handles containing two ears of corn and poppy.'"
      ]
     },
     "execution_count": 15,
     "metadata": {},
     "output_type": "execute_result"
    }
   ],
   "source": [
    "design"
   ]
  },
  {
   "cell_type": "code",
   "execution_count": 16,
   "metadata": {
    "tags": []
   },
   "outputs": [
    {
     "data": {
      "text/plain": [
       "9"
      ]
     },
     "execution_count": 16,
     "metadata": {},
     "output_type": "execute_result"
    }
   ],
   "source": [
    "dc.create_own_query(\"select id from nlp_training_designs where design_en='\"+design+\"';\").id.item()"
   ]
  },
  {
   "cell_type": "code",
   "execution_count": 17,
   "metadata": {
    "tags": []
   },
   "outputs": [],
   "source": [
    "def get_id(design):\n",
    "    try:\n",
    "        return dc.create_own_query(\"select id from nlp_training_designs where design_en='\"+design+\"';\").id.item()\n",
    "    except:\n",
    "        return \"Null\""
   ]
  },
  {
   "cell_type": "code",
   "execution_count": 18,
   "metadata": {
    "tags": []
   },
   "outputs": [
    {
     "name": "stdout",
     "output_type": "stream",
     "text": [
      "SQL query failed.\n",
      "SQL query failed.\n",
      "SQL query failed.\n",
      "SQL query failed.\n",
      "SQL query failed.\n",
      "SQL query failed.\n",
      "SQL query failed.\n",
      "SQL query failed.\n",
      "SQL query failed.\n",
      "SQL query failed.\n",
      "SQL query failed.\n",
      "SQL query failed.\n",
      "SQL query failed.\n",
      "SQL query failed.\n",
      "SQL query failed.\n",
      "SQL query failed.\n",
      "SQL query failed.\n"
     ]
    }
   ],
   "source": [
    "X[\"db_id\"] = X.apply(lambda row: get_id(row.design_en), axis=1)"
   ]
  },
  {
   "cell_type": "code",
   "execution_count": 19,
   "metadata": {
    "tags": []
   },
   "outputs": [],
   "source": [
    "X = X.loc[X.db_id!=\"Null\"]"
   ]
  },
  {
   "cell_type": "code",
   "execution_count": 42,
   "metadata": {},
   "outputs": [
    {
     "data": {
      "text/plain": [
       "(877, 4)"
      ]
     },
     "execution_count": 42,
     "metadata": {},
     "output_type": "execute_result"
    }
   ],
   "source": [
    "X.shape"
   ]
  },
  {
   "cell_type": "markdown",
   "metadata": {},
   "source": [
    "### Testing rule based annotation"
   ]
  },
  {
   "cell_type": "code",
   "execution_count": 20,
   "metadata": {
    "tags": []
   },
   "outputs": [],
   "source": [
    "obj_list = {\n",
    "\"veiled\": (\"wearing\", \"Veil\", \"before\"),\n",
    "\"draped\": (\"wearing\", \"Clothing\", \"before\"),\n",
    "\"helmeted\": (\"wearing\", \"Helmet\", \"before\"),\n",
    "\"diademed\": (\"wearing\", \"Diadem\", \"before\"),\n",
    "\"turreted\": (\"wearing\", \"Mural crown\", \"before\"),\n",
    "\"enthroned\": (\"seated_on\", \"Throne\", \"after\"),\n",
    "\n",
    "}"
   ]
  },
  {
   "cell_type": "code",
   "execution_count": 21,
   "metadata": {
    "tags": []
   },
   "outputs": [],
   "source": [
    "df = pd.DataFrame().from_dict(obj_list, orient=\"index\").rename(columns={0:\"relation\", 1:\"Object\"})\n",
    "df[\"To_Replace\"] = df.index\n",
    "df.reset_index(inplace=True, drop=True)\n",
    "df = df[[\"To_Replace\", \"relation\", \"Object\"]]"
   ]
  },
  {
   "cell_type": "code",
   "execution_count": 22,
   "metadata": {
    "tags": []
   },
   "outputs": [
    {
     "data": {
      "text/html": [
       "<div>\n",
       "<style scoped>\n",
       "    .dataframe tbody tr th:only-of-type {\n",
       "        vertical-align: middle;\n",
       "    }\n",
       "\n",
       "    .dataframe tbody tr th {\n",
       "        vertical-align: top;\n",
       "    }\n",
       "\n",
       "    .dataframe thead th {\n",
       "        text-align: right;\n",
       "    }\n",
       "</style>\n",
       "<table border=\"1\" class=\"dataframe\">\n",
       "  <thead>\n",
       "    <tr style=\"text-align: right;\">\n",
       "      <th></th>\n",
       "      <th>design_en</th>\n",
       "      <th>y</th>\n",
       "      <th>id</th>\n",
       "      <th>db_id</th>\n",
       "    </tr>\n",
       "  </thead>\n",
       "  <tbody>\n",
       "    <tr>\n",
       "      <th>0</th>\n",
       "      <td>Amphora with ribbed surface and crooked handle...</td>\n",
       "      <td>[(Amphora, OBJECT, holding, poppy, PLANT)]</td>\n",
       "      <td>0</td>\n",
       "      <td>9</td>\n",
       "    </tr>\n",
       "    <tr>\n",
       "      <th>1</th>\n",
       "      <td>Half-nude Aphrodite standing facing, head left...</td>\n",
       "      <td>[(Aphrodite, PERSON, holding, apple, PLANT)]</td>\n",
       "      <td>1</td>\n",
       "      <td>33</td>\n",
       "    </tr>\n",
       "    <tr>\n",
       "      <th>2</th>\n",
       "      <td>Nude Aphrodite standing facing, head right, co...</td>\n",
       "      <td>[(Eros, PERSON, seated_on, dolphin, ANIMAL)]</td>\n",
       "      <td>2</td>\n",
       "      <td>36</td>\n",
       "    </tr>\n",
       "    <tr>\n",
       "      <th>3</th>\n",
       "      <td>Nude Apollo standing facing, head left, left l...</td>\n",
       "      <td>[(Apollo, PERSON, holding, patera, OBJECT), (s...</td>\n",
       "      <td>3</td>\n",
       "      <td>85</td>\n",
       "    </tr>\n",
       "    <tr>\n",
       "      <th>4</th>\n",
       "      <td>Artemis advancing right, wearing short flutter...</td>\n",
       "      <td>[(Artemis, PERSON, wearing, chiton, OBJECT), (...</td>\n",
       "      <td>4</td>\n",
       "      <td>104</td>\n",
       "    </tr>\n",
       "  </tbody>\n",
       "</table>\n",
       "</div>"
      ],
      "text/plain": [
       "                                           design_en  \\\n",
       "0  Amphora with ribbed surface and crooked handle...   \n",
       "1  Half-nude Aphrodite standing facing, head left...   \n",
       "2  Nude Aphrodite standing facing, head right, co...   \n",
       "3  Nude Apollo standing facing, head left, left l...   \n",
       "4  Artemis advancing right, wearing short flutter...   \n",
       "\n",
       "                                                   y  id db_id  \n",
       "0         [(Amphora, OBJECT, holding, poppy, PLANT)]   0     9  \n",
       "1       [(Aphrodite, PERSON, holding, apple, PLANT)]   1    33  \n",
       "2       [(Eros, PERSON, seated_on, dolphin, ANIMAL)]   2    36  \n",
       "3  [(Apollo, PERSON, holding, patera, OBJECT), (s...   3    85  \n",
       "4  [(Artemis, PERSON, wearing, chiton, OBJECT), (...   4   104  "
      ]
     },
     "execution_count": 22,
     "metadata": {},
     "output_type": "execute_result"
    }
   ],
   "source": [
    "X.head(5)"
   ]
  },
  {
   "cell_type": "markdown",
   "metadata": {},
   "source": [
    "### Train the RE model"
   ]
  },
  {
   "cell_type": "code",
   "execution_count": 23,
   "metadata": {
    "tags": []
   },
   "outputs": [],
   "source": [
    "classifier = LogisticRegression(max_iter=1000)\n",
    "string_converter = Path2Str(pos=True) \n",
    "vectorizer = CountVectorizer(ngram_range=(1,3))\n",
    "feature = make_pipeline(string_converter, vectorizer)"
   ]
  },
  {
   "cell_type": "code",
   "execution_count": 24,
   "metadata": {
    "tags": []
   },
   "outputs": [],
   "source": [
    "X_train, X_test, y_train, y_test = train_test_split(X[[id_col, design_col]], X[[id_col, \"y\"]], test_size=0.25, random_state=33)"
   ]
  },
  {
   "cell_type": "markdown",
   "metadata": {},
   "source": [
    "#### load pretrained NER-Model"
   ]
  },
  {
   "cell_type": "code",
   "execution_count": 25,
   "metadata": {
    "tags": []
   },
   "outputs": [],
   "source": [
    "ner_model_directory = \"../cnt/trained_model/ner/english/\"\n",
    "ner_model_name = \"english_cno\""
   ]
  },
  {
   "cell_type": "markdown",
   "metadata": {},
   "source": [
    "#### define RE-Model path"
   ]
  },
  {
   "cell_type": "code",
   "execution_count": 26,
   "metadata": {
    "tags": []
   },
   "outputs": [],
   "source": [
    "re_model_directory = \"../cnt/trained_model/re/\"\n",
    "re_model_name = \"english_cno\""
   ]
  },
  {
   "cell_type": "code",
   "execution_count": 27,
   "metadata": {
    "tags": []
   },
   "outputs": [
    {
     "data": {
      "text/plain": [
       "Pipeline(steps=[('nertransformer',\n",
       "                 NERTransformer(design_col='design_en', id_col='id',\n",
       "                                model_dir='../cnt/trained_model/ner/english/',\n",
       "                                model_name='english_cno')),\n",
       "                ('featureextractor',\n",
       "                 FeatureExtractor(design_col='design_en', id_col='id',\n",
       "                                  model_dir='../cnt/trained_model/ner/english/',\n",
       "                                  model_name='english_cno')),\n",
       "                ('relationextractor',\n",
       "                 RelationExtractor(id_col='id', model_name='english_cno',\n",
       "                                   output_dir='../cnt/trained_model/re/',\n",
       "                                   pipeline=Pipeline(steps=[('pipeline',\n",
       "                                                             Pipeline(steps=[('path2str',\n",
       "                                                                              Path2Str(pos=True)),\n",
       "                                                                             ('countvectorizer',\n",
       "                                                                              CountVectorizer(ngram_range=(1,\n",
       "                                                                                                           3)))])),\n",
       "                                                            ('logisticregression',\n",
       "                                                             LogisticRegression(max_iter=1000))])))])"
      ]
     },
     "execution_count": 27,
     "metadata": {},
     "output_type": "execute_result"
    }
   ],
   "source": [
    "inner_pipeline = make_pipeline(feature, classifier)\n",
    "pipeline = make_pipeline(NERTransformer(ner_model_directory, ner_model_name, id_col, design_col),\n",
    "                         FeatureExtractor(ner_model_directory, ner_model_name, id_col, design_col),\n",
    "                         RelationExtractor(inner_pipeline, re_model_directory, re_model_name, id_col))\n",
    "pipeline.fit(X_train, y_train)"
   ]
  },
  {
   "cell_type": "markdown",
   "metadata": {},
   "source": [
    "## Save and Load model"
   ]
  },
  {
   "cell_type": "code",
   "execution_count": 28,
   "metadata": {
    "tags": []
   },
   "outputs": [],
   "source": [
    "save_pipeline(pipeline, re_model_directory, re_model_name)"
   ]
  },
  {
   "cell_type": "code",
   "execution_count": 29,
   "metadata": {
    "tags": []
   },
   "outputs": [],
   "source": [
    "model = load_pipeline(re_model_directory, re_model_name)"
   ]
  },
  {
   "cell_type": "markdown",
   "metadata": {},
   "source": [
    "## Predict"
   ]
  },
  {
   "cell_type": "code",
   "execution_count": 30,
   "metadata": {
    "tags": []
   },
   "outputs": [],
   "source": [
    "y_pred = model.predict(X_test)"
   ]
  },
  {
   "cell_type": "code",
   "execution_count": 31,
   "metadata": {
    "tags": []
   },
   "outputs": [],
   "source": [
    "metrics = Metrics()"
   ]
  },
  {
   "cell_type": "code",
   "execution_count": 32,
   "metadata": {
    "tags": []
   },
   "outputs": [],
   "source": [
    "precision, recall = metrics.score_precision_recall(y_test, y_pred)\n",
    "F1 = (2*precision*recall) / (precision + recall)"
   ]
  },
  {
   "cell_type": "code",
   "execution_count": 33,
   "metadata": {
    "tags": []
   },
   "outputs": [
    {
     "name": "stdout",
     "output_type": "stream",
     "text": [
      "Precision 90.84\n",
      "Recall 80.7\n",
      "F1 85.47\n"
     ]
    }
   ],
   "source": [
    "print(\"Precision\", round(precision*100,2))\n",
    "print(\"Recall\", round(recall*100,2))\n",
    "print(\"F1\", round(F1*100,2))"
   ]
  },
  {
   "cell_type": "code",
   "execution_count": 34,
   "metadata": {
    "tags": []
   },
   "outputs": [],
   "source": [
    "y_pred[\"design_en\"] = X_test.design_en"
   ]
  },
  {
   "cell_type": "code",
   "execution_count": 35,
   "metadata": {},
   "outputs": [],
   "source": [
    "y_pred = relations_from_adjectives_df(y_pred, \"design_en\", \"y\", ner_model_directory, ner_model_name, id_col, design_col, obj_list, entities_to_consider=[\"PERSON\"])"
   ]
  },
  {
   "cell_type": "code",
   "execution_count": 36,
   "metadata": {
    "tags": []
   },
   "outputs": [
    {
     "data": {
      "text/html": [
       "<div>\n",
       "<style scoped>\n",
       "    .dataframe tbody tr th:only-of-type {\n",
       "        vertical-align: middle;\n",
       "    }\n",
       "\n",
       "    .dataframe tbody tr th {\n",
       "        vertical-align: top;\n",
       "    }\n",
       "\n",
       "    .dataframe thead th {\n",
       "        text-align: right;\n",
       "    }\n",
       "</style>\n",
       "<table border=\"1\" class=\"dataframe\">\n",
       "  <thead>\n",
       "    <tr style=\"text-align: right;\">\n",
       "      <th></th>\n",
       "      <th>id</th>\n",
       "      <th>y</th>\n",
       "      <th>design_en</th>\n",
       "    </tr>\n",
       "  </thead>\n",
       "  <tbody>\n",
       "    <tr>\n",
       "      <th>258</th>\n",
       "      <td>258</td>\n",
       "      <td>[(Demeter, PERSON, seated_on, rock, OBJECT), (...</td>\n",
       "      <td>Veiled Demeter seated left on rock, holding tw...</td>\n",
       "    </tr>\n",
       "    <tr>\n",
       "      <th>22</th>\n",
       "      <td>22</td>\n",
       "      <td>[(Demeter, PERSON, wearing, corn wreath, OBJEC...</td>\n",
       "      <td>Veiled head of Demeter, right, wearing corn wr...</td>\n",
       "    </tr>\n",
       "    <tr>\n",
       "      <th>765</th>\n",
       "      <td>765</td>\n",
       "      <td>[(Demeter, PERSON, holding, torch, OBJECT), (D...</td>\n",
       "      <td>Veiled Demeter standing left, wearing double c...</td>\n",
       "    </tr>\n",
       "    <tr>\n",
       "      <th>16</th>\n",
       "      <td>16</td>\n",
       "      <td>[(Cybele, PERSON, holding, patera, OBJECT), (C...</td>\n",
       "      <td>Veiled and turreted Cybele enthroned left, hol...</td>\n",
       "    </tr>\n",
       "    <tr>\n",
       "      <th>32</th>\n",
       "      <td>32</td>\n",
       "      <td>[(Demeter, PERSON, wearing, Veil, OBJECT)]</td>\n",
       "      <td>Veiled Demeter standing facing, head left, hol...</td>\n",
       "    </tr>\n",
       "    <tr>\n",
       "      <th>27</th>\n",
       "      <td>27</td>\n",
       "      <td>[(Demeter, PERSON, resting_on, torch, OBJECT),...</td>\n",
       "      <td>Veiled Demeter enthroned left, holding two ear...</td>\n",
       "    </tr>\n",
       "    <tr>\n",
       "      <th>221</th>\n",
       "      <td>221</td>\n",
       "      <td>[(Demeter, PERSON, holding, torch, OBJECT), (D...</td>\n",
       "      <td>Veiled Demeter standing facing, head right, ho...</td>\n",
       "    </tr>\n",
       "    <tr>\n",
       "      <th>23</th>\n",
       "      <td>23</td>\n",
       "      <td>[(Demeter, PERSON, wearing, corn wreath, OBJEC...</td>\n",
       "      <td>Veiled and draped bust of Demeter, right, wear...</td>\n",
       "    </tr>\n",
       "    <tr>\n",
       "      <th>28</th>\n",
       "      <td>28</td>\n",
       "      <td>[(Demeter, PERSON, wearing, corn wreath, OBJEC...</td>\n",
       "      <td>Veiled Demeter seated left on cista mystica en...</td>\n",
       "    </tr>\n",
       "    <tr>\n",
       "      <th>288</th>\n",
       "      <td>288</td>\n",
       "      <td>[(Demeter, PERSON, wearing, garment, OBJECT), ...</td>\n",
       "      <td>Veiled Demeter standing facing, head left, wea...</td>\n",
       "    </tr>\n",
       "    <tr>\n",
       "      <th>906</th>\n",
       "      <td>906</td>\n",
       "      <td>[(Hera, PERSON, holding, patera, OBJECT), (Her...</td>\n",
       "      <td>Veiled Hera standing facing, head left, wearin...</td>\n",
       "    </tr>\n",
       "    <tr>\n",
       "      <th>36</th>\n",
       "      <td>36</td>\n",
       "      <td>[(Demeter, PERSON, wearing, corn wreath, OBJEC...</td>\n",
       "      <td>Veiled Demeter standing facing, head left, wea...</td>\n",
       "    </tr>\n",
       "    <tr>\n",
       "      <th>702</th>\n",
       "      <td>702</td>\n",
       "      <td>[(Demeter, PERSON, seated_on, rock, OBJECT), (...</td>\n",
       "      <td>Veiled Demeter seated left on rock, holding ea...</td>\n",
       "    </tr>\n",
       "    <tr>\n",
       "      <th>313</th>\n",
       "      <td>313</td>\n",
       "      <td>[(Demeter, PERSON, seated_on, altar, OBJECT), ...</td>\n",
       "      <td>Veiled Demeter seated left on altar, wearing c...</td>\n",
       "    </tr>\n",
       "  </tbody>\n",
       "</table>\n",
       "</div>"
      ],
      "text/plain": [
       "      id                                                  y  \\\n",
       "258  258  [(Demeter, PERSON, seated_on, rock, OBJECT), (...   \n",
       "22    22  [(Demeter, PERSON, wearing, corn wreath, OBJEC...   \n",
       "765  765  [(Demeter, PERSON, holding, torch, OBJECT), (D...   \n",
       "16    16  [(Cybele, PERSON, holding, patera, OBJECT), (C...   \n",
       "32    32         [(Demeter, PERSON, wearing, Veil, OBJECT)]   \n",
       "27    27  [(Demeter, PERSON, resting_on, torch, OBJECT),...   \n",
       "221  221  [(Demeter, PERSON, holding, torch, OBJECT), (D...   \n",
       "23    23  [(Demeter, PERSON, wearing, corn wreath, OBJEC...   \n",
       "28    28  [(Demeter, PERSON, wearing, corn wreath, OBJEC...   \n",
       "288  288  [(Demeter, PERSON, wearing, garment, OBJECT), ...   \n",
       "906  906  [(Hera, PERSON, holding, patera, OBJECT), (Her...   \n",
       "36    36  [(Demeter, PERSON, wearing, corn wreath, OBJEC...   \n",
       "702  702  [(Demeter, PERSON, seated_on, rock, OBJECT), (...   \n",
       "313  313  [(Demeter, PERSON, seated_on, altar, OBJECT), ...   \n",
       "\n",
       "                                             design_en  \n",
       "258  Veiled Demeter seated left on rock, holding tw...  \n",
       "22   Veiled head of Demeter, right, wearing corn wr...  \n",
       "765  Veiled Demeter standing left, wearing double c...  \n",
       "16   Veiled and turreted Cybele enthroned left, hol...  \n",
       "32   Veiled Demeter standing facing, head left, hol...  \n",
       "27   Veiled Demeter enthroned left, holding two ear...  \n",
       "221  Veiled Demeter standing facing, head right, ho...  \n",
       "23   Veiled and draped bust of Demeter, right, wear...  \n",
       "28   Veiled Demeter seated left on cista mystica en...  \n",
       "288  Veiled Demeter standing facing, head left, wea...  \n",
       "906  Veiled Hera standing facing, head left, wearin...  \n",
       "36   Veiled Demeter standing facing, head left, wea...  \n",
       "702  Veiled Demeter seated left on rock, holding ea...  \n",
       "313  Veiled Demeter seated left on altar, wearing c...  "
      ]
     },
     "execution_count": 36,
     "metadata": {},
     "output_type": "execute_result"
    }
   ],
   "source": [
    "y_pred.loc[y_pred.design_en.str.contains(\"Veiled\")]"
   ]
  },
  {
   "cell_type": "code",
   "execution_count": 37,
   "metadata": {
    "tags": []
   },
   "outputs": [
    {
     "data": {
      "text/plain": [
       "[('Athena', 'PERSON', 'wearing', 'Helmet', 'OBJECT'),\n",
       " ('Alexander', 'PERSON', 'wearing', 'Diadem', 'OBJECT')]"
      ]
     },
     "execution_count": 37,
     "metadata": {},
     "output_type": "execute_result"
    }
   ],
   "source": [
    "design = \"Diademed Alexander the Great to the left and helmeted Athena to the right.\"\n",
    "auto_relations = relations_from_adjectives_single(design,ner_model_directory, ner_model_name, id_col, design_col, obj_list)\n",
    "model_relations = predict_re_single_sentence(model, design, id_col, design_col)\n",
    "concat_relations(auto_relations, model_relations)"
   ]
  },
  {
   "cell_type": "markdown",
   "metadata": {},
   "source": [
    "## Prediction dataframe"
   ]
  },
  {
   "cell_type": "code",
   "execution_count": 38,
   "metadata": {},
   "outputs": [],
   "source": [
    "pre_df = X_test.merge(y_pred, left_on=id_col, right_on =id_col)"
   ]
  },
  {
   "cell_type": "code",
   "execution_count": 39,
   "metadata": {},
   "outputs": [
    {
     "data": {
      "text/html": [
       "<div>\n",
       "<style scoped>\n",
       "    .dataframe tbody tr th:only-of-type {\n",
       "        vertical-align: middle;\n",
       "    }\n",
       "\n",
       "    .dataframe tbody tr th {\n",
       "        vertical-align: top;\n",
       "    }\n",
       "\n",
       "    .dataframe thead th {\n",
       "        text-align: right;\n",
       "    }\n",
       "</style>\n",
       "<table border=\"1\" class=\"dataframe\">\n",
       "  <thead>\n",
       "    <tr style=\"text-align: right;\">\n",
       "      <th></th>\n",
       "      <th>id</th>\n",
       "      <th>design_en_x</th>\n",
       "      <th>y</th>\n",
       "      <th>design_en_y</th>\n",
       "    </tr>\n",
       "  </thead>\n",
       "  <tbody>\n",
       "    <tr>\n",
       "      <th>0</th>\n",
       "      <td>347</td>\n",
       "      <td>Heracles kneeling right, wearing lion skin, dr...</td>\n",
       "      <td>[(Heracles, PERSON, wearing, lion skin, OBJECT)]</td>\n",
       "      <td>Heracles kneeling right, wearing lion skin, dr...</td>\n",
       "    </tr>\n",
       "    <tr>\n",
       "      <th>1</th>\n",
       "      <td>232</td>\n",
       "      <td>Nude athlete advancing left, head right, hair ...</td>\n",
       "      <td>[(athlete, PERSON, holding, wreath, OBJECT), (...</td>\n",
       "      <td>Nude athlete advancing left, head right, hair ...</td>\n",
       "    </tr>\n",
       "    <tr>\n",
       "      <th>2</th>\n",
       "      <td>870</td>\n",
       "      <td>Head of Demeter, right, wearing earrings and n...</td>\n",
       "      <td>[(Demeter, PERSON, wearing, earrings, OBJECT),...</td>\n",
       "      <td>Head of Demeter, right, wearing earrings and n...</td>\n",
       "    </tr>\n",
       "    <tr>\n",
       "      <th>3</th>\n",
       "      <td>749</td>\n",
       "      <td>Nude Apollo (Bonus Eventus) standing left, hol...</td>\n",
       "      <td>[(Apollo, PERSON, holding, patera, OBJECT)]</td>\n",
       "      <td>Nude Apollo (Bonus Eventus) standing left, hol...</td>\n",
       "    </tr>\n",
       "    <tr>\n",
       "      <th>4</th>\n",
       "      <td>613</td>\n",
       "      <td>Diademed head of Ptolemy III Euergetes, right,...</td>\n",
       "      <td>[(Ptolemy iii euergetes, PERSON, wearing, Diad...</td>\n",
       "      <td>Diademed head of Ptolemy III Euergetes, right,...</td>\n",
       "    </tr>\n",
       "    <tr>\n",
       "      <th>5</th>\n",
       "      <td>846</td>\n",
       "      <td>Eirene standing facing, head right, holding a ...</td>\n",
       "      <td>[]</td>\n",
       "      <td>Eirene standing facing, head right, holding a ...</td>\n",
       "    </tr>\n",
       "    <tr>\n",
       "      <th>6</th>\n",
       "      <td>933</td>\n",
       "      <td>Hermes standing right, wearing petasus and chl...</td>\n",
       "      <td>[(Hermes, PERSON, holding, petasus, OBJECT), (...</td>\n",
       "      <td>Hermes standing right, wearing petasus and chl...</td>\n",
       "    </tr>\n",
       "    <tr>\n",
       "      <th>7</th>\n",
       "      <td>267</td>\n",
       "      <td>Nike standing in galloping biga, right; holdin...</td>\n",
       "      <td>[(Nike, PERSON, standing, biga, OBJECT), (Nike...</td>\n",
       "      <td>Nike standing in galloping biga, right; holdin...</td>\n",
       "    </tr>\n",
       "    <tr>\n",
       "      <th>8</th>\n",
       "      <td>209</td>\n",
       "      <td>Nude bearded Heracles advancing left, wearing ...</td>\n",
       "      <td>[(Heracles, PERSON, wearing, lion skin, OBJECT...</td>\n",
       "      <td>Nude bearded Heracles advancing left, wearing ...</td>\n",
       "    </tr>\n",
       "    <tr>\n",
       "      <th>9</th>\n",
       "      <td>258</td>\n",
       "      <td>Veiled Demeter seated left on rock, holding tw...</td>\n",
       "      <td>[(Demeter, PERSON, seated_on, rock, OBJECT), (...</td>\n",
       "      <td>Veiled Demeter seated left on rock, holding tw...</td>\n",
       "    </tr>\n",
       "  </tbody>\n",
       "</table>\n",
       "</div>"
      ],
      "text/plain": [
       "    id                                        design_en_x  \\\n",
       "0  347  Heracles kneeling right, wearing lion skin, dr...   \n",
       "1  232  Nude athlete advancing left, head right, hair ...   \n",
       "2  870  Head of Demeter, right, wearing earrings and n...   \n",
       "3  749  Nude Apollo (Bonus Eventus) standing left, hol...   \n",
       "4  613  Diademed head of Ptolemy III Euergetes, right,...   \n",
       "5  846  Eirene standing facing, head right, holding a ...   \n",
       "6  933  Hermes standing right, wearing petasus and chl...   \n",
       "7  267  Nike standing in galloping biga, right; holdin...   \n",
       "8  209  Nude bearded Heracles advancing left, wearing ...   \n",
       "9  258  Veiled Demeter seated left on rock, holding tw...   \n",
       "\n",
       "                                                   y  \\\n",
       "0   [(Heracles, PERSON, wearing, lion skin, OBJECT)]   \n",
       "1  [(athlete, PERSON, holding, wreath, OBJECT), (...   \n",
       "2  [(Demeter, PERSON, wearing, earrings, OBJECT),...   \n",
       "3        [(Apollo, PERSON, holding, patera, OBJECT)]   \n",
       "4  [(Ptolemy iii euergetes, PERSON, wearing, Diad...   \n",
       "5                                                 []   \n",
       "6  [(Hermes, PERSON, holding, petasus, OBJECT), (...   \n",
       "7  [(Nike, PERSON, standing, biga, OBJECT), (Nike...   \n",
       "8  [(Heracles, PERSON, wearing, lion skin, OBJECT...   \n",
       "9  [(Demeter, PERSON, seated_on, rock, OBJECT), (...   \n",
       "\n",
       "                                         design_en_y  \n",
       "0  Heracles kneeling right, wearing lion skin, dr...  \n",
       "1  Nude athlete advancing left, head right, hair ...  \n",
       "2  Head of Demeter, right, wearing earrings and n...  \n",
       "3  Nude Apollo (Bonus Eventus) standing left, hol...  \n",
       "4  Diademed head of Ptolemy III Euergetes, right,...  \n",
       "5  Eirene standing facing, head right, holding a ...  \n",
       "6  Hermes standing right, wearing petasus and chl...  \n",
       "7  Nike standing in galloping biga, right; holdin...  \n",
       "8  Nude bearded Heracles advancing left, wearing ...  \n",
       "9  Veiled Demeter seated left on rock, holding tw...  "
      ]
     },
     "execution_count": 39,
     "metadata": {},
     "output_type": "execute_result"
    }
   ],
   "source": [
    "pre_df.head(10)"
   ]
  },
  {
   "cell_type": "markdown",
   "metadata": {
    "tags": []
   },
   "source": [
    "## Upload to mysql"
   ]
  },
  {
   "cell_type": "code",
   "execution_count": 40,
   "metadata": {},
   "outputs": [],
   "source": [
    "upload = False"
   ]
  },
  {
   "cell_type": "code",
   "execution_count": 41,
   "metadata": {
    "tags": []
   },
   "outputs": [],
   "source": [
    "if upload ==True:\n",
    "    dc =  Database_Connection(\"mysql+mysqlconnector://YourConnection\")\n",
    "    cnt_designs = dc.load_designs_from_db(\"designs\", [\"DesignID\", \"DesignEng\"])\n",
    "    cnt_designs.rename(columns={\"DesignEng\":\"Design\"}, inplace=True) # if english\n",
    "    cnt_pred = pipeline.predict(cnt_designs)\n",
    "    cnt_pipeline_output = pd.DataFrame([(str(designid), *relation) for  _, (designid, relation_list) in cnt_pred.iterrows()\n",
    "                    for relation in relation_list],\n",
    "            columns=[\"DesignID\", \"Person\", \"Label_Person\", \"Relation\", \"Object\",\n",
    "                     \"Label_Object\"])\n",
    "    cnt_pipeline_output.to_sql(\"CNO.cnt_pipeline_output\",dc.mysql_connection,if_exists=\"replace\", index=False)"
   ]
  }
 ],
 "metadata": {
  "kernelspec": {
   "display_name": "Python 3 (ipykernel)",
   "language": "python",
   "name": "python3"
  },
  "language_info": {
   "codemirror_mode": {
    "name": "ipython",
    "version": 3
   },
   "file_extension": ".py",
   "mimetype": "text/x-python",
   "name": "python",
   "nbconvert_exporter": "python",
   "pygments_lexer": "ipython3",
   "version": "3.8.13"
  }
 },
 "nbformat": 4,
 "nbformat_minor": 4
}
