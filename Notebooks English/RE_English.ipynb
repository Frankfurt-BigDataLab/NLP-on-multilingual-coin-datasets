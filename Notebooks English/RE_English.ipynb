{
 "cells": [
  {
   "cell_type": "markdown",
   "metadata": {},
   "source": [
    "developed by Patricia Klinger, modified by Sebastian Gampe, Kerim Gencer, Chrisowalandis Deligio"
   ]
  },
  {
   "cell_type": "code",
   "execution_count": 1,
   "metadata": {},
   "outputs": [],
   "source": [
    "import sys\n",
    "sys.path.append('../')\n",
    "import pandas as pd\n",
    "import random\n",
    "import os\n",
    "import numpy as np\n",
    "from cnt.model import (DesignEstimator, RelationExtractor, save_pipeline, load_pipeline, predict_re_single_sentence, \n",
    "relations_from_adjectives_df, relations_from_adjectives_single, concat_relations)\n",
    "from cnt.annotate import (annotate, annotate_single_design, \n",
    "                          annotate_designs, \n",
    "                          extract_string_from_annotation, labeling_eng)\n",
    "from cnt.extract_relation import (path, NERTransformer, FeatureExtractor)\n",
    "from cnt.evaluate import Metrics\n",
    "from cnt.vectorize import (Doc2Str, Path2Str, Verbs2Str, AveragedPath2Vec, \n",
    "                           AveragedRest2Vec)\n",
    "from cnt.io import (replace_left_right)\n",
    "from cnt.io import  Database_Connection\n",
    "from sklearn.model_selection import train_test_split\n",
    "from sklearn.pipeline import Pipeline, make_pipeline, make_union\n",
    "from sklearn.feature_extraction.text import TfidfVectorizer, CountVectorizer\n",
    "from sklearn.svm import SVC\n",
    "from sklearn.linear_model import LogisticRegression\n",
    "from sklearn.ensemble import RandomForestClassifier\n",
    "from sklearn.preprocessing import Normalizer\n",
    "from sklearn.naive_bayes import MultinomialNB\n",
    "from itertools import product\n",
    "import warnings\n",
    "warnings.filterwarnings('ignore')"
   ]
  },
  {
   "cell_type": "markdown",
   "metadata": {
    "tags": []
   },
   "source": [
    "### Define the column names for the id and design column "
   ]
  },
  {
   "cell_type": "code",
   "execution_count": 2,
   "metadata": {},
   "outputs": [],
   "source": [
    "id_col = \"id\"\n",
    "design_col = \"design_en\""
   ]
  },
  {
   "cell_type": "markdown",
   "metadata": {},
   "source": [
    "### Load yaml file with annotated data"
   ]
  },
  {
   "cell_type": "code",
   "execution_count": 3,
   "metadata": {},
   "outputs": [],
   "source": [
    "import yaml\n",
    "import_path = \"../data/English_RE_data.yaml\"\n",
    "with open(import_path, encoding='utf8') as f:\n",
    "    dictionary = yaml.safe_load(f)\n",
    "    d = {replace_left_right(key): value for key, value in dictionary.items()}"
   ]
  },
  {
   "cell_type": "code",
   "execution_count": 4,
   "metadata": {},
   "outputs": [
    {
     "data": {
      "text/plain": [
       "[('holding', 1113),\n",
       " ('wearing', 781),\n",
       " ('resting_on', 238),\n",
       " ('seated_on', 88),\n",
       " ('grasping', 36),\n",
       " ('standing', 36),\n",
       " ('crowning', 14),\n",
       " ('feeding', 10),\n",
       " ('coiling', 7),\n",
       " ('breaking', 4),\n",
       " ('pushing', 3),\n",
       " ('flying_over', 2),\n",
       " ('receiving', 2),\n",
       " ('escorted_by', 1)]"
      ]
     },
     "execution_count": 4,
     "metadata": {},
     "output_type": "execute_result"
    }
   ],
   "source": [
    "relation_counts = {}\n",
    "labels = []\n",
    "for sentence, relations in d.items():\n",
    "    for rel in relations:\n",
    "        rel_name = rel[1]\n",
    "        if rel_name not in relation_counts:\n",
    "            relation_counts[rel_name] = 1\n",
    "        else:\n",
    "            relation_counts[rel_name] += 1\n",
    "\n",
    "sorted(relation_counts.items(), key= lambda x: (-x[1], x[0]))"
   ]
  },
  {
   "cell_type": "code",
   "execution_count": 5,
   "metadata": {
    "tags": []
   },
   "outputs": [],
   "source": [
    "dc =  Database_Connection(\"mysql+mysqlconnector://root:YourConnection\") # Format user:password@IP/Database"
   ]
  },
  {
   "cell_type": "code",
   "execution_count": 7,
   "metadata": {
    "tags": []
   },
   "outputs": [],
   "source": [
    "language = \"_en\"\n",
    "add_columns = [\"name\"+language, \"alternativenames\"+language]"
   ]
  },
  {
   "cell_type": "code",
   "execution_count": 8,
   "metadata": {
    "tags": []
   },
   "outputs": [],
   "source": [
    "entities = {\n",
    "    \"PERSON\": dc.load_entities_from_db(\"nlp_list_person\", [\"name\", \"alternativenames\"], [\"alternativenames\"], \",\", True),\n",
    "    \"OBJECT\": dc.load_entities_from_db(\"nlp_list_obj\", add_columns, [add_columns[1]], \",\", True),\n",
    "    \"ANIMAL\": dc.load_entities_from_db(\"nlp_list_animal\", add_columns, [add_columns[1]], \",\", True),\n",
    "    \"PLANT\": dc.load_entities_from_db(\"nlp_list_plant\", add_columns, [add_columns[1]], \",\", True)}"
   ]
  },
  {
   "cell_type": "code",
   "execution_count": 9,
   "metadata": {
    "tags": []
   },
   "outputs": [],
   "source": [
    "X_list, y_list = labeling_eng(d, entities)"
   ]
  },
  {
   "cell_type": "code",
   "execution_count": 10,
   "metadata": {
    "tags": []
   },
   "outputs": [],
   "source": [
    "X = pd.DataFrame({design_col: X_list, \"y\" : y_list})"
   ]
  },
  {
   "cell_type": "code",
   "execution_count": 11,
   "metadata": {
    "tags": []
   },
   "outputs": [
    {
     "data": {
      "text/plain": [
       "(1029, 2)"
      ]
     },
     "execution_count": 11,
     "metadata": {},
     "output_type": "execute_result"
    }
   ],
   "source": [
    "X.shape"
   ]
  },
  {
   "cell_type": "code",
   "execution_count": 12,
   "metadata": {
    "tags": []
   },
   "outputs": [],
   "source": [
    "X[id_col] = X.index"
   ]
  },
  {
   "cell_type": "code",
   "execution_count": 13,
   "metadata": {
    "tags": []
   },
   "outputs": [],
   "source": [
    "obj_list = {\n",
    "\"veiled\": (\"wearing\", \"Veil\", \"before\"),\n",
    "\"draped\": (\"wearing\", \"Clothing\", \"before\"),\n",
    "\"helmeted\": (\"wearing\", \"Helmet\", \"before\"),\n",
    "\"diademed\": (\"wearing\", \"Diadem\", \"before\"),\n",
    "\"turreted\": (\"wearing\", \"Mural crown\", \"before\"),\n",
    "\"enthroned\": (\"seated_on\", \"Throne\", \"after\"),\n",
    "\n",
    "}"
   ]
  },
  {
   "cell_type": "code",
   "execution_count": 14,
   "metadata": {
    "tags": []
   },
   "outputs": [],
   "source": [
    "df = pd.DataFrame().from_dict(obj_list, orient=\"index\").rename(columns={0:\"relation\", 1:\"Object\"})\n",
    "df[\"To_Replace\"] = df.index\n",
    "df.reset_index(inplace=True, drop=True)\n",
    "df = df[[\"To_Replace\", \"relation\", \"Object\"]]"
   ]
  },
  {
   "cell_type": "code",
   "execution_count": 16,
   "metadata": {
    "tags": []
   },
   "outputs": [
    {
     "data": {
      "text/html": [
       "<div>\n",
       "<style scoped>\n",
       "    .dataframe tbody tr th:only-of-type {\n",
       "        vertical-align: middle;\n",
       "    }\n",
       "\n",
       "    .dataframe tbody tr th {\n",
       "        vertical-align: top;\n",
       "    }\n",
       "\n",
       "    .dataframe thead th {\n",
       "        text-align: right;\n",
       "    }\n",
       "</style>\n",
       "<table border=\"1\" class=\"dataframe\">\n",
       "  <thead>\n",
       "    <tr style=\"text-align: right;\">\n",
       "      <th></th>\n",
       "      <th>design_en</th>\n",
       "      <th>y</th>\n",
       "      <th>id</th>\n",
       "    </tr>\n",
       "  </thead>\n",
       "  <tbody>\n",
       "    <tr>\n",
       "      <th>0</th>\n",
       "      <td>Amphora with ribbed surface and crooked handle...</td>\n",
       "      <td>[(Amphora, OBJECT, holding, poppy, PLANT), (Am...</td>\n",
       "      <td>0</td>\n",
       "    </tr>\n",
       "    <tr>\n",
       "      <th>1</th>\n",
       "      <td>Half-nude Aphrodite standing facing, head left...</td>\n",
       "      <td>[(Aphrodite, PERSON, holding, apple, PLANT)]</td>\n",
       "      <td>1</td>\n",
       "    </tr>\n",
       "    <tr>\n",
       "      <th>2</th>\n",
       "      <td>Nude Aphrodite standing facing, head right, co...</td>\n",
       "      <td>[(Eros, PERSON, seated_on, dolphin, ANIMAL)]</td>\n",
       "      <td>2</td>\n",
       "    </tr>\n",
       "    <tr>\n",
       "      <th>3</th>\n",
       "      <td>Nude Apollo standing facing, head left, left l...</td>\n",
       "      <td>[(Apollo, PERSON, holding, patera, OBJECT), (s...</td>\n",
       "      <td>3</td>\n",
       "    </tr>\n",
       "    <tr>\n",
       "      <th>4</th>\n",
       "      <td>Artemis advancing right, wearing short flutter...</td>\n",
       "      <td>[(Artemis, PERSON, wearing, chiton, OBJECT), (...</td>\n",
       "      <td>4</td>\n",
       "    </tr>\n",
       "  </tbody>\n",
       "</table>\n",
       "</div>"
      ],
      "text/plain": [
       "                                           design_en  \\\n",
       "0  Amphora with ribbed surface and crooked handle...   \n",
       "1  Half-nude Aphrodite standing facing, head left...   \n",
       "2  Nude Aphrodite standing facing, head right, co...   \n",
       "3  Nude Apollo standing facing, head left, left l...   \n",
       "4  Artemis advancing right, wearing short flutter...   \n",
       "\n",
       "                                                   y  id  \n",
       "0  [(Amphora, OBJECT, holding, poppy, PLANT), (Am...   0  \n",
       "1       [(Aphrodite, PERSON, holding, apple, PLANT)]   1  \n",
       "2       [(Eros, PERSON, seated_on, dolphin, ANIMAL)]   2  \n",
       "3  [(Apollo, PERSON, holding, patera, OBJECT), (s...   3  \n",
       "4  [(Artemis, PERSON, wearing, chiton, OBJECT), (...   4  "
      ]
     },
     "execution_count": 16,
     "metadata": {},
     "output_type": "execute_result"
    }
   ],
   "source": [
    "X.head(5)"
   ]
  },
  {
   "cell_type": "markdown",
   "metadata": {},
   "source": [
    "### Train the RE model"
   ]
  },
  {
   "cell_type": "code",
   "execution_count": 17,
   "metadata": {
    "tags": []
   },
   "outputs": [],
   "source": [
    "classifier = LogisticRegression(max_iter=1000)\n",
    "string_converter = Path2Str(pos=True) \n",
    "vectorizer = CountVectorizer(ngram_range=(1,3))\n",
    "feature = make_pipeline(string_converter, vectorizer)"
   ]
  },
  {
   "cell_type": "code",
   "execution_count": 18,
   "metadata": {
    "tags": []
   },
   "outputs": [],
   "source": [
    "X_train, X_test, y_train, y_test = train_test_split(X[[id_col, design_col]], X[[id_col, \"y\"]], test_size=0.25, random_state=33)"
   ]
  },
  {
   "cell_type": "markdown",
   "metadata": {},
   "source": [
    "#### load pretrained NER-Model"
   ]
  },
  {
   "cell_type": "code",
   "execution_count": 19,
   "metadata": {
    "tags": []
   },
   "outputs": [],
   "source": [
    "ner_model_directory = \"../cnt/trained_model/ner/english/\"\n",
    "ner_model_name = \"english_cno\""
   ]
  },
  {
   "cell_type": "markdown",
   "metadata": {},
   "source": [
    "#### define RE-Model path"
   ]
  },
  {
   "cell_type": "code",
   "execution_count": 20,
   "metadata": {
    "tags": []
   },
   "outputs": [],
   "source": [
    "re_model_directory = \"../cnt/trained_model/re/\"\n",
    "re_model_name = \"english_cno\""
   ]
  },
  {
   "cell_type": "code",
   "execution_count": 21,
   "metadata": {
    "tags": []
   },
   "outputs": [
    {
     "data": {
      "text/html": [
       "<style>#sk-container-id-1 {color: black;}#sk-container-id-1 pre{padding: 0;}#sk-container-id-1 div.sk-toggleable {background-color: white;}#sk-container-id-1 label.sk-toggleable__label {cursor: pointer;display: block;width: 100%;margin-bottom: 0;padding: 0.3em;box-sizing: border-box;text-align: center;}#sk-container-id-1 label.sk-toggleable__label-arrow:before {content: \"▸\";float: left;margin-right: 0.25em;color: #696969;}#sk-container-id-1 label.sk-toggleable__label-arrow:hover:before {color: black;}#sk-container-id-1 div.sk-estimator:hover label.sk-toggleable__label-arrow:before {color: black;}#sk-container-id-1 div.sk-toggleable__content {max-height: 0;max-width: 0;overflow: hidden;text-align: left;background-color: #f0f8ff;}#sk-container-id-1 div.sk-toggleable__content pre {margin: 0.2em;color: black;border-radius: 0.25em;background-color: #f0f8ff;}#sk-container-id-1 input.sk-toggleable__control:checked~div.sk-toggleable__content {max-height: 200px;max-width: 100%;overflow: auto;}#sk-container-id-1 input.sk-toggleable__control:checked~label.sk-toggleable__label-arrow:before {content: \"▾\";}#sk-container-id-1 div.sk-estimator input.sk-toggleable__control:checked~label.sk-toggleable__label {background-color: #d4ebff;}#sk-container-id-1 div.sk-label input.sk-toggleable__control:checked~label.sk-toggleable__label {background-color: #d4ebff;}#sk-container-id-1 input.sk-hidden--visually {border: 0;clip: rect(1px 1px 1px 1px);clip: rect(1px, 1px, 1px, 1px);height: 1px;margin: -1px;overflow: hidden;padding: 0;position: absolute;width: 1px;}#sk-container-id-1 div.sk-estimator {font-family: monospace;background-color: #f0f8ff;border: 1px dotted black;border-radius: 0.25em;box-sizing: border-box;margin-bottom: 0.5em;}#sk-container-id-1 div.sk-estimator:hover {background-color: #d4ebff;}#sk-container-id-1 div.sk-parallel-item::after {content: \"\";width: 100%;border-bottom: 1px solid gray;flex-grow: 1;}#sk-container-id-1 div.sk-label:hover label.sk-toggleable__label {background-color: #d4ebff;}#sk-container-id-1 div.sk-serial::before {content: \"\";position: absolute;border-left: 1px solid gray;box-sizing: border-box;top: 0;bottom: 0;left: 50%;z-index: 0;}#sk-container-id-1 div.sk-serial {display: flex;flex-direction: column;align-items: center;background-color: white;padding-right: 0.2em;padding-left: 0.2em;position: relative;}#sk-container-id-1 div.sk-item {position: relative;z-index: 1;}#sk-container-id-1 div.sk-parallel {display: flex;align-items: stretch;justify-content: center;background-color: white;position: relative;}#sk-container-id-1 div.sk-item::before, #sk-container-id-1 div.sk-parallel-item::before {content: \"\";position: absolute;border-left: 1px solid gray;box-sizing: border-box;top: 0;bottom: 0;left: 50%;z-index: -1;}#sk-container-id-1 div.sk-parallel-item {display: flex;flex-direction: column;z-index: 1;position: relative;background-color: white;}#sk-container-id-1 div.sk-parallel-item:first-child::after {align-self: flex-end;width: 50%;}#sk-container-id-1 div.sk-parallel-item:last-child::after {align-self: flex-start;width: 50%;}#sk-container-id-1 div.sk-parallel-item:only-child::after {width: 0;}#sk-container-id-1 div.sk-dashed-wrapped {border: 1px dashed gray;margin: 0 0.4em 0.5em 0.4em;box-sizing: border-box;padding-bottom: 0.4em;background-color: white;}#sk-container-id-1 div.sk-label label {font-family: monospace;font-weight: bold;display: inline-block;line-height: 1.2em;}#sk-container-id-1 div.sk-label-container {text-align: center;}#sk-container-id-1 div.sk-container {/* jupyter's `normalize.less` sets `[hidden] { display: none; }` but bootstrap.min.css set `[hidden] { display: none !important; }` so we also need the `!important` here to be able to override the default hidden behavior on the sphinx rendered scikit-learn.org. See: https://github.com/scikit-learn/scikit-learn/issues/21755 */display: inline-block !important;position: relative;}#sk-container-id-1 div.sk-text-repr-fallback {display: none;}</style><div id=\"sk-container-id-1\" class=\"sk-top-container\"><div class=\"sk-text-repr-fallback\"><pre>Pipeline(steps=[(&#x27;nertransformer&#x27;,\n",
       "                 NERTransformer(design_col=&#x27;design_en&#x27;, id_col=&#x27;id&#x27;,\n",
       "                                model_dir=&#x27;../cnt/trained_model/ner/english/&#x27;,\n",
       "                                model_name=&#x27;english_cno&#x27;)),\n",
       "                (&#x27;featureextractor&#x27;,\n",
       "                 FeatureExtractor(design_col=&#x27;design_en&#x27;, id_col=&#x27;id&#x27;,\n",
       "                                  model_dir=&#x27;../cnt/trained_model/ner/english/&#x27;,\n",
       "                                  model_name=&#x27;english_cno&#x27;)),\n",
       "                (&#x27;relationextractor&#x27;,\n",
       "                 RelationExtractor(id_col=&#x27;id&#x27;, model_name=&#x27;english_cno&#x27;,\n",
       "                                   output_dir=&#x27;../cnt/trained_model/re/&#x27;,\n",
       "                                   pipeline=Pipeline(steps=[(&#x27;pipeline&#x27;,\n",
       "                                                             Pipeline(steps=[(&#x27;path2str&#x27;,\n",
       "                                                                              Path2Str(pos=True)),\n",
       "                                                                             (&#x27;countvectorizer&#x27;,\n",
       "                                                                              CountVectorizer(ngram_range=(1,\n",
       "                                                                                                           3)))])),\n",
       "                                                            (&#x27;logisticregression&#x27;,\n",
       "                                                             LogisticRegression(max_iter=1000))])))])</pre><b>In a Jupyter environment, please rerun this cell to show the HTML representation or trust the notebook. <br />On GitHub, the HTML representation is unable to render, please try loading this page with nbviewer.org.</b></div><div class=\"sk-container\" hidden><div class=\"sk-item sk-dashed-wrapped\"><div class=\"sk-label-container\"><div class=\"sk-label sk-toggleable\"><input class=\"sk-toggleable__control sk-hidden--visually\" id=\"sk-estimator-id-1\" type=\"checkbox\" ><label for=\"sk-estimator-id-1\" class=\"sk-toggleable__label sk-toggleable__label-arrow\">Pipeline</label><div class=\"sk-toggleable__content\"><pre>Pipeline(steps=[(&#x27;nertransformer&#x27;,\n",
       "                 NERTransformer(design_col=&#x27;design_en&#x27;, id_col=&#x27;id&#x27;,\n",
       "                                model_dir=&#x27;../cnt/trained_model/ner/english/&#x27;,\n",
       "                                model_name=&#x27;english_cno&#x27;)),\n",
       "                (&#x27;featureextractor&#x27;,\n",
       "                 FeatureExtractor(design_col=&#x27;design_en&#x27;, id_col=&#x27;id&#x27;,\n",
       "                                  model_dir=&#x27;../cnt/trained_model/ner/english/&#x27;,\n",
       "                                  model_name=&#x27;english_cno&#x27;)),\n",
       "                (&#x27;relationextractor&#x27;,\n",
       "                 RelationExtractor(id_col=&#x27;id&#x27;, model_name=&#x27;english_cno&#x27;,\n",
       "                                   output_dir=&#x27;../cnt/trained_model/re/&#x27;,\n",
       "                                   pipeline=Pipeline(steps=[(&#x27;pipeline&#x27;,\n",
       "                                                             Pipeline(steps=[(&#x27;path2str&#x27;,\n",
       "                                                                              Path2Str(pos=True)),\n",
       "                                                                             (&#x27;countvectorizer&#x27;,\n",
       "                                                                              CountVectorizer(ngram_range=(1,\n",
       "                                                                                                           3)))])),\n",
       "                                                            (&#x27;logisticregression&#x27;,\n",
       "                                                             LogisticRegression(max_iter=1000))])))])</pre></div></div></div><div class=\"sk-serial\"><div class=\"sk-item\"><div class=\"sk-estimator sk-toggleable\"><input class=\"sk-toggleable__control sk-hidden--visually\" id=\"sk-estimator-id-2\" type=\"checkbox\" ><label for=\"sk-estimator-id-2\" class=\"sk-toggleable__label sk-toggleable__label-arrow\">NERTransformer</label><div class=\"sk-toggleable__content\"><pre>NERTransformer(design_col=&#x27;design_en&#x27;, id_col=&#x27;id&#x27;,\n",
       "               model_dir=&#x27;../cnt/trained_model/ner/english/&#x27;,\n",
       "               model_name=&#x27;english_cno&#x27;)</pre></div></div></div><div class=\"sk-item\"><div class=\"sk-estimator sk-toggleable\"><input class=\"sk-toggleable__control sk-hidden--visually\" id=\"sk-estimator-id-3\" type=\"checkbox\" ><label for=\"sk-estimator-id-3\" class=\"sk-toggleable__label sk-toggleable__label-arrow\">FeatureExtractor</label><div class=\"sk-toggleable__content\"><pre>FeatureExtractor(design_col=&#x27;design_en&#x27;, id_col=&#x27;id&#x27;,\n",
       "                 model_dir=&#x27;../cnt/trained_model/ner/english/&#x27;,\n",
       "                 model_name=&#x27;english_cno&#x27;)</pre></div></div></div><div class=\"sk-item sk-dashed-wrapped\"><div class=\"sk-label-container\"><div class=\"sk-label sk-toggleable\"><input class=\"sk-toggleable__control sk-hidden--visually\" id=\"sk-estimator-id-4\" type=\"checkbox\" ><label for=\"sk-estimator-id-4\" class=\"sk-toggleable__label sk-toggleable__label-arrow\">relationextractor: RelationExtractor</label><div class=\"sk-toggleable__content\"><pre>RelationExtractor(id_col=&#x27;id&#x27;, model_name=&#x27;english_cno&#x27;,\n",
       "                  output_dir=&#x27;../cnt/trained_model/re/&#x27;,\n",
       "                  pipeline=Pipeline(steps=[(&#x27;pipeline&#x27;,\n",
       "                                            Pipeline(steps=[(&#x27;path2str&#x27;,\n",
       "                                                             Path2Str(pos=True)),\n",
       "                                                            (&#x27;countvectorizer&#x27;,\n",
       "                                                             CountVectorizer(ngram_range=(1,\n",
       "                                                                                          3)))])),\n",
       "                                           (&#x27;logisticregression&#x27;,\n",
       "                                            LogisticRegression(max_iter=1000))]))</pre></div></div></div><div class=\"sk-parallel\"><div class=\"sk-parallel-item\"><div class=\"sk-item\"><div class=\"sk-label-container\"><div class=\"sk-label sk-toggleable\"><input class=\"sk-toggleable__control sk-hidden--visually\" id=\"sk-estimator-id-5\" type=\"checkbox\" ><label for=\"sk-estimator-id-5\" class=\"sk-toggleable__label sk-toggleable__label-arrow\">pipeline: Pipeline</label><div class=\"sk-toggleable__content\"><pre>Pipeline(steps=[(&#x27;pipeline&#x27;,\n",
       "                 Pipeline(steps=[(&#x27;path2str&#x27;, Path2Str(pos=True)),\n",
       "                                 (&#x27;countvectorizer&#x27;,\n",
       "                                  CountVectorizer(ngram_range=(1, 3)))])),\n",
       "                (&#x27;logisticregression&#x27;, LogisticRegression(max_iter=1000))])</pre></div></div></div><div class=\"sk-serial\"><div class=\"sk-item\"><div class=\"sk-serial\"><div class=\"sk-item\"><div class=\"sk-label-container\"><div class=\"sk-label sk-toggleable\"><input class=\"sk-toggleable__control sk-hidden--visually\" id=\"sk-estimator-id-6\" type=\"checkbox\" ><label for=\"sk-estimator-id-6\" class=\"sk-toggleable__label sk-toggleable__label-arrow\">pipeline: Pipeline</label><div class=\"sk-toggleable__content\"><pre>Pipeline(steps=[(&#x27;path2str&#x27;, Path2Str(pos=True)),\n",
       "                (&#x27;countvectorizer&#x27;, CountVectorizer(ngram_range=(1, 3)))])</pre></div></div></div><div class=\"sk-serial\"><div class=\"sk-item\"><div class=\"sk-estimator sk-toggleable\"><input class=\"sk-toggleable__control sk-hidden--visually\" id=\"sk-estimator-id-7\" type=\"checkbox\" ><label for=\"sk-estimator-id-7\" class=\"sk-toggleable__label sk-toggleable__label-arrow\">Path2Str</label><div class=\"sk-toggleable__content\"><pre>Path2Str(pos=True)</pre></div></div></div><div class=\"sk-item\"><div class=\"sk-estimator sk-toggleable\"><input class=\"sk-toggleable__control sk-hidden--visually\" id=\"sk-estimator-id-8\" type=\"checkbox\" ><label for=\"sk-estimator-id-8\" class=\"sk-toggleable__label sk-toggleable__label-arrow\">CountVectorizer</label><div class=\"sk-toggleable__content\"><pre>CountVectorizer(ngram_range=(1, 3))</pre></div></div></div></div></div><div class=\"sk-item\"><div class=\"sk-estimator sk-toggleable\"><input class=\"sk-toggleable__control sk-hidden--visually\" id=\"sk-estimator-id-9\" type=\"checkbox\" ><label for=\"sk-estimator-id-9\" class=\"sk-toggleable__label sk-toggleable__label-arrow\">LogisticRegression</label><div class=\"sk-toggleable__content\"><pre>LogisticRegression(max_iter=1000)</pre></div></div></div></div></div></div></div></div></div></div></div></div></div></div>"
      ],
      "text/plain": [
       "Pipeline(steps=[('nertransformer',\n",
       "                 NERTransformer(design_col='design_en', id_col='id',\n",
       "                                model_dir='../cnt/trained_model/ner/english/',\n",
       "                                model_name='english_cno')),\n",
       "                ('featureextractor',\n",
       "                 FeatureExtractor(design_col='design_en', id_col='id',\n",
       "                                  model_dir='../cnt/trained_model/ner/english/',\n",
       "                                  model_name='english_cno')),\n",
       "                ('relationextractor',\n",
       "                 RelationExtractor(id_col='id', model_name='english_cno',\n",
       "                                   output_dir='../cnt/trained_model/re/',\n",
       "                                   pipeline=Pipeline(steps=[('pipeline',\n",
       "                                                             Pipeline(steps=[('path2str',\n",
       "                                                                              Path2Str(pos=True)),\n",
       "                                                                             ('countvectorizer',\n",
       "                                                                              CountVectorizer(ngram_range=(1,\n",
       "                                                                                                           3)))])),\n",
       "                                                            ('logisticregression',\n",
       "                                                             LogisticRegression(max_iter=1000))])))])"
      ]
     },
     "execution_count": 21,
     "metadata": {},
     "output_type": "execute_result"
    }
   ],
   "source": [
    "inner_pipeline = make_pipeline(feature, classifier)\n",
    "pipeline = make_pipeline(NERTransformer(ner_model_directory, ner_model_name, id_col, design_col),\n",
    "                         FeatureExtractor(ner_model_directory, ner_model_name, id_col, design_col),\n",
    "                         RelationExtractor(inner_pipeline, re_model_directory, re_model_name, id_col))\n",
    "pipeline.fit(X_train, y_train)"
   ]
  },
  {
   "cell_type": "markdown",
   "metadata": {},
   "source": [
    "## Save and Load model"
   ]
  },
  {
   "cell_type": "code",
   "execution_count": 22,
   "metadata": {
    "tags": []
   },
   "outputs": [],
   "source": [
    "save_pipeline(pipeline, re_model_directory, re_model_name)"
   ]
  },
  {
   "cell_type": "code",
   "execution_count": 23,
   "metadata": {
    "tags": []
   },
   "outputs": [],
   "source": [
    "model = load_pipeline(re_model_directory, re_model_name)"
   ]
  },
  {
   "cell_type": "markdown",
   "metadata": {},
   "source": [
    "## Predict"
   ]
  },
  {
   "cell_type": "code",
   "execution_count": 24,
   "metadata": {
    "tags": []
   },
   "outputs": [],
   "source": [
    "y_pred = model.predict(X_test)"
   ]
  },
  {
   "cell_type": "code",
   "execution_count": 25,
   "metadata": {
    "tags": []
   },
   "outputs": [],
   "source": [
    "metrics = Metrics()"
   ]
  },
  {
   "cell_type": "code",
   "execution_count": 26,
   "metadata": {
    "tags": []
   },
   "outputs": [],
   "source": [
    "precision, recall = metrics.score_precision_recall(y_test, y_pred)\n",
    "F1 = (2*precision*recall) / (precision + recall)"
   ]
  },
  {
   "cell_type": "code",
   "execution_count": 27,
   "metadata": {
    "tags": []
   },
   "outputs": [
    {
     "name": "stdout",
     "output_type": "stream",
     "text": [
      "Precision 87.2\n",
      "Recall 79.96\n",
      "F1 83.43\n"
     ]
    }
   ],
   "source": [
    "print(\"Precision\", round(precision*100,2))\n",
    "print(\"Recall\", round(recall*100,2))\n",
    "print(\"F1\", round(F1*100,2))"
   ]
  },
  {
   "cell_type": "code",
   "execution_count": 28,
   "metadata": {
    "tags": []
   },
   "outputs": [],
   "source": [
    "y_pred[\"design_en\"] = X_test.design_en"
   ]
  },
  {
   "cell_type": "code",
   "execution_count": 29,
   "metadata": {},
   "outputs": [],
   "source": [
    "y_pred = relations_from_adjectives_df(y_pred, \"design_en\", \"y\", ner_model_directory, ner_model_name, id_col, design_col, obj_list, entities_to_consider=[\"PERSON\"])"
   ]
  },
  {
   "cell_type": "code",
   "execution_count": 30,
   "metadata": {
    "tags": []
   },
   "outputs": [
    {
     "data": {
      "text/html": [
       "<div>\n",
       "<style scoped>\n",
       "    .dataframe tbody tr th:only-of-type {\n",
       "        vertical-align: middle;\n",
       "    }\n",
       "\n",
       "    .dataframe tbody tr th {\n",
       "        vertical-align: top;\n",
       "    }\n",
       "\n",
       "    .dataframe thead th {\n",
       "        text-align: right;\n",
       "    }\n",
       "</style>\n",
       "<table border=\"1\" class=\"dataframe\">\n",
       "  <thead>\n",
       "    <tr style=\"text-align: right;\">\n",
       "      <th></th>\n",
       "      <th>id</th>\n",
       "      <th>y</th>\n",
       "      <th>design_en</th>\n",
       "    </tr>\n",
       "  </thead>\n",
       "  <tbody>\n",
       "    <tr>\n",
       "      <th>31</th>\n",
       "      <td>31</td>\n",
       "      <td>[(Demeter, PERSON, seated_on, basket, OBJECT),...</td>\n",
       "      <td>Veiled Demeter seated left on basket, wearing ...</td>\n",
       "    </tr>\n",
       "    <tr>\n",
       "      <th>539</th>\n",
       "      <td>539</td>\n",
       "      <td>[(Hera, PERSON, wearing, kalathos, OBJECT), (H...</td>\n",
       "      <td>Veiled Hera (Samios) standing left, wearing ka...</td>\n",
       "    </tr>\n",
       "    <tr>\n",
       "      <th>684</th>\n",
       "      <td>684</td>\n",
       "      <td>[(Demeter, PERSON, seated_on, altar, OBJECT), ...</td>\n",
       "      <td>Veiled Demeter seated left on altar, wearing c...</td>\n",
       "    </tr>\n",
       "    <tr>\n",
       "      <th>257</th>\n",
       "      <td>257</td>\n",
       "      <td>[(Demeter, PERSON, wearing, corn wreath, OBJEC...</td>\n",
       "      <td>Veiled Demeter seated left cista mystica with ...</td>\n",
       "    </tr>\n",
       "    <tr>\n",
       "      <th>366</th>\n",
       "      <td>366</td>\n",
       "      <td>[(Demeter, PERSON, wearing, garment, OBJECT), ...</td>\n",
       "      <td>Veiled Demeter standing facing, head left, wea...</td>\n",
       "    </tr>\n",
       "    <tr>\n",
       "      <th>21</th>\n",
       "      <td>21</td>\n",
       "      <td>[(Demeter, PERSON, wearing, corn wreath, OBJEC...</td>\n",
       "      <td>Veiled and draped bust of Demeter, right, wear...</td>\n",
       "    </tr>\n",
       "    <tr>\n",
       "      <th>16</th>\n",
       "      <td>16</td>\n",
       "      <td>[(Cybele, PERSON, holding, patera, OBJECT), (C...</td>\n",
       "      <td>Veiled and turreted Cybele enthroned left, hol...</td>\n",
       "    </tr>\n",
       "    <tr>\n",
       "      <th>702</th>\n",
       "      <td>702</td>\n",
       "      <td>[(Demeter, PERSON, seated_on, rock, OBJECT), (...</td>\n",
       "      <td>Veiled Demeter seated left on rock, holding ea...</td>\n",
       "    </tr>\n",
       "    <tr>\n",
       "      <th>180</th>\n",
       "      <td>180</td>\n",
       "      <td>[(Demeter, PERSON, wearing, corn wreath, OBJEC...</td>\n",
       "      <td>Veiled and draped bust of Demeter, right, wear...</td>\n",
       "    </tr>\n",
       "    <tr>\n",
       "      <th>22</th>\n",
       "      <td>22</td>\n",
       "      <td>[(Demeter, PERSON, wearing, corn wreath, OBJEC...</td>\n",
       "      <td>Veiled head of Demeter, right, wearing corn wr...</td>\n",
       "    </tr>\n",
       "  </tbody>\n",
       "</table>\n",
       "</div>"
      ],
      "text/plain": [
       "      id                                                  y  \\\n",
       "31    31  [(Demeter, PERSON, seated_on, basket, OBJECT),...   \n",
       "539  539  [(Hera, PERSON, wearing, kalathos, OBJECT), (H...   \n",
       "684  684  [(Demeter, PERSON, seated_on, altar, OBJECT), ...   \n",
       "257  257  [(Demeter, PERSON, wearing, corn wreath, OBJEC...   \n",
       "366  366  [(Demeter, PERSON, wearing, garment, OBJECT), ...   \n",
       "21    21  [(Demeter, PERSON, wearing, corn wreath, OBJEC...   \n",
       "16    16  [(Cybele, PERSON, holding, patera, OBJECT), (C...   \n",
       "702  702  [(Demeter, PERSON, seated_on, rock, OBJECT), (...   \n",
       "180  180  [(Demeter, PERSON, wearing, corn wreath, OBJEC...   \n",
       "22    22  [(Demeter, PERSON, wearing, corn wreath, OBJEC...   \n",
       "\n",
       "                                             design_en  \n",
       "31   Veiled Demeter seated left on basket, wearing ...  \n",
       "539  Veiled Hera (Samios) standing left, wearing ka...  \n",
       "684  Veiled Demeter seated left on altar, wearing c...  \n",
       "257  Veiled Demeter seated left cista mystica with ...  \n",
       "366  Veiled Demeter standing facing, head left, wea...  \n",
       "21   Veiled and draped bust of Demeter, right, wear...  \n",
       "16   Veiled and turreted Cybele enthroned left, hol...  \n",
       "702  Veiled Demeter seated left on rock, holding ea...  \n",
       "180  Veiled and draped bust of Demeter, right, wear...  \n",
       "22   Veiled head of Demeter, right, wearing corn wr...  "
      ]
     },
     "execution_count": 30,
     "metadata": {},
     "output_type": "execute_result"
    }
   ],
   "source": [
    "y_pred.loc[y_pred.design_en.str.contains(\"Veiled\")]"
   ]
  },
  {
   "cell_type": "code",
   "execution_count": 34,
   "metadata": {
    "tags": []
   },
   "outputs": [
    {
     "data": {
      "text/plain": [
       "[('Athena', 'PERSON', 'wearing', 'Helmet', 'OBJECT'),\n",
       " ('Alexander the great', 'PERSON', 'wearing', 'Diadem', 'OBJECT')]"
      ]
     },
     "execution_count": 34,
     "metadata": {},
     "output_type": "execute_result"
    }
   ],
   "source": [
    "design = \"Diademed Alexander the Great to the left and helmeted Athena to the right.\"\n",
    "auto_relations = relations_from_adjectives_single(design,ner_model_directory, ner_model_name, id_col, design_col, obj_list)\n",
    "model_relations = predict_re_single_sentence(model, design, id_col, design_col)\n",
    "concat_relations(auto_relations, model_relations)"
   ]
  },
  {
   "cell_type": "markdown",
   "metadata": {},
   "source": [
    "## Prediction dataframe"
   ]
  },
  {
   "cell_type": "code",
   "execution_count": null,
   "metadata": {},
   "outputs": [],
   "source": [
    "pre_df = X_test.merge(y_pred, left_on=id_col, right_on =id_col)"
   ]
  },
  {
   "cell_type": "code",
   "execution_count": null,
   "metadata": {},
   "outputs": [],
   "source": [
    "pre_df"
   ]
  },
  {
   "cell_type": "markdown",
   "metadata": {
    "tags": []
   },
   "source": [
    "## Upload to mysql"
   ]
  },
  {
   "cell_type": "code",
   "execution_count": null,
   "metadata": {},
   "outputs": [],
   "source": [
    "upload = False"
   ]
  },
  {
   "cell_type": "code",
   "execution_count": null,
   "metadata": {
    "tags": []
   },
   "outputs": [],
   "source": [
    "if upload ==True:\n",
    "    dc =  Database_Connection(\"mysql+mysqlconnector://YourConnection\")\n",
    "    cnt_designs = dc.load_designs_from_db(\"designs\", [\"DesignID\", \"DesignEng\"])\n",
    "    cnt_designs.rename(columns={\"DesignEng\":\"Design\"}, inplace=True) # if english\n",
    "    cnt_pred = pipeline.predict(cnt_designs)\n",
    "    cnt_pipeline_output = pd.DataFrame([(str(designid), *relation) for  _, (designid, relation_list) in cnt_pred.iterrows()\n",
    "                    for relation in relation_list],\n",
    "            columns=[\"DesignID\", \"Person\", \"Label_Person\", \"Relation\", \"Object\",\n",
    "                     \"Label_Object\"])\n",
    "    cnt_pipeline_output.to_sql(\"CNO.cnt_pipeline_output\",dc.mysql_connection,if_exists=\"replace\", index=False)"
   ]
  }
 ],
 "metadata": {
  "kernelspec": {
   "display_name": "Python 3 (ipykernel)",
   "language": "python",
   "name": "python3"
  },
  "language_info": {
   "codemirror_mode": {
    "name": "ipython",
    "version": 3
   },
   "file_extension": ".py",
   "mimetype": "text/x-python",
   "name": "python",
   "nbconvert_exporter": "python",
   "pygments_lexer": "ipython3",
   "version": "3.8.18"
  }
 },
 "nbformat": 4,
 "nbformat_minor": 4
}
