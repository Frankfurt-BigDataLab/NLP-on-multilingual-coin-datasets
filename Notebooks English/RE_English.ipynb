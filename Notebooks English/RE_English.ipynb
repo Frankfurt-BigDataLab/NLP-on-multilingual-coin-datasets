{
 "cells": [
  {
   "cell_type": "markdown",
   "metadata": {},
   "source": [
    "developed by Patricia Klinger, modified by Sebastian Gampe, Kerim Gencer, Chrisowalandis Deligio"
   ]
  },
  {
   "cell_type": "code",
   "execution_count": 90,
   "metadata": {},
   "outputs": [],
   "source": [
    "import sys\n",
    "sys.path.append('../')\n",
    "import pandas as pd\n",
    "import random\n",
    "import os\n",
    "import numpy as np\n",
    "from cnt.model import (DesignEstimator, RelationExtractor, save_pipeline, load_pipeline, predict_re_single_sentence, \n",
    "relations_from_adjectives_df, relations_from_adjectives_single, concat_relations)\n",
    "from cnt.annotate import (annotate, annotate_single_design, \n",
    "                          annotate_designs, \n",
    "                          extract_string_from_annotation, labeling_eng)\n",
    "from cnt.extract_relation import (path, NERTransformer, FeatureExtractor)\n",
    "from cnt.evaluate import Metrics\n",
    "from cnt.vectorize import (Doc2Str, Path2Str, Verbs2Str, AveragedPath2Vec, \n",
    "                           AveragedRest2Vec)\n",
    "from cnt.io import (replace_left_right)\n",
    "from cnt.io import  Database_Connection\n",
    "from sklearn.model_selection import train_test_split\n",
    "from sklearn.pipeline import Pipeline, make_pipeline, make_union\n",
    "from sklearn.feature_extraction.text import TfidfVectorizer, CountVectorizer\n",
    "from sklearn.svm import SVC\n",
    "from sklearn.linear_model import LogisticRegression\n",
    "from sklearn.ensemble import RandomForestClassifier\n",
    "from sklearn.preprocessing import Normalizer\n",
    "from sklearn.naive_bayes import MultinomialNB\n",
    "from itertools import product\n",
    "import warnings\n",
    "warnings.filterwarnings('ignore')"
   ]
  },
  {
   "cell_type": "markdown",
   "metadata": {
    "tags": []
   },
   "source": [
    "### Define the column names for the id and design column "
   ]
  },
  {
   "cell_type": "code",
   "execution_count": 91,
   "metadata": {},
   "outputs": [],
   "source": [
    "id_col = \"id\"\n",
    "design_col = \"design_en\""
   ]
  },
  {
   "cell_type": "markdown",
   "metadata": {},
   "source": [
    "### Load yaml file with annotated data"
   ]
  },
  {
   "cell_type": "code",
   "execution_count": 92,
   "metadata": {},
   "outputs": [],
   "source": [
    "import yaml\n",
    "import_path = \"../data/English_RE_data.yaml\"\n",
    "with open(import_path, encoding='utf8') as f:\n",
    "    dictionary = yaml.safe_load(f)\n",
    "    d = {replace_left_right(key): value for key, value in dictionary.items()}"
   ]
  },
  {
   "cell_type": "code",
   "execution_count": 93,
   "metadata": {},
   "outputs": [
    {
     "data": {
      "text/plain": [
       "[('holding', 1113),\n",
       " ('wearing', 781),\n",
       " ('resting_on', 238),\n",
       " ('seated_on', 88),\n",
       " ('grasping', 36),\n",
       " ('standing', 36),\n",
       " ('crowning', 14),\n",
       " ('feeding', 10),\n",
       " ('coiling', 7),\n",
       " ('breaking', 4),\n",
       " ('pushing', 3),\n",
       " ('flying_over', 2),\n",
       " ('receiving', 2),\n",
       " ('escorted_by', 1)]"
      ]
     },
     "execution_count": 93,
     "metadata": {},
     "output_type": "execute_result"
    }
   ],
   "source": [
    "relation_counts = {}\n",
    "labels = []\n",
    "for sentence, relations in d.items():\n",
    "    for rel in relations:\n",
    "        rel_name = rel[1]\n",
    "        if rel_name not in relation_counts:\n",
    "            relation_counts[rel_name] = 1\n",
    "        else:\n",
    "            relation_counts[rel_name] += 1\n",
    "\n",
    "sorted(relation_counts.items(), key= lambda x: (-x[1], x[0]))"
   ]
  },
  {
   "cell_type": "code",
   "execution_count": 94,
   "metadata": {
    "tags": []
   },
   "outputs": [],
   "source": [
    "dc =  Database_Connection(\"mysql+mysqlconnector://root:YourConnection\") # Format user:password@IP/Database"
   ]
  },
  {
   "cell_type": "code",
   "execution_count": 96,
   "metadata": {
    "tags": []
   },
   "outputs": [],
   "source": [
    "language = \"_en\"\n",
    "add_columns = [\"id\", \"name\"+language, \"alternativenames\"+language]"
   ]
  },
  {
   "cell_type": "code",
   "execution_count": 97,
   "metadata": {},
   "outputs": [],
   "source": [
    "entities = {\n",
    "    \"PERSON\": dc.load_entities_from_db(\"nlp_list_person\", [\"name\", \"alternativenames\"], [\"alternativenames\"], \",\", True),\n",
    "    \"OBJECT\": dc.load_entities_from_db(\"nlp_list_obj\", add_columns, [add_columns[1]], \",\", True),\n",
    "    \"ANIMAL\": dc.load_entities_from_db(\"nlp_list_animal\", add_columns, [add_columns[1]], \",\", True),\n",
    "    \"PLANT\": dc.load_entities_from_db(\"nlp_list_plant\", add_columns, [add_columns[1]], \",\", True)}"
   ]
  },
  {
   "cell_type": "code",
   "execution_count": 98,
   "metadata": {
    "tags": []
   },
   "outputs": [],
   "source": [
    "X_list, y_list = labeling_eng(d, entities)"
   ]
  },
  {
   "cell_type": "code",
   "execution_count": 99,
   "metadata": {
    "tags": []
   },
   "outputs": [],
   "source": [
    "X = pd.DataFrame({design_col: X_list, \"y\" : y_list})"
   ]
  },
  {
   "cell_type": "code",
   "execution_count": 100,
   "metadata": {
    "tags": []
   },
   "outputs": [
    {
     "data": {
      "text/plain": [
       "(1029, 2)"
      ]
     },
     "execution_count": 100,
     "metadata": {},
     "output_type": "execute_result"
    }
   ],
   "source": [
    "X.shape"
   ]
  },
  {
   "cell_type": "code",
   "execution_count": 101,
   "metadata": {
    "tags": []
   },
   "outputs": [],
   "source": [
    "X[id_col] = X.index"
   ]
  },
  {
   "cell_type": "code",
   "execution_count": 102,
   "metadata": {
    "tags": []
   },
   "outputs": [
    {
     "data": {
      "text/html": [
       "<div>\n",
       "<style scoped>\n",
       "    .dataframe tbody tr th:only-of-type {\n",
       "        vertical-align: middle;\n",
       "    }\n",
       "\n",
       "    .dataframe tbody tr th {\n",
       "        vertical-align: top;\n",
       "    }\n",
       "\n",
       "    .dataframe thead th {\n",
       "        text-align: right;\n",
       "    }\n",
       "</style>\n",
       "<table border=\"1\" class=\"dataframe\">\n",
       "  <thead>\n",
       "    <tr style=\"text-align: right;\">\n",
       "      <th></th>\n",
       "      <th>design_en</th>\n",
       "      <th>y</th>\n",
       "      <th>id</th>\n",
       "    </tr>\n",
       "  </thead>\n",
       "  <tbody>\n",
       "    <tr>\n",
       "      <th>0</th>\n",
       "      <td>Amphora with ribbed surface and crooked handle...</td>\n",
       "      <td>[(Amphora, OBJECT, holding, poppy, PLANT)]</td>\n",
       "      <td>0</td>\n",
       "    </tr>\n",
       "    <tr>\n",
       "      <th>1</th>\n",
       "      <td>Half-nude Aphrodite standing facing, head left...</td>\n",
       "      <td>[(Aphrodite, PERSON, holding, apple, PLANT)]</td>\n",
       "      <td>1</td>\n",
       "    </tr>\n",
       "    <tr>\n",
       "      <th>2</th>\n",
       "      <td>Nude Aphrodite standing facing, head right, co...</td>\n",
       "      <td>[(Eros, PERSON, seated_on, dolphin, ANIMAL)]</td>\n",
       "      <td>2</td>\n",
       "    </tr>\n",
       "    <tr>\n",
       "      <th>3</th>\n",
       "      <td>Nude Apollo standing facing, head left, left l...</td>\n",
       "      <td>[(Apollo, PERSON, holding, patera, OBJECT), (s...</td>\n",
       "      <td>3</td>\n",
       "    </tr>\n",
       "    <tr>\n",
       "      <th>4</th>\n",
       "      <td>Artemis advancing right, wearing short flutter...</td>\n",
       "      <td>[(Artemis, PERSON, wearing, chiton, OBJECT), (...</td>\n",
       "      <td>4</td>\n",
       "    </tr>\n",
       "    <tr>\n",
       "      <th>...</th>\n",
       "      <td>...</td>\n",
       "      <td>...</td>\n",
       "      <td>...</td>\n",
       "    </tr>\n",
       "    <tr>\n",
       "      <th>1024</th>\n",
       "      <td>Turreted Tyche standing facing, head left, hol...</td>\n",
       "      <td>[(Tyche, PERSON, holding, temple, OBJECT)]</td>\n",
       "      <td>1024</td>\n",
       "    </tr>\n",
       "    <tr>\n",
       "      <th>1025</th>\n",
       "      <td>Turreted Tyche standing facing, head left, hol...</td>\n",
       "      <td>[(Tyche, PERSON, holding, temple, OBJECT)]</td>\n",
       "      <td>1025</td>\n",
       "    </tr>\n",
       "    <tr>\n",
       "      <th>1026</th>\n",
       "      <td>Turreted Tyche standing facing, head left, hol...</td>\n",
       "      <td>[(Tyche, PERSON, holding, temple, OBJECT)]</td>\n",
       "      <td>1026</td>\n",
       "    </tr>\n",
       "    <tr>\n",
       "      <th>1027</th>\n",
       "      <td>Turreted Tyche standing facing, head left, hol...</td>\n",
       "      <td>[(Tyche, PERSON, holding, temple, OBJECT)]</td>\n",
       "      <td>1027</td>\n",
       "    </tr>\n",
       "    <tr>\n",
       "      <th>1028</th>\n",
       "      <td>Two emperors (Caracalla and Geta) standing fac...</td>\n",
       "      <td>[(Caracalla, PERSON, wearing, toga, OBJECT), (...</td>\n",
       "      <td>1028</td>\n",
       "    </tr>\n",
       "  </tbody>\n",
       "</table>\n",
       "<p>1029 rows × 3 columns</p>\n",
       "</div>"
      ],
      "text/plain": [
       "                                              design_en  \\\n",
       "0     Amphora with ribbed surface and crooked handle...   \n",
       "1     Half-nude Aphrodite standing facing, head left...   \n",
       "2     Nude Aphrodite standing facing, head right, co...   \n",
       "3     Nude Apollo standing facing, head left, left l...   \n",
       "4     Artemis advancing right, wearing short flutter...   \n",
       "...                                                 ...   \n",
       "1024  Turreted Tyche standing facing, head left, hol...   \n",
       "1025  Turreted Tyche standing facing, head left, hol...   \n",
       "1026  Turreted Tyche standing facing, head left, hol...   \n",
       "1027  Turreted Tyche standing facing, head left, hol...   \n",
       "1028  Two emperors (Caracalla and Geta) standing fac...   \n",
       "\n",
       "                                                      y    id  \n",
       "0            [(Amphora, OBJECT, holding, poppy, PLANT)]     0  \n",
       "1          [(Aphrodite, PERSON, holding, apple, PLANT)]     1  \n",
       "2          [(Eros, PERSON, seated_on, dolphin, ANIMAL)]     2  \n",
       "3     [(Apollo, PERSON, holding, patera, OBJECT), (s...     3  \n",
       "4     [(Artemis, PERSON, wearing, chiton, OBJECT), (...     4  \n",
       "...                                                 ...   ...  \n",
       "1024         [(Tyche, PERSON, holding, temple, OBJECT)]  1024  \n",
       "1025         [(Tyche, PERSON, holding, temple, OBJECT)]  1025  \n",
       "1026         [(Tyche, PERSON, holding, temple, OBJECT)]  1026  \n",
       "1027         [(Tyche, PERSON, holding, temple, OBJECT)]  1027  \n",
       "1028  [(Caracalla, PERSON, wearing, toga, OBJECT), (...  1028  \n",
       "\n",
       "[1029 rows x 3 columns]"
      ]
     },
     "execution_count": 102,
     "metadata": {},
     "output_type": "execute_result"
    }
   ],
   "source": [
    "X"
   ]
  },
  {
   "cell_type": "code",
   "execution_count": 103,
   "metadata": {
    "tags": []
   },
   "outputs": [],
   "source": [
    "design = X.iloc[0][\"design_en\"]"
   ]
  },
  {
   "cell_type": "code",
   "execution_count": 104,
   "metadata": {
    "tags": []
   },
   "outputs": [
    {
     "data": {
      "text/plain": [
       "'Amphora with ribbed surface and crooked handles containing two ears of corn and poppy.'"
      ]
     },
     "execution_count": 104,
     "metadata": {},
     "output_type": "execute_result"
    }
   ],
   "source": [
    "design"
   ]
  },
  {
   "cell_type": "code",
   "execution_count": 105,
   "metadata": {
    "tags": []
   },
   "outputs": [],
   "source": [
    "def get_id(design):\n",
    "    try:\n",
    "        return dc.create_own_query(\"select id from nlp_training_designs where design_en='\"+design+\"';\").id.item()\n",
    "    except:\n",
    "        return \"Null\""
   ]
  },
  {
   "cell_type": "code",
   "execution_count": 106,
   "metadata": {
    "tags": []
   },
   "outputs": [],
   "source": [
    "%%capture\n",
    "X[\"db_id\"] = X.apply(lambda row: get_id(row.design_en), axis=1)"
   ]
  },
  {
   "cell_type": "code",
   "execution_count": 61,
   "metadata": {},
   "outputs": [
    {
     "data": {
      "text/plain": [
       "(1029, 4)"
      ]
     },
     "execution_count": 61,
     "metadata": {},
     "output_type": "execute_result"
    }
   ],
   "source": [
    "X.shape"
   ]
  },
  {
   "cell_type": "code",
   "execution_count": 107,
   "metadata": {},
   "outputs": [
    {
     "data": {
      "text/html": [
       "<div>\n",
       "<style scoped>\n",
       "    .dataframe tbody tr th:only-of-type {\n",
       "        vertical-align: middle;\n",
       "    }\n",
       "\n",
       "    .dataframe tbody tr th {\n",
       "        vertical-align: top;\n",
       "    }\n",
       "\n",
       "    .dataframe thead th {\n",
       "        text-align: right;\n",
       "    }\n",
       "</style>\n",
       "<table border=\"1\" class=\"dataframe\">\n",
       "  <thead>\n",
       "    <tr style=\"text-align: right;\">\n",
       "      <th></th>\n",
       "      <th>design_en</th>\n",
       "      <th>y</th>\n",
       "      <th>id</th>\n",
       "      <th>db_id</th>\n",
       "    </tr>\n",
       "  </thead>\n",
       "  <tbody>\n",
       "    <tr>\n",
       "      <th>0</th>\n",
       "      <td>Amphora with ribbed surface and crooked handle...</td>\n",
       "      <td>[(Amphora, OBJECT, holding, poppy, PLANT)]</td>\n",
       "      <td>0</td>\n",
       "      <td>9</td>\n",
       "    </tr>\n",
       "    <tr>\n",
       "      <th>1</th>\n",
       "      <td>Half-nude Aphrodite standing facing, head left...</td>\n",
       "      <td>[(Aphrodite, PERSON, holding, apple, PLANT)]</td>\n",
       "      <td>1</td>\n",
       "      <td>33</td>\n",
       "    </tr>\n",
       "  </tbody>\n",
       "</table>\n",
       "</div>"
      ],
      "text/plain": [
       "                                           design_en  \\\n",
       "0  Amphora with ribbed surface and crooked handle...   \n",
       "1  Half-nude Aphrodite standing facing, head left...   \n",
       "\n",
       "                                              y  id db_id  \n",
       "0    [(Amphora, OBJECT, holding, poppy, PLANT)]   0     9  \n",
       "1  [(Aphrodite, PERSON, holding, apple, PLANT)]   1    33  "
      ]
     },
     "execution_count": 107,
     "metadata": {},
     "output_type": "execute_result"
    }
   ],
   "source": [
    "X.head(2)"
   ]
  },
  {
   "cell_type": "code",
   "execution_count": 62,
   "metadata": {
    "tags": []
   },
   "outputs": [],
   "source": [
    "X = X.loc[X.db_id==\"Null\"]"
   ]
  },
  {
   "cell_type": "code",
   "execution_count": 63,
   "metadata": {},
   "outputs": [
    {
     "data": {
      "text/plain": [
       "(34, 4)"
      ]
     },
     "execution_count": 63,
     "metadata": {},
     "output_type": "execute_result"
    }
   ],
   "source": [
    "X.shape"
   ]
  },
  {
   "cell_type": "code",
   "execution_count": 89,
   "metadata": {},
   "outputs": [
    {
     "data": {
      "text/html": [
       "<style type=\"text/css\">\n",
       "</style>\n",
       "<table id=\"T_fb649\">\n",
       "  <thead>\n",
       "    <tr>\n",
       "      <th class=\"blank level0\" >&nbsp;</th>\n",
       "      <th id=\"T_fb649_level0_col0\" class=\"col_heading level0 col0\" >design_en</th>\n",
       "      <th id=\"T_fb649_level0_col1\" class=\"col_heading level0 col1\" >y</th>\n",
       "      <th id=\"T_fb649_level0_col2\" class=\"col_heading level0 col2\" >id</th>\n",
       "      <th id=\"T_fb649_level0_col3\" class=\"col_heading level0 col3\" >db_id</th>\n",
       "      <th id=\"T_fb649_level0_col4\" class=\"col_heading level0 col4\" >design_id</th>\n",
       "    </tr>\n",
       "  </thead>\n",
       "  <tbody>\n",
       "    <tr>\n",
       "      <th id=\"T_fb649_level0_row0\" class=\"row_heading level0 row0\" >20</th>\n",
       "      <td id=\"T_fb649_row0_col0\" class=\"data row0 col0\" >Veiled and draped bust of Demeter, right, wearing corn wreath.</td>\n",
       "      <td id=\"T_fb649_row0_col1\" class=\"data row0 col1\" >[('Demeter', 'PERSON', 'wearing', 'corn wreath', 'OBJECT')]</td>\n",
       "      <td id=\"T_fb649_row0_col2\" class=\"data row0 col2\" >20</td>\n",
       "      <td id=\"T_fb649_row0_col3\" class=\"data row0 col3\" >24667</td>\n",
       "      <td id=\"T_fb649_row0_col4\" class=\"data row0 col4\" >24667</td>\n",
       "    </tr>\n",
       "    <tr>\n",
       "      <th id=\"T_fb649_level0_row1\" class=\"row_heading level0 row1\" >84</th>\n",
       "      <td id=\"T_fb649_row1_col0\" class=\"data row1 col0\" >Heracles advancing left, holding transverse lit torch in outstretched right hand and club and lion skin in left arm; in background, column with statue of standing female figure holding staff; two small Erotes, first at base of column, right, second at Heracles' left leg, left.</td>\n",
       "      <td id=\"T_fb649_row1_col1\" class=\"data row1 col1\" >[('Heracles', 'PERSON', 'holding', 'torch', 'OBJECT'), ('Heracles', 'PERSON', 'holding', 'club', 'OBJECT'), ('Heracles', 'PERSON', 'holding', 'lion skin', 'OBJECT'), ('statue', 'OBJECT', 'holding', 'staff', 'OBJECT')]</td>\n",
       "      <td id=\"T_fb649_row1_col2\" class=\"data row1 col2\" >84</td>\n",
       "      <td id=\"T_fb649_row1_col3\" class=\"data row1 col3\" >24668</td>\n",
       "      <td id=\"T_fb649_row1_col4\" class=\"data row1 col4\" >24668</td>\n",
       "    </tr>\n",
       "    <tr>\n",
       "      <th id=\"T_fb649_level0_row2\" class=\"row_heading level0 row2\" >103</th>\n",
       "      <td id=\"T_fb649_row2_col0\" class=\"data row2 col0\" >Nike standing right in biga, holding palm branch in left hand and reigns in both hands.</td>\n",
       "      <td id=\"T_fb649_row2_col1\" class=\"data row2 col1\" >[('Nike', 'PERSON', 'holding', 'palm branch', 'OBJECT')]</td>\n",
       "      <td id=\"T_fb649_row2_col2\" class=\"data row2 col2\" >103</td>\n",
       "      <td id=\"T_fb649_row2_col3\" class=\"data row2 col3\" >24670</td>\n",
       "      <td id=\"T_fb649_row2_col4\" class=\"data row2 col4\" >24670</td>\n",
       "    </tr>\n",
       "    <tr>\n",
       "      <th id=\"T_fb649_level0_row3\" class=\"row_heading level0 row3\" >107</th>\n",
       "      <td id=\"T_fb649_row3_col0\" class=\"data row3 col0\" >Perseus and Andromeda; at left, Andromeda standing right, raising right arm; to right, Perseus standing left, holding harpa and gorgon's head in left hand, releasing Andromeda from her chains with right hand; stepping with right foot on sea-monster Cetus turned to stone under Andromeda.</td>\n",
       "      <td id=\"T_fb649_row3_col1\" class=\"data row3 col1\" >[('Perseus', 'PERSON', 'standing', 'Cetus', 'ANIMAL')]</td>\n",
       "      <td id=\"T_fb649_row3_col2\" class=\"data row3 col2\" >107</td>\n",
       "      <td id=\"T_fb649_row3_col3\" class=\"data row3 col3\" >24671</td>\n",
       "      <td id=\"T_fb649_row3_col4\" class=\"data row3 col4\" >24671</td>\n",
       "    </tr>\n",
       "    <tr>\n",
       "      <th id=\"T_fb649_level0_row4\" class=\"row_heading level0 row4\" >110</th>\n",
       "      <td id=\"T_fb649_row4_col0\" class=\"data row4 col0\" >Prow with naval ram in shape of animal's head, left; on top, emperor (Marcus Aurelius) standing left, extending right hand, holding parazonium in left arm.</td>\n",
       "      <td id=\"T_fb649_row4_col1\" class=\"data row4 col1\" >[('Marcus Aurelius', 'PERSON', 'holding', 'parazonium', 'OBJECT')]</td>\n",
       "      <td id=\"T_fb649_row4_col2\" class=\"data row4 col2\" >110</td>\n",
       "      <td id=\"T_fb649_row4_col3\" class=\"data row4 col3\" >24672</td>\n",
       "      <td id=\"T_fb649_row4_col4\" class=\"data row4 col4\" >24672</td>\n",
       "    </tr>\n",
       "  </tbody>\n",
       "</table>\n"
      ],
      "text/plain": [
       "<pandas.io.formats.style.Styler at 0x7f3b3ed558b0>"
      ]
     },
     "execution_count": 89,
     "metadata": {},
     "output_type": "execute_result"
    }
   ],
   "source": [
    "X.head(5).style"
   ]
  },
  {
   "cell_type": "markdown",
   "metadata": {},
   "source": [
    "### Testing rule based annotation"
   ]
  },
  {
   "cell_type": "code",
   "execution_count": 22,
   "metadata": {
    "tags": []
   },
   "outputs": [],
   "source": [
    "obj_list = {\n",
    "\"veiled\": (\"wearing\", \"Veil\", \"before\"),\n",
    "\"draped\": (\"wearing\", \"Clothing\", \"before\"),\n",
    "\"helmeted\": (\"wearing\", \"Helmet\", \"before\"),\n",
    "\"diademed\": (\"wearing\", \"Diadem\", \"before\"),\n",
    "\"turreted\": (\"wearing\", \"Mural crown\", \"before\"),\n",
    "\"enthroned\": (\"seated_on\", \"Throne\", \"after\"),\n",
    "\n",
    "}"
   ]
  },
  {
   "cell_type": "code",
   "execution_count": 23,
   "metadata": {
    "tags": []
   },
   "outputs": [],
   "source": [
    "df = pd.DataFrame().from_dict(obj_list, orient=\"index\").rename(columns={0:\"relation\", 1:\"Object\"})\n",
    "df[\"To_Replace\"] = df.index\n",
    "df.reset_index(inplace=True, drop=True)\n",
    "df = df[[\"To_Replace\", \"relation\", \"Object\"]]"
   ]
  },
  {
   "cell_type": "code",
   "execution_count": 24,
   "metadata": {
    "tags": []
   },
   "outputs": [
    {
     "data": {
      "text/html": [
       "<div>\n",
       "<style scoped>\n",
       "    .dataframe tbody tr th:only-of-type {\n",
       "        vertical-align: middle;\n",
       "    }\n",
       "\n",
       "    .dataframe tbody tr th {\n",
       "        vertical-align: top;\n",
       "    }\n",
       "\n",
       "    .dataframe thead th {\n",
       "        text-align: right;\n",
       "    }\n",
       "</style>\n",
       "<table border=\"1\" class=\"dataframe\">\n",
       "  <thead>\n",
       "    <tr style=\"text-align: right;\">\n",
       "      <th></th>\n",
       "      <th>design_en</th>\n",
       "      <th>y</th>\n",
       "      <th>id</th>\n",
       "      <th>db_id</th>\n",
       "    </tr>\n",
       "  </thead>\n",
       "  <tbody>\n",
       "    <tr>\n",
       "      <th>0</th>\n",
       "      <td>Amphora with ribbed surface and crooked handle...</td>\n",
       "      <td>[(Amphora, OBJECT, holding, poppy, PLANT)]</td>\n",
       "      <td>0</td>\n",
       "      <td>9</td>\n",
       "    </tr>\n",
       "    <tr>\n",
       "      <th>1</th>\n",
       "      <td>Half-nude Aphrodite standing facing, head left...</td>\n",
       "      <td>[(Aphrodite, PERSON, holding, apple, PLANT)]</td>\n",
       "      <td>1</td>\n",
       "      <td>33</td>\n",
       "    </tr>\n",
       "    <tr>\n",
       "      <th>2</th>\n",
       "      <td>Nude Aphrodite standing facing, head right, co...</td>\n",
       "      <td>[(Eros, PERSON, seated_on, dolphin, ANIMAL)]</td>\n",
       "      <td>2</td>\n",
       "      <td>36</td>\n",
       "    </tr>\n",
       "    <tr>\n",
       "      <th>3</th>\n",
       "      <td>Nude Apollo standing facing, head left, left l...</td>\n",
       "      <td>[(Apollo, PERSON, holding, patera, OBJECT), (s...</td>\n",
       "      <td>3</td>\n",
       "      <td>85</td>\n",
       "    </tr>\n",
       "    <tr>\n",
       "      <th>4</th>\n",
       "      <td>Artemis advancing right, wearing short flutter...</td>\n",
       "      <td>[(Artemis, PERSON, wearing, chiton, OBJECT), (...</td>\n",
       "      <td>4</td>\n",
       "      <td>104</td>\n",
       "    </tr>\n",
       "  </tbody>\n",
       "</table>\n",
       "</div>"
      ],
      "text/plain": [
       "                                           design_en  \\\n",
       "0  Amphora with ribbed surface and crooked handle...   \n",
       "1  Half-nude Aphrodite standing facing, head left...   \n",
       "2  Nude Aphrodite standing facing, head right, co...   \n",
       "3  Nude Apollo standing facing, head left, left l...   \n",
       "4  Artemis advancing right, wearing short flutter...   \n",
       "\n",
       "                                                   y  id db_id  \n",
       "0         [(Amphora, OBJECT, holding, poppy, PLANT)]   0     9  \n",
       "1       [(Aphrodite, PERSON, holding, apple, PLANT)]   1    33  \n",
       "2       [(Eros, PERSON, seated_on, dolphin, ANIMAL)]   2    36  \n",
       "3  [(Apollo, PERSON, holding, patera, OBJECT), (s...   3    85  \n",
       "4  [(Artemis, PERSON, wearing, chiton, OBJECT), (...   4   104  "
      ]
     },
     "execution_count": 24,
     "metadata": {},
     "output_type": "execute_result"
    }
   ],
   "source": [
    "X.head(5)"
   ]
  },
  {
   "cell_type": "markdown",
   "metadata": {},
   "source": [
    "### Train the RE model"
   ]
  },
  {
   "cell_type": "code",
   "execution_count": 25,
   "metadata": {
    "tags": []
   },
   "outputs": [],
   "source": [
    "classifier = LogisticRegression(max_iter=1000)\n",
    "string_converter = Path2Str(pos=True) \n",
    "vectorizer = CountVectorizer(ngram_range=(1,3))\n",
    "feature = make_pipeline(string_converter, vectorizer)"
   ]
  },
  {
   "cell_type": "code",
   "execution_count": 26,
   "metadata": {
    "tags": []
   },
   "outputs": [],
   "source": [
    "X_train, X_test, y_train, y_test = train_test_split(X[[id_col, design_col]], X[[id_col, \"y\"]], test_size=0.25, random_state=33)"
   ]
  },
  {
   "cell_type": "markdown",
   "metadata": {},
   "source": [
    "#### load pretrained NER-Model"
   ]
  },
  {
   "cell_type": "code",
   "execution_count": 27,
   "metadata": {
    "tags": []
   },
   "outputs": [],
   "source": [
    "ner_model_directory = \"../cnt/trained_model/ner/english/\"\n",
    "ner_model_name = \"english_cno\""
   ]
  },
  {
   "cell_type": "markdown",
   "metadata": {},
   "source": [
    "#### define RE-Model path"
   ]
  },
  {
   "cell_type": "code",
   "execution_count": 28,
   "metadata": {
    "tags": []
   },
   "outputs": [],
   "source": [
    "re_model_directory = \"../cnt/trained_model/re/\"\n",
    "re_model_name = \"english_cno\""
   ]
  },
  {
   "cell_type": "code",
   "execution_count": 29,
   "metadata": {
    "tags": []
   },
   "outputs": [
    {
     "data": {
      "text/plain": [
       "Pipeline(steps=[('nertransformer',\n",
       "                 NERTransformer(design_col='design_en', id_col='id',\n",
       "                                model_dir='../cnt/trained_model/ner/english/',\n",
       "                                model_name='english_cno')),\n",
       "                ('featureextractor',\n",
       "                 FeatureExtractor(design_col='design_en', id_col='id',\n",
       "                                  model_dir='../cnt/trained_model/ner/english/',\n",
       "                                  model_name='english_cno')),\n",
       "                ('relationextractor',\n",
       "                 RelationExtractor(id_col='id', model_name='english_cno',\n",
       "                                   output_dir='../cnt/trained_model/re/',\n",
       "                                   pipeline=Pipeline(steps=[('pipeline',\n",
       "                                                             Pipeline(steps=[('path2str',\n",
       "                                                                              Path2Str(pos=True)),\n",
       "                                                                             ('countvectorizer',\n",
       "                                                                              CountVectorizer(ngram_range=(1,\n",
       "                                                                                                           3)))])),\n",
       "                                                            ('logisticregression',\n",
       "                                                             LogisticRegression(max_iter=1000))])))])"
      ]
     },
     "execution_count": 29,
     "metadata": {},
     "output_type": "execute_result"
    }
   ],
   "source": [
    "inner_pipeline = make_pipeline(feature, classifier)\n",
    "pipeline = make_pipeline(NERTransformer(ner_model_directory, ner_model_name, id_col, design_col),\n",
    "                         FeatureExtractor(ner_model_directory, ner_model_name, id_col, design_col),\n",
    "                         RelationExtractor(inner_pipeline, re_model_directory, re_model_name, id_col))\n",
    "pipeline.fit(X_train, y_train)"
   ]
  },
  {
   "cell_type": "markdown",
   "metadata": {},
   "source": [
    "## Save and Load model"
   ]
  },
  {
   "cell_type": "code",
   "execution_count": 30,
   "metadata": {
    "tags": []
   },
   "outputs": [],
   "source": [
    "save_pipeline(pipeline, re_model_directory, re_model_name)"
   ]
  },
  {
   "cell_type": "code",
   "execution_count": 31,
   "metadata": {
    "tags": []
   },
   "outputs": [],
   "source": [
    "model = load_pipeline(re_model_directory, re_model_name)"
   ]
  },
  {
   "cell_type": "markdown",
   "metadata": {},
   "source": [
    "## Predict"
   ]
  },
  {
   "cell_type": "code",
   "execution_count": 32,
   "metadata": {
    "tags": []
   },
   "outputs": [],
   "source": [
    "y_pred = model.predict(X_test)"
   ]
  },
  {
   "cell_type": "code",
   "execution_count": 33,
   "metadata": {
    "tags": []
   },
   "outputs": [],
   "source": [
    "metrics = Metrics()"
   ]
  },
  {
   "cell_type": "code",
   "execution_count": 34,
   "metadata": {
    "tags": []
   },
   "outputs": [],
   "source": [
    "precision, recall = metrics.score_precision_recall(y_test, y_pred)\n",
    "F1 = (2*precision*recall) / (precision + recall)"
   ]
  },
  {
   "cell_type": "code",
   "execution_count": 35,
   "metadata": {
    "tags": []
   },
   "outputs": [
    {
     "name": "stdout",
     "output_type": "stream",
     "text": [
      "Precision 86.45\n",
      "Recall 71.15\n",
      "F1 78.06\n"
     ]
    }
   ],
   "source": [
    "print(\"Precision\", round(precision*100,2))\n",
    "print(\"Recall\", round(recall*100,2))\n",
    "print(\"F1\", round(F1*100,2))"
   ]
  },
  {
   "cell_type": "code",
   "execution_count": 36,
   "metadata": {
    "tags": []
   },
   "outputs": [],
   "source": [
    "y_pred[\"design_en\"] = X_test.design_en"
   ]
  },
  {
   "cell_type": "code",
   "execution_count": 37,
   "metadata": {},
   "outputs": [],
   "source": [
    "y_pred = relations_from_adjectives_df(y_pred, \"design_en\", \"y\", ner_model_directory, ner_model_name, id_col, design_col, obj_list, entities_to_consider=[\"PERSON\"])"
   ]
  },
  {
   "cell_type": "code",
   "execution_count": 38,
   "metadata": {
    "tags": []
   },
   "outputs": [
    {
     "data": {
      "text/html": [
       "<div>\n",
       "<style scoped>\n",
       "    .dataframe tbody tr th:only-of-type {\n",
       "        vertical-align: middle;\n",
       "    }\n",
       "\n",
       "    .dataframe tbody tr th {\n",
       "        vertical-align: top;\n",
       "    }\n",
       "\n",
       "    .dataframe thead th {\n",
       "        text-align: right;\n",
       "    }\n",
       "</style>\n",
       "<table border=\"1\" class=\"dataframe\">\n",
       "  <thead>\n",
       "    <tr style=\"text-align: right;\">\n",
       "      <th></th>\n",
       "      <th>id</th>\n",
       "      <th>y</th>\n",
       "      <th>design_en</th>\n",
       "    </tr>\n",
       "  </thead>\n",
       "  <tbody>\n",
       "    <tr>\n",
       "      <th>31</th>\n",
       "      <td>31</td>\n",
       "      <td>[(Demeter, PERSON, seated_on, basket, OBJECT),...</td>\n",
       "      <td>Veiled Demeter seated left on basket, wearing ...</td>\n",
       "    </tr>\n",
       "    <tr>\n",
       "      <th>539</th>\n",
       "      <td>539</td>\n",
       "      <td>[(Hera, PERSON, wearing, kalathos, OBJECT), (H...</td>\n",
       "      <td>Veiled Hera (Samios) standing left, wearing ka...</td>\n",
       "    </tr>\n",
       "    <tr>\n",
       "      <th>684</th>\n",
       "      <td>684</td>\n",
       "      <td>[(Demeter, PERSON, seated_on, altar, OBJECT), ...</td>\n",
       "      <td>Veiled Demeter seated left on altar, wearing c...</td>\n",
       "    </tr>\n",
       "    <tr>\n",
       "      <th>257</th>\n",
       "      <td>257</td>\n",
       "      <td>[(Demeter, PERSON, wearing, corn wreath, OBJEC...</td>\n",
       "      <td>Veiled Demeter seated left cista mystica with ...</td>\n",
       "    </tr>\n",
       "    <tr>\n",
       "      <th>366</th>\n",
       "      <td>366</td>\n",
       "      <td>[(Demeter, PERSON, wearing, garment, OBJECT), ...</td>\n",
       "      <td>Veiled Demeter standing facing, head left, wea...</td>\n",
       "    </tr>\n",
       "    <tr>\n",
       "      <th>21</th>\n",
       "      <td>21</td>\n",
       "      <td>[(Demeter, PERSON, wearing, corn wreath, OBJEC...</td>\n",
       "      <td>Veiled and draped bust of Demeter, right, wear...</td>\n",
       "    </tr>\n",
       "    <tr>\n",
       "      <th>16</th>\n",
       "      <td>16</td>\n",
       "      <td>[(Cybele, PERSON, holding, patera, OBJECT), (C...</td>\n",
       "      <td>Veiled and turreted Cybele enthroned left, hol...</td>\n",
       "    </tr>\n",
       "    <tr>\n",
       "      <th>702</th>\n",
       "      <td>702</td>\n",
       "      <td>[(Demeter, PERSON, seated_on, rock, OBJECT), (...</td>\n",
       "      <td>Veiled Demeter seated left on rock, holding ea...</td>\n",
       "    </tr>\n",
       "    <tr>\n",
       "      <th>180</th>\n",
       "      <td>180</td>\n",
       "      <td>[(Demeter, PERSON, wearing, corn wreath, OBJEC...</td>\n",
       "      <td>Veiled and draped bust of Demeter, right, wear...</td>\n",
       "    </tr>\n",
       "    <tr>\n",
       "      <th>22</th>\n",
       "      <td>22</td>\n",
       "      <td>[(Demeter, PERSON, wearing, corn wreath, OBJEC...</td>\n",
       "      <td>Veiled head of Demeter, right, wearing corn wr...</td>\n",
       "    </tr>\n",
       "  </tbody>\n",
       "</table>\n",
       "</div>"
      ],
      "text/plain": [
       "      id                                                  y  \\\n",
       "31    31  [(Demeter, PERSON, seated_on, basket, OBJECT),...   \n",
       "539  539  [(Hera, PERSON, wearing, kalathos, OBJECT), (H...   \n",
       "684  684  [(Demeter, PERSON, seated_on, altar, OBJECT), ...   \n",
       "257  257  [(Demeter, PERSON, wearing, corn wreath, OBJEC...   \n",
       "366  366  [(Demeter, PERSON, wearing, garment, OBJECT), ...   \n",
       "21    21  [(Demeter, PERSON, wearing, corn wreath, OBJEC...   \n",
       "16    16  [(Cybele, PERSON, holding, patera, OBJECT), (C...   \n",
       "702  702  [(Demeter, PERSON, seated_on, rock, OBJECT), (...   \n",
       "180  180  [(Demeter, PERSON, wearing, corn wreath, OBJEC...   \n",
       "22    22  [(Demeter, PERSON, wearing, corn wreath, OBJEC...   \n",
       "\n",
       "                                             design_en  \n",
       "31   Veiled Demeter seated left on basket, wearing ...  \n",
       "539  Veiled Hera (Samios) standing left, wearing ka...  \n",
       "684  Veiled Demeter seated left on altar, wearing c...  \n",
       "257  Veiled Demeter seated left cista mystica with ...  \n",
       "366  Veiled Demeter standing facing, head left, wea...  \n",
       "21   Veiled and draped bust of Demeter, right, wear...  \n",
       "16   Veiled and turreted Cybele enthroned left, hol...  \n",
       "702  Veiled Demeter seated left on rock, holding ea...  \n",
       "180  Veiled and draped bust of Demeter, right, wear...  \n",
       "22   Veiled head of Demeter, right, wearing corn wr...  "
      ]
     },
     "execution_count": 38,
     "metadata": {},
     "output_type": "execute_result"
    }
   ],
   "source": [
    "y_pred.loc[y_pred.design_en.str.contains(\"Veiled\")]"
   ]
  },
  {
   "cell_type": "code",
   "execution_count": 39,
   "metadata": {
    "tags": []
   },
   "outputs": [
    {
     "data": {
      "text/plain": [
       "[('Athena', 'PERSON', 'wearing', 'Helmet', 'OBJECT')]"
      ]
     },
     "execution_count": 39,
     "metadata": {},
     "output_type": "execute_result"
    }
   ],
   "source": [
    "design = \"Diademed Alexander the Great to the left and helmeted Athena to the right.\"\n",
    "auto_relations = relations_from_adjectives_single(design,ner_model_directory, ner_model_name, id_col, design_col, obj_list)\n",
    "model_relations = predict_re_single_sentence(model, design, id_col, design_col)\n",
    "concat_relations(auto_relations, model_relations)"
   ]
  },
  {
   "cell_type": "markdown",
   "metadata": {},
   "source": [
    "## Prediction dataframe"
   ]
  },
  {
   "cell_type": "code",
   "execution_count": 40,
   "metadata": {},
   "outputs": [],
   "source": [
    "pre_df = X_test.merge(y_pred, left_on=id_col, right_on =id_col)"
   ]
  },
  {
   "cell_type": "code",
   "execution_count": 41,
   "metadata": {},
   "outputs": [
    {
     "data": {
      "text/html": [
       "<div>\n",
       "<style scoped>\n",
       "    .dataframe tbody tr th:only-of-type {\n",
       "        vertical-align: middle;\n",
       "    }\n",
       "\n",
       "    .dataframe tbody tr th {\n",
       "        vertical-align: top;\n",
       "    }\n",
       "\n",
       "    .dataframe thead th {\n",
       "        text-align: right;\n",
       "    }\n",
       "</style>\n",
       "<table border=\"1\" class=\"dataframe\">\n",
       "  <thead>\n",
       "    <tr style=\"text-align: right;\">\n",
       "      <th></th>\n",
       "      <th>id</th>\n",
       "      <th>design_en_x</th>\n",
       "      <th>y</th>\n",
       "      <th>design_en_y</th>\n",
       "    </tr>\n",
       "  </thead>\n",
       "  <tbody>\n",
       "    <tr>\n",
       "      <th>0</th>\n",
       "      <td>948</td>\n",
       "      <td>Tyche standing facing, head left, wearing kala...</td>\n",
       "      <td>[(Tyche, PERSON, wearing, kalathos, OBJECT), (...</td>\n",
       "      <td>Tyche standing facing, head left, wearing kala...</td>\n",
       "    </tr>\n",
       "    <tr>\n",
       "      <th>1</th>\n",
       "      <td>779</td>\n",
       "      <td>Apollo standing left, holding plectrum and lyre.</td>\n",
       "      <td>[(Apollo, PERSON, holding, plectrum, OBJECT), ...</td>\n",
       "      <td>Apollo standing left, holding plectrum and lyre.</td>\n",
       "    </tr>\n",
       "    <tr>\n",
       "      <th>2</th>\n",
       "      <td>241</td>\n",
       "      <td>Turreted Cybele seated, head right, on lion ju...</td>\n",
       "      <td>[(Cybele, PERSON, seated_on, lion, ANIMAL), (C...</td>\n",
       "      <td>Turreted Cybele seated, head right, on lion ju...</td>\n",
       "    </tr>\n",
       "    <tr>\n",
       "      <th>3</th>\n",
       "      <td>347</td>\n",
       "      <td>Heracles kneeling right, wearing lion skin, dr...</td>\n",
       "      <td>[]</td>\n",
       "      <td>Heracles kneeling right, wearing lion skin, dr...</td>\n",
       "    </tr>\n",
       "    <tr>\n",
       "      <th>4</th>\n",
       "      <td>388</td>\n",
       "      <td>Nude Apollo standing left, holding patera in o...</td>\n",
       "      <td>[(Apollo, PERSON, holding, patera, OBJECT)]</td>\n",
       "      <td>Nude Apollo standing left, holding patera in o...</td>\n",
       "    </tr>\n",
       "    <tr>\n",
       "      <th>5</th>\n",
       "      <td>689</td>\n",
       "      <td>Nude Hermes seated left on rock, holding caduc...</td>\n",
       "      <td>[(Hermes, PERSON, holding, caduceus, OBJECT), ...</td>\n",
       "      <td>Nude Hermes seated left on rock, holding caduc...</td>\n",
       "    </tr>\n",
       "    <tr>\n",
       "      <th>6</th>\n",
       "      <td>4</td>\n",
       "      <td>Artemis advancing right, wearing short flutter...</td>\n",
       "      <td>[(Artemis, PERSON, wearing, chiton, OBJECT), (...</td>\n",
       "      <td>Artemis advancing right, wearing short flutter...</td>\n",
       "    </tr>\n",
       "    <tr>\n",
       "      <th>7</th>\n",
       "      <td>506</td>\n",
       "      <td>Nude Eros in attitude of Thanatos standing rig...</td>\n",
       "      <td>[]</td>\n",
       "      <td>Nude Eros in attitude of Thanatos standing rig...</td>\n",
       "    </tr>\n",
       "    <tr>\n",
       "      <th>8</th>\n",
       "      <td>31</td>\n",
       "      <td>Veiled Demeter seated left on basket, wearing ...</td>\n",
       "      <td>[(Demeter, PERSON, seated_on, basket, OBJECT),...</td>\n",
       "      <td>Veiled Demeter seated left on basket, wearing ...</td>\n",
       "    </tr>\n",
       "    <tr>\n",
       "      <th>9</th>\n",
       "      <td>899</td>\n",
       "      <td>Laureate bust of Apollo, left, wearing chlamys...</td>\n",
       "      <td>[(Apollo, PERSON, wearing, chlamys, OBJECT), (...</td>\n",
       "      <td>Laureate bust of Apollo, left, wearing chlamys...</td>\n",
       "    </tr>\n",
       "  </tbody>\n",
       "</table>\n",
       "</div>"
      ],
      "text/plain": [
       "    id                                        design_en_x  \\\n",
       "0  948  Tyche standing facing, head left, wearing kala...   \n",
       "1  779   Apollo standing left, holding plectrum and lyre.   \n",
       "2  241  Turreted Cybele seated, head right, on lion ju...   \n",
       "3  347  Heracles kneeling right, wearing lion skin, dr...   \n",
       "4  388  Nude Apollo standing left, holding patera in o...   \n",
       "5  689  Nude Hermes seated left on rock, holding caduc...   \n",
       "6    4  Artemis advancing right, wearing short flutter...   \n",
       "7  506  Nude Eros in attitude of Thanatos standing rig...   \n",
       "8   31  Veiled Demeter seated left on basket, wearing ...   \n",
       "9  899  Laureate bust of Apollo, left, wearing chlamys...   \n",
       "\n",
       "                                                   y  \\\n",
       "0  [(Tyche, PERSON, wearing, kalathos, OBJECT), (...   \n",
       "1  [(Apollo, PERSON, holding, plectrum, OBJECT), ...   \n",
       "2  [(Cybele, PERSON, seated_on, lion, ANIMAL), (C...   \n",
       "3                                                 []   \n",
       "4        [(Apollo, PERSON, holding, patera, OBJECT)]   \n",
       "5  [(Hermes, PERSON, holding, caduceus, OBJECT), ...   \n",
       "6  [(Artemis, PERSON, wearing, chiton, OBJECT), (...   \n",
       "7                                                 []   \n",
       "8  [(Demeter, PERSON, seated_on, basket, OBJECT),...   \n",
       "9  [(Apollo, PERSON, wearing, chlamys, OBJECT), (...   \n",
       "\n",
       "                                         design_en_y  \n",
       "0  Tyche standing facing, head left, wearing kala...  \n",
       "1   Apollo standing left, holding plectrum and lyre.  \n",
       "2  Turreted Cybele seated, head right, on lion ju...  \n",
       "3  Heracles kneeling right, wearing lion skin, dr...  \n",
       "4  Nude Apollo standing left, holding patera in o...  \n",
       "5  Nude Hermes seated left on rock, holding caduc...  \n",
       "6  Artemis advancing right, wearing short flutter...  \n",
       "7  Nude Eros in attitude of Thanatos standing rig...  \n",
       "8  Veiled Demeter seated left on basket, wearing ...  \n",
       "9  Laureate bust of Apollo, left, wearing chlamys...  "
      ]
     },
     "execution_count": 41,
     "metadata": {},
     "output_type": "execute_result"
    }
   ],
   "source": [
    "pre_df.head(10)"
   ]
  },
  {
   "cell_type": "markdown",
   "metadata": {
    "tags": []
   },
   "source": [
    "## Upload to mysql"
   ]
  },
  {
   "cell_type": "code",
   "execution_count": 42,
   "metadata": {},
   "outputs": [],
   "source": [
    "upload = False"
   ]
  },
  {
   "cell_type": "code",
   "execution_count": 43,
   "metadata": {
    "tags": []
   },
   "outputs": [],
   "source": [
    "if upload ==True:\n",
    "    dc =  Database_Connection(\"mysql+mysqlconnector://YourConnection\")\n",
    "    cnt_designs = dc.load_designs_from_db(\"designs\", [\"DesignID\", \"DesignEng\"])\n",
    "    cnt_designs.rename(columns={\"DesignEng\":\"Design\"}, inplace=True) # if english\n",
    "    cnt_pred = pipeline.predict(cnt_designs)\n",
    "    cnt_pipeline_output = pd.DataFrame([(str(designid), *relation) for  _, (designid, relation_list) in cnt_pred.iterrows()\n",
    "                    for relation in relation_list],\n",
    "            columns=[\"DesignID\", \"Person\", \"Label_Person\", \"Relation\", \"Object\",\n",
    "                     \"Label_Object\"])\n",
    "    cnt_pipeline_output.to_sql(\"CNO.cnt_pipeline_output\",dc.mysql_connection,if_exists=\"replace\", index=False)"
   ]
  }
 ],
 "metadata": {
  "kernelspec": {
   "display_name": "Python 3 (ipykernel)",
   "language": "python",
   "name": "python3"
  },
  "language_info": {
   "codemirror_mode": {
    "name": "ipython",
    "version": 3
   },
   "file_extension": ".py",
   "mimetype": "text/x-python",
   "name": "python",
   "nbconvert_exporter": "python",
   "pygments_lexer": "ipython3",
   "version": "3.8.13"
  }
 },
 "nbformat": 4,
 "nbformat_minor": 4
}
