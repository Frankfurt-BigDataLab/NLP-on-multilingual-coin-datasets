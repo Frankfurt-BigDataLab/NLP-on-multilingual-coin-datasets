{
 "cells": [
  {
   "cell_type": "code",
   "execution_count": 58,
   "id": "bfcf2c26-a386-4f26-890c-35955974390f",
   "metadata": {},
   "outputs": [],
   "source": [
    "import sys\n",
    "sys.path.append(\"../\")\n",
    "import pandas as pd\n",
    "import random\n",
    "import os\n",
    "import numpy as np\n",
    "from cnt.model import (DesignEstimator, RelationExtractor, save_pipeline, load_pipeline, predict_re_single_sentence, \n",
    "relations_from_adjectives_df, relations_from_adjectives_single, concat_relations)\n",
    "from cnt.annotate import (annotate, annotate_single_design, \n",
    "                          annotate_designs, \n",
    "                          extract_string_from_annotation, labeling_eng)\n",
    "from cnt.extract_relation import (path, NERTransformer, FeatureExtractor)\n",
    "from cnt.evaluate import Metrics\n",
    "from cnt.vectorize import (Doc2Str, Path2Str, Verbs2Str, AveragedPath2Vec, \n",
    "                           AveragedRest2Vec)\n",
    "from cnt.io import (replace_left_right)\n",
    "from cnt.io import  Database_Connection\n",
    "from sklearn.model_selection import train_test_split\n",
    "from sklearn.pipeline import Pipeline, make_pipeline, make_union\n",
    "from sklearn.feature_extraction.text import TfidfVectorizer, CountVectorizer\n",
    "from sklearn.svm import SVC\n",
    "from sklearn.linear_model import LogisticRegression\n",
    "from sklearn.ensemble import RandomForestClassifier\n",
    "from sklearn.preprocessing import Normalizer\n",
    "from sklearn.naive_bayes import MultinomialNB\n",
    "from itertools import product\n",
    "import warnings\n",
    "warnings.filterwarnings('ignore')"
   ]
  },
  {
   "cell_type": "code",
   "execution_count": null,
   "id": "127cd842-5d99-48cb-8bda-da50e8b054c1",
   "metadata": {},
   "outputs": [],
   "source": [
    "dc =  Database_Connection(\"mysql+mysqlconnector://...\") # Format user:password@IP/Database"
   ]
  },
  {
   "cell_type": "code",
   "execution_count": 60,
   "id": "8b944b14-9d21-4a71-b2dd-43543bd8c6cd",
   "metadata": {},
   "outputs": [],
   "source": [
    "id_col = \"id\"\n",
    "design_col = \"design_en\""
   ]
  },
  {
   "cell_type": "code",
   "execution_count": 61,
   "id": "1349348d-3b8b-42ac-b53b-626e0da0def0",
   "metadata": {},
   "outputs": [],
   "source": [
    "import yaml\n",
    "import_path = \"../data/English_RE_data.yaml\"\n",
    "with open(import_path, encoding='utf8') as f:\n",
    "    dictionary = yaml.safe_load(f)\n",
    "    d = {replace_left_right(key): value for key, value in dictionary.items()}"
   ]
  },
  {
   "cell_type": "code",
   "execution_count": 62,
   "id": "121ec66f-c470-4d9e-b258-e8c90e6a72fe",
   "metadata": {},
   "outputs": [
    {
     "data": {
      "text/plain": [
       "[('holding', 1113),\n",
       " ('wearing', 781),\n",
       " ('resting_on', 238),\n",
       " ('seated_on', 88),\n",
       " ('grasping', 36),\n",
       " ('standing', 36),\n",
       " ('crowning', 14),\n",
       " ('feeding', 10),\n",
       " ('coiling', 7),\n",
       " ('breaking', 4),\n",
       " ('pushing', 3),\n",
       " ('flying_over', 2),\n",
       " ('receiving', 2),\n",
       " ('escorted_by', 1)]"
      ]
     },
     "execution_count": 62,
     "metadata": {},
     "output_type": "execute_result"
    }
   ],
   "source": [
    "relation_counts = {}\n",
    "labels = []\n",
    "for sentence, relations in d.items():\n",
    "    for rel in relations:\n",
    "        rel_name = rel[1]\n",
    "        if rel_name not in relation_counts:\n",
    "            relation_counts[rel_name] = 1\n",
    "        else:\n",
    "            relation_counts[rel_name] += 1\n",
    "\n",
    "sorted(relation_counts.items(), key= lambda x: (-x[1], x[0]))"
   ]
  },
  {
   "cell_type": "code",
   "execution_count": 63,
   "id": "79605f10-97c2-401f-b7d6-4a89bae8f6b1",
   "metadata": {
    "tags": []
   },
   "outputs": [],
   "source": [
    "language = \"_en\"\n",
    "add_columns = [\"id\", \"name\"+language, \"alternativenames\"+language]"
   ]
  },
  {
   "cell_type": "code",
   "execution_count": 64,
   "id": "3b352032-81d6-4955-b7a5-2386688c1b0b",
   "metadata": {},
   "outputs": [],
   "source": [
    "entities = {\n",
    "    \"PERSON\": dc.load_entities_from_db(\"nlp_list_person\", [\"name\", \"alternativenames\"], [\"alternativenames\"], \",\", True),\n",
    "    \"OBJECT\": dc.load_entities_from_db(\"nlp_list_obj\", add_columns, [add_columns[1]], \",\", True),\n",
    "    \"ANIMAL\": dc.load_entities_from_db(\"nlp_list_animal\", add_columns, [add_columns[1]], \",\", True),\n",
    "    \"PLANT\": dc.load_entities_from_db(\"nlp_list_plant\", add_columns, [add_columns[1]], \",\", True)}"
   ]
  },
  {
   "cell_type": "code",
   "execution_count": 65,
   "id": "8ea3cd6e-c0b9-4369-9853-4a3984d1c4d5",
   "metadata": {
    "tags": []
   },
   "outputs": [],
   "source": [
    "X_list, y_list = labeling_eng(d, entities)"
   ]
  },
  {
   "cell_type": "code",
   "execution_count": 66,
   "id": "bc3542c6-7347-41c6-a178-59236ce0ef97",
   "metadata": {
    "tags": []
   },
   "outputs": [],
   "source": [
    "X = pd.DataFrame({design_col: X_list, \"y\" : y_list})"
   ]
  },
  {
   "cell_type": "code",
   "execution_count": 67,
   "id": "f0557002-60b3-47cc-b2d9-7f71098ff1d4",
   "metadata": {
    "tags": []
   },
   "outputs": [
    {
     "data": {
      "text/plain": [
       "(1029, 2)"
      ]
     },
     "execution_count": 67,
     "metadata": {},
     "output_type": "execute_result"
    }
   ],
   "source": [
    "X.shape"
   ]
  },
  {
   "cell_type": "code",
   "execution_count": 68,
   "id": "53784643-d9dd-4e15-9111-becb28303b02",
   "metadata": {
    "tags": []
   },
   "outputs": [],
   "source": [
    "X[id_col] = X.index"
   ]
  },
  {
   "cell_type": "code",
   "execution_count": 69,
   "id": "7950c66a-88e8-4a95-8062-98ea26c44c94",
   "metadata": {},
   "outputs": [],
   "source": [
    "def get_id(design):\n",
    "    try:\n",
    "        return dc.create_own_query(\"select id from nlp_training_designs where design_en='\"+design+\"';\").id.item()\n",
    "    except:\n",
    "        return \"Null\""
   ]
  },
  {
   "cell_type": "code",
   "execution_count": null,
   "id": "4ca11614-23b0-419f-96a1-7c7bfbe202ea",
   "metadata": {},
   "outputs": [],
   "source": [
    "%%capture\n",
    "X[\"db_id\"] = X.apply(lambda row: get_id(row.design_en), axis=1)"
   ]
  },
  {
   "cell_type": "code",
   "execution_count": 71,
   "id": "32b60366-fc81-4e62-9582-7d717c95cdc9",
   "metadata": {},
   "outputs": [],
   "source": [
    "X = X.loc[X.db_id!=\"Null\"]"
   ]
  },
  {
   "cell_type": "code",
   "execution_count": 72,
   "id": "a9ea5c2c-f14b-48eb-800c-096852d76bf4",
   "metadata": {},
   "outputs": [
    {
     "data": {
      "text/plain": [
       "(34, 4)"
      ]
     },
     "execution_count": 72,
     "metadata": {},
     "output_type": "execute_result"
    }
   ],
   "source": [
    "X.shape"
   ]
  },
  {
   "cell_type": "code",
   "execution_count": 78,
   "id": "bf318182-015f-4e54-a2cb-9cb5fe68fa28",
   "metadata": {},
   "outputs": [
    {
     "data": {
      "text/html": [
       "<div>\n",
       "<style scoped>\n",
       "    .dataframe tbody tr th:only-of-type {\n",
       "        vertical-align: middle;\n",
       "    }\n",
       "\n",
       "    .dataframe tbody tr th {\n",
       "        vertical-align: top;\n",
       "    }\n",
       "\n",
       "    .dataframe thead th {\n",
       "        text-align: right;\n",
       "    }\n",
       "</style>\n",
       "<table border=\"1\" class=\"dataframe\">\n",
       "  <thead>\n",
       "    <tr style=\"text-align: right;\">\n",
       "      <th></th>\n",
       "      <th>design_en</th>\n",
       "      <th>y</th>\n",
       "      <th>id</th>\n",
       "      <th>db_id</th>\n",
       "    </tr>\n",
       "  </thead>\n",
       "  <tbody>\n",
       "    <tr>\n",
       "      <th>20</th>\n",
       "      <td>Veiled and draped bust of Demeter, right, wear...</td>\n",
       "      <td>[(Demeter, PERSON, wearing, corn wreath, OBJECT)]</td>\n",
       "      <td>20</td>\n",
       "      <td>24667</td>\n",
       "    </tr>\n",
       "    <tr>\n",
       "      <th>84</th>\n",
       "      <td>Heracles advancing left, holding transverse li...</td>\n",
       "      <td>[(Heracles, PERSON, holding, torch, OBJECT), (...</td>\n",
       "      <td>84</td>\n",
       "      <td>24668</td>\n",
       "    </tr>\n",
       "    <tr>\n",
       "      <th>103</th>\n",
       "      <td>Nike standing right in biga, holding palm bran...</td>\n",
       "      <td>[(Nike, PERSON, holding, palm branch, OBJECT)]</td>\n",
       "      <td>103</td>\n",
       "      <td>24670</td>\n",
       "    </tr>\n",
       "    <tr>\n",
       "      <th>107</th>\n",
       "      <td>Perseus and Andromeda; at left, Andromeda stan...</td>\n",
       "      <td>[(Perseus, PERSON, standing, Cetus, ANIMAL)]</td>\n",
       "      <td>107</td>\n",
       "      <td>24671</td>\n",
       "    </tr>\n",
       "    <tr>\n",
       "      <th>110</th>\n",
       "      <td>Prow with naval ram in shape of animal's head,...</td>\n",
       "      <td>[(Marcus Aurelius, PERSON, holding, parazonium...</td>\n",
       "      <td>110</td>\n",
       "      <td>24672</td>\n",
       "    </tr>\n",
       "  </tbody>\n",
       "</table>\n",
       "</div>"
      ],
      "text/plain": [
       "                                             design_en  \\\n",
       "20   Veiled and draped bust of Demeter, right, wear...   \n",
       "84   Heracles advancing left, holding transverse li...   \n",
       "103  Nike standing right in biga, holding palm bran...   \n",
       "107  Perseus and Andromeda; at left, Andromeda stan...   \n",
       "110  Prow with naval ram in shape of animal's head,...   \n",
       "\n",
       "                                                     y   id  db_id  \n",
       "20   [(Demeter, PERSON, wearing, corn wreath, OBJECT)]   20  24667  \n",
       "84   [(Heracles, PERSON, holding, torch, OBJECT), (...   84  24668  \n",
       "103     [(Nike, PERSON, holding, palm branch, OBJECT)]  103  24670  \n",
       "107       [(Perseus, PERSON, standing, Cetus, ANIMAL)]  107  24671  \n",
       "110  [(Marcus Aurelius, PERSON, holding, parazonium...  110  24672  "
      ]
     },
     "execution_count": 78,
     "metadata": {},
     "output_type": "execute_result"
    }
   ],
   "source": [
    "X.head(5)"
   ]
  },
  {
   "cell_type": "code",
   "execution_count": 79,
   "id": "642b2c0c-40de-4246-b4b5-43e4bcb86368",
   "metadata": {},
   "outputs": [],
   "source": [
    "entities = dc.create_own_query(\"select * from nlp_list_entities;\")"
   ]
  },
  {
   "cell_type": "code",
   "execution_count": 80,
   "id": "4f23e2a5-2e48-4919-ac84-d932959e50d8",
   "metadata": {},
   "outputs": [
    {
     "data": {
      "text/html": [
       "<div>\n",
       "<style scoped>\n",
       "    .dataframe tbody tr th:only-of-type {\n",
       "        vertical-align: middle;\n",
       "    }\n",
       "\n",
       "    .dataframe tbody tr th {\n",
       "        vertical-align: top;\n",
       "    }\n",
       "\n",
       "    .dataframe thead th {\n",
       "        text-align: right;\n",
       "    }\n",
       "</style>\n",
       "<table border=\"1\" class=\"dataframe\">\n",
       "  <thead>\n",
       "    <tr style=\"text-align: right;\">\n",
       "      <th></th>\n",
       "      <th>id</th>\n",
       "      <th>name_en</th>\n",
       "      <th>alternativenames_en</th>\n",
       "    </tr>\n",
       "  </thead>\n",
       "  <tbody>\n",
       "    <tr>\n",
       "      <th>0</th>\n",
       "      <td>1</td>\n",
       "      <td>Abundantia</td>\n",
       "      <td>None</td>\n",
       "    </tr>\n",
       "    <tr>\n",
       "      <th>1</th>\n",
       "      <td>2</td>\n",
       "      <td>Actaeon</td>\n",
       "      <td>None</td>\n",
       "    </tr>\n",
       "    <tr>\n",
       "      <th>2</th>\n",
       "      <td>3</td>\n",
       "      <td>Aemilian</td>\n",
       "      <td>None</td>\n",
       "    </tr>\n",
       "    <tr>\n",
       "      <th>3</th>\n",
       "      <td>4</td>\n",
       "      <td>Aeneas</td>\n",
       "      <td>None</td>\n",
       "    </tr>\n",
       "    <tr>\n",
       "      <th>4</th>\n",
       "      <td>5</td>\n",
       "      <td>Aequitas</td>\n",
       "      <td>Equitas</td>\n",
       "    </tr>\n",
       "    <tr>\n",
       "      <th>...</th>\n",
       "      <td>...</td>\n",
       "      <td>...</td>\n",
       "      <td>...</td>\n",
       "    </tr>\n",
       "    <tr>\n",
       "      <th>844</th>\n",
       "      <td>845</td>\n",
       "      <td>turning</td>\n",
       "      <td>None</td>\n",
       "    </tr>\n",
       "    <tr>\n",
       "      <th>845</th>\n",
       "      <td>846</td>\n",
       "      <td>sailing</td>\n",
       "      <td>None</td>\n",
       "    </tr>\n",
       "    <tr>\n",
       "      <th>846</th>\n",
       "      <td>847</td>\n",
       "      <td>escorted_by</td>\n",
       "      <td>escorted by</td>\n",
       "    </tr>\n",
       "    <tr>\n",
       "      <th>847</th>\n",
       "      <td>848</td>\n",
       "      <td>wearing</td>\n",
       "      <td>None</td>\n",
       "    </tr>\n",
       "    <tr>\n",
       "      <th>848</th>\n",
       "      <td>1000</td>\n",
       "      <td>no-value</td>\n",
       "      <td>None</td>\n",
       "    </tr>\n",
       "  </tbody>\n",
       "</table>\n",
       "<p>849 rows × 3 columns</p>\n",
       "</div>"
      ],
      "text/plain": [
       "       id      name_en alternativenames_en\n",
       "0       1   Abundantia                None\n",
       "1       2      Actaeon                None\n",
       "2       3     Aemilian                None\n",
       "3       4       Aeneas                None\n",
       "4       5     Aequitas             Equitas\n",
       "..    ...          ...                 ...\n",
       "844   845      turning                None\n",
       "845   846      sailing                None\n",
       "846   847  escorted_by         escorted by\n",
       "847   848      wearing                None\n",
       "848  1000     no-value                None\n",
       "\n",
       "[849 rows x 3 columns]"
      ]
     },
     "execution_count": 80,
     "metadata": {},
     "output_type": "execute_result"
    }
   ],
   "source": [
    "entities[[\"id\", \"name_en\", \"alternativenames_en\"]]"
   ]
  },
  {
   "cell_type": "code",
   "execution_count": 81,
   "id": "4d20bd47-f3e9-4125-932b-4b6d3d5a4be9",
   "metadata": {},
   "outputs": [],
   "source": [
    "ent_dict = {}\n",
    "for index, row in entities[[\"id\", \"name_en\", \"alternativenames_en\"]].iterrows():\n",
    "    ent_dict[row[\"id\"]] = (row[\"name_en\"]+\", \"+row[\"alternativenames_en\"]).replace(\", None\",\"\").lower()"
   ]
  },
  {
   "cell_type": "code",
   "execution_count": 82,
   "id": "ac3494bb-d383-4cee-a3c3-ca4e7eb7242e",
   "metadata": {},
   "outputs": [],
   "source": [
    "result = pd.DataFrame(columns=[\"design_id\", \"subject\", \"subject_str\", \"predicate\", \"predicate_str\", \"object\", \"object_str\"])"
   ]
  },
  {
   "cell_type": "code",
   "execution_count": 83,
   "id": "fe6acf3f-656a-4793-a420-36cfe0078dd2",
   "metadata": {},
   "outputs": [],
   "source": [
    "def get_id(ent):\n",
    "    for i in ent_dict:\n",
    "        if ent.lower() in ent_dict[i]:\n",
    "            return i\n",
    "    return ent"
   ]
  },
  {
   "cell_type": "code",
   "execution_count": 84,
   "id": "8d961ddf-41cb-496a-86fb-43ee15e022a3",
   "metadata": {},
   "outputs": [],
   "source": [
    "for index, row in X.iterrows():\n",
    "    for y in row.y:\n",
    "        subject = get_id(y[0])\n",
    "        subject_str = y[0]\n",
    "        predicate = get_id(y[2])\n",
    "        predicate_str = y[2]\n",
    "        obj = get_id(y[3])\n",
    "        obj_str = y[3]\n",
    "        if type(subject) == int and type(predicate) == int and type(obj) == int:\n",
    "            result = result._append({\"design_id\": row.db_id, \n",
    "                                     \"subject\": subject, \n",
    "                                     \"subject_str\": subject_str,\n",
    "                                     \"predicate\": predicate, \n",
    "                                     \"predicate_str\": predicate_str,\n",
    "                                     \"object\": obj,\n",
    "                                     \"object_str\": obj_str}, ignore_index=True)\n",
    "        else:\n",
    "            print(subject, predicate, obj)"
   ]
  },
  {
   "cell_type": "code",
   "execution_count": 85,
   "id": "886260f3-9f36-439e-b428-6c95ec941776",
   "metadata": {},
   "outputs": [
    {
     "data": {
      "text/html": [
       "<div>\n",
       "<style scoped>\n",
       "    .dataframe tbody tr th:only-of-type {\n",
       "        vertical-align: middle;\n",
       "    }\n",
       "\n",
       "    .dataframe tbody tr th {\n",
       "        vertical-align: top;\n",
       "    }\n",
       "\n",
       "    .dataframe thead th {\n",
       "        text-align: right;\n",
       "    }\n",
       "</style>\n",
       "<table border=\"1\" class=\"dataframe\">\n",
       "  <thead>\n",
       "    <tr style=\"text-align: right;\">\n",
       "      <th></th>\n",
       "      <th>design_id</th>\n",
       "      <th>subject</th>\n",
       "      <th>subject_str</th>\n",
       "      <th>predicate</th>\n",
       "      <th>predicate_str</th>\n",
       "      <th>object</th>\n",
       "      <th>object_str</th>\n",
       "    </tr>\n",
       "  </thead>\n",
       "  <tbody>\n",
       "    <tr>\n",
       "      <th>0</th>\n",
       "      <td>24667</td>\n",
       "      <td>103</td>\n",
       "      <td>Demeter</td>\n",
       "      <td>848</td>\n",
       "      <td>wearing</td>\n",
       "      <td>483</td>\n",
       "      <td>corn wreath</td>\n",
       "    </tr>\n",
       "    <tr>\n",
       "      <th>1</th>\n",
       "      <td>24668</td>\n",
       "      <td>165</td>\n",
       "      <td>Heracles</td>\n",
       "      <td>826</td>\n",
       "      <td>holding</td>\n",
       "      <td>650</td>\n",
       "      <td>torch</td>\n",
       "    </tr>\n",
       "    <tr>\n",
       "      <th>2</th>\n",
       "      <td>24668</td>\n",
       "      <td>165</td>\n",
       "      <td>Heracles</td>\n",
       "      <td>826</td>\n",
       "      <td>holding</td>\n",
       "      <td>476</td>\n",
       "      <td>club</td>\n",
       "    </tr>\n",
       "    <tr>\n",
       "      <th>3</th>\n",
       "      <td>24668</td>\n",
       "      <td>165</td>\n",
       "      <td>Heracles</td>\n",
       "      <td>826</td>\n",
       "      <td>holding</td>\n",
       "      <td>544</td>\n",
       "      <td>lion skin</td>\n",
       "    </tr>\n",
       "    <tr>\n",
       "      <th>4</th>\n",
       "      <td>24668</td>\n",
       "      <td>625</td>\n",
       "      <td>statue</td>\n",
       "      <td>826</td>\n",
       "      <td>holding</td>\n",
       "      <td>498</td>\n",
       "      <td>staff</td>\n",
       "    </tr>\n",
       "  </tbody>\n",
       "</table>\n",
       "</div>"
      ],
      "text/plain": [
       "  design_id subject subject_str predicate predicate_str object   object_str\n",
       "0     24667     103     Demeter       848       wearing    483  corn wreath\n",
       "1     24668     165    Heracles       826       holding    650        torch\n",
       "2     24668     165    Heracles       826       holding    476         club\n",
       "3     24668     165    Heracles       826       holding    544    lion skin\n",
       "4     24668     625      statue       826       holding    498        staff"
      ]
     },
     "execution_count": 85,
     "metadata": {},
     "output_type": "execute_result"
    }
   ],
   "source": [
    "result.head(5)"
   ]
  },
  {
   "cell_type": "code",
   "execution_count": 86,
   "id": "80e56ea1-1b1e-4bbe-892f-8d299e5094f3",
   "metadata": {},
   "outputs": [
    {
     "data": {
      "text/plain": [
       "64"
      ]
     },
     "execution_count": 86,
     "metadata": {},
     "output_type": "execute_result"
    }
   ],
   "source": [
    "result.to_sql(\"nlp_relation_extraction_en_v2\",dc.mysql_connection,if_exists=\"append\", index=False)"
   ]
  }
 ],
 "metadata": {
  "kernelspec": {
   "display_name": "Python 3 (ipykernel)",
   "language": "python",
   "name": "python3"
  },
  "language_info": {
   "codemirror_mode": {
    "name": "ipython",
    "version": 3
   },
   "file_extension": ".py",
   "mimetype": "text/x-python",
   "name": "python",
   "nbconvert_exporter": "python",
   "pygments_lexer": "ipython3",
   "version": "3.8.13"
  }
 },
 "nbformat": 4,
 "nbformat_minor": 5
}
